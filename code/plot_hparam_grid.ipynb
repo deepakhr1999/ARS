{
 "cells": [
  {
   "cell_type": "code",
   "execution_count": 1,
   "metadata": {},
   "outputs": [],
   "source": [
    "from plotly.subplots import make_subplots\n",
    "from plotting import plot_values, update_layout\n",
    "import glob\n",
    "import plotly.graph_objects as go\n",
    "import pandas as pd\n",
    "import plotly.express as px\n",
    "import json\n",
    "import os\n",
    "import matplotlib.pyplot as plt\n",
    "import numpy as np"
   ]
  },
  {
   "cell_type": "code",
   "execution_count": 2,
   "metadata": {},
   "outputs": [],
   "source": [
    "import webcolors\n",
    "def to_opacity(name, opacity):\n",
    "    r, g, b = webcolors.hex_to_rgb(name)\n",
    "    return f\"rgba({r}, {g}, {b}, {opacity})\""
   ]
  },
  {
   "cell_type": "markdown",
   "metadata": {},
   "source": [
    "### Get the names of all files we want to read "
   ]
  },
  {
   "cell_type": "code",
   "execution_count": 3,
   "metadata": {},
   "outputs": [
    {
     "data": {
      "text/html": [
       "<div>\n",
       "<style scoped>\n",
       "    .dataframe tbody tr th:only-of-type {\n",
       "        vertical-align: middle;\n",
       "    }\n",
       "\n",
       "    .dataframe tbody tr th {\n",
       "        vertical-align: top;\n",
       "    }\n",
       "\n",
       "    .dataframe thead th {\n",
       "        text-align: right;\n",
       "    }\n",
       "</style>\n",
       "<table border=\"1\" class=\"dataframe\">\n",
       "  <thead>\n",
       "    <tr style=\"text-align: right;\">\n",
       "      <th></th>\n",
       "      <th>delta_std</th>\n",
       "      <th>deltas_used</th>\n",
       "      <th>dir_path</th>\n",
       "      <th>env_name</th>\n",
       "      <th>filter</th>\n",
       "      <th>n_directions</th>\n",
       "      <th>n_iter</th>\n",
       "      <th>n_workers</th>\n",
       "      <th>policy_type</th>\n",
       "      <th>rollout_length</th>\n",
       "      <th>seed</th>\n",
       "      <th>shift</th>\n",
       "      <th>step_size</th>\n",
       "      <th>transform</th>\n",
       "    </tr>\n",
       "  </thead>\n",
       "  <tbody>\n",
       "    <tr>\n",
       "      <th>0</th>\n",
       "      <td>0.02</td>\n",
       "      <td>40</td>\n",
       "      <td>data/SafetyHalfCheetahVelocity-v1/1730565654.9...</td>\n",
       "      <td>SafetyHalfCheetahVelocity-v1</td>\n",
       "      <td>NoFilter</td>\n",
       "      <td>40</td>\n",
       "      <td>1000</td>\n",
       "      <td>10</td>\n",
       "      <td>linear</td>\n",
       "      <td>1000</td>\n",
       "      <td>1</td>\n",
       "      <td>0</td>\n",
       "      <td>0.02</td>\n",
       "      <td>norm_clip:1</td>\n",
       "    </tr>\n",
       "    <tr>\n",
       "      <th>1</th>\n",
       "      <td>0.02</td>\n",
       "      <td>20</td>\n",
       "      <td>data/SafetyHalfCheetahVelocity-v1/1730500751.4...</td>\n",
       "      <td>SafetyHalfCheetahVelocity-v1</td>\n",
       "      <td>MeanStdFilter</td>\n",
       "      <td>80</td>\n",
       "      <td>1000</td>\n",
       "      <td>10</td>\n",
       "      <td>linear</td>\n",
       "      <td>1000</td>\n",
       "      <td>1</td>\n",
       "      <td>0</td>\n",
       "      <td>0.02</td>\n",
       "      <td>component_clip:0.5</td>\n",
       "    </tr>\n",
       "    <tr>\n",
       "      <th>2</th>\n",
       "      <td>0.02</td>\n",
       "      <td>20</td>\n",
       "      <td>data/SafetyHalfCheetahVelocity-v1/1730895627.8...</td>\n",
       "      <td>SafetyHalfCheetahVelocity-v1</td>\n",
       "      <td>NoFilter</td>\n",
       "      <td>40</td>\n",
       "      <td>1000</td>\n",
       "      <td>10</td>\n",
       "      <td>linear</td>\n",
       "      <td>1000</td>\n",
       "      <td>5</td>\n",
       "      <td>0</td>\n",
       "      <td>0.02</td>\n",
       "      <td>norm_clip:1</td>\n",
       "    </tr>\n",
       "    <tr>\n",
       "      <th>3</th>\n",
       "      <td>0.02</td>\n",
       "      <td>20</td>\n",
       "      <td>data/SafetyHalfCheetahVelocity-v1/1730821001.9...</td>\n",
       "      <td>SafetyHalfCheetahVelocity-v1</td>\n",
       "      <td>MeanStdFilter</td>\n",
       "      <td>40</td>\n",
       "      <td>1000</td>\n",
       "      <td>10</td>\n",
       "      <td>linear</td>\n",
       "      <td>1000</td>\n",
       "      <td>5</td>\n",
       "      <td>0</td>\n",
       "      <td>0.02</td>\n",
       "      <td>component_clip:0.5</td>\n",
       "    </tr>\n",
       "    <tr>\n",
       "      <th>4</th>\n",
       "      <td>0.02</td>\n",
       "      <td>40</td>\n",
       "      <td>data/SafetyHalfCheetahVelocity-v1/1730536163.2...</td>\n",
       "      <td>SafetyHalfCheetahVelocity-v1</td>\n",
       "      <td>MeanStdFilter</td>\n",
       "      <td>40</td>\n",
       "      <td>1000</td>\n",
       "      <td>10</td>\n",
       "      <td>linear</td>\n",
       "      <td>1000</td>\n",
       "      <td>1</td>\n",
       "      <td>0</td>\n",
       "      <td>0.02</td>\n",
       "      <td>signed</td>\n",
       "    </tr>\n",
       "  </tbody>\n",
       "</table>\n",
       "</div>"
      ],
      "text/plain": [
       "   delta_std  deltas_used                                           dir_path  \\\n",
       "0       0.02           40  data/SafetyHalfCheetahVelocity-v1/1730565654.9...   \n",
       "1       0.02           20  data/SafetyHalfCheetahVelocity-v1/1730500751.4...   \n",
       "2       0.02           20  data/SafetyHalfCheetahVelocity-v1/1730895627.8...   \n",
       "3       0.02           20  data/SafetyHalfCheetahVelocity-v1/1730821001.9...   \n",
       "4       0.02           40  data/SafetyHalfCheetahVelocity-v1/1730536163.2...   \n",
       "\n",
       "                       env_name         filter  n_directions  n_iter  \\\n",
       "0  SafetyHalfCheetahVelocity-v1       NoFilter            40    1000   \n",
       "1  SafetyHalfCheetahVelocity-v1  MeanStdFilter            80    1000   \n",
       "2  SafetyHalfCheetahVelocity-v1       NoFilter            40    1000   \n",
       "3  SafetyHalfCheetahVelocity-v1  MeanStdFilter            40    1000   \n",
       "4  SafetyHalfCheetahVelocity-v1  MeanStdFilter            40    1000   \n",
       "\n",
       "   n_workers policy_type  rollout_length  seed  shift  step_size  \\\n",
       "0         10      linear            1000     1      0       0.02   \n",
       "1         10      linear            1000     1      0       0.02   \n",
       "2         10      linear            1000     5      0       0.02   \n",
       "3         10      linear            1000     5      0       0.02   \n",
       "4         10      linear            1000     1      0       0.02   \n",
       "\n",
       "            transform  \n",
       "0         norm_clip:1  \n",
       "1  component_clip:0.5  \n",
       "2         norm_clip:1  \n",
       "3  component_clip:0.5  \n",
       "4              signed  "
      ]
     },
     "execution_count": 3,
     "metadata": {},
     "output_type": "execute_result"
    }
   ],
   "source": [
    "records = []\n",
    "for experiment_file in glob.glob(\"../data/*/*/params.json\", recursive=True):\n",
    "    with open(experiment_file, \"r\", encoding=\"utf-8\") as file:\n",
    "        record = json.load(file)\n",
    "        records.append(record)\n",
    "\n",
    "all_data = pd.DataFrame.from_records(records)\n",
    "all_data.head()"
   ]
  },
  {
   "cell_type": "code",
   "execution_count": 4,
   "metadata": {},
   "outputs": [],
   "source": [
    "def get_best_reward(dir_path):\n",
    "    try:\n",
    "        x = pd.read_csv(os.path.join(\"..\", dir_path, \"log.txt\"), sep=\"\\t\")\n",
    "        return x[\"AverageReward\"].max()\n",
    "    except:\n",
    "        print(\"?\", dir_path)\n",
    "        return -1\n",
    "\n",
    "def label_algorithm(filter):\n",
    "    if filter == \"MeanStdFilter\":\n",
    "        return \"ARS-v2\"\n",
    "    return \"ARS-v1\""
   ]
  },
  {
   "cell_type": "code",
   "execution_count": 5,
   "metadata": {},
   "outputs": [
    {
     "name": "stdout",
     "output_type": "stream",
     "text": [
      "(215, 18)\n"
     ]
    },
    {
     "data": {
      "text/html": [
       "<div>\n",
       "<style scoped>\n",
       "    .dataframe tbody tr th:only-of-type {\n",
       "        vertical-align: middle;\n",
       "    }\n",
       "\n",
       "    .dataframe tbody tr th {\n",
       "        vertical-align: top;\n",
       "    }\n",
       "\n",
       "    .dataframe thead th {\n",
       "        text-align: right;\n",
       "    }\n",
       "</style>\n",
       "<table border=\"1\" class=\"dataframe\">\n",
       "  <thead>\n",
       "    <tr style=\"text-align: right;\">\n",
       "      <th></th>\n",
       "      <th>delta_std</th>\n",
       "      <th>deltas_used</th>\n",
       "      <th>dir_path</th>\n",
       "      <th>env_name</th>\n",
       "      <th>filter</th>\n",
       "      <th>n_directions</th>\n",
       "      <th>n_iter</th>\n",
       "      <th>n_workers</th>\n",
       "      <th>policy_type</th>\n",
       "      <th>rollout_length</th>\n",
       "      <th>seed</th>\n",
       "      <th>shift</th>\n",
       "      <th>step_size</th>\n",
       "      <th>transform</th>\n",
       "      <th>reward</th>\n",
       "      <th>task</th>\n",
       "      <th>algo</th>\n",
       "      <th>best_env_reward</th>\n",
       "    </tr>\n",
       "  </thead>\n",
       "  <tbody>\n",
       "    <tr>\n",
       "      <th>0</th>\n",
       "      <td>0.02</td>\n",
       "      <td>20</td>\n",
       "      <td>data/SafetyHalfCheetahVelocity-v1/1730500751.4...</td>\n",
       "      <td>SafetyHalfCheetahVelocity-v1</td>\n",
       "      <td>MeanStdFilter</td>\n",
       "      <td>80</td>\n",
       "      <td>1000</td>\n",
       "      <td>10</td>\n",
       "      <td>linear</td>\n",
       "      <td>1000</td>\n",
       "      <td>1</td>\n",
       "      <td>0</td>\n",
       "      <td>0.02</td>\n",
       "      <td>component_clip</td>\n",
       "      <td>6209.822468</td>\n",
       "      <td>HalfCheetah</td>\n",
       "      <td>ARS-v2</td>\n",
       "      <td>6209.822468</td>\n",
       "    </tr>\n",
       "    <tr>\n",
       "      <th>1</th>\n",
       "      <td>0.02</td>\n",
       "      <td>20</td>\n",
       "      <td>data/SafetyHalfCheetahVelocity-v1/1730840572.3...</td>\n",
       "      <td>SafetyHalfCheetahVelocity-v1</td>\n",
       "      <td>MeanStdFilter</td>\n",
       "      <td>80</td>\n",
       "      <td>1000</td>\n",
       "      <td>10</td>\n",
       "      <td>linear</td>\n",
       "      <td>1000</td>\n",
       "      <td>4</td>\n",
       "      <td>0</td>\n",
       "      <td>0.02</td>\n",
       "      <td>component_clip</td>\n",
       "      <td>5835.287921</td>\n",
       "      <td>HalfCheetah</td>\n",
       "      <td>ARS-v2</td>\n",
       "      <td>6209.822468</td>\n",
       "    </tr>\n",
       "    <tr>\n",
       "      <th>2</th>\n",
       "      <td>0.02</td>\n",
       "      <td>20</td>\n",
       "      <td>data/SafetyHalfCheetahVelocity-v1/1730847035.8...</td>\n",
       "      <td>SafetyHalfCheetahVelocity-v1</td>\n",
       "      <td>MeanStdFilter</td>\n",
       "      <td>80</td>\n",
       "      <td>1000</td>\n",
       "      <td>10</td>\n",
       "      <td>linear</td>\n",
       "      <td>1000</td>\n",
       "      <td>5</td>\n",
       "      <td>0</td>\n",
       "      <td>0.02</td>\n",
       "      <td>component_clip</td>\n",
       "      <td>4362.630043</td>\n",
       "      <td>HalfCheetah</td>\n",
       "      <td>ARS-v2</td>\n",
       "      <td>6209.822468</td>\n",
       "    </tr>\n",
       "    <tr>\n",
       "      <th>3</th>\n",
       "      <td>0.02</td>\n",
       "      <td>20</td>\n",
       "      <td>data/SafetyHalfCheetahVelocity-v1/1730827593.8...</td>\n",
       "      <td>SafetyHalfCheetahVelocity-v1</td>\n",
       "      <td>MeanStdFilter</td>\n",
       "      <td>80</td>\n",
       "      <td>1000</td>\n",
       "      <td>10</td>\n",
       "      <td>linear</td>\n",
       "      <td>1000</td>\n",
       "      <td>2</td>\n",
       "      <td>0</td>\n",
       "      <td>0.02</td>\n",
       "      <td>component_clip</td>\n",
       "      <td>3955.955680</td>\n",
       "      <td>HalfCheetah</td>\n",
       "      <td>ARS-v2</td>\n",
       "      <td>6209.822468</td>\n",
       "    </tr>\n",
       "    <tr>\n",
       "      <th>4</th>\n",
       "      <td>0.02</td>\n",
       "      <td>20</td>\n",
       "      <td>data/SafetyHalfCheetahVelocity-v1/1730834168.8...</td>\n",
       "      <td>SafetyHalfCheetahVelocity-v1</td>\n",
       "      <td>MeanStdFilter</td>\n",
       "      <td>80</td>\n",
       "      <td>1000</td>\n",
       "      <td>10</td>\n",
       "      <td>linear</td>\n",
       "      <td>1000</td>\n",
       "      <td>3</td>\n",
       "      <td>0</td>\n",
       "      <td>0.02</td>\n",
       "      <td>component_clip</td>\n",
       "      <td>3882.183609</td>\n",
       "      <td>HalfCheetah</td>\n",
       "      <td>ARS-v2</td>\n",
       "      <td>6209.822468</td>\n",
       "    </tr>\n",
       "  </tbody>\n",
       "</table>\n",
       "</div>"
      ],
      "text/plain": [
       "   delta_std  deltas_used                                           dir_path  \\\n",
       "0       0.02           20  data/SafetyHalfCheetahVelocity-v1/1730500751.4...   \n",
       "1       0.02           20  data/SafetyHalfCheetahVelocity-v1/1730840572.3...   \n",
       "2       0.02           20  data/SafetyHalfCheetahVelocity-v1/1730847035.8...   \n",
       "3       0.02           20  data/SafetyHalfCheetahVelocity-v1/1730827593.8...   \n",
       "4       0.02           20  data/SafetyHalfCheetahVelocity-v1/1730834168.8...   \n",
       "\n",
       "                       env_name         filter  n_directions  n_iter  \\\n",
       "0  SafetyHalfCheetahVelocity-v1  MeanStdFilter            80    1000   \n",
       "1  SafetyHalfCheetahVelocity-v1  MeanStdFilter            80    1000   \n",
       "2  SafetyHalfCheetahVelocity-v1  MeanStdFilter            80    1000   \n",
       "3  SafetyHalfCheetahVelocity-v1  MeanStdFilter            80    1000   \n",
       "4  SafetyHalfCheetahVelocity-v1  MeanStdFilter            80    1000   \n",
       "\n",
       "   n_workers policy_type  rollout_length  seed  shift  step_size  \\\n",
       "0         10      linear            1000     1      0       0.02   \n",
       "1         10      linear            1000     4      0       0.02   \n",
       "2         10      linear            1000     5      0       0.02   \n",
       "3         10      linear            1000     2      0       0.02   \n",
       "4         10      linear            1000     3      0       0.02   \n",
       "\n",
       "        transform       reward         task    algo  best_env_reward  \n",
       "0  component_clip  6209.822468  HalfCheetah  ARS-v2      6209.822468  \n",
       "1  component_clip  5835.287921  HalfCheetah  ARS-v2      6209.822468  \n",
       "2  component_clip  4362.630043  HalfCheetah  ARS-v2      6209.822468  \n",
       "3  component_clip  3955.955680  HalfCheetah  ARS-v2      6209.822468  \n",
       "4  component_clip  3882.183609  HalfCheetah  ARS-v2      6209.822468  "
      ]
     },
     "execution_count": 5,
     "metadata": {},
     "output_type": "execute_result"
    }
   ],
   "source": [
    "all_data[\"reward\"] = all_data.dir_path.apply(get_best_reward)\n",
    "# all_data = all_data[all_data.reward > 0]\n",
    "all_data[\"task\"] = all_data.env_name.str.replace(\"Safety\", \"\").str.replace(\n",
    "    \"Velocity-v1\", \"\"\n",
    ")\n",
    "all_data[\"algo\"] = all_data[\"filter\"].apply(label_algorithm)\n",
    "all_data[\"transform\"] = all_data[\"transform\"].apply(lambda x: x.split(\":\")[0])\n",
    "all_data[\"best_env_reward\"] = all_data.groupby(\n",
    "    [\"task\", \"algo\", \"transform\"]\n",
    ").reward.transform(\"max\")\n",
    "data = (\n",
    "    all_data[all_data.reward == all_data.best_env_reward]\n",
    "    .reset_index(drop=True)\n",
    "    .drop(\n",
    "        [\n",
    "            \"filter\",\n",
    "            \"policy_type\",\n",
    "            \"rollout_length\",\n",
    "            \"shift\",\n",
    "            \"best_env_reward\",\n",
    "            \"env_name\",\n",
    "        ],\n",
    "        axis=1,\n",
    "    )\n",
    ")\n",
    "\n",
    "data[\"best_reward\"] = data.groupby([\"task\", \"algo\", \"transform\"]).reward.transform(\n",
    "    \"max\"\n",
    ")\n",
    "best_data = (\n",
    "    data[data.reward == data.best_reward]\n",
    "    .reset_index(drop=True)\n",
    "    .drop_duplicates([\"task\", \"algo\", \"transform\"], keep=\"first\")\n",
    ")\n",
    "params = [\n",
    "    \"delta_std\",\n",
    "    \"deltas_used\",\n",
    "    \"n_directions\",\n",
    "    \"n_iter\",\n",
    "    \"n_workers\",\n",
    "    \"step_size\",\n",
    "    \"transform\",\n",
    "    \"task\",\n",
    "    \"algo\",\n",
    "]\n",
    "best_data = all_data.merge(best_data[params], 'inner', params)\n",
    "print(best_data.shape)\n",
    "best_data.head()"
   ]
  },
  {
   "cell_type": "code",
   "execution_count": 6,
   "metadata": {},
   "outputs": [
    {
     "data": {
      "text/plain": [
       "task         algo    transform     \n",
       "Ant          ARS-v1  component_clip    5\n",
       "Swimmer      ARS-v1  signed            5\n",
       "Hopper       ARS-v2  signed            5\n",
       "Ant          ARS-v1  none              5\n",
       "Humanoid     ARS-v1  none              5\n",
       "             ARS-v2  component_clip    5\n",
       "                     none              5\n",
       "Swimmer      ARS-v1  component_clip    5\n",
       "                     none              5\n",
       "                     norm_clip         5\n",
       "             ARS-v2  component_clip    5\n",
       "Hopper       ARS-v2  none              5\n",
       "Swimmer      ARS-v2  none              5\n",
       "                     norm_clip         5\n",
       "                     signed            5\n",
       "Walker2d     ARS-v1  component_clip    5\n",
       "                     none              5\n",
       "             ARS-v2  component_clip    5\n",
       "                     none              5\n",
       "                     norm_clip         5\n",
       "Hopper       ARS-v2  norm_clip         5\n",
       "Humanoid     ARS-v1  component_clip    5\n",
       "Hopper       ARS-v2  component_clip    5\n",
       "HalfCheetah  ARS-v2  component_clip    5\n",
       "Ant          ARS-v1  norm_clip         5\n",
       "                     signed            5\n",
       "             ARS-v2  component_clip    5\n",
       "                     none              5\n",
       "                     norm_clip         5\n",
       "                     signed            5\n",
       "HalfCheetah  ARS-v1  component_clip    5\n",
       "                     none              5\n",
       "                     norm_clip         5\n",
       "                     signed            5\n",
       "             ARS-v2  none              5\n",
       "                     norm_clip         5\n",
       "                     signed            5\n",
       "Hopper       ARS-v1  component_clip    5\n",
       "                     none              5\n",
       "Humanoid     ARS-v2  signed            4\n",
       "                     norm_clip         4\n",
       "Walker2d     ARS-v2  signed            4\n",
       "Hopper       ARS-v1  signed            3\n",
       "Humanoid     ARS-v1  signed            1\n",
       "Walker2d     ARS-v1  norm_clip         1\n",
       "                     signed            1\n",
       "Humanoid     ARS-v1  norm_clip         1\n",
       "Hopper       ARS-v1  norm_clip         1\n",
       "Name: count, dtype: int64"
      ]
     },
     "execution_count": 6,
     "metadata": {},
     "output_type": "execute_result"
    }
   ],
   "source": [
    "best_data[['task', 'algo', 'transform']].value_counts()"
   ]
  },
  {
   "cell_type": "code",
   "execution_count": 7,
   "metadata": {},
   "outputs": [],
   "source": [
    "def to_paper(x: pd.DataFrame, caption, index=False) -> str:\n",
    "    return (x.to_latex(\n",
    "    index=index,\n",
    "    caption=caption,\n",
    "    escape=True,\n",
    "    float_format=\"{:.2f}\".format\n",
    ")\n",
    ".replace(\"\\\\toprule\", \"\\\\hline\")\n",
    ".replace(\"\\\\midrule\", \"\\\\hline\")\n",
    ".replace(\"\\\\bottomrule\", \"\\\\hline\"))"
   ]
  },
  {
   "cell_type": "code",
   "execution_count": 8,
   "metadata": {},
   "outputs": [
    {
     "data": {
      "text/html": [
       "<div>\n",
       "<style scoped>\n",
       "    .dataframe tbody tr th:only-of-type {\n",
       "        vertical-align: middle;\n",
       "    }\n",
       "\n",
       "    .dataframe tbody tr th {\n",
       "        vertical-align: top;\n",
       "    }\n",
       "\n",
       "    .dataframe thead th {\n",
       "        text-align: right;\n",
       "    }\n",
       "</style>\n",
       "<table border=\"1\" class=\"dataframe\">\n",
       "  <thead>\n",
       "    <tr style=\"text-align: right;\">\n",
       "      <th></th>\n",
       "      <th></th>\n",
       "      <th></th>\n",
       "      <th>mean</th>\n",
       "      <th>std</th>\n",
       "      <th>min</th>\n",
       "      <th>max</th>\n",
       "      <th>f</th>\n",
       "    </tr>\n",
       "    <tr>\n",
       "      <th>task</th>\n",
       "      <th>algo</th>\n",
       "      <th>transform</th>\n",
       "      <th></th>\n",
       "      <th></th>\n",
       "      <th></th>\n",
       "      <th></th>\n",
       "      <th></th>\n",
       "    </tr>\n",
       "  </thead>\n",
       "  <tbody>\n",
       "    <tr>\n",
       "      <th rowspan=\"8\" valign=\"top\">Ant</th>\n",
       "      <th rowspan=\"4\" valign=\"top\">ARS-v1</th>\n",
       "      <th>component_clip</th>\n",
       "      <td>2929.676539</td>\n",
       "      <td>219.383197</td>\n",
       "      <td>2694.460346</td>\n",
       "      <td>3256.608653</td>\n",
       "      <td>2929.68\\pm 219.38</td>\n",
       "    </tr>\n",
       "    <tr>\n",
       "      <th>none</th>\n",
       "      <td>3095.535870</td>\n",
       "      <td>131.375235</td>\n",
       "      <td>2910.784365</td>\n",
       "      <td>3241.832802</td>\n",
       "      <td>3095.54\\pm 131.38</td>\n",
       "    </tr>\n",
       "    <tr>\n",
       "      <th>norm_clip</th>\n",
       "      <td>2357.141203</td>\n",
       "      <td>167.930101</td>\n",
       "      <td>2074.215075</td>\n",
       "      <td>2517.563398</td>\n",
       "      <td>2357.14\\pm 167.93</td>\n",
       "    </tr>\n",
       "    <tr>\n",
       "      <th>signed</th>\n",
       "      <td>2330.583398</td>\n",
       "      <td>56.485670</td>\n",
       "      <td>2246.023757</td>\n",
       "      <td>2393.792193</td>\n",
       "      <td>2330.58\\pm 56.49</td>\n",
       "    </tr>\n",
       "    <tr>\n",
       "      <th rowspan=\"4\" valign=\"top\">ARS-v2</th>\n",
       "      <th>component_clip</th>\n",
       "      <td>4682.744543</td>\n",
       "      <td>683.344924</td>\n",
       "      <td>3475.257392</td>\n",
       "      <td>5145.876784</td>\n",
       "      <td>4682.74\\pm 683.34</td>\n",
       "    </tr>\n",
       "    <tr>\n",
       "      <th>none</th>\n",
       "      <td>4344.523844</td>\n",
       "      <td>651.678055</td>\n",
       "      <td>3598.612299</td>\n",
       "      <td>5167.538895</td>\n",
       "      <td>4344.52\\pm 651.68</td>\n",
       "    </tr>\n",
       "    <tr>\n",
       "      <th>norm_clip</th>\n",
       "      <td>4243.698876</td>\n",
       "      <td>739.214567</td>\n",
       "      <td>3010.497857</td>\n",
       "      <td>4769.367497</td>\n",
       "      <td>4243.70\\pm 739.21</td>\n",
       "    </tr>\n",
       "    <tr>\n",
       "      <th>signed</th>\n",
       "      <td>4251.799917</td>\n",
       "      <td>505.480325</td>\n",
       "      <td>3391.426548</td>\n",
       "      <td>4629.304931</td>\n",
       "      <td>4251.80\\pm 505.48</td>\n",
       "    </tr>\n",
       "    <tr>\n",
       "      <th rowspan=\"8\" valign=\"top\">HalfCheetah</th>\n",
       "      <th rowspan=\"4\" valign=\"top\">ARS-v1</th>\n",
       "      <th>component_clip</th>\n",
       "      <td>4097.170105</td>\n",
       "      <td>156.326185</td>\n",
       "      <td>3918.683155</td>\n",
       "      <td>4301.485767</td>\n",
       "      <td>4097.17\\pm 156.33</td>\n",
       "    </tr>\n",
       "    <tr>\n",
       "      <th>none</th>\n",
       "      <td>3889.746609</td>\n",
       "      <td>601.838226</td>\n",
       "      <td>2822.411604</td>\n",
       "      <td>4289.968569</td>\n",
       "      <td>3889.75\\pm 601.84</td>\n",
       "    </tr>\n",
       "    <tr>\n",
       "      <th>norm_clip</th>\n",
       "      <td>3786.042894</td>\n",
       "      <td>140.150960</td>\n",
       "      <td>3612.663660</td>\n",
       "      <td>3944.568554</td>\n",
       "      <td>3786.04\\pm 140.15</td>\n",
       "    </tr>\n",
       "    <tr>\n",
       "      <th>signed</th>\n",
       "      <td>3345.060376</td>\n",
       "      <td>518.196817</td>\n",
       "      <td>2621.248623</td>\n",
       "      <td>3973.401949</td>\n",
       "      <td>3345.06\\pm 518.20</td>\n",
       "    </tr>\n",
       "    <tr>\n",
       "      <th rowspan=\"4\" valign=\"top\">ARS-v2</th>\n",
       "      <th>component_clip</th>\n",
       "      <td>4849.175944</td>\n",
       "      <td>1094.693944</td>\n",
       "      <td>3882.183609</td>\n",
       "      <td>6209.822468</td>\n",
       "      <td>4849.18\\pm 1094.69</td>\n",
       "    </tr>\n",
       "    <tr>\n",
       "      <th>none</th>\n",
       "      <td>4621.088479</td>\n",
       "      <td>908.410947</td>\n",
       "      <td>3880.247763</td>\n",
       "      <td>6142.335228</td>\n",
       "      <td>4621.09\\pm 908.41</td>\n",
       "    </tr>\n",
       "    <tr>\n",
       "      <th>norm_clip</th>\n",
       "      <td>4377.463323</td>\n",
       "      <td>724.928776</td>\n",
       "      <td>3635.045434</td>\n",
       "      <td>5359.478389</td>\n",
       "      <td>4377.46\\pm 724.93</td>\n",
       "    </tr>\n",
       "    <tr>\n",
       "      <th>signed</th>\n",
       "      <td>4110.963751</td>\n",
       "      <td>846.686995</td>\n",
       "      <td>3638.426306</td>\n",
       "      <td>5620.930666</td>\n",
       "      <td>4110.96\\pm 846.69</td>\n",
       "    </tr>\n",
       "    <tr>\n",
       "      <th rowspan=\"8\" valign=\"top\">Hopper</th>\n",
       "      <th rowspan=\"4\" valign=\"top\">ARS-v1</th>\n",
       "      <th>component_clip</th>\n",
       "      <td>2312.744624</td>\n",
       "      <td>817.086101</td>\n",
       "      <td>1384.907396</td>\n",
       "      <td>3018.371044</td>\n",
       "      <td>2312.74\\pm 817.09</td>\n",
       "    </tr>\n",
       "    <tr>\n",
       "      <th>none</th>\n",
       "      <td>2603.872896</td>\n",
       "      <td>591.209772</td>\n",
       "      <td>1962.187488</td>\n",
       "      <td>3261.844897</td>\n",
       "      <td>2603.87\\pm 591.21</td>\n",
       "    </tr>\n",
       "    <tr>\n",
       "      <th>norm_clip</th>\n",
       "      <td>3055.696720</td>\n",
       "      <td>NaN</td>\n",
       "      <td>3055.696720</td>\n",
       "      <td>3055.696720</td>\n",
       "      <td>3055.70\\pm nan</td>\n",
       "    </tr>\n",
       "    <tr>\n",
       "      <th>signed</th>\n",
       "      <td>2313.276742</td>\n",
       "      <td>271.813793</td>\n",
       "      <td>2033.232399</td>\n",
       "      <td>2576.034860</td>\n",
       "      <td>2313.28\\pm 271.81</td>\n",
       "    </tr>\n",
       "    <tr>\n",
       "      <th rowspan=\"4\" valign=\"top\">ARS-v2</th>\n",
       "      <th>component_clip</th>\n",
       "      <td>3639.822836</td>\n",
       "      <td>52.598434</td>\n",
       "      <td>3575.738796</td>\n",
       "      <td>3692.313285</td>\n",
       "      <td>3639.82\\pm 52.60</td>\n",
       "    </tr>\n",
       "    <tr>\n",
       "      <th>none</th>\n",
       "      <td>3719.362328</td>\n",
       "      <td>110.698633</td>\n",
       "      <td>3570.387045</td>\n",
       "      <td>3813.616531</td>\n",
       "      <td>3719.36\\pm 110.70</td>\n",
       "    </tr>\n",
       "    <tr>\n",
       "      <th>norm_clip</th>\n",
       "      <td>3511.555436</td>\n",
       "      <td>151.940758</td>\n",
       "      <td>3385.660857</td>\n",
       "      <td>3699.759106</td>\n",
       "      <td>3511.56\\pm 151.94</td>\n",
       "    </tr>\n",
       "    <tr>\n",
       "      <th>signed</th>\n",
       "      <td>3518.415045</td>\n",
       "      <td>103.507339</td>\n",
       "      <td>3410.385289</td>\n",
       "      <td>3672.914629</td>\n",
       "      <td>3518.42\\pm 103.51</td>\n",
       "    </tr>\n",
       "    <tr>\n",
       "      <th rowspan=\"8\" valign=\"top\">Humanoid</th>\n",
       "      <th rowspan=\"4\" valign=\"top\">ARS-v1</th>\n",
       "      <th>component_clip</th>\n",
       "      <td>207.571818</td>\n",
       "      <td>0.286118</td>\n",
       "      <td>207.259587</td>\n",
       "      <td>207.945230</td>\n",
       "      <td>207.57\\pm 0.29</td>\n",
       "    </tr>\n",
       "    <tr>\n",
       "      <th>none</th>\n",
       "      <td>207.571818</td>\n",
       "      <td>0.286118</td>\n",
       "      <td>207.259587</td>\n",
       "      <td>207.945230</td>\n",
       "      <td>207.57\\pm 0.29</td>\n",
       "    </tr>\n",
       "    <tr>\n",
       "      <th>norm_clip</th>\n",
       "      <td>207.764096</td>\n",
       "      <td>NaN</td>\n",
       "      <td>207.764096</td>\n",
       "      <td>207.764096</td>\n",
       "      <td>207.76\\pm nan</td>\n",
       "    </tr>\n",
       "    <tr>\n",
       "      <th>signed</th>\n",
       "      <td>207.764096</td>\n",
       "      <td>NaN</td>\n",
       "      <td>207.764096</td>\n",
       "      <td>207.764096</td>\n",
       "      <td>207.76\\pm nan</td>\n",
       "    </tr>\n",
       "    <tr>\n",
       "      <th rowspan=\"4\" valign=\"top\">ARS-v2</th>\n",
       "      <th>component_clip</th>\n",
       "      <td>7474.228465</td>\n",
       "      <td>363.705533</td>\n",
       "      <td>7097.325104</td>\n",
       "      <td>7928.928517</td>\n",
       "      <td>7474.23\\pm 363.71</td>\n",
       "    </tr>\n",
       "    <tr>\n",
       "      <th>none</th>\n",
       "      <td>7393.545083</td>\n",
       "      <td>308.102560</td>\n",
       "      <td>6904.033161</td>\n",
       "      <td>7699.324084</td>\n",
       "      <td>7393.55\\pm 308.10</td>\n",
       "    </tr>\n",
       "    <tr>\n",
       "      <th>norm_clip</th>\n",
       "      <td>1149.504513</td>\n",
       "      <td>195.472118</td>\n",
       "      <td>930.761696</td>\n",
       "      <td>1320.835538</td>\n",
       "      <td>1149.50\\pm 195.47</td>\n",
       "    </tr>\n",
       "    <tr>\n",
       "      <th>signed</th>\n",
       "      <td>1003.920875</td>\n",
       "      <td>123.586919</td>\n",
       "      <td>890.670663</td>\n",
       "      <td>1158.052359</td>\n",
       "      <td>1003.92\\pm 123.59</td>\n",
       "    </tr>\n",
       "    <tr>\n",
       "      <th rowspan=\"8\" valign=\"top\">Swimmer</th>\n",
       "      <th rowspan=\"4\" valign=\"top\">ARS-v1</th>\n",
       "      <th>component_clip</th>\n",
       "      <td>356.827929</td>\n",
       "      <td>0.353056</td>\n",
       "      <td>356.285433</td>\n",
       "      <td>357.237734</td>\n",
       "      <td>356.83\\pm 0.35</td>\n",
       "    </tr>\n",
       "    <tr>\n",
       "      <th>none</th>\n",
       "      <td>356.815026</td>\n",
       "      <td>0.799376</td>\n",
       "      <td>355.633367</td>\n",
       "      <td>357.756926</td>\n",
       "      <td>356.82\\pm 0.80</td>\n",
       "    </tr>\n",
       "    <tr>\n",
       "      <th>norm_clip</th>\n",
       "      <td>356.516281</td>\n",
       "      <td>0.535153</td>\n",
       "      <td>355.707168</td>\n",
       "      <td>357.031413</td>\n",
       "      <td>356.52\\pm 0.54</td>\n",
       "    </tr>\n",
       "    <tr>\n",
       "      <th>signed</th>\n",
       "      <td>356.101397</td>\n",
       "      <td>0.564350</td>\n",
       "      <td>355.500558</td>\n",
       "      <td>356.712639</td>\n",
       "      <td>356.10\\pm 0.56</td>\n",
       "    </tr>\n",
       "    <tr>\n",
       "      <th rowspan=\"4\" valign=\"top\">ARS-v2</th>\n",
       "      <th>component_clip</th>\n",
       "      <td>345.566541</td>\n",
       "      <td>27.361564</td>\n",
       "      <td>296.634246</td>\n",
       "      <td>358.888193</td>\n",
       "      <td>345.57\\pm 27.36</td>\n",
       "    </tr>\n",
       "    <tr>\n",
       "      <th>none</th>\n",
       "      <td>357.604593</td>\n",
       "      <td>1.169745</td>\n",
       "      <td>356.311897</td>\n",
       "      <td>359.148499</td>\n",
       "      <td>357.60\\pm 1.17</td>\n",
       "    </tr>\n",
       "    <tr>\n",
       "      <th>norm_clip</th>\n",
       "      <td>356.538317</td>\n",
       "      <td>0.553700</td>\n",
       "      <td>355.761348</td>\n",
       "      <td>356.977606</td>\n",
       "      <td>356.54\\pm 0.55</td>\n",
       "    </tr>\n",
       "    <tr>\n",
       "      <th>signed</th>\n",
       "      <td>354.949642</td>\n",
       "      <td>2.394186</td>\n",
       "      <td>352.648978</td>\n",
       "      <td>358.879988</td>\n",
       "      <td>354.95\\pm 2.39</td>\n",
       "    </tr>\n",
       "    <tr>\n",
       "      <th rowspan=\"8\" valign=\"top\">Walker2d</th>\n",
       "      <th rowspan=\"4\" valign=\"top\">ARS-v1</th>\n",
       "      <th>component_clip</th>\n",
       "      <td>3354.912000</td>\n",
       "      <td>567.666295</td>\n",
       "      <td>2518.478759</td>\n",
       "      <td>4009.326677</td>\n",
       "      <td>3354.91\\pm 567.67</td>\n",
       "    </tr>\n",
       "    <tr>\n",
       "      <th>none</th>\n",
       "      <td>2822.740868</td>\n",
       "      <td>700.241494</td>\n",
       "      <td>2261.355952</td>\n",
       "      <td>3810.407831</td>\n",
       "      <td>2822.74\\pm 700.24</td>\n",
       "    </tr>\n",
       "    <tr>\n",
       "      <th>norm_clip</th>\n",
       "      <td>3045.920453</td>\n",
       "      <td>NaN</td>\n",
       "      <td>3045.920453</td>\n",
       "      <td>3045.920453</td>\n",
       "      <td>3045.92\\pm nan</td>\n",
       "    </tr>\n",
       "    <tr>\n",
       "      <th>signed</th>\n",
       "      <td>3010.700145</td>\n",
       "      <td>NaN</td>\n",
       "      <td>3010.700145</td>\n",
       "      <td>3010.700145</td>\n",
       "      <td>3010.70\\pm nan</td>\n",
       "    </tr>\n",
       "    <tr>\n",
       "      <th rowspan=\"4\" valign=\"top\">ARS-v2</th>\n",
       "      <th>component_clip</th>\n",
       "      <td>2652.867434</td>\n",
       "      <td>1594.689687</td>\n",
       "      <td>570.761335</td>\n",
       "      <td>4427.341882</td>\n",
       "      <td>2652.87\\pm 1594.69</td>\n",
       "    </tr>\n",
       "    <tr>\n",
       "      <th>none</th>\n",
       "      <td>2689.405144</td>\n",
       "      <td>1121.705091</td>\n",
       "      <td>1392.950020</td>\n",
       "      <td>3909.281194</td>\n",
       "      <td>2689.41\\pm 1121.71</td>\n",
       "    </tr>\n",
       "    <tr>\n",
       "      <th>norm_clip</th>\n",
       "      <td>2179.546422</td>\n",
       "      <td>810.474310</td>\n",
       "      <td>1748.645368</td>\n",
       "      <td>3621.470956</td>\n",
       "      <td>2179.55\\pm 810.47</td>\n",
       "    </tr>\n",
       "    <tr>\n",
       "      <th>signed</th>\n",
       "      <td>2040.398065</td>\n",
       "      <td>509.201086</td>\n",
       "      <td>1549.216390</td>\n",
       "      <td>2721.210380</td>\n",
       "      <td>2040.40\\pm 509.20</td>\n",
       "    </tr>\n",
       "  </tbody>\n",
       "</table>\n",
       "</div>"
      ],
      "text/plain": [
       "                                          mean          std          min  \\\n",
       "task        algo   transform                                               \n",
       "Ant         ARS-v1 component_clip  2929.676539   219.383197  2694.460346   \n",
       "                   none            3095.535870   131.375235  2910.784365   \n",
       "                   norm_clip       2357.141203   167.930101  2074.215075   \n",
       "                   signed          2330.583398    56.485670  2246.023757   \n",
       "            ARS-v2 component_clip  4682.744543   683.344924  3475.257392   \n",
       "                   none            4344.523844   651.678055  3598.612299   \n",
       "                   norm_clip       4243.698876   739.214567  3010.497857   \n",
       "                   signed          4251.799917   505.480325  3391.426548   \n",
       "HalfCheetah ARS-v1 component_clip  4097.170105   156.326185  3918.683155   \n",
       "                   none            3889.746609   601.838226  2822.411604   \n",
       "                   norm_clip       3786.042894   140.150960  3612.663660   \n",
       "                   signed          3345.060376   518.196817  2621.248623   \n",
       "            ARS-v2 component_clip  4849.175944  1094.693944  3882.183609   \n",
       "                   none            4621.088479   908.410947  3880.247763   \n",
       "                   norm_clip       4377.463323   724.928776  3635.045434   \n",
       "                   signed          4110.963751   846.686995  3638.426306   \n",
       "Hopper      ARS-v1 component_clip  2312.744624   817.086101  1384.907396   \n",
       "                   none            2603.872896   591.209772  1962.187488   \n",
       "                   norm_clip       3055.696720          NaN  3055.696720   \n",
       "                   signed          2313.276742   271.813793  2033.232399   \n",
       "            ARS-v2 component_clip  3639.822836    52.598434  3575.738796   \n",
       "                   none            3719.362328   110.698633  3570.387045   \n",
       "                   norm_clip       3511.555436   151.940758  3385.660857   \n",
       "                   signed          3518.415045   103.507339  3410.385289   \n",
       "Humanoid    ARS-v1 component_clip   207.571818     0.286118   207.259587   \n",
       "                   none             207.571818     0.286118   207.259587   \n",
       "                   norm_clip        207.764096          NaN   207.764096   \n",
       "                   signed           207.764096          NaN   207.764096   \n",
       "            ARS-v2 component_clip  7474.228465   363.705533  7097.325104   \n",
       "                   none            7393.545083   308.102560  6904.033161   \n",
       "                   norm_clip       1149.504513   195.472118   930.761696   \n",
       "                   signed          1003.920875   123.586919   890.670663   \n",
       "Swimmer     ARS-v1 component_clip   356.827929     0.353056   356.285433   \n",
       "                   none             356.815026     0.799376   355.633367   \n",
       "                   norm_clip        356.516281     0.535153   355.707168   \n",
       "                   signed           356.101397     0.564350   355.500558   \n",
       "            ARS-v2 component_clip   345.566541    27.361564   296.634246   \n",
       "                   none             357.604593     1.169745   356.311897   \n",
       "                   norm_clip        356.538317     0.553700   355.761348   \n",
       "                   signed           354.949642     2.394186   352.648978   \n",
       "Walker2d    ARS-v1 component_clip  3354.912000   567.666295  2518.478759   \n",
       "                   none            2822.740868   700.241494  2261.355952   \n",
       "                   norm_clip       3045.920453          NaN  3045.920453   \n",
       "                   signed          3010.700145          NaN  3010.700145   \n",
       "            ARS-v2 component_clip  2652.867434  1594.689687   570.761335   \n",
       "                   none            2689.405144  1121.705091  1392.950020   \n",
       "                   norm_clip       2179.546422   810.474310  1748.645368   \n",
       "                   signed          2040.398065   509.201086  1549.216390   \n",
       "\n",
       "                                           max                   f  \n",
       "task        algo   transform                                        \n",
       "Ant         ARS-v1 component_clip  3256.608653   2929.68\\pm 219.38  \n",
       "                   none            3241.832802   3095.54\\pm 131.38  \n",
       "                   norm_clip       2517.563398   2357.14\\pm 167.93  \n",
       "                   signed          2393.792193    2330.58\\pm 56.49  \n",
       "            ARS-v2 component_clip  5145.876784   4682.74\\pm 683.34  \n",
       "                   none            5167.538895   4344.52\\pm 651.68  \n",
       "                   norm_clip       4769.367497   4243.70\\pm 739.21  \n",
       "                   signed          4629.304931   4251.80\\pm 505.48  \n",
       "HalfCheetah ARS-v1 component_clip  4301.485767   4097.17\\pm 156.33  \n",
       "                   none            4289.968569   3889.75\\pm 601.84  \n",
       "                   norm_clip       3944.568554   3786.04\\pm 140.15  \n",
       "                   signed          3973.401949   3345.06\\pm 518.20  \n",
       "            ARS-v2 component_clip  6209.822468  4849.18\\pm 1094.69  \n",
       "                   none            6142.335228   4621.09\\pm 908.41  \n",
       "                   norm_clip       5359.478389   4377.46\\pm 724.93  \n",
       "                   signed          5620.930666   4110.96\\pm 846.69  \n",
       "Hopper      ARS-v1 component_clip  3018.371044   2312.74\\pm 817.09  \n",
       "                   none            3261.844897   2603.87\\pm 591.21  \n",
       "                   norm_clip       3055.696720      3055.70\\pm nan  \n",
       "                   signed          2576.034860   2313.28\\pm 271.81  \n",
       "            ARS-v2 component_clip  3692.313285    3639.82\\pm 52.60  \n",
       "                   none            3813.616531   3719.36\\pm 110.70  \n",
       "                   norm_clip       3699.759106   3511.56\\pm 151.94  \n",
       "                   signed          3672.914629   3518.42\\pm 103.51  \n",
       "Humanoid    ARS-v1 component_clip   207.945230      207.57\\pm 0.29  \n",
       "                   none             207.945230      207.57\\pm 0.29  \n",
       "                   norm_clip        207.764096       207.76\\pm nan  \n",
       "                   signed           207.764096       207.76\\pm nan  \n",
       "            ARS-v2 component_clip  7928.928517   7474.23\\pm 363.71  \n",
       "                   none            7699.324084   7393.55\\pm 308.10  \n",
       "                   norm_clip       1320.835538   1149.50\\pm 195.47  \n",
       "                   signed          1158.052359   1003.92\\pm 123.59  \n",
       "Swimmer     ARS-v1 component_clip   357.237734      356.83\\pm 0.35  \n",
       "                   none             357.756926      356.82\\pm 0.80  \n",
       "                   norm_clip        357.031413      356.52\\pm 0.54  \n",
       "                   signed           356.712639      356.10\\pm 0.56  \n",
       "            ARS-v2 component_clip   358.888193     345.57\\pm 27.36  \n",
       "                   none             359.148499      357.60\\pm 1.17  \n",
       "                   norm_clip        356.977606      356.54\\pm 0.55  \n",
       "                   signed           358.879988      354.95\\pm 2.39  \n",
       "Walker2d    ARS-v1 component_clip  4009.326677   3354.91\\pm 567.67  \n",
       "                   none            3810.407831   2822.74\\pm 700.24  \n",
       "                   norm_clip       3045.920453      3045.92\\pm nan  \n",
       "                   signed          3010.700145      3010.70\\pm nan  \n",
       "            ARS-v2 component_clip  4427.341882  2652.87\\pm 1594.69  \n",
       "                   none            3909.281194  2689.41\\pm 1121.71  \n",
       "                   norm_clip       3621.470956   2179.55\\pm 810.47  \n",
       "                   signed          2721.210380   2040.40\\pm 509.20  "
      ]
     },
     "metadata": {},
     "output_type": "display_data"
    },
    {
     "data": {
      "text/html": [
       "<div>\n",
       "<style scoped>\n",
       "    .dataframe tbody tr th:only-of-type {\n",
       "        vertical-align: middle;\n",
       "    }\n",
       "\n",
       "    .dataframe tbody tr th {\n",
       "        vertical-align: top;\n",
       "    }\n",
       "\n",
       "    .dataframe thead th {\n",
       "        text-align: right;\n",
       "    }\n",
       "</style>\n",
       "<table border=\"1\" class=\"dataframe\">\n",
       "  <thead>\n",
       "    <tr style=\"text-align: right;\">\n",
       "      <th></th>\n",
       "      <th>transform</th>\n",
       "      <th>component_clip</th>\n",
       "      <th>none</th>\n",
       "      <th>norm_clip</th>\n",
       "      <th>signed</th>\n",
       "    </tr>\n",
       "    <tr>\n",
       "      <th>task</th>\n",
       "      <th>algo</th>\n",
       "      <th></th>\n",
       "      <th></th>\n",
       "      <th></th>\n",
       "      <th></th>\n",
       "    </tr>\n",
       "  </thead>\n",
       "  <tbody>\n",
       "    <tr>\n",
       "      <th rowspan=\"2\" valign=\"top\">Ant</th>\n",
       "      <th>ARS-v1</th>\n",
       "      <td>2929.68\\pm 219.38</td>\n",
       "      <td>3095.54\\pm 131.38</td>\n",
       "      <td>2357.14\\pm 167.93</td>\n",
       "      <td>2330.58\\pm 56.49</td>\n",
       "    </tr>\n",
       "    <tr>\n",
       "      <th>ARS-v2</th>\n",
       "      <td>4682.74\\pm 683.34</td>\n",
       "      <td>4344.52\\pm 651.68</td>\n",
       "      <td>4243.70\\pm 739.21</td>\n",
       "      <td>4251.80\\pm 505.48</td>\n",
       "    </tr>\n",
       "    <tr>\n",
       "      <th rowspan=\"2\" valign=\"top\">HalfCheetah</th>\n",
       "      <th>ARS-v1</th>\n",
       "      <td>4097.17\\pm 156.33</td>\n",
       "      <td>3889.75\\pm 601.84</td>\n",
       "      <td>3786.04\\pm 140.15</td>\n",
       "      <td>3345.06\\pm 518.20</td>\n",
       "    </tr>\n",
       "    <tr>\n",
       "      <th>ARS-v2</th>\n",
       "      <td>4849.18\\pm 1094.69</td>\n",
       "      <td>4621.09\\pm 908.41</td>\n",
       "      <td>4377.46\\pm 724.93</td>\n",
       "      <td>4110.96\\pm 846.69</td>\n",
       "    </tr>\n",
       "    <tr>\n",
       "      <th rowspan=\"2\" valign=\"top\">Hopper</th>\n",
       "      <th>ARS-v1</th>\n",
       "      <td>2312.74\\pm 817.09</td>\n",
       "      <td>2603.87\\pm 591.21</td>\n",
       "      <td>3055.70\\pm nan</td>\n",
       "      <td>2313.28\\pm 271.81</td>\n",
       "    </tr>\n",
       "    <tr>\n",
       "      <th>ARS-v2</th>\n",
       "      <td>3639.82\\pm 52.60</td>\n",
       "      <td>3719.36\\pm 110.70</td>\n",
       "      <td>3511.56\\pm 151.94</td>\n",
       "      <td>3518.42\\pm 103.51</td>\n",
       "    </tr>\n",
       "    <tr>\n",
       "      <th rowspan=\"2\" valign=\"top\">Humanoid</th>\n",
       "      <th>ARS-v1</th>\n",
       "      <td>207.57\\pm 0.29</td>\n",
       "      <td>207.57\\pm 0.29</td>\n",
       "      <td>207.76\\pm nan</td>\n",
       "      <td>207.76\\pm nan</td>\n",
       "    </tr>\n",
       "    <tr>\n",
       "      <th>ARS-v2</th>\n",
       "      <td>7474.23\\pm 363.71</td>\n",
       "      <td>7393.55\\pm 308.10</td>\n",
       "      <td>1149.50\\pm 195.47</td>\n",
       "      <td>1003.92\\pm 123.59</td>\n",
       "    </tr>\n",
       "    <tr>\n",
       "      <th rowspan=\"2\" valign=\"top\">Swimmer</th>\n",
       "      <th>ARS-v1</th>\n",
       "      <td>356.83\\pm 0.35</td>\n",
       "      <td>356.82\\pm 0.80</td>\n",
       "      <td>356.52\\pm 0.54</td>\n",
       "      <td>356.10\\pm 0.56</td>\n",
       "    </tr>\n",
       "    <tr>\n",
       "      <th>ARS-v2</th>\n",
       "      <td>345.57\\pm 27.36</td>\n",
       "      <td>357.60\\pm 1.17</td>\n",
       "      <td>356.54\\pm 0.55</td>\n",
       "      <td>354.95\\pm 2.39</td>\n",
       "    </tr>\n",
       "    <tr>\n",
       "      <th rowspan=\"2\" valign=\"top\">Walker2d</th>\n",
       "      <th>ARS-v1</th>\n",
       "      <td>3354.91\\pm 567.67</td>\n",
       "      <td>2822.74\\pm 700.24</td>\n",
       "      <td>3045.92\\pm nan</td>\n",
       "      <td>3010.70\\pm nan</td>\n",
       "    </tr>\n",
       "    <tr>\n",
       "      <th>ARS-v2</th>\n",
       "      <td>2652.87\\pm 1594.69</td>\n",
       "      <td>2689.41\\pm 1121.71</td>\n",
       "      <td>2179.55\\pm 810.47</td>\n",
       "      <td>2040.40\\pm 509.20</td>\n",
       "    </tr>\n",
       "  </tbody>\n",
       "</table>\n",
       "</div>"
      ],
      "text/plain": [
       "transform               component_clip                none          norm_clip  \\\n",
       "task        algo                                                                \n",
       "Ant         ARS-v1   2929.68\\pm 219.38   3095.54\\pm 131.38  2357.14\\pm 167.93   \n",
       "            ARS-v2   4682.74\\pm 683.34   4344.52\\pm 651.68  4243.70\\pm 739.21   \n",
       "HalfCheetah ARS-v1   4097.17\\pm 156.33   3889.75\\pm 601.84  3786.04\\pm 140.15   \n",
       "            ARS-v2  4849.18\\pm 1094.69   4621.09\\pm 908.41  4377.46\\pm 724.93   \n",
       "Hopper      ARS-v1   2312.74\\pm 817.09   2603.87\\pm 591.21     3055.70\\pm nan   \n",
       "            ARS-v2    3639.82\\pm 52.60   3719.36\\pm 110.70  3511.56\\pm 151.94   \n",
       "Humanoid    ARS-v1      207.57\\pm 0.29      207.57\\pm 0.29      207.76\\pm nan   \n",
       "            ARS-v2   7474.23\\pm 363.71   7393.55\\pm 308.10  1149.50\\pm 195.47   \n",
       "Swimmer     ARS-v1      356.83\\pm 0.35      356.82\\pm 0.80     356.52\\pm 0.54   \n",
       "            ARS-v2     345.57\\pm 27.36      357.60\\pm 1.17     356.54\\pm 0.55   \n",
       "Walker2d    ARS-v1   3354.91\\pm 567.67   2822.74\\pm 700.24     3045.92\\pm nan   \n",
       "            ARS-v2  2652.87\\pm 1594.69  2689.41\\pm 1121.71  2179.55\\pm 810.47   \n",
       "\n",
       "transform                      signed  \n",
       "task        algo                       \n",
       "Ant         ARS-v1   2330.58\\pm 56.49  \n",
       "            ARS-v2  4251.80\\pm 505.48  \n",
       "HalfCheetah ARS-v1  3345.06\\pm 518.20  \n",
       "            ARS-v2  4110.96\\pm 846.69  \n",
       "Hopper      ARS-v1  2313.28\\pm 271.81  \n",
       "            ARS-v2  3518.42\\pm 103.51  \n",
       "Humanoid    ARS-v1      207.76\\pm nan  \n",
       "            ARS-v2  1003.92\\pm 123.59  \n",
       "Swimmer     ARS-v1     356.10\\pm 0.56  \n",
       "            ARS-v2     354.95\\pm 2.39  \n",
       "Walker2d    ARS-v1     3010.70\\pm nan  \n",
       "            ARS-v2  2040.40\\pm 509.20  "
      ]
     },
     "metadata": {},
     "output_type": "display_data"
    },
    {
     "name": "stdout",
     "output_type": "stream",
     "text": [
      "\\begin{table}\n",
      "\\caption{Performance on each task}\n",
      "\\begin{tabular}{llllll}\n",
      "\\hline\n",
      " & transform & component\\_clip & none & norm\\_clip & signed \\\\\n",
      "task & algo &  &  &  &  \\\\\n",
      "\\hline\n",
      "\\multirow[t]{2}{*}{Ant} & ARS-v1 & 2929.68\\textbackslash pm 219.38 & 3095.54\\textbackslash pm 131.38 & 2357.14\\textbackslash pm 167.93 & 2330.58\\textbackslash pm 56.49 \\\\\n",
      " & ARS-v2 & 4682.74\\textbackslash pm 683.34 & 4344.52\\textbackslash pm 651.68 & 4243.70\\textbackslash pm 739.21 & 4251.80\\textbackslash pm 505.48 \\\\\n",
      "\\cline{1-6}\n",
      "\\multirow[t]{2}{*}{HalfCheetah} & ARS-v1 & 4097.17\\textbackslash pm 156.33 & 3889.75\\textbackslash pm 601.84 & 3786.04\\textbackslash pm 140.15 & 3345.06\\textbackslash pm 518.20 \\\\\n",
      " & ARS-v2 & 4849.18\\textbackslash pm 1094.69 & 4621.09\\textbackslash pm 908.41 & 4377.46\\textbackslash pm 724.93 & 4110.96\\textbackslash pm 846.69 \\\\\n",
      "\\cline{1-6}\n",
      "\\multirow[t]{2}{*}{Hopper} & ARS-v1 & 2312.74\\textbackslash pm 817.09 & 2603.87\\textbackslash pm 591.21 & 3055.70\\textbackslash pm nan & 2313.28\\textbackslash pm 271.81 \\\\\n",
      " & ARS-v2 & 3639.82\\textbackslash pm 52.60 & 3719.36\\textbackslash pm 110.70 & 3511.56\\textbackslash pm 151.94 & 3518.42\\textbackslash pm 103.51 \\\\\n",
      "\\cline{1-6}\n",
      "\\multirow[t]{2}{*}{Humanoid} & ARS-v1 & 207.57\\textbackslash pm 0.29 & 207.57\\textbackslash pm 0.29 & 207.76\\textbackslash pm nan & 207.76\\textbackslash pm nan \\\\\n",
      " & ARS-v2 & 7474.23\\textbackslash pm 363.71 & 7393.55\\textbackslash pm 308.10 & 1149.50\\textbackslash pm 195.47 & 1003.92\\textbackslash pm 123.59 \\\\\n",
      "\\cline{1-6}\n",
      "\\multirow[t]{2}{*}{Swimmer} & ARS-v1 & 356.83\\textbackslash pm 0.35 & 356.82\\textbackslash pm 0.80 & 356.52\\textbackslash pm 0.54 & 356.10\\textbackslash pm 0.56 \\\\\n",
      " & ARS-v2 & 345.57\\textbackslash pm 27.36 & 357.60\\textbackslash pm 1.17 & 356.54\\textbackslash pm 0.55 & 354.95\\textbackslash pm 2.39 \\\\\n",
      "\\cline{1-6}\n",
      "\\multirow[t]{2}{*}{Walker2d} & ARS-v1 & 3354.91\\textbackslash pm 567.67 & 2822.74\\textbackslash pm 700.24 & 3045.92\\textbackslash pm nan & 3010.70\\textbackslash pm nan \\\\\n",
      " & ARS-v2 & 2652.87\\textbackslash pm 1594.69 & 2689.41\\textbackslash pm 1121.71 & 2179.55\\textbackslash pm 810.47 & 2040.40\\textbackslash pm 509.20 \\\\\n",
      "\\cline{1-6}\n",
      "\\hline\n",
      "\\end{tabular}\n",
      "\\end{table}\n",
      "\n"
     ]
    },
    {
     "data": {
      "text/html": [
       "<div>\n",
       "<style scoped>\n",
       "    .dataframe tbody tr th:only-of-type {\n",
       "        vertical-align: middle;\n",
       "    }\n",
       "\n",
       "    .dataframe tbody tr th {\n",
       "        vertical-align: top;\n",
       "    }\n",
       "\n",
       "    .dataframe thead th {\n",
       "        text-align: right;\n",
       "    }\n",
       "</style>\n",
       "<table border=\"1\" class=\"dataframe\">\n",
       "  <thead>\n",
       "    <tr style=\"text-align: right;\">\n",
       "      <th></th>\n",
       "      <th>transform</th>\n",
       "      <th>component_clip</th>\n",
       "      <th>none</th>\n",
       "      <th>norm_clip</th>\n",
       "      <th>signed</th>\n",
       "    </tr>\n",
       "    <tr>\n",
       "      <th>task</th>\n",
       "      <th>algo</th>\n",
       "      <th></th>\n",
       "      <th></th>\n",
       "      <th></th>\n",
       "      <th></th>\n",
       "    </tr>\n",
       "  </thead>\n",
       "  <tbody>\n",
       "    <tr>\n",
       "      <th rowspan=\"2\" valign=\"top\">Ant</th>\n",
       "      <th>ARS-v1</th>\n",
       "      <td>3256.61</td>\n",
       "      <td>3241.83</td>\n",
       "      <td>2517.56</td>\n",
       "      <td>2393.79</td>\n",
       "    </tr>\n",
       "    <tr>\n",
       "      <th>ARS-v2</th>\n",
       "      <td>5145.88</td>\n",
       "      <td>5167.54</td>\n",
       "      <td>4769.37</td>\n",
       "      <td>4629.30</td>\n",
       "    </tr>\n",
       "    <tr>\n",
       "      <th rowspan=\"2\" valign=\"top\">HalfCheetah</th>\n",
       "      <th>ARS-v1</th>\n",
       "      <td>4301.49</td>\n",
       "      <td>4289.97</td>\n",
       "      <td>3944.57</td>\n",
       "      <td>3973.40</td>\n",
       "    </tr>\n",
       "    <tr>\n",
       "      <th>ARS-v2</th>\n",
       "      <td>6209.82</td>\n",
       "      <td>6142.34</td>\n",
       "      <td>5359.48</td>\n",
       "      <td>5620.93</td>\n",
       "    </tr>\n",
       "    <tr>\n",
       "      <th rowspan=\"2\" valign=\"top\">Hopper</th>\n",
       "      <th>ARS-v1</th>\n",
       "      <td>3018.37</td>\n",
       "      <td>3261.84</td>\n",
       "      <td>3055.70</td>\n",
       "      <td>2576.03</td>\n",
       "    </tr>\n",
       "    <tr>\n",
       "      <th>ARS-v2</th>\n",
       "      <td>3692.31</td>\n",
       "      <td>3813.62</td>\n",
       "      <td>3699.76</td>\n",
       "      <td>3672.91</td>\n",
       "    </tr>\n",
       "    <tr>\n",
       "      <th rowspan=\"2\" valign=\"top\">Humanoid</th>\n",
       "      <th>ARS-v1</th>\n",
       "      <td>207.95</td>\n",
       "      <td>207.95</td>\n",
       "      <td>207.76</td>\n",
       "      <td>207.76</td>\n",
       "    </tr>\n",
       "    <tr>\n",
       "      <th>ARS-v2</th>\n",
       "      <td>7928.93</td>\n",
       "      <td>7699.32</td>\n",
       "      <td>1320.84</td>\n",
       "      <td>1158.05</td>\n",
       "    </tr>\n",
       "    <tr>\n",
       "      <th rowspan=\"2\" valign=\"top\">Swimmer</th>\n",
       "      <th>ARS-v1</th>\n",
       "      <td>357.24</td>\n",
       "      <td>357.76</td>\n",
       "      <td>357.03</td>\n",
       "      <td>356.71</td>\n",
       "    </tr>\n",
       "    <tr>\n",
       "      <th>ARS-v2</th>\n",
       "      <td>358.89</td>\n",
       "      <td>359.15</td>\n",
       "      <td>356.98</td>\n",
       "      <td>358.88</td>\n",
       "    </tr>\n",
       "    <tr>\n",
       "      <th rowspan=\"2\" valign=\"top\">Walker2d</th>\n",
       "      <th>ARS-v1</th>\n",
       "      <td>4009.33</td>\n",
       "      <td>3810.41</td>\n",
       "      <td>3045.92</td>\n",
       "      <td>3010.70</td>\n",
       "    </tr>\n",
       "    <tr>\n",
       "      <th>ARS-v2</th>\n",
       "      <td>4427.34</td>\n",
       "      <td>3909.28</td>\n",
       "      <td>3621.47</td>\n",
       "      <td>2721.21</td>\n",
       "    </tr>\n",
       "  </tbody>\n",
       "</table>\n",
       "</div>"
      ],
      "text/plain": [
       "transform           component_clip     none  norm_clip   signed\n",
       "task        algo                                               \n",
       "Ant         ARS-v1         3256.61  3241.83    2517.56  2393.79\n",
       "            ARS-v2         5145.88  5167.54    4769.37  4629.30\n",
       "HalfCheetah ARS-v1         4301.49  4289.97    3944.57  3973.40\n",
       "            ARS-v2         6209.82  6142.34    5359.48  5620.93\n",
       "Hopper      ARS-v1         3018.37  3261.84    3055.70  2576.03\n",
       "            ARS-v2         3692.31  3813.62    3699.76  3672.91\n",
       "Humanoid    ARS-v1          207.95   207.95     207.76   207.76\n",
       "            ARS-v2         7928.93  7699.32    1320.84  1158.05\n",
       "Swimmer     ARS-v1          357.24   357.76     357.03   356.71\n",
       "            ARS-v2          358.89   359.15     356.98   358.88\n",
       "Walker2d    ARS-v1         4009.33  3810.41    3045.92  3010.70\n",
       "            ARS-v2         4427.34  3909.28    3621.47  2721.21"
      ]
     },
     "metadata": {},
     "output_type": "display_data"
    },
    {
     "name": "stdout",
     "output_type": "stream",
     "text": [
      "\\begin{table}\n",
      "\\caption{Best perf on each task}\n",
      "\\begin{tabular}{llrrrr}\n",
      "\\hline\n",
      " & transform & component\\_clip & none & norm\\_clip & signed \\\\\n",
      "task & algo &  &  &  &  \\\\\n",
      "\\hline\n",
      "\\multirow[t]{2}{*}{Ant} & ARS-v1 & 3256.61 & 3241.83 & 2517.56 & 2393.79 \\\\\n",
      " & ARS-v2 & 5145.88 & 5167.54 & 4769.37 & 4629.30 \\\\\n",
      "\\cline{1-6}\n",
      "\\multirow[t]{2}{*}{HalfCheetah} & ARS-v1 & 4301.49 & 4289.97 & 3944.57 & 3973.40 \\\\\n",
      " & ARS-v2 & 6209.82 & 6142.34 & 5359.48 & 5620.93 \\\\\n",
      "\\cline{1-6}\n",
      "\\multirow[t]{2}{*}{Hopper} & ARS-v1 & 3018.37 & 3261.84 & 3055.70 & 2576.03 \\\\\n",
      " & ARS-v2 & 3692.31 & 3813.62 & 3699.76 & 3672.91 \\\\\n",
      "\\cline{1-6}\n",
      "\\multirow[t]{2}{*}{Humanoid} & ARS-v1 & 207.95 & 207.95 & 207.76 & 207.76 \\\\\n",
      " & ARS-v2 & 7928.93 & 7699.32 & 1320.84 & 1158.05 \\\\\n",
      "\\cline{1-6}\n",
      "\\multirow[t]{2}{*}{Swimmer} & ARS-v1 & 357.24 & 357.76 & 357.03 & 356.71 \\\\\n",
      " & ARS-v2 & 358.89 & 359.15 & 356.98 & 358.88 \\\\\n",
      "\\cline{1-6}\n",
      "\\multirow[t]{2}{*}{Walker2d} & ARS-v1 & 4009.33 & 3810.41 & 3045.92 & 3010.70 \\\\\n",
      " & ARS-v2 & 4427.34 & 3909.28 & 3621.47 & 2721.21 \\\\\n",
      "\\cline{1-6}\n",
      "\\hline\n",
      "\\end{tabular}\n",
      "\\end{table}\n",
      "\n"
     ]
    }
   ],
   "source": [
    "def f(x):\n",
    "    return f\"{x['mean']:.2f}\\\\pm {x['std']:.2f}\"\n",
    "out = best_data.groupby([\"task\", \"algo\", \"transform\"]).reward.agg(['mean', 'std','min', 'max'])#\n",
    "out['f'] = out.apply(f, axis=1)\n",
    "display(out)\n",
    "\n",
    "best_perf = pd.pivot_table(\n",
    "    out.reset_index(),\n",
    "    index=[\"task\", \"algo\"],\n",
    "    columns=[\"transform\"],\n",
    "    values=\"f\",\n",
    "    aggfunc='first'\n",
    ").round(2)\n",
    "display(best_perf)\n",
    "print(to_paper(best_perf, \"Performance on each task\", index=True))\n",
    "\n",
    "best_perf = pd.pivot_table(\n",
    "    out.reset_index(),\n",
    "    index=[\"task\", \"algo\"],\n",
    "    columns=[\"transform\"],\n",
    "    values=\"max\",\n",
    "    aggfunc='first'\n",
    ").round(2)\n",
    "display(best_perf)\n",
    "print(to_paper(best_perf, \"Best perf on each task\", index=True))\n"
   ]
  },
  {
   "cell_type": "code",
   "execution_count": 9,
   "metadata": {},
   "outputs": [
    {
     "data": {
      "text/html": [
       "<div>\n",
       "<style scoped>\n",
       "    .dataframe tbody tr th:only-of-type {\n",
       "        vertical-align: middle;\n",
       "    }\n",
       "\n",
       "    .dataframe tbody tr th {\n",
       "        vertical-align: top;\n",
       "    }\n",
       "\n",
       "    .dataframe thead th {\n",
       "        text-align: right;\n",
       "    }\n",
       "</style>\n",
       "<table border=\"1\" class=\"dataframe\">\n",
       "  <thead>\n",
       "    <tr style=\"text-align: right;\">\n",
       "      <th></th>\n",
       "      <th>AverageReward</th>\n",
       "      <th>timesteps</th>\n",
       "      <th>Iteration</th>\n",
       "      <th>task</th>\n",
       "      <th>algo</th>\n",
       "      <th>transform</th>\n",
       "      <th>seed</th>\n",
       "    </tr>\n",
       "  </thead>\n",
       "  <tbody>\n",
       "    <tr>\n",
       "      <th>0</th>\n",
       "      <td>1000.182819</td>\n",
       "      <td>0</td>\n",
       "      <td>0</td>\n",
       "      <td>Ant</td>\n",
       "      <td>ARS-v1</td>\n",
       "      <td>component_clip</td>\n",
       "      <td>1</td>\n",
       "    </tr>\n",
       "    <tr>\n",
       "      <th>1</th>\n",
       "      <td>1005.282180</td>\n",
       "      <td>1568175</td>\n",
       "      <td>10</td>\n",
       "      <td>Ant</td>\n",
       "      <td>ARS-v1</td>\n",
       "      <td>component_clip</td>\n",
       "      <td>1</td>\n",
       "    </tr>\n",
       "    <tr>\n",
       "      <th>2</th>\n",
       "      <td>1037.155642</td>\n",
       "      <td>3126254</td>\n",
       "      <td>20</td>\n",
       "      <td>Ant</td>\n",
       "      <td>ARS-v1</td>\n",
       "      <td>component_clip</td>\n",
       "      <td>1</td>\n",
       "    </tr>\n",
       "    <tr>\n",
       "      <th>3</th>\n",
       "      <td>1209.642860</td>\n",
       "      <td>4641563</td>\n",
       "      <td>30</td>\n",
       "      <td>Ant</td>\n",
       "      <td>ARS-v1</td>\n",
       "      <td>component_clip</td>\n",
       "      <td>1</td>\n",
       "    </tr>\n",
       "    <tr>\n",
       "      <th>4</th>\n",
       "      <td>1454.651500</td>\n",
       "      <td>6014781</td>\n",
       "      <td>40</td>\n",
       "      <td>Ant</td>\n",
       "      <td>ARS-v1</td>\n",
       "      <td>component_clip</td>\n",
       "      <td>1</td>\n",
       "    </tr>\n",
       "    <tr>\n",
       "      <th>...</th>\n",
       "      <td>...</td>\n",
       "      <td>...</td>\n",
       "      <td>...</td>\n",
       "      <td>...</td>\n",
       "      <td>...</td>\n",
       "      <td>...</td>\n",
       "      <td>...</td>\n",
       "    </tr>\n",
       "    <tr>\n",
       "      <th>721</th>\n",
       "      <td>2356.724669</td>\n",
       "      <td>43603163</td>\n",
       "      <td>320</td>\n",
       "      <td>Ant</td>\n",
       "      <td>ARS-v1</td>\n",
       "      <td>norm_clip</td>\n",
       "      <td>1</td>\n",
       "    </tr>\n",
       "    <tr>\n",
       "      <th>722</th>\n",
       "      <td>2392.946132</td>\n",
       "      <td>44993535</td>\n",
       "      <td>330</td>\n",
       "      <td>Ant</td>\n",
       "      <td>ARS-v1</td>\n",
       "      <td>norm_clip</td>\n",
       "      <td>1</td>\n",
       "    </tr>\n",
       "    <tr>\n",
       "      <th>723</th>\n",
       "      <td>2372.574421</td>\n",
       "      <td>46374588</td>\n",
       "      <td>340</td>\n",
       "      <td>Ant</td>\n",
       "      <td>ARS-v1</td>\n",
       "      <td>norm_clip</td>\n",
       "      <td>1</td>\n",
       "    </tr>\n",
       "    <tr>\n",
       "      <th>724</th>\n",
       "      <td>2400.760870</td>\n",
       "      <td>47761674</td>\n",
       "      <td>350</td>\n",
       "      <td>Ant</td>\n",
       "      <td>ARS-v1</td>\n",
       "      <td>norm_clip</td>\n",
       "      <td>1</td>\n",
       "    </tr>\n",
       "    <tr>\n",
       "      <th>725</th>\n",
       "      <td>2380.958454</td>\n",
       "      <td>49133615</td>\n",
       "      <td>360</td>\n",
       "      <td>Ant</td>\n",
       "      <td>ARS-v1</td>\n",
       "      <td>norm_clip</td>\n",
       "      <td>1</td>\n",
       "    </tr>\n",
       "  </tbody>\n",
       "</table>\n",
       "<p>726 rows × 7 columns</p>\n",
       "</div>"
      ],
      "text/plain": [
       "     AverageReward  timesteps  Iteration task    algo       transform  seed\n",
       "0      1000.182819          0          0  Ant  ARS-v1  component_clip     1\n",
       "1      1005.282180    1568175         10  Ant  ARS-v1  component_clip     1\n",
       "2      1037.155642    3126254         20  Ant  ARS-v1  component_clip     1\n",
       "3      1209.642860    4641563         30  Ant  ARS-v1  component_clip     1\n",
       "4      1454.651500    6014781         40  Ant  ARS-v1  component_clip     1\n",
       "..             ...        ...        ...  ...     ...             ...   ...\n",
       "721    2356.724669   43603163        320  Ant  ARS-v1       norm_clip     1\n",
       "722    2392.946132   44993535        330  Ant  ARS-v1       norm_clip     1\n",
       "723    2372.574421   46374588        340  Ant  ARS-v1       norm_clip     1\n",
       "724    2400.760870   47761674        350  Ant  ARS-v1       norm_clip     1\n",
       "725    2380.958454   49133615        360  Ant  ARS-v1       norm_clip     1\n",
       "\n",
       "[726 rows x 7 columns]"
      ]
     },
     "execution_count": 9,
     "metadata": {},
     "output_type": "execute_result"
    }
   ],
   "source": [
    "for (task, algo), data1 in best_data.groupby([\"task\", \"algo\"]):\n",
    "\n",
    "    frames = []\n",
    "    for filename, transform, algo, seed in zip(data1.dir_path, data1['transform'], data1[\"algo\"], data.seed):\n",
    "        x = pd.read_csv(\"../\"+filename+\"/log.txt\", sep=\"\\t\")[[\"AverageReward\", \"timesteps\", \"Iteration\"]]\n",
    "        x[\"task\"] = task\n",
    "        x[\"algo\"] = algo\n",
    "        x[\"transform\"] = transform\n",
    "        x[\"seed\"] = seed\n",
    "        frames.append(x)\n",
    "    frame = pd.concat(frames, ignore_index=True)\n",
    "\n",
    "    break\n",
    "\n",
    "\n",
    "\n",
    "frame"
   ]
  },
  {
   "cell_type": "code",
   "execution_count": 10,
   "metadata": {},
   "outputs": [],
   "source": [
    "def interp_frames(frames, n=1000):\n",
    "    max_timestep = max(x.timesteps.max() for x in frames)\n",
    "    common_timesteps = np.linspace(0, max_timestep, num=n)\n",
    "    result = []\n",
    "    for frame in frames:\n",
    "        new_frame = pd.DataFrame({\"Iteration\": range(n)})\n",
    "        new_frame[\"timesteps\"] = common_timesteps\n",
    "        new_frame[\"AverageReward\"] = np.interp(common_timesteps, frame.timesteps, frame.AverageReward)\n",
    "        for col in [\"task\", \"algo\", \"transform\", \"seed\"]:\n",
    "            new_frame[col] = frame[col][0]\n",
    "        result.append(new_frame)\n",
    "    return pd.concat(result, ignore_index=True)"
   ]
  },
  {
   "cell_type": "code",
   "execution_count": 11,
   "metadata": {},
   "outputs": [],
   "source": [
    "for (task, algo), data1 in best_data.groupby([\"task\", \"algo\"]):\n",
    "\n",
    "    frames = []\n",
    "    for filename, transform, algo, seed in zip(data1.dir_path, data1['transform'], data1[\"algo\"], data.seed):\n",
    "        x = pd.read_csv(\"../\"+filename+\"/log.txt\", sep=\"\\t\")[[\"AverageReward\", \"timesteps\", \"Iteration\"]]\n",
    "        x[\"task\"] = task\n",
    "        x[\"algo\"] = algo\n",
    "        x[\"transform\"] = transform\n",
    "        x[\"seed\"] = seed\n",
    "        frames.append(x)\n",
    "\n",
    "    # frame = pd.concat(frames, ignore_index=True)\n",
    "    frame = interp_frames(frames)\n",
    "    frame = frame.groupby([\"Iteration\", 'transform']).agg({\n",
    "        'AverageReward': ['mean', \"std\", \"max\"],\n",
    "        \"timesteps\": 'mean'\n",
    "    }).fillna(0)\n",
    "\n",
    "    frame.columns = [f\"{x}_{y}\" for x, y in frame.columns]\n",
    "    frame.reset_index(inplace=True)\n",
    "    frame['algo'] = algo\n",
    "    frame['task'] = task\n",
    "    frame.rename({\n",
    "        'timesteps_mean': \"steps\",\n",
    "        'AverageReward_mean': \"reward\",\n",
    "        'AverageReward_std': \"reward_std\",\n",
    "        'AverageReward_max': \"reward_max\",\n",
    "    }, axis=1, inplace=True)\n",
    "    frame.steps = frame.steps.astype(int)\n",
    "    frame.sort_values([\"transform\", \"steps\"], ignore_index=True, inplace=True)\n",
    "\n",
    "    alpha = 0.2 if task==\"Humanoid\" and algo==\"ARS-v1\" else 0.5\n",
    "    # frame.reward = frame.reward.ewm(alpha=alpha, adjust=False).mean()\n",
    "    # fig = px.line(data_frame=frame, x=\"steps\", y=\"reward\", color=\"transform\")\n",
    "    # fig.update_traces(opacity=.7)\n",
    "    fig = make_subplots()\n",
    "    for (transform, mini_frame), color in zip(frame.groupby(\"transform\"), px.colors.qualitative.Plotly):\n",
    "        fig.add_trace(go.Scatter(\n",
    "            x=mini_frame.steps,\n",
    "            y=mini_frame.reward,\n",
    "            mode=\"lines\",\n",
    "            name=transform,\n",
    "            line=dict(width=2, color=color)\n",
    "        ))\n",
    "\n",
    "        fig.add_trace(\n",
    "            go.Scatter(\n",
    "                x=mini_frame.steps,\n",
    "                y=mini_frame.reward-mini_frame.reward_std,\n",
    "                mode=\"lines\",\n",
    "                line=dict(width=0.01, color=color),\n",
    "                showlegend=False,\n",
    "            ),\n",
    "        )\n",
    "\n",
    "        fig.add_trace(\n",
    "            go.Scatter(\n",
    "                x=mini_frame.steps,\n",
    "                y=np.minimum(mini_frame.reward+mini_frame.reward_std, mini_frame.reward_max),\n",
    "                mode=\"lines\",\n",
    "                line=dict(width=0.01, color=color),\n",
    "                fill=\"tonexty\",\n",
    "                fillcolor=to_opacity(color, 0.2),\n",
    "                showlegend=False,\n",
    "            ),\n",
    "        )\n",
    "    update_layout(fig, task + \": \" + algo, \"Total Env Interactions\", \"Reward\", row=1, col=1, upkwargs=dict(width=750, height=600))\n",
    "    if (task==\"Humanoid\" and algo==\"ARS-v1\"):\n",
    "        fig.update_layout(legend=dict(yanchor=\"bottom\", y=0.6, xanchor=\"right\", x=0.99))\n",
    "    fig.write_image(f\"../static/{task}_{algo}.png\", scale=1.5)\n",
    "    # fig.show()"
   ]
  },
  {
   "cell_type": "code",
   "execution_count": 12,
   "metadata": {},
   "outputs": [
    {
     "name": "stdout",
     "output_type": "stream",
     "text": [
      "{\n",
      "\\includegraphics[width=8cm]{images_update/HalfCheetah_ARS-v1.png}\n",
      "\\includegraphics[width=8cm]{images_update/HalfCheetah_ARS-v2.png}\n",
      "}\\\\\n",
      "{\n",
      "\\includegraphics[width=8cm]{images_update/Walker2d_ARS-v1.png}\n",
      "\\includegraphics[width=8cm]{images_update/Walker2d_ARS-v2.png}\n",
      "}\\\\\n",
      "{\n",
      "\\includegraphics[width=8cm]{images_update/Humanoid_ARS-v1.png}\n",
      "\\includegraphics[width=8cm]{images_update/Humanoid_ARS-v2.png}\n",
      "}\\\\\n",
      "{\n",
      "\\includegraphics[width=8cm]{images_update/Ant_ARS-v1.png}\n",
      "\\includegraphics[width=8cm]{images_update/Ant_ARS-v2.png}\n",
      "}\\\\\n",
      "{\n",
      "\\includegraphics[width=8cm]{images_update/Hopper_ARS-v1.png}\n",
      "\\includegraphics[width=8cm]{images_update/Hopper_ARS-v2.png}\n",
      "}\\\\\n",
      "{\n",
      "\\includegraphics[width=8cm]{images_update/Swimmer_ARS-v1.png}\n",
      "\\includegraphics[width=8cm]{images_update/Swimmer_ARS-v2.png}\n",
      "}\\\\\n"
     ]
    }
   ],
   "source": [
    "template = r\"\"\"{\n",
    "\\includegraphics[width=8cm]{images_update/TASK_ARS-v1.png}\n",
    "\\includegraphics[width=8cm]{images_update/TASK_ARS-v2.png}\n",
    "}\\\\\"\"\"\n",
    "\n",
    "for task in best_data.task.unique():\n",
    "    print(template.replace(\"TASK\", task))"
   ]
  },
  {
   "cell_type": "code",
   "execution_count": null,
   "metadata": {},
   "outputs": [],
   "source": [
    "for algo, data1 in data.groupby(\"algo\"):\n",
    "    x = data1.drop([\"dir_path\", 'seed', 'n_iter', 'n_workers', 'reward', \"one_sided\"], axis=1)\n",
    "    x = x[['task'] + [col for col in x if col not in (\"env_name\", \"task\", \"algo\")]].sort_values('task', ignore_index=True)\n",
    "    print(\n",
    "        x.to_latex(\n",
    "            index=False,\n",
    "            caption=f\"Optimal hyperparameters from search for {algo}\",\n",
    "            escape=True,\n",
    "            float_format=\"{:.2f}\".format\n",
    "        )\n",
    "        .replace(\"\\\\toprule\", \"\\\\hline\")\n",
    "        .replace(\"\\\\midrule\", \"\\\\hline\")\n",
    "        .replace(\"\\\\bottomrule\", \"\\\\hline\")\n",
    "    )"
   ]
  },
  {
   "cell_type": "code",
   "execution_count": 22,
   "metadata": {},
   "outputs": [],
   "source": [
    "def plot_env(env_name, data):\n",
    "    df = []\n",
    "    for filename, algo in zip(data.dir_path, data.algo):\n",
    "        x = pd.read_csv(\"../\"+filename+\"/log.txt\", sep=\"\\t\")\n",
    "        # x[\"algorithm\"] = \"ARS-1\" if one_sided else \"ARS-2\"\n",
    "        x[\"algorithm\"] = algo\n",
    "        df.append(x)\n",
    "    df = pd.concat(df, axis=0).groupby([\"Iteration\", \"algorithm\"])[[\"timesteps\", \"AverageReward\"]].mean().reset_index()\n",
    "    # df.drop(\"Iteration\", axis=1, inplace=True)\n",
    "    df.rename({\n",
    "        'timesteps': \"steps\",\n",
    "        'AverageReward': \"reward\"\n",
    "    }, axis=1, inplace=True)\n",
    "    df.steps = df.steps.astype(int)\n",
    "    df[\"env_name\"] = env_name\n",
    "    fig = px.line(data_frame=df, x=\"Iteration\", y=\"reward\", color=\"algorithm\")\n",
    "    update_layout(fig, env_name.replace(\"Safety\",\"\").replace(\"Velocity\", \"\"), \"Iteration\", \"Reward\", row=1, col=1, upkwargs=dict(width=500, height=400))\n",
    "    if \"swimmer\" in env_name.lower() or \"walker\" in env_name.lower() or \"cheetah\" in env_name.lower():\n",
    "        fig.update_layout(legend=dict(xanchor=\"right\", x=0.99, y=0.5))\n",
    "    if \"human\" in env_name.lower():\n",
    "        fig.update_layout(legend=dict(xanchor=\"left\", x=0.0, y=0.5))\n",
    "    fig.update_traces(opacity=.7)\n",
    "    fig.write_image(f\"../images/{env_name}.png\", scale=3)\n",
    "    fig.show()\n",
    "    return df"
   ]
  },
  {
   "cell_type": "code",
   "execution_count": 23,
   "metadata": {},
   "outputs": [
    {
     "data": {
      "application/vnd.plotly.v1+json": {
       "config": {
        "plotlyServerURL": "https://plot.ly"
       },
       "data": [
        {
         "hovertemplate": "algorithm=ARS-1<br>Iteration=%{x}<br>reward=%{y}<extra></extra>",
         "legendgroup": "ARS-1",
         "line": {
          "color": "#636efa",
          "dash": "solid"
         },
         "marker": {
          "symbol": "circle"
         },
         "mode": "lines",
         "name": "ARS-1",
         "opacity": 0.7,
         "orientation": "v",
         "showlegend": true,
         "type": "scatter",
         "x": [
          10,
          20,
          30,
          40,
          50,
          60,
          70,
          80,
          90,
          100,
          110,
          120,
          130,
          140,
          150,
          160,
          170,
          180,
          190,
          200,
          210,
          220,
          230,
          240,
          250,
          260,
          270,
          280,
          290,
          300,
          310,
          320,
          330,
          340,
          350,
          360,
          370,
          380,
          390,
          400,
          410,
          420,
          430,
          440,
          450,
          460,
          470,
          480,
          490,
          500,
          510,
          520,
          530,
          540,
          550,
          560,
          570,
          580,
          590,
          600,
          610,
          620,
          630,
          640,
          650,
          660,
          670,
          680,
          690,
          700,
          710,
          720,
          730,
          740,
          750,
          760,
          770,
          780,
          790,
          800,
          810,
          820,
          830,
          840,
          850,
          860,
          870,
          880,
          890,
          900,
          910,
          920,
          930,
          940,
          950,
          960,
          970,
          980,
          990,
          1000
         ],
         "xaxis": "x",
         "y": [
          1004.0851494463208,
          1002.1258736670204,
          1224.980794248395,
          1418.8747864431143,
          1475.2191035818112,
          1484.6330638792062,
          1601.7634387654764,
          1745.4514885055949,
          1806.2747382320767,
          1809.102174831324,
          1908.888976053256,
          1931.739799616868,
          1866.7706163360083,
          2002.4840777713805,
          2007.6798451803625,
          2092.273676025812,
          2261.4504180145404,
          2179.676421746984,
          2352.166235317457,
          2191.8738819918854,
          2466.0653692350297,
          2520.6397792140256,
          2570.963924307495,
          2569.317052025972,
          2842.226480188963,
          3126.8881240302417,
          3014.4211437082804,
          3053.066534670724,
          3250.997877822622,
          3605.219531570559,
          3808.400272163,
          3509.48364460567,
          3969.9944118881726,
          3829.6633893879775,
          3895.7304641678,
          3842.620704380199,
          3607.4802857942914,
          3513.8647824654995,
          3552.179208755889,
          3524.4824393232875,
          3604.27317173576,
          3582.191543274671,
          3468.747511118995,
          3579.875875436803,
          3592.976087747933,
          3869.110119107647,
          3774.4577769343286,
          3912.465789126875,
          3956.655785871136,
          3740.5749560259633,
          3552.958805919532,
          3789.778958061484,
          3742.461836730377,
          3832.2241204772154,
          3845.721077914248,
          3767.017293211932,
          3680.307251506312,
          3742.732505697296,
          3770.2257301335735,
          3761.599741081949,
          3865.384545266258,
          3720.831971044741,
          3852.8292672956527,
          3849.2030247614903,
          3743.473959880656,
          3549.865719595831,
          3687.362810115721,
          3619.594614931385,
          3577.5576454590446,
          3553.922618645906,
          3543.310824017381,
          3549.2032518081087,
          3721.344063304816,
          3796.640007569615,
          3501.6104777098,
          3684.533551040024,
          3646.8629558842094,
          3603.29349691337,
          3654.519887709445,
          3708.5709509330422,
          3724.76526160758,
          3721.5698188789,
          3705.5589044886806,
          3634.90729120502,
          3507.733925766788,
          3686.2721453210224,
          3841.8645184791553,
          3711.009231347353,
          3733.270779117844,
          3751.234055158086,
          3608.245539658451,
          3599.3957894549426,
          3527.8062180385537,
          3591.4648876028064,
          3456.905636967721,
          3611.773188718661,
          3616.975726313978,
          3627.254838133464,
          3474.696897975319,
          3411.222904200284
         ],
         "yaxis": "y"
        },
        {
         "hovertemplate": "algorithm=ARS-2<br>Iteration=%{x}<br>reward=%{y}<extra></extra>",
         "legendgroup": "ARS-2",
         "line": {
          "color": "#EF553B",
          "dash": "solid"
         },
         "marker": {
          "symbol": "circle"
         },
         "mode": "lines",
         "name": "ARS-2",
         "opacity": 0.7,
         "orientation": "v",
         "showlegend": true,
         "type": "scatter",
         "x": [
          10,
          20,
          30,
          40,
          50,
          60,
          70,
          80,
          90,
          100,
          110,
          120,
          130,
          140,
          150,
          160,
          170,
          180,
          190,
          200,
          210,
          220,
          230,
          240,
          250,
          260,
          270,
          280,
          290,
          300,
          310,
          320,
          330,
          340,
          350,
          360,
          370,
          380,
          390,
          400,
          410,
          420,
          430,
          440,
          450,
          460,
          470,
          480,
          490,
          500,
          510,
          520,
          530,
          540,
          550,
          560,
          570,
          580,
          590,
          600,
          610,
          620,
          630,
          640,
          650,
          660,
          670,
          680,
          690,
          700,
          710,
          720,
          730,
          740,
          750,
          760,
          770,
          780,
          790,
          800,
          810,
          820,
          830,
          840,
          850,
          860,
          870,
          880,
          890,
          900,
          910,
          920,
          930,
          940,
          950,
          960,
          970,
          980,
          990,
          1000
         ],
         "xaxis": "x",
         "y": [
          1007.8906830977686,
          1416.992598235968,
          1891.454467692592,
          2187.407816091322,
          2382.8854170609266,
          2572.109813355224,
          2794.428681758023,
          2904.1971851214907,
          3028.353864046298,
          3422.954112131623,
          3582.1688300031938,
          3870.324825348916,
          3929.207290106871,
          4202.926950305239,
          4419.969303567028,
          4643.188154712818,
          4746.132242970934,
          4733.425774553921,
          4753.585271342131,
          4753.863941158689,
          4780.672072743885,
          4789.556495095369,
          4774.310750534077,
          4863.16390364843,
          4961.429839166249,
          4956.646500236671,
          4946.671859408366,
          5038.556576025747,
          5020.332181749684,
          5106.099434049474,
          5085.414589922428,
          4929.788474066022,
          5135.778135177996,
          5106.029480724876,
          5189.144677799547,
          5095.044239356011,
          5173.611404686184,
          5195.348218456261,
          5225.371446926035,
          5264.92253432992,
          5271.914645070839,
          5250.14155528415,
          5290.857255440706,
          5247.014141101017,
          5218.854053132143,
          5169.936550066222,
          5285.117690548431,
          5175.001435056711,
          5246.465730158799,
          5256.978209218401,
          5250.9711807073045,
          5212.620789269455,
          5199.624118816582,
          5276.67736323943,
          5272.2584214432745,
          5155.55324193029,
          5273.290081427395,
          5307.637485937774,
          5269.363321233199,
          5232.677166171057,
          5206.354970327388,
          5298.430346738695,
          5331.05585002052,
          5261.798424236609,
          5291.800348059824,
          5326.462021934269,
          5374.584455950705,
          5365.862575621258,
          5251.829552843587,
          5326.936677678363,
          5373.022082042352,
          4937.564155283115,
          5320.267583669883,
          5275.122438444813,
          5268.860509275738,
          4864.060034496672,
          5249.31531471354,
          5240.334889540202,
          5320.620834246059,
          5331.733894293881,
          5285.11044178001,
          5247.505446788567,
          5204.823623329055,
          4795.8378305308,
          4991.699424339433,
          5268.820223629791,
          4891.242490845797,
          5270.488732187848,
          5318.505623615487,
          5337.296573116383,
          5390.98565617658,
          5339.674426879927,
          5405.538916847168,
          5319.0466514440695,
          5376.077935361974,
          5070.97891177685,
          5325.543583603315,
          5351.967853063373,
          5316.9631841939945,
          5076.657197239108
         ],
         "yaxis": "y"
        },
        {
         "hovertemplate": "algorithm=SFR-1<br>Iteration=%{x}<br>reward=%{y}<extra></extra>",
         "legendgroup": "SFR-1",
         "line": {
          "color": "#00cc96",
          "dash": "solid"
         },
         "marker": {
          "symbol": "circle"
         },
         "mode": "lines",
         "name": "SFR-1",
         "opacity": 0.7,
         "orientation": "v",
         "showlegend": true,
         "type": "scatter",
         "x": [
          10,
          20,
          30,
          40,
          50,
          60,
          70,
          80,
          90,
          100,
          110,
          120,
          130,
          140,
          150,
          160,
          170,
          180,
          190,
          200,
          210,
          220,
          230,
          240,
          250,
          260,
          270,
          280,
          290,
          300,
          310,
          320,
          330,
          340,
          350,
          360,
          370,
          380,
          390,
          400,
          410,
          420,
          430,
          440,
          450,
          460,
          470,
          480,
          490,
          500,
          510,
          520,
          530,
          540,
          550,
          560,
          570,
          580,
          590,
          600,
          610,
          620,
          630,
          640,
          650,
          660,
          670,
          680,
          690,
          700,
          710,
          720,
          730,
          740,
          750,
          760,
          770,
          780,
          790,
          800,
          810,
          820,
          830,
          840,
          850,
          860,
          870,
          880,
          890,
          900,
          910,
          920,
          930,
          940,
          950,
          960,
          970,
          980,
          990,
          1000
         ],
         "xaxis": "x",
         "y": [
          1004.0851494463208,
          1002.1258736670204,
          1224.980794248395,
          1418.8747864431143,
          1475.2191035818112,
          1484.6330638792062,
          1601.7634387654764,
          1745.4514885055949,
          1806.2747382320767,
          1809.102174831324,
          1908.888976053256,
          1931.739799616868,
          1866.7706163360083,
          2002.4840777713805,
          2007.6798451803625,
          2092.273676025812,
          2261.4504180145404,
          2179.676421746984,
          2352.166235317457,
          2191.8738819918854,
          2466.0653692350297,
          2520.6397792140256,
          2570.963924307495,
          2569.317052025972,
          2842.226480188963,
          3126.8881240302417,
          3014.4211437082804,
          3053.066534670724,
          3250.997877822622,
          3605.219531570559,
          3808.400272163,
          3509.48364460567,
          3969.9944118881726,
          3829.6633893879775,
          3895.7304641678,
          3842.620704380199,
          3607.4802857942914,
          3513.8647824654995,
          3552.179208755889,
          3524.4824393232875,
          3604.27317173576,
          3582.191543274671,
          3468.747511118995,
          3579.875875436803,
          3592.976087747933,
          3869.110119107647,
          3774.4577769343286,
          3912.465789126875,
          3956.655785871136,
          3740.5749560259633,
          3552.958805919532,
          3789.778958061484,
          3742.461836730377,
          3832.2241204772154,
          3845.721077914248,
          3767.017293211932,
          3680.307251506312,
          3742.732505697296,
          3770.2257301335735,
          3761.599741081949,
          3865.384545266258,
          3720.831971044741,
          3852.8292672956527,
          3849.2030247614903,
          3743.473959880656,
          3549.865719595831,
          3687.362810115721,
          3619.594614931385,
          3577.5576454590446,
          3553.922618645906,
          3543.310824017381,
          3549.2032518081087,
          3721.344063304816,
          3796.640007569615,
          3501.6104777098,
          3684.533551040024,
          3646.8629558842094,
          3603.29349691337,
          3654.519887709445,
          3708.5709509330422,
          3724.76526160758,
          3721.5698188789,
          3705.5589044886806,
          3634.90729120502,
          3507.733925766788,
          3686.2721453210224,
          3841.8645184791553,
          3711.009231347353,
          3733.270779117844,
          3751.234055158086,
          3608.245539658451,
          3599.3957894549426,
          3527.8062180385537,
          3591.4648876028064,
          3456.905636967721,
          3611.773188718661,
          3616.975726313978,
          3627.254838133464,
          3474.696897975319,
          3411.222904200284
         ],
         "yaxis": "y"
        },
        {
         "hovertemplate": "algorithm=SFR-2<br>Iteration=%{x}<br>reward=%{y}<extra></extra>",
         "legendgroup": "SFR-2",
         "line": {
          "color": "#ab63fa",
          "dash": "solid"
         },
         "marker": {
          "symbol": "circle"
         },
         "mode": "lines",
         "name": "SFR-2",
         "opacity": 0.7,
         "orientation": "v",
         "showlegend": true,
         "type": "scatter",
         "x": [
          10,
          20,
          30,
          40,
          50,
          60,
          70,
          80,
          90,
          100,
          110,
          120,
          130,
          140,
          150,
          160,
          170,
          180,
          190,
          200,
          210,
          220,
          230,
          240,
          250,
          260,
          270,
          280,
          290,
          300,
          310,
          320,
          330,
          340,
          350,
          360,
          370,
          380,
          390,
          400,
          410,
          420,
          430,
          440,
          450,
          460,
          470,
          480,
          490,
          500,
          510,
          520,
          530,
          540,
          550,
          560,
          570,
          580,
          590,
          600,
          610,
          620,
          630,
          640,
          650,
          660,
          670,
          680,
          690,
          700,
          710,
          720,
          730,
          740,
          750,
          760,
          770,
          780,
          790,
          800,
          810,
          820,
          830,
          840,
          850,
          860,
          870,
          880,
          890,
          900,
          910,
          920,
          930,
          940,
          950,
          960,
          970,
          980,
          990,
          1000
         ],
         "xaxis": "x",
         "y": [
          1003.6949505067244,
          1172.9590711864723,
          1457.001932261949,
          1753.5345466601168,
          2068.32447875487,
          2335.785283428319,
          2659.174113236517,
          3137.928100117751,
          3398.239730221197,
          3668.1156747984046,
          3877.890663607624,
          4058.968458186407,
          4297.510001947026,
          4382.764854773578,
          4448.507838670742,
          4559.862393054466,
          4610.023900275719,
          4695.9101996688405,
          4647.031644558767,
          4726.098908407584,
          4812.844838123747,
          4742.460514309065,
          4825.11273157678,
          4861.982193282114,
          4890.739956853181,
          4920.214368251667,
          4889.21492816983,
          4934.693303293647,
          4991.507507133379,
          4942.469032705661,
          4940.106532675114,
          4925.697312887293,
          4993.411657598937,
          5024.843861160381,
          4994.634830521764,
          5001.098881913063,
          5078.702217883214,
          5029.599516514771,
          5015.420580329617,
          5083.301826457482,
          5034.478560948935,
          5071.767248540788,
          5050.7741492370005,
          5163.095231121627,
          5134.475863786755,
          5089.760250975793,
          4992.28087867917,
          5102.51646247755,
          5143.985171904806,
          5153.551361946999,
          5033.696094695237,
          5041.090529334475,
          5048.400581437036,
          5024.123303838977,
          5005.232006513272,
          5095.961923273754,
          5143.547283721416,
          5189.434129608292,
          5143.3784207746685,
          5134.747199296425,
          5119.557495958265,
          5224.126954417086,
          5264.243883186954,
          5255.235267940061,
          5180.977208116702,
          5198.501861243313,
          5167.012595323632,
          5164.761415674668,
          5175.225072070632,
          5111.1907027332,
          5186.936972072773,
          5180.903196338194,
          5201.03933223228,
          5079.398875587976,
          5136.693903496471,
          5038.595469426564,
          5236.773657762544,
          5215.590680209724,
          5211.64674394022,
          5162.185157670295,
          5190.781269848367,
          5212.191018676388,
          5232.556068774933,
          5267.699082449004,
          5261.594669396733,
          5284.95401534739,
          5241.0499328670485,
          5224.4011343194425,
          5150.351239210351,
          5212.308546629297,
          5175.035532332957,
          5213.725270886514,
          5178.650439356302,
          5161.0176883270215,
          5155.822687016102,
          5120.260987307245,
          5184.5489702162895,
          5188.149376784666,
          5154.971877364983,
          5141.854710760019
         ],
         "yaxis": "y"
        }
       ],
       "layout": {
        "autosize": false,
        "height": 400,
        "legend": {
         "title": {
          "text": "algorithm"
         },
         "tracegroupgap": 0,
         "x": 0.99,
         "xanchor": "right",
         "y": 0.01,
         "yanchor": "bottom"
        },
        "margin": {
         "b": 20,
         "l": 20,
         "r": 20,
         "t": 50
        },
        "plot_bgcolor": "white",
        "template": {
         "data": {
          "bar": [
           {
            "error_x": {
             "color": "#2a3f5f"
            },
            "error_y": {
             "color": "#2a3f5f"
            },
            "marker": {
             "line": {
              "color": "#E5ECF6",
              "width": 0.5
             },
             "pattern": {
              "fillmode": "overlay",
              "size": 10,
              "solidity": 0.2
             }
            },
            "type": "bar"
           }
          ],
          "barpolar": [
           {
            "marker": {
             "line": {
              "color": "#E5ECF6",
              "width": 0.5
             },
             "pattern": {
              "fillmode": "overlay",
              "size": 10,
              "solidity": 0.2
             }
            },
            "type": "barpolar"
           }
          ],
          "carpet": [
           {
            "aaxis": {
             "endlinecolor": "#2a3f5f",
             "gridcolor": "white",
             "linecolor": "white",
             "minorgridcolor": "white",
             "startlinecolor": "#2a3f5f"
            },
            "baxis": {
             "endlinecolor": "#2a3f5f",
             "gridcolor": "white",
             "linecolor": "white",
             "minorgridcolor": "white",
             "startlinecolor": "#2a3f5f"
            },
            "type": "carpet"
           }
          ],
          "choropleth": [
           {
            "colorbar": {
             "outlinewidth": 0,
             "ticks": ""
            },
            "type": "choropleth"
           }
          ],
          "contour": [
           {
            "colorbar": {
             "outlinewidth": 0,
             "ticks": ""
            },
            "colorscale": [
             [
              0,
              "#0d0887"
             ],
             [
              0.1111111111111111,
              "#46039f"
             ],
             [
              0.2222222222222222,
              "#7201a8"
             ],
             [
              0.3333333333333333,
              "#9c179e"
             ],
             [
              0.4444444444444444,
              "#bd3786"
             ],
             [
              0.5555555555555556,
              "#d8576b"
             ],
             [
              0.6666666666666666,
              "#ed7953"
             ],
             [
              0.7777777777777778,
              "#fb9f3a"
             ],
             [
              0.8888888888888888,
              "#fdca26"
             ],
             [
              1,
              "#f0f921"
             ]
            ],
            "type": "contour"
           }
          ],
          "contourcarpet": [
           {
            "colorbar": {
             "outlinewidth": 0,
             "ticks": ""
            },
            "type": "contourcarpet"
           }
          ],
          "heatmap": [
           {
            "colorbar": {
             "outlinewidth": 0,
             "ticks": ""
            },
            "colorscale": [
             [
              0,
              "#0d0887"
             ],
             [
              0.1111111111111111,
              "#46039f"
             ],
             [
              0.2222222222222222,
              "#7201a8"
             ],
             [
              0.3333333333333333,
              "#9c179e"
             ],
             [
              0.4444444444444444,
              "#bd3786"
             ],
             [
              0.5555555555555556,
              "#d8576b"
             ],
             [
              0.6666666666666666,
              "#ed7953"
             ],
             [
              0.7777777777777778,
              "#fb9f3a"
             ],
             [
              0.8888888888888888,
              "#fdca26"
             ],
             [
              1,
              "#f0f921"
             ]
            ],
            "type": "heatmap"
           }
          ],
          "heatmapgl": [
           {
            "colorbar": {
             "outlinewidth": 0,
             "ticks": ""
            },
            "colorscale": [
             [
              0,
              "#0d0887"
             ],
             [
              0.1111111111111111,
              "#46039f"
             ],
             [
              0.2222222222222222,
              "#7201a8"
             ],
             [
              0.3333333333333333,
              "#9c179e"
             ],
             [
              0.4444444444444444,
              "#bd3786"
             ],
             [
              0.5555555555555556,
              "#d8576b"
             ],
             [
              0.6666666666666666,
              "#ed7953"
             ],
             [
              0.7777777777777778,
              "#fb9f3a"
             ],
             [
              0.8888888888888888,
              "#fdca26"
             ],
             [
              1,
              "#f0f921"
             ]
            ],
            "type": "heatmapgl"
           }
          ],
          "histogram": [
           {
            "marker": {
             "pattern": {
              "fillmode": "overlay",
              "size": 10,
              "solidity": 0.2
             }
            },
            "type": "histogram"
           }
          ],
          "histogram2d": [
           {
            "colorbar": {
             "outlinewidth": 0,
             "ticks": ""
            },
            "colorscale": [
             [
              0,
              "#0d0887"
             ],
             [
              0.1111111111111111,
              "#46039f"
             ],
             [
              0.2222222222222222,
              "#7201a8"
             ],
             [
              0.3333333333333333,
              "#9c179e"
             ],
             [
              0.4444444444444444,
              "#bd3786"
             ],
             [
              0.5555555555555556,
              "#d8576b"
             ],
             [
              0.6666666666666666,
              "#ed7953"
             ],
             [
              0.7777777777777778,
              "#fb9f3a"
             ],
             [
              0.8888888888888888,
              "#fdca26"
             ],
             [
              1,
              "#f0f921"
             ]
            ],
            "type": "histogram2d"
           }
          ],
          "histogram2dcontour": [
           {
            "colorbar": {
             "outlinewidth": 0,
             "ticks": ""
            },
            "colorscale": [
             [
              0,
              "#0d0887"
             ],
             [
              0.1111111111111111,
              "#46039f"
             ],
             [
              0.2222222222222222,
              "#7201a8"
             ],
             [
              0.3333333333333333,
              "#9c179e"
             ],
             [
              0.4444444444444444,
              "#bd3786"
             ],
             [
              0.5555555555555556,
              "#d8576b"
             ],
             [
              0.6666666666666666,
              "#ed7953"
             ],
             [
              0.7777777777777778,
              "#fb9f3a"
             ],
             [
              0.8888888888888888,
              "#fdca26"
             ],
             [
              1,
              "#f0f921"
             ]
            ],
            "type": "histogram2dcontour"
           }
          ],
          "mesh3d": [
           {
            "colorbar": {
             "outlinewidth": 0,
             "ticks": ""
            },
            "type": "mesh3d"
           }
          ],
          "parcoords": [
           {
            "line": {
             "colorbar": {
              "outlinewidth": 0,
              "ticks": ""
             }
            },
            "type": "parcoords"
           }
          ],
          "pie": [
           {
            "automargin": true,
            "type": "pie"
           }
          ],
          "scatter": [
           {
            "fillpattern": {
             "fillmode": "overlay",
             "size": 10,
             "solidity": 0.2
            },
            "type": "scatter"
           }
          ],
          "scatter3d": [
           {
            "line": {
             "colorbar": {
              "outlinewidth": 0,
              "ticks": ""
             }
            },
            "marker": {
             "colorbar": {
              "outlinewidth": 0,
              "ticks": ""
             }
            },
            "type": "scatter3d"
           }
          ],
          "scattercarpet": [
           {
            "marker": {
             "colorbar": {
              "outlinewidth": 0,
              "ticks": ""
             }
            },
            "type": "scattercarpet"
           }
          ],
          "scattergeo": [
           {
            "marker": {
             "colorbar": {
              "outlinewidth": 0,
              "ticks": ""
             }
            },
            "type": "scattergeo"
           }
          ],
          "scattergl": [
           {
            "marker": {
             "colorbar": {
              "outlinewidth": 0,
              "ticks": ""
             }
            },
            "type": "scattergl"
           }
          ],
          "scattermapbox": [
           {
            "marker": {
             "colorbar": {
              "outlinewidth": 0,
              "ticks": ""
             }
            },
            "type": "scattermapbox"
           }
          ],
          "scatterpolar": [
           {
            "marker": {
             "colorbar": {
              "outlinewidth": 0,
              "ticks": ""
             }
            },
            "type": "scatterpolar"
           }
          ],
          "scatterpolargl": [
           {
            "marker": {
             "colorbar": {
              "outlinewidth": 0,
              "ticks": ""
             }
            },
            "type": "scatterpolargl"
           }
          ],
          "scatterternary": [
           {
            "marker": {
             "colorbar": {
              "outlinewidth": 0,
              "ticks": ""
             }
            },
            "type": "scatterternary"
           }
          ],
          "surface": [
           {
            "colorbar": {
             "outlinewidth": 0,
             "ticks": ""
            },
            "colorscale": [
             [
              0,
              "#0d0887"
             ],
             [
              0.1111111111111111,
              "#46039f"
             ],
             [
              0.2222222222222222,
              "#7201a8"
             ],
             [
              0.3333333333333333,
              "#9c179e"
             ],
             [
              0.4444444444444444,
              "#bd3786"
             ],
             [
              0.5555555555555556,
              "#d8576b"
             ],
             [
              0.6666666666666666,
              "#ed7953"
             ],
             [
              0.7777777777777778,
              "#fb9f3a"
             ],
             [
              0.8888888888888888,
              "#fdca26"
             ],
             [
              1,
              "#f0f921"
             ]
            ],
            "type": "surface"
           }
          ],
          "table": [
           {
            "cells": {
             "fill": {
              "color": "#EBF0F8"
             },
             "line": {
              "color": "white"
             }
            },
            "header": {
             "fill": {
              "color": "#C8D4E3"
             },
             "line": {
              "color": "white"
             }
            },
            "type": "table"
           }
          ]
         },
         "layout": {
          "annotationdefaults": {
           "arrowcolor": "#2a3f5f",
           "arrowhead": 0,
           "arrowwidth": 1
          },
          "autotypenumbers": "strict",
          "coloraxis": {
           "colorbar": {
            "outlinewidth": 0,
            "ticks": ""
           }
          },
          "colorscale": {
           "diverging": [
            [
             0,
             "#8e0152"
            ],
            [
             0.1,
             "#c51b7d"
            ],
            [
             0.2,
             "#de77ae"
            ],
            [
             0.3,
             "#f1b6da"
            ],
            [
             0.4,
             "#fde0ef"
            ],
            [
             0.5,
             "#f7f7f7"
            ],
            [
             0.6,
             "#e6f5d0"
            ],
            [
             0.7,
             "#b8e186"
            ],
            [
             0.8,
             "#7fbc41"
            ],
            [
             0.9,
             "#4d9221"
            ],
            [
             1,
             "#276419"
            ]
           ],
           "sequential": [
            [
             0,
             "#0d0887"
            ],
            [
             0.1111111111111111,
             "#46039f"
            ],
            [
             0.2222222222222222,
             "#7201a8"
            ],
            [
             0.3333333333333333,
             "#9c179e"
            ],
            [
             0.4444444444444444,
             "#bd3786"
            ],
            [
             0.5555555555555556,
             "#d8576b"
            ],
            [
             0.6666666666666666,
             "#ed7953"
            ],
            [
             0.7777777777777778,
             "#fb9f3a"
            ],
            [
             0.8888888888888888,
             "#fdca26"
            ],
            [
             1,
             "#f0f921"
            ]
           ],
           "sequentialminus": [
            [
             0,
             "#0d0887"
            ],
            [
             0.1111111111111111,
             "#46039f"
            ],
            [
             0.2222222222222222,
             "#7201a8"
            ],
            [
             0.3333333333333333,
             "#9c179e"
            ],
            [
             0.4444444444444444,
             "#bd3786"
            ],
            [
             0.5555555555555556,
             "#d8576b"
            ],
            [
             0.6666666666666666,
             "#ed7953"
            ],
            [
             0.7777777777777778,
             "#fb9f3a"
            ],
            [
             0.8888888888888888,
             "#fdca26"
            ],
            [
             1,
             "#f0f921"
            ]
           ]
          },
          "colorway": [
           "#636efa",
           "#EF553B",
           "#00cc96",
           "#ab63fa",
           "#FFA15A",
           "#19d3f3",
           "#FF6692",
           "#B6E880",
           "#FF97FF",
           "#FECB52"
          ],
          "font": {
           "color": "#2a3f5f"
          },
          "geo": {
           "bgcolor": "white",
           "lakecolor": "white",
           "landcolor": "#E5ECF6",
           "showlakes": true,
           "showland": true,
           "subunitcolor": "white"
          },
          "hoverlabel": {
           "align": "left"
          },
          "hovermode": "closest",
          "mapbox": {
           "style": "light"
          },
          "paper_bgcolor": "white",
          "plot_bgcolor": "#E5ECF6",
          "polar": {
           "angularaxis": {
            "gridcolor": "white",
            "linecolor": "white",
            "ticks": ""
           },
           "bgcolor": "#E5ECF6",
           "radialaxis": {
            "gridcolor": "white",
            "linecolor": "white",
            "ticks": ""
           }
          },
          "scene": {
           "xaxis": {
            "backgroundcolor": "#E5ECF6",
            "gridcolor": "white",
            "gridwidth": 2,
            "linecolor": "white",
            "showbackground": true,
            "ticks": "",
            "zerolinecolor": "white"
           },
           "yaxis": {
            "backgroundcolor": "#E5ECF6",
            "gridcolor": "white",
            "gridwidth": 2,
            "linecolor": "white",
            "showbackground": true,
            "ticks": "",
            "zerolinecolor": "white"
           },
           "zaxis": {
            "backgroundcolor": "#E5ECF6",
            "gridcolor": "white",
            "gridwidth": 2,
            "linecolor": "white",
            "showbackground": true,
            "ticks": "",
            "zerolinecolor": "white"
           }
          },
          "shapedefaults": {
           "line": {
            "color": "#2a3f5f"
           }
          },
          "ternary": {
           "aaxis": {
            "gridcolor": "white",
            "linecolor": "white",
            "ticks": ""
           },
           "baxis": {
            "gridcolor": "white",
            "linecolor": "white",
            "ticks": ""
           },
           "bgcolor": "#E5ECF6",
           "caxis": {
            "gridcolor": "white",
            "linecolor": "white",
            "ticks": ""
           }
          },
          "title": {
           "x": 0.05
          },
          "xaxis": {
           "automargin": true,
           "gridcolor": "white",
           "linecolor": "white",
           "ticks": "",
           "title": {
            "standoff": 15
           },
           "zerolinecolor": "white",
           "zerolinewidth": 2
          },
          "yaxis": {
           "automargin": true,
           "gridcolor": "white",
           "linecolor": "white",
           "ticks": "",
           "title": {
            "standoff": 15
           },
           "zerolinecolor": "white",
           "zerolinewidth": 2
          }
         }
        },
        "title": {
         "font": {
          "size": 15
         },
         "text": "Ant-v1",
         "x": 0.53
        },
        "width": 500,
        "xaxis": {
         "anchor": "y",
         "domain": [
          0,
          1
         ],
         "gridcolor": "lightgrey",
         "linecolor": "black",
         "mirror": true,
         "showline": true,
         "ticks": "outside",
         "title": {
          "text": "Iteration"
         }
        },
        "yaxis": {
         "anchor": "x",
         "domain": [
          0,
          1
         ],
         "gridcolor": "lightgrey",
         "linecolor": "black",
         "mirror": true,
         "showline": true,
         "ticks": "outside",
         "title": {
          "text": "Reward"
         }
        }
       }
      },
      "text/html": [
       "<div>                            <div id=\"ef2abe55-0580-478b-ba4f-45d519cf236b\" class=\"plotly-graph-div\" style=\"height:400px; width:500px;\"></div>            <script type=\"text/javascript\">                require([\"plotly\"], function(Plotly) {                    window.PLOTLYENV=window.PLOTLYENV || {};                                    if (document.getElementById(\"ef2abe55-0580-478b-ba4f-45d519cf236b\")) {                    Plotly.newPlot(                        \"ef2abe55-0580-478b-ba4f-45d519cf236b\",                        [{\"hovertemplate\":\"algorithm=ARS-1\\u003cbr\\u003eIteration=%{x}\\u003cbr\\u003ereward=%{y}\\u003cextra\\u003e\\u003c\\u002fextra\\u003e\",\"legendgroup\":\"ARS-1\",\"line\":{\"color\":\"#636efa\",\"dash\":\"solid\"},\"marker\":{\"symbol\":\"circle\"},\"mode\":\"lines\",\"name\":\"ARS-1\",\"orientation\":\"v\",\"showlegend\":true,\"x\":[10,20,30,40,50,60,70,80,90,100,110,120,130,140,150,160,170,180,190,200,210,220,230,240,250,260,270,280,290,300,310,320,330,340,350,360,370,380,390,400,410,420,430,440,450,460,470,480,490,500,510,520,530,540,550,560,570,580,590,600,610,620,630,640,650,660,670,680,690,700,710,720,730,740,750,760,770,780,790,800,810,820,830,840,850,860,870,880,890,900,910,920,930,940,950,960,970,980,990,1000],\"xaxis\":\"x\",\"y\":[1004.0851494463208,1002.1258736670204,1224.980794248395,1418.8747864431143,1475.2191035818112,1484.6330638792062,1601.7634387654764,1745.4514885055949,1806.2747382320767,1809.102174831324,1908.888976053256,1931.739799616868,1866.7706163360083,2002.4840777713805,2007.6798451803625,2092.273676025812,2261.4504180145404,2179.676421746984,2352.166235317457,2191.8738819918854,2466.0653692350297,2520.6397792140256,2570.963924307495,2569.317052025972,2842.226480188963,3126.8881240302417,3014.4211437082804,3053.066534670724,3250.997877822622,3605.219531570559,3808.400272163,3509.48364460567,3969.9944118881726,3829.6633893879775,3895.7304641678,3842.620704380199,3607.4802857942914,3513.8647824654995,3552.179208755889,3524.4824393232875,3604.27317173576,3582.191543274671,3468.747511118995,3579.875875436803,3592.976087747933,3869.110119107647,3774.4577769343286,3912.465789126875,3956.655785871136,3740.5749560259633,3552.958805919532,3789.778958061484,3742.461836730377,3832.2241204772154,3845.721077914248,3767.017293211932,3680.307251506312,3742.732505697296,3770.2257301335735,3761.599741081949,3865.384545266258,3720.831971044741,3852.8292672956527,3849.2030247614903,3743.473959880656,3549.865719595831,3687.362810115721,3619.594614931385,3577.5576454590446,3553.922618645906,3543.310824017381,3549.2032518081087,3721.344063304816,3796.640007569615,3501.6104777098,3684.533551040024,3646.8629558842094,3603.29349691337,3654.519887709445,3708.5709509330422,3724.76526160758,3721.5698188789,3705.5589044886806,3634.90729120502,3507.733925766788,3686.2721453210224,3841.8645184791553,3711.009231347353,3733.270779117844,3751.234055158086,3608.245539658451,3599.3957894549426,3527.8062180385537,3591.4648876028064,3456.905636967721,3611.773188718661,3616.975726313978,3627.254838133464,3474.696897975319,3411.222904200284],\"yaxis\":\"y\",\"type\":\"scatter\",\"opacity\":0.7},{\"hovertemplate\":\"algorithm=ARS-2\\u003cbr\\u003eIteration=%{x}\\u003cbr\\u003ereward=%{y}\\u003cextra\\u003e\\u003c\\u002fextra\\u003e\",\"legendgroup\":\"ARS-2\",\"line\":{\"color\":\"#EF553B\",\"dash\":\"solid\"},\"marker\":{\"symbol\":\"circle\"},\"mode\":\"lines\",\"name\":\"ARS-2\",\"orientation\":\"v\",\"showlegend\":true,\"x\":[10,20,30,40,50,60,70,80,90,100,110,120,130,140,150,160,170,180,190,200,210,220,230,240,250,260,270,280,290,300,310,320,330,340,350,360,370,380,390,400,410,420,430,440,450,460,470,480,490,500,510,520,530,540,550,560,570,580,590,600,610,620,630,640,650,660,670,680,690,700,710,720,730,740,750,760,770,780,790,800,810,820,830,840,850,860,870,880,890,900,910,920,930,940,950,960,970,980,990,1000],\"xaxis\":\"x\",\"y\":[1007.8906830977686,1416.992598235968,1891.454467692592,2187.407816091322,2382.8854170609266,2572.109813355224,2794.428681758023,2904.1971851214907,3028.353864046298,3422.954112131623,3582.1688300031938,3870.324825348916,3929.207290106871,4202.926950305239,4419.969303567028,4643.188154712818,4746.132242970934,4733.425774553921,4753.585271342131,4753.863941158689,4780.672072743885,4789.556495095369,4774.310750534077,4863.16390364843,4961.429839166249,4956.646500236671,4946.671859408366,5038.556576025747,5020.332181749684,5106.099434049474,5085.414589922428,4929.788474066022,5135.778135177996,5106.029480724876,5189.144677799547,5095.044239356011,5173.611404686184,5195.348218456261,5225.371446926035,5264.92253432992,5271.914645070839,5250.14155528415,5290.857255440706,5247.014141101017,5218.854053132143,5169.936550066222,5285.117690548431,5175.001435056711,5246.465730158799,5256.978209218401,5250.9711807073045,5212.620789269455,5199.624118816582,5276.67736323943,5272.2584214432745,5155.55324193029,5273.290081427395,5307.637485937774,5269.363321233199,5232.677166171057,5206.354970327388,5298.430346738695,5331.05585002052,5261.798424236609,5291.800348059824,5326.462021934269,5374.584455950705,5365.862575621258,5251.829552843587,5326.936677678363,5373.022082042352,4937.564155283115,5320.267583669883,5275.122438444813,5268.860509275738,4864.060034496672,5249.31531471354,5240.334889540202,5320.620834246059,5331.733894293881,5285.11044178001,5247.505446788567,5204.823623329055,4795.8378305308,4991.699424339433,5268.820223629791,4891.242490845797,5270.488732187848,5318.505623615487,5337.296573116383,5390.98565617658,5339.674426879927,5405.538916847168,5319.0466514440695,5376.077935361974,5070.97891177685,5325.543583603315,5351.967853063373,5316.9631841939945,5076.657197239108],\"yaxis\":\"y\",\"type\":\"scatter\",\"opacity\":0.7},{\"hovertemplate\":\"algorithm=SFR-1\\u003cbr\\u003eIteration=%{x}\\u003cbr\\u003ereward=%{y}\\u003cextra\\u003e\\u003c\\u002fextra\\u003e\",\"legendgroup\":\"SFR-1\",\"line\":{\"color\":\"#00cc96\",\"dash\":\"solid\"},\"marker\":{\"symbol\":\"circle\"},\"mode\":\"lines\",\"name\":\"SFR-1\",\"orientation\":\"v\",\"showlegend\":true,\"x\":[10,20,30,40,50,60,70,80,90,100,110,120,130,140,150,160,170,180,190,200,210,220,230,240,250,260,270,280,290,300,310,320,330,340,350,360,370,380,390,400,410,420,430,440,450,460,470,480,490,500,510,520,530,540,550,560,570,580,590,600,610,620,630,640,650,660,670,680,690,700,710,720,730,740,750,760,770,780,790,800,810,820,830,840,850,860,870,880,890,900,910,920,930,940,950,960,970,980,990,1000],\"xaxis\":\"x\",\"y\":[1004.0851494463208,1002.1258736670204,1224.980794248395,1418.8747864431143,1475.2191035818112,1484.6330638792062,1601.7634387654764,1745.4514885055949,1806.2747382320767,1809.102174831324,1908.888976053256,1931.739799616868,1866.7706163360083,2002.4840777713805,2007.6798451803625,2092.273676025812,2261.4504180145404,2179.676421746984,2352.166235317457,2191.8738819918854,2466.0653692350297,2520.6397792140256,2570.963924307495,2569.317052025972,2842.226480188963,3126.8881240302417,3014.4211437082804,3053.066534670724,3250.997877822622,3605.219531570559,3808.400272163,3509.48364460567,3969.9944118881726,3829.6633893879775,3895.7304641678,3842.620704380199,3607.4802857942914,3513.8647824654995,3552.179208755889,3524.4824393232875,3604.27317173576,3582.191543274671,3468.747511118995,3579.875875436803,3592.976087747933,3869.110119107647,3774.4577769343286,3912.465789126875,3956.655785871136,3740.5749560259633,3552.958805919532,3789.778958061484,3742.461836730377,3832.2241204772154,3845.721077914248,3767.017293211932,3680.307251506312,3742.732505697296,3770.2257301335735,3761.599741081949,3865.384545266258,3720.831971044741,3852.8292672956527,3849.2030247614903,3743.473959880656,3549.865719595831,3687.362810115721,3619.594614931385,3577.5576454590446,3553.922618645906,3543.310824017381,3549.2032518081087,3721.344063304816,3796.640007569615,3501.6104777098,3684.533551040024,3646.8629558842094,3603.29349691337,3654.519887709445,3708.5709509330422,3724.76526160758,3721.5698188789,3705.5589044886806,3634.90729120502,3507.733925766788,3686.2721453210224,3841.8645184791553,3711.009231347353,3733.270779117844,3751.234055158086,3608.245539658451,3599.3957894549426,3527.8062180385537,3591.4648876028064,3456.905636967721,3611.773188718661,3616.975726313978,3627.254838133464,3474.696897975319,3411.222904200284],\"yaxis\":\"y\",\"type\":\"scatter\",\"opacity\":0.7},{\"hovertemplate\":\"algorithm=SFR-2\\u003cbr\\u003eIteration=%{x}\\u003cbr\\u003ereward=%{y}\\u003cextra\\u003e\\u003c\\u002fextra\\u003e\",\"legendgroup\":\"SFR-2\",\"line\":{\"color\":\"#ab63fa\",\"dash\":\"solid\"},\"marker\":{\"symbol\":\"circle\"},\"mode\":\"lines\",\"name\":\"SFR-2\",\"orientation\":\"v\",\"showlegend\":true,\"x\":[10,20,30,40,50,60,70,80,90,100,110,120,130,140,150,160,170,180,190,200,210,220,230,240,250,260,270,280,290,300,310,320,330,340,350,360,370,380,390,400,410,420,430,440,450,460,470,480,490,500,510,520,530,540,550,560,570,580,590,600,610,620,630,640,650,660,670,680,690,700,710,720,730,740,750,760,770,780,790,800,810,820,830,840,850,860,870,880,890,900,910,920,930,940,950,960,970,980,990,1000],\"xaxis\":\"x\",\"y\":[1003.6949505067244,1172.9590711864723,1457.001932261949,1753.5345466601168,2068.32447875487,2335.785283428319,2659.174113236517,3137.928100117751,3398.239730221197,3668.1156747984046,3877.890663607624,4058.968458186407,4297.510001947026,4382.764854773578,4448.507838670742,4559.862393054466,4610.023900275719,4695.9101996688405,4647.031644558767,4726.098908407584,4812.844838123747,4742.460514309065,4825.11273157678,4861.982193282114,4890.739956853181,4920.214368251667,4889.21492816983,4934.693303293647,4991.507507133379,4942.469032705661,4940.106532675114,4925.697312887293,4993.411657598937,5024.843861160381,4994.634830521764,5001.098881913063,5078.702217883214,5029.599516514771,5015.420580329617,5083.301826457482,5034.478560948935,5071.767248540788,5050.7741492370005,5163.095231121627,5134.475863786755,5089.760250975793,4992.28087867917,5102.51646247755,5143.985171904806,5153.551361946999,5033.696094695237,5041.090529334475,5048.400581437036,5024.123303838977,5005.232006513272,5095.961923273754,5143.547283721416,5189.434129608292,5143.3784207746685,5134.747199296425,5119.557495958265,5224.126954417086,5264.243883186954,5255.235267940061,5180.977208116702,5198.501861243313,5167.012595323632,5164.761415674668,5175.225072070632,5111.1907027332,5186.936972072773,5180.903196338194,5201.03933223228,5079.398875587976,5136.693903496471,5038.595469426564,5236.773657762544,5215.590680209724,5211.64674394022,5162.185157670295,5190.781269848367,5212.191018676388,5232.556068774933,5267.699082449004,5261.594669396733,5284.95401534739,5241.0499328670485,5224.4011343194425,5150.351239210351,5212.308546629297,5175.035532332957,5213.725270886514,5178.650439356302,5161.0176883270215,5155.822687016102,5120.260987307245,5184.5489702162895,5188.149376784666,5154.971877364983,5141.854710760019],\"yaxis\":\"y\",\"type\":\"scatter\",\"opacity\":0.7}],                        {\"template\":{\"data\":{\"histogram2dcontour\":[{\"type\":\"histogram2dcontour\",\"colorbar\":{\"outlinewidth\":0,\"ticks\":\"\"},\"colorscale\":[[0.0,\"#0d0887\"],[0.1111111111111111,\"#46039f\"],[0.2222222222222222,\"#7201a8\"],[0.3333333333333333,\"#9c179e\"],[0.4444444444444444,\"#bd3786\"],[0.5555555555555556,\"#d8576b\"],[0.6666666666666666,\"#ed7953\"],[0.7777777777777778,\"#fb9f3a\"],[0.8888888888888888,\"#fdca26\"],[1.0,\"#f0f921\"]]}],\"choropleth\":[{\"type\":\"choropleth\",\"colorbar\":{\"outlinewidth\":0,\"ticks\":\"\"}}],\"histogram2d\":[{\"type\":\"histogram2d\",\"colorbar\":{\"outlinewidth\":0,\"ticks\":\"\"},\"colorscale\":[[0.0,\"#0d0887\"],[0.1111111111111111,\"#46039f\"],[0.2222222222222222,\"#7201a8\"],[0.3333333333333333,\"#9c179e\"],[0.4444444444444444,\"#bd3786\"],[0.5555555555555556,\"#d8576b\"],[0.6666666666666666,\"#ed7953\"],[0.7777777777777778,\"#fb9f3a\"],[0.8888888888888888,\"#fdca26\"],[1.0,\"#f0f921\"]]}],\"heatmap\":[{\"type\":\"heatmap\",\"colorbar\":{\"outlinewidth\":0,\"ticks\":\"\"},\"colorscale\":[[0.0,\"#0d0887\"],[0.1111111111111111,\"#46039f\"],[0.2222222222222222,\"#7201a8\"],[0.3333333333333333,\"#9c179e\"],[0.4444444444444444,\"#bd3786\"],[0.5555555555555556,\"#d8576b\"],[0.6666666666666666,\"#ed7953\"],[0.7777777777777778,\"#fb9f3a\"],[0.8888888888888888,\"#fdca26\"],[1.0,\"#f0f921\"]]}],\"heatmapgl\":[{\"type\":\"heatmapgl\",\"colorbar\":{\"outlinewidth\":0,\"ticks\":\"\"},\"colorscale\":[[0.0,\"#0d0887\"],[0.1111111111111111,\"#46039f\"],[0.2222222222222222,\"#7201a8\"],[0.3333333333333333,\"#9c179e\"],[0.4444444444444444,\"#bd3786\"],[0.5555555555555556,\"#d8576b\"],[0.6666666666666666,\"#ed7953\"],[0.7777777777777778,\"#fb9f3a\"],[0.8888888888888888,\"#fdca26\"],[1.0,\"#f0f921\"]]}],\"contourcarpet\":[{\"type\":\"contourcarpet\",\"colorbar\":{\"outlinewidth\":0,\"ticks\":\"\"}}],\"contour\":[{\"type\":\"contour\",\"colorbar\":{\"outlinewidth\":0,\"ticks\":\"\"},\"colorscale\":[[0.0,\"#0d0887\"],[0.1111111111111111,\"#46039f\"],[0.2222222222222222,\"#7201a8\"],[0.3333333333333333,\"#9c179e\"],[0.4444444444444444,\"#bd3786\"],[0.5555555555555556,\"#d8576b\"],[0.6666666666666666,\"#ed7953\"],[0.7777777777777778,\"#fb9f3a\"],[0.8888888888888888,\"#fdca26\"],[1.0,\"#f0f921\"]]}],\"surface\":[{\"type\":\"surface\",\"colorbar\":{\"outlinewidth\":0,\"ticks\":\"\"},\"colorscale\":[[0.0,\"#0d0887\"],[0.1111111111111111,\"#46039f\"],[0.2222222222222222,\"#7201a8\"],[0.3333333333333333,\"#9c179e\"],[0.4444444444444444,\"#bd3786\"],[0.5555555555555556,\"#d8576b\"],[0.6666666666666666,\"#ed7953\"],[0.7777777777777778,\"#fb9f3a\"],[0.8888888888888888,\"#fdca26\"],[1.0,\"#f0f921\"]]}],\"mesh3d\":[{\"type\":\"mesh3d\",\"colorbar\":{\"outlinewidth\":0,\"ticks\":\"\"}}],\"scatter\":[{\"fillpattern\":{\"fillmode\":\"overlay\",\"size\":10,\"solidity\":0.2},\"type\":\"scatter\"}],\"parcoords\":[{\"type\":\"parcoords\",\"line\":{\"colorbar\":{\"outlinewidth\":0,\"ticks\":\"\"}}}],\"scatterpolargl\":[{\"type\":\"scatterpolargl\",\"marker\":{\"colorbar\":{\"outlinewidth\":0,\"ticks\":\"\"}}}],\"bar\":[{\"error_x\":{\"color\":\"#2a3f5f\"},\"error_y\":{\"color\":\"#2a3f5f\"},\"marker\":{\"line\":{\"color\":\"#E5ECF6\",\"width\":0.5},\"pattern\":{\"fillmode\":\"overlay\",\"size\":10,\"solidity\":0.2}},\"type\":\"bar\"}],\"scattergeo\":[{\"type\":\"scattergeo\",\"marker\":{\"colorbar\":{\"outlinewidth\":0,\"ticks\":\"\"}}}],\"scatterpolar\":[{\"type\":\"scatterpolar\",\"marker\":{\"colorbar\":{\"outlinewidth\":0,\"ticks\":\"\"}}}],\"histogram\":[{\"marker\":{\"pattern\":{\"fillmode\":\"overlay\",\"size\":10,\"solidity\":0.2}},\"type\":\"histogram\"}],\"scattergl\":[{\"type\":\"scattergl\",\"marker\":{\"colorbar\":{\"outlinewidth\":0,\"ticks\":\"\"}}}],\"scatter3d\":[{\"type\":\"scatter3d\",\"line\":{\"colorbar\":{\"outlinewidth\":0,\"ticks\":\"\"}},\"marker\":{\"colorbar\":{\"outlinewidth\":0,\"ticks\":\"\"}}}],\"scattermapbox\":[{\"type\":\"scattermapbox\",\"marker\":{\"colorbar\":{\"outlinewidth\":0,\"ticks\":\"\"}}}],\"scatterternary\":[{\"type\":\"scatterternary\",\"marker\":{\"colorbar\":{\"outlinewidth\":0,\"ticks\":\"\"}}}],\"scattercarpet\":[{\"type\":\"scattercarpet\",\"marker\":{\"colorbar\":{\"outlinewidth\":0,\"ticks\":\"\"}}}],\"carpet\":[{\"aaxis\":{\"endlinecolor\":\"#2a3f5f\",\"gridcolor\":\"white\",\"linecolor\":\"white\",\"minorgridcolor\":\"white\",\"startlinecolor\":\"#2a3f5f\"},\"baxis\":{\"endlinecolor\":\"#2a3f5f\",\"gridcolor\":\"white\",\"linecolor\":\"white\",\"minorgridcolor\":\"white\",\"startlinecolor\":\"#2a3f5f\"},\"type\":\"carpet\"}],\"table\":[{\"cells\":{\"fill\":{\"color\":\"#EBF0F8\"},\"line\":{\"color\":\"white\"}},\"header\":{\"fill\":{\"color\":\"#C8D4E3\"},\"line\":{\"color\":\"white\"}},\"type\":\"table\"}],\"barpolar\":[{\"marker\":{\"line\":{\"color\":\"#E5ECF6\",\"width\":0.5},\"pattern\":{\"fillmode\":\"overlay\",\"size\":10,\"solidity\":0.2}},\"type\":\"barpolar\"}],\"pie\":[{\"automargin\":true,\"type\":\"pie\"}]},\"layout\":{\"autotypenumbers\":\"strict\",\"colorway\":[\"#636efa\",\"#EF553B\",\"#00cc96\",\"#ab63fa\",\"#FFA15A\",\"#19d3f3\",\"#FF6692\",\"#B6E880\",\"#FF97FF\",\"#FECB52\"],\"font\":{\"color\":\"#2a3f5f\"},\"hovermode\":\"closest\",\"hoverlabel\":{\"align\":\"left\"},\"paper_bgcolor\":\"white\",\"plot_bgcolor\":\"#E5ECF6\",\"polar\":{\"bgcolor\":\"#E5ECF6\",\"angularaxis\":{\"gridcolor\":\"white\",\"linecolor\":\"white\",\"ticks\":\"\"},\"radialaxis\":{\"gridcolor\":\"white\",\"linecolor\":\"white\",\"ticks\":\"\"}},\"ternary\":{\"bgcolor\":\"#E5ECF6\",\"aaxis\":{\"gridcolor\":\"white\",\"linecolor\":\"white\",\"ticks\":\"\"},\"baxis\":{\"gridcolor\":\"white\",\"linecolor\":\"white\",\"ticks\":\"\"},\"caxis\":{\"gridcolor\":\"white\",\"linecolor\":\"white\",\"ticks\":\"\"}},\"coloraxis\":{\"colorbar\":{\"outlinewidth\":0,\"ticks\":\"\"}},\"colorscale\":{\"sequential\":[[0.0,\"#0d0887\"],[0.1111111111111111,\"#46039f\"],[0.2222222222222222,\"#7201a8\"],[0.3333333333333333,\"#9c179e\"],[0.4444444444444444,\"#bd3786\"],[0.5555555555555556,\"#d8576b\"],[0.6666666666666666,\"#ed7953\"],[0.7777777777777778,\"#fb9f3a\"],[0.8888888888888888,\"#fdca26\"],[1.0,\"#f0f921\"]],\"sequentialminus\":[[0.0,\"#0d0887\"],[0.1111111111111111,\"#46039f\"],[0.2222222222222222,\"#7201a8\"],[0.3333333333333333,\"#9c179e\"],[0.4444444444444444,\"#bd3786\"],[0.5555555555555556,\"#d8576b\"],[0.6666666666666666,\"#ed7953\"],[0.7777777777777778,\"#fb9f3a\"],[0.8888888888888888,\"#fdca26\"],[1.0,\"#f0f921\"]],\"diverging\":[[0,\"#8e0152\"],[0.1,\"#c51b7d\"],[0.2,\"#de77ae\"],[0.3,\"#f1b6da\"],[0.4,\"#fde0ef\"],[0.5,\"#f7f7f7\"],[0.6,\"#e6f5d0\"],[0.7,\"#b8e186\"],[0.8,\"#7fbc41\"],[0.9,\"#4d9221\"],[1,\"#276419\"]]},\"xaxis\":{\"gridcolor\":\"white\",\"linecolor\":\"white\",\"ticks\":\"\",\"title\":{\"standoff\":15},\"zerolinecolor\":\"white\",\"automargin\":true,\"zerolinewidth\":2},\"yaxis\":{\"gridcolor\":\"white\",\"linecolor\":\"white\",\"ticks\":\"\",\"title\":{\"standoff\":15},\"zerolinecolor\":\"white\",\"automargin\":true,\"zerolinewidth\":2},\"scene\":{\"xaxis\":{\"backgroundcolor\":\"#E5ECF6\",\"gridcolor\":\"white\",\"linecolor\":\"white\",\"showbackground\":true,\"ticks\":\"\",\"zerolinecolor\":\"white\",\"gridwidth\":2},\"yaxis\":{\"backgroundcolor\":\"#E5ECF6\",\"gridcolor\":\"white\",\"linecolor\":\"white\",\"showbackground\":true,\"ticks\":\"\",\"zerolinecolor\":\"white\",\"gridwidth\":2},\"zaxis\":{\"backgroundcolor\":\"#E5ECF6\",\"gridcolor\":\"white\",\"linecolor\":\"white\",\"showbackground\":true,\"ticks\":\"\",\"zerolinecolor\":\"white\",\"gridwidth\":2}},\"shapedefaults\":{\"line\":{\"color\":\"#2a3f5f\"}},\"annotationdefaults\":{\"arrowcolor\":\"#2a3f5f\",\"arrowhead\":0,\"arrowwidth\":1},\"geo\":{\"bgcolor\":\"white\",\"landcolor\":\"#E5ECF6\",\"subunitcolor\":\"white\",\"showland\":true,\"showlakes\":true,\"lakecolor\":\"white\"},\"title\":{\"x\":0.05},\"mapbox\":{\"style\":\"light\"}}},\"xaxis\":{\"anchor\":\"y\",\"domain\":[0.0,1.0],\"title\":{\"text\":\"Iteration\"},\"mirror\":true,\"ticks\":\"outside\",\"showline\":true,\"linecolor\":\"black\",\"gridcolor\":\"lightgrey\"},\"yaxis\":{\"anchor\":\"x\",\"domain\":[0.0,1.0],\"title\":{\"text\":\"Reward\"},\"mirror\":true,\"ticks\":\"outside\",\"showline\":true,\"linecolor\":\"black\",\"gridcolor\":\"lightgrey\"},\"legend\":{\"title\":{\"text\":\"algorithm\"},\"tracegroupgap\":0,\"yanchor\":\"bottom\",\"y\":0.01,\"xanchor\":\"right\",\"x\":0.99},\"margin\":{\"t\":50,\"l\":20,\"r\":20,\"b\":20},\"title\":{\"font\":{\"size\":15},\"text\":\"Ant-v1\",\"x\":0.53},\"autosize\":false,\"plot_bgcolor\":\"white\",\"width\":500,\"height\":400},                        {\"responsive\": true}                    ).then(function(){\n",
       "                            \n",
       "var gd = document.getElementById('ef2abe55-0580-478b-ba4f-45d519cf236b');\n",
       "var x = new MutationObserver(function (mutations, observer) {{\n",
       "        var display = window.getComputedStyle(gd).display;\n",
       "        if (!display || display === 'none') {{\n",
       "            console.log([gd, 'removed!']);\n",
       "            Plotly.purge(gd);\n",
       "            observer.disconnect();\n",
       "        }}\n",
       "}});\n",
       "\n",
       "// Listen for the removal of the full notebook cells\n",
       "var notebookContainer = gd.closest('#notebook-container');\n",
       "if (notebookContainer) {{\n",
       "    x.observe(notebookContainer, {childList: true});\n",
       "}}\n",
       "\n",
       "// Listen for the clearing of the current output cell\n",
       "var outputEl = gd.closest('.output');\n",
       "if (outputEl) {{\n",
       "    x.observe(outputEl, {childList: true});\n",
       "}}\n",
       "\n",
       "                        })                };                });            </script>        </div>"
      ]
     },
     "metadata": {},
     "output_type": "display_data"
    },
    {
     "data": {
      "application/vnd.plotly.v1+json": {
       "config": {
        "plotlyServerURL": "https://plot.ly"
       },
       "data": [
        {
         "hovertemplate": "algorithm=ARS-1<br>Iteration=%{x}<br>reward=%{y}<extra></extra>",
         "legendgroup": "ARS-1",
         "line": {
          "color": "#636efa",
          "dash": "solid"
         },
         "marker": {
          "symbol": "circle"
         },
         "mode": "lines",
         "name": "ARS-1",
         "opacity": 0.7,
         "orientation": "v",
         "showlegend": true,
         "type": "scatter",
         "x": [
          10,
          20,
          30,
          40,
          50,
          60,
          70,
          80,
          90,
          100,
          110,
          120,
          130,
          140,
          150,
          160,
          170,
          180,
          190,
          200,
          210,
          220,
          230,
          240,
          250,
          260,
          270,
          280,
          290,
          300,
          310,
          320,
          330,
          340,
          350,
          360,
          370,
          380,
          390,
          400,
          410,
          420,
          430,
          440,
          450,
          460,
          470,
          480,
          490,
          500,
          510,
          520,
          530,
          540,
          550,
          560,
          570,
          580,
          590,
          600,
          610,
          620,
          630,
          640,
          650,
          660,
          670,
          680,
          690,
          700,
          710,
          720,
          730,
          740,
          750,
          760,
          770,
          780,
          790,
          800,
          810,
          820,
          830,
          840,
          850,
          860,
          870,
          880,
          890,
          900,
          910,
          920,
          930,
          940,
          950,
          960,
          970,
          980,
          990,
          1000
         ],
         "xaxis": "x",
         "y": [
          -42.04686856893012,
          284.9928400358743,
          314.01588983226264,
          547.9509325022124,
          681.4366691771595,
          739.5604065300745,
          749.828229392503,
          879.3277983808343,
          983.3796348647602,
          1039.347199621385,
          1114.0118900708662,
          1182.6258119277884,
          1251.1366099648046,
          1326.3356696482404,
          1358.6756960420944,
          1383.1589005893866,
          1452.1694249805128,
          1430.5201973365893,
          1450.4454258038686,
          1485.957074922252,
          1514.160945278611,
          1527.2531835944662,
          1538.550390942868,
          1536.9889734229605,
          1597.6699912381198,
          1624.0992232821573,
          1667.616624560546,
          1669.353394989479,
          1662.5100599411876,
          1662.4494158774394,
          1749.6807167044362,
          1741.3210303863796,
          1615.6607934724143,
          1697.111424213206,
          1693.4941853634766,
          1747.515423340166,
          1737.3286428409938,
          1759.1294186421935,
          1783.042197155543,
          1763.2862611618468,
          1737.3469148548695,
          1836.1289586022508,
          1853.2401001884384,
          1900.0575194089415,
          1924.689510106488,
          1886.8096495752263,
          1857.9395735010355,
          1844.8604717343287,
          1802.108889544126,
          1848.35024598988,
          1770.2895248141676,
          1809.021939260699,
          1814.11113172668,
          1751.7690481101629,
          1803.1719589213824,
          1683.324437057243,
          1828.5021858313544,
          1794.243714835647,
          1767.253139195594,
          1780.9835515025063,
          1765.62140560448,
          1767.3686639495793,
          1759.299970604251,
          1712.1896911277197,
          1666.258849808859,
          1786.6051905052277,
          1735.4051000719223,
          1820.7369558501605,
          1770.9796665793556,
          1839.9751509523624,
          1803.4076791543112,
          1836.0128095964965,
          1843.0141327691097,
          1792.417089038718,
          1888.0199285182691,
          1968.196266996164,
          1936.196879213996,
          1948.6114880936364,
          1940.5844574245723,
          1963.5444738575984,
          1992.0679246341613,
          1983.550984227103,
          1942.3567070177448,
          2015.823612727885,
          1885.4826384928397,
          1984.376601774252,
          2014.495084765184,
          2000.1712045024071,
          1922.5705589372965,
          1994.918874544658,
          1980.2199572680888,
          1969.081158569021,
          1865.638112558349,
          1837.3771413676848,
          1940.976074647943,
          2037.7701120535717,
          1980.58617004474,
          1818.309330954148,
          1952.041212696399,
          1911.3780098520845
         ],
         "yaxis": "y"
        },
        {
         "hovertemplate": "algorithm=ARS-2<br>Iteration=%{x}<br>reward=%{y}<extra></extra>",
         "legendgroup": "ARS-2",
         "line": {
          "color": "#EF553B",
          "dash": "solid"
         },
         "marker": {
          "symbol": "circle"
         },
         "mode": "lines",
         "name": "ARS-2",
         "opacity": 0.7,
         "orientation": "v",
         "showlegend": true,
         "type": "scatter",
         "x": [
          10,
          20,
          30,
          40,
          50,
          60,
          70,
          80,
          90,
          100,
          110,
          120,
          130,
          140,
          150,
          160,
          170,
          180,
          190,
          200,
          210,
          220,
          230,
          240,
          250,
          260,
          270,
          280,
          290,
          300,
          310,
          320,
          330,
          340,
          350,
          360,
          370,
          380,
          390,
          400,
          410,
          420,
          430,
          440,
          450,
          460,
          470,
          480,
          490,
          500,
          510,
          520,
          530,
          540,
          550,
          560,
          570,
          580,
          590,
          600,
          610,
          620,
          630,
          640,
          650,
          660,
          670,
          680,
          690,
          700,
          710,
          720,
          730,
          740,
          750,
          760,
          770,
          780,
          790,
          800,
          810,
          820,
          830,
          840,
          850,
          860,
          870,
          880,
          890,
          900,
          910,
          920,
          930,
          940,
          950,
          960,
          970,
          980,
          990,
          1000
         ],
         "xaxis": "x",
         "y": [
          1236.2290198198598,
          3258.543994510132,
          3650.032541565876,
          3712.507879615083,
          3662.763034233007,
          3891.547261165668,
          4013.350770087574,
          4104.2948150455495,
          4166.457871772817,
          4176.657926336967,
          4200.448607964471,
          4149.006594178796,
          4285.181524721037,
          4821.045832809248,
          4993.569123272498,
          4968.2599030945385,
          5215.632983643426,
          5623.4288326013975,
          5598.24777906825,
          5509.897109197606,
          5541.543562460604,
          5684.9323321762895,
          5482.120556917524,
          5736.485483786778,
          5268.61058499657,
          5471.995356181233,
          5925.754806180913,
          5739.49336721859,
          5901.62835606806,
          6093.790337484209,
          6023.6889915888,
          6037.037944986997,
          6110.774421450416,
          5935.398719357198,
          5927.841545588355,
          5642.283624432789,
          5950.246724951396,
          6149.211650778304,
          5927.407617225188,
          5552.733091141997,
          5860.375406251638,
          5652.346069217532,
          5980.943880858316,
          6065.177731379928,
          5748.186007298455,
          5927.131993978094,
          6303.392537480362,
          6255.932569511103,
          6224.807011528036,
          6263.451532447705,
          6210.423358561651,
          6218.54947553995,
          6260.841544092973,
          6312.502841521473,
          6249.164287654385,
          6169.510386263718,
          6432.710474146817,
          6310.763319126716,
          6329.707148172276,
          6439.886682164551,
          5985.996827998863,
          6561.34496649333,
          6314.205386984985,
          6305.655891396562,
          6371.289945484655,
          6249.462292189934,
          6359.7127311124,
          6440.935081092212,
          6316.780144219475,
          6472.420711199204,
          6515.660754226344,
          6456.015546320492,
          6579.718482316497,
          6257.419536691058,
          6489.062019536042,
          6473.454254556631,
          6459.90773196069,
          6398.994916160654,
          6482.120473144455,
          6615.032912932788,
          6599.896626592688,
          6271.984291240585,
          6400.683585334619,
          6540.723797990063,
          6556.590257404045,
          6478.006783818193,
          6288.1022942622585,
          6282.556584820622,
          6609.268411115518,
          6190.636435905255,
          6663.724754538437,
          6554.646674231231,
          6608.906729324276,
          6446.690905477685,
          6532.150836124658,
          6513.973041044623,
          6588.135904539548,
          6435.070557960176,
          6536.881551987599,
          6626.337784997674
         ],
         "yaxis": "y"
        },
        {
         "hovertemplate": "algorithm=SFR-1<br>Iteration=%{x}<br>reward=%{y}<extra></extra>",
         "legendgroup": "SFR-1",
         "line": {
          "color": "#00cc96",
          "dash": "solid"
         },
         "marker": {
          "symbol": "circle"
         },
         "mode": "lines",
         "name": "SFR-1",
         "opacity": 0.7,
         "orientation": "v",
         "showlegend": true,
         "type": "scatter",
         "x": [
          10,
          20,
          30,
          40,
          50,
          60,
          70,
          80,
          90,
          100,
          110,
          120,
          130,
          140,
          150,
          160,
          170,
          180,
          190,
          200,
          210,
          220,
          230,
          240,
          250,
          260,
          270,
          280,
          290,
          300,
          310,
          320,
          330,
          340,
          350,
          360,
          370,
          380,
          390,
          400,
          410,
          420,
          430,
          440,
          450,
          460,
          470,
          480,
          490,
          500,
          510,
          520,
          530,
          540,
          550,
          560,
          570,
          580,
          590,
          600,
          610,
          620,
          630,
          640,
          650,
          660,
          670,
          680,
          690,
          700,
          710,
          720,
          730,
          740,
          750,
          760,
          770,
          780,
          790,
          800,
          810,
          820,
          830,
          840,
          850,
          860,
          870,
          880,
          890,
          900,
          910,
          920,
          930,
          940,
          950,
          960,
          970,
          980,
          990,
          1000
         ],
         "xaxis": "x",
         "y": [
          -42.04686856893012,
          284.9928400358743,
          314.01588983226264,
          547.9509325022124,
          681.4366691771595,
          739.5604065300745,
          749.828229392503,
          879.3277983808343,
          983.3796348647602,
          1039.347199621385,
          1114.0118900708662,
          1182.6258119277884,
          1251.1366099648046,
          1326.3356696482404,
          1358.6756960420944,
          1383.1589005893866,
          1452.1694249805128,
          1430.5201973365893,
          1450.4454258038686,
          1485.957074922252,
          1514.160945278611,
          1527.2531835944662,
          1538.550390942868,
          1536.9889734229605,
          1597.6699912381198,
          1624.0992232821573,
          1667.616624560546,
          1669.353394989479,
          1662.5100599411876,
          1662.4494158774394,
          1749.6807167044362,
          1741.3210303863796,
          1615.6607934724143,
          1697.111424213206,
          1693.4941853634766,
          1747.515423340166,
          1737.3286428409938,
          1759.1294186421935,
          1783.042197155543,
          1763.2862611618468,
          1737.3469148548695,
          1836.1289586022508,
          1853.2401001884384,
          1900.0575194089415,
          1924.689510106488,
          1886.8096495752263,
          1857.9395735010355,
          1844.8604717343287,
          1802.108889544126,
          1848.35024598988,
          1770.2895248141676,
          1809.021939260699,
          1814.11113172668,
          1751.7690481101629,
          1803.1719589213824,
          1683.324437057243,
          1828.5021858313544,
          1794.243714835647,
          1767.253139195594,
          1780.9835515025063,
          1765.62140560448,
          1767.3686639495793,
          1759.299970604251,
          1712.1896911277197,
          1666.258849808859,
          1786.6051905052277,
          1735.4051000719223,
          1820.7369558501605,
          1770.9796665793556,
          1839.9751509523624,
          1803.4076791543112,
          1836.0128095964965,
          1843.0141327691097,
          1792.417089038718,
          1888.0199285182691,
          1968.196266996164,
          1936.196879213996,
          1948.6114880936364,
          1940.5844574245723,
          1963.5444738575984,
          1992.0679246341613,
          1983.550984227103,
          1942.3567070177448,
          2015.823612727885,
          1885.4826384928397,
          1984.376601774252,
          2014.495084765184,
          2000.1712045024071,
          1922.5705589372965,
          1994.918874544658,
          1980.2199572680888,
          1969.081158569021,
          1865.638112558349,
          1837.3771413676848,
          1940.976074647943,
          2037.7701120535717,
          1980.58617004474,
          1818.309330954148,
          1952.041212696399,
          1911.3780098520845
         ],
         "yaxis": "y"
        },
        {
         "hovertemplate": "algorithm=SFR-2<br>Iteration=%{x}<br>reward=%{y}<extra></extra>",
         "legendgroup": "SFR-2",
         "line": {
          "color": "#ab63fa",
          "dash": "solid"
         },
         "marker": {
          "symbol": "circle"
         },
         "mode": "lines",
         "name": "SFR-2",
         "opacity": 0.7,
         "orientation": "v",
         "showlegend": true,
         "type": "scatter",
         "x": [
          10,
          20,
          30,
          40,
          50,
          60,
          70,
          80,
          90,
          100,
          110,
          120,
          130,
          140,
          150,
          160,
          170,
          180,
          190,
          200,
          210,
          220,
          230,
          240,
          250,
          260,
          270,
          280,
          290,
          300,
          310,
          320,
          330,
          340,
          350,
          360,
          370,
          380,
          390,
          400,
          410,
          420,
          430,
          440,
          450,
          460,
          470,
          480,
          490,
          500,
          510,
          520,
          530,
          540,
          550,
          560,
          570,
          580,
          590,
          600,
          610,
          620,
          630,
          640,
          650,
          660,
          670,
          680,
          690,
          700,
          710,
          720,
          730,
          740,
          750,
          760,
          770,
          780,
          790,
          800,
          810,
          820,
          830,
          840,
          850,
          860,
          870,
          880,
          890,
          900,
          910,
          920,
          930,
          940,
          950,
          960,
          970,
          980,
          990,
          1000
         ],
         "xaxis": "x",
         "y": [
          1.461672948974401,
          1574.4801971841125,
          2560.5443868811826,
          2884.2763256651924,
          3176.228853426273,
          3376.295016227892,
          3523.9044242184623,
          3622.584038527847,
          3647.52123616729,
          3844.9010280718767,
          3843.014552669337,
          3953.74712527395,
          4068.366765019202,
          4498.502715791072,
          4309.811433488673,
          4340.34326636928,
          4379.127337046604,
          4498.5437638339135,
          4506.588878655194,
          4573.957916585778,
          5050.2706124348015,
          4976.408677126997,
          5223.662045574801,
          5352.294305521508,
          5251.864698806618,
          5420.8791793159,
          5512.8933040028905,
          5371.641208929726,
          5385.563398859479,
          5361.969013335725,
          5299.846436060574,
          5363.906291145261,
          5713.523705123236,
          5743.226743270421,
          5606.072145111377,
          5475.947154950929,
          5580.947396266408,
          5775.432512155122,
          5823.177227104848,
          5726.269306189473,
          5794.853997104667,
          5816.542227124842,
          5878.537688863352,
          5848.711389189011,
          5896.017021728472,
          5924.294658604705,
          5810.911677298265,
          5965.516814847046,
          5935.141022547539,
          6029.955092257599,
          5993.870312232333,
          5934.229712234894,
          5955.895408831878,
          6014.858755709221,
          6077.766953988941,
          5978.181021489529,
          6007.046402902708,
          6041.523206147044,
          6015.203345327073,
          6016.303207593512,
          6086.585992921805,
          6177.3783886056135,
          6074.875780423525,
          5943.856655839985,
          6098.144672135545,
          6030.897154914726,
          5866.369997420451,
          6010.801482657526,
          6071.527705121494,
          6026.944530261014,
          6058.888650354271,
          6165.63486608014,
          6184.912699085271,
          6179.876006799259,
          6101.758881092463,
          6233.895691792779,
          6232.462710602175,
          6259.78738169404,
          6290.29307039781,
          6118.722559128964,
          6176.539766208585,
          6113.300362691069,
          6076.714425984202,
          6247.184774043661,
          6225.634799346503,
          6219.660304870498,
          6243.282430648531,
          6284.570657488258,
          6326.991978436601,
          6191.645779955356,
          6259.0426077490665,
          6142.665730315291,
          6229.080004584559,
          6397.467306164545,
          6255.8203327444335,
          6302.88622878084,
          6361.820575321754,
          6318.596009949097,
          6295.376592071897,
          6376.115558340002
         ],
         "yaxis": "y"
        }
       ],
       "layout": {
        "autosize": false,
        "height": 400,
        "legend": {
         "title": {
          "text": "algorithm"
         },
         "tracegroupgap": 0,
         "x": 0.99,
         "xanchor": "right",
         "y": 0.5,
         "yanchor": "bottom"
        },
        "margin": {
         "b": 20,
         "l": 20,
         "r": 20,
         "t": 50
        },
        "plot_bgcolor": "white",
        "template": {
         "data": {
          "bar": [
           {
            "error_x": {
             "color": "#2a3f5f"
            },
            "error_y": {
             "color": "#2a3f5f"
            },
            "marker": {
             "line": {
              "color": "#E5ECF6",
              "width": 0.5
             },
             "pattern": {
              "fillmode": "overlay",
              "size": 10,
              "solidity": 0.2
             }
            },
            "type": "bar"
           }
          ],
          "barpolar": [
           {
            "marker": {
             "line": {
              "color": "#E5ECF6",
              "width": 0.5
             },
             "pattern": {
              "fillmode": "overlay",
              "size": 10,
              "solidity": 0.2
             }
            },
            "type": "barpolar"
           }
          ],
          "carpet": [
           {
            "aaxis": {
             "endlinecolor": "#2a3f5f",
             "gridcolor": "white",
             "linecolor": "white",
             "minorgridcolor": "white",
             "startlinecolor": "#2a3f5f"
            },
            "baxis": {
             "endlinecolor": "#2a3f5f",
             "gridcolor": "white",
             "linecolor": "white",
             "minorgridcolor": "white",
             "startlinecolor": "#2a3f5f"
            },
            "type": "carpet"
           }
          ],
          "choropleth": [
           {
            "colorbar": {
             "outlinewidth": 0,
             "ticks": ""
            },
            "type": "choropleth"
           }
          ],
          "contour": [
           {
            "colorbar": {
             "outlinewidth": 0,
             "ticks": ""
            },
            "colorscale": [
             [
              0,
              "#0d0887"
             ],
             [
              0.1111111111111111,
              "#46039f"
             ],
             [
              0.2222222222222222,
              "#7201a8"
             ],
             [
              0.3333333333333333,
              "#9c179e"
             ],
             [
              0.4444444444444444,
              "#bd3786"
             ],
             [
              0.5555555555555556,
              "#d8576b"
             ],
             [
              0.6666666666666666,
              "#ed7953"
             ],
             [
              0.7777777777777778,
              "#fb9f3a"
             ],
             [
              0.8888888888888888,
              "#fdca26"
             ],
             [
              1,
              "#f0f921"
             ]
            ],
            "type": "contour"
           }
          ],
          "contourcarpet": [
           {
            "colorbar": {
             "outlinewidth": 0,
             "ticks": ""
            },
            "type": "contourcarpet"
           }
          ],
          "heatmap": [
           {
            "colorbar": {
             "outlinewidth": 0,
             "ticks": ""
            },
            "colorscale": [
             [
              0,
              "#0d0887"
             ],
             [
              0.1111111111111111,
              "#46039f"
             ],
             [
              0.2222222222222222,
              "#7201a8"
             ],
             [
              0.3333333333333333,
              "#9c179e"
             ],
             [
              0.4444444444444444,
              "#bd3786"
             ],
             [
              0.5555555555555556,
              "#d8576b"
             ],
             [
              0.6666666666666666,
              "#ed7953"
             ],
             [
              0.7777777777777778,
              "#fb9f3a"
             ],
             [
              0.8888888888888888,
              "#fdca26"
             ],
             [
              1,
              "#f0f921"
             ]
            ],
            "type": "heatmap"
           }
          ],
          "heatmapgl": [
           {
            "colorbar": {
             "outlinewidth": 0,
             "ticks": ""
            },
            "colorscale": [
             [
              0,
              "#0d0887"
             ],
             [
              0.1111111111111111,
              "#46039f"
             ],
             [
              0.2222222222222222,
              "#7201a8"
             ],
             [
              0.3333333333333333,
              "#9c179e"
             ],
             [
              0.4444444444444444,
              "#bd3786"
             ],
             [
              0.5555555555555556,
              "#d8576b"
             ],
             [
              0.6666666666666666,
              "#ed7953"
             ],
             [
              0.7777777777777778,
              "#fb9f3a"
             ],
             [
              0.8888888888888888,
              "#fdca26"
             ],
             [
              1,
              "#f0f921"
             ]
            ],
            "type": "heatmapgl"
           }
          ],
          "histogram": [
           {
            "marker": {
             "pattern": {
              "fillmode": "overlay",
              "size": 10,
              "solidity": 0.2
             }
            },
            "type": "histogram"
           }
          ],
          "histogram2d": [
           {
            "colorbar": {
             "outlinewidth": 0,
             "ticks": ""
            },
            "colorscale": [
             [
              0,
              "#0d0887"
             ],
             [
              0.1111111111111111,
              "#46039f"
             ],
             [
              0.2222222222222222,
              "#7201a8"
             ],
             [
              0.3333333333333333,
              "#9c179e"
             ],
             [
              0.4444444444444444,
              "#bd3786"
             ],
             [
              0.5555555555555556,
              "#d8576b"
             ],
             [
              0.6666666666666666,
              "#ed7953"
             ],
             [
              0.7777777777777778,
              "#fb9f3a"
             ],
             [
              0.8888888888888888,
              "#fdca26"
             ],
             [
              1,
              "#f0f921"
             ]
            ],
            "type": "histogram2d"
           }
          ],
          "histogram2dcontour": [
           {
            "colorbar": {
             "outlinewidth": 0,
             "ticks": ""
            },
            "colorscale": [
             [
              0,
              "#0d0887"
             ],
             [
              0.1111111111111111,
              "#46039f"
             ],
             [
              0.2222222222222222,
              "#7201a8"
             ],
             [
              0.3333333333333333,
              "#9c179e"
             ],
             [
              0.4444444444444444,
              "#bd3786"
             ],
             [
              0.5555555555555556,
              "#d8576b"
             ],
             [
              0.6666666666666666,
              "#ed7953"
             ],
             [
              0.7777777777777778,
              "#fb9f3a"
             ],
             [
              0.8888888888888888,
              "#fdca26"
             ],
             [
              1,
              "#f0f921"
             ]
            ],
            "type": "histogram2dcontour"
           }
          ],
          "mesh3d": [
           {
            "colorbar": {
             "outlinewidth": 0,
             "ticks": ""
            },
            "type": "mesh3d"
           }
          ],
          "parcoords": [
           {
            "line": {
             "colorbar": {
              "outlinewidth": 0,
              "ticks": ""
             }
            },
            "type": "parcoords"
           }
          ],
          "pie": [
           {
            "automargin": true,
            "type": "pie"
           }
          ],
          "scatter": [
           {
            "fillpattern": {
             "fillmode": "overlay",
             "size": 10,
             "solidity": 0.2
            },
            "type": "scatter"
           }
          ],
          "scatter3d": [
           {
            "line": {
             "colorbar": {
              "outlinewidth": 0,
              "ticks": ""
             }
            },
            "marker": {
             "colorbar": {
              "outlinewidth": 0,
              "ticks": ""
             }
            },
            "type": "scatter3d"
           }
          ],
          "scattercarpet": [
           {
            "marker": {
             "colorbar": {
              "outlinewidth": 0,
              "ticks": ""
             }
            },
            "type": "scattercarpet"
           }
          ],
          "scattergeo": [
           {
            "marker": {
             "colorbar": {
              "outlinewidth": 0,
              "ticks": ""
             }
            },
            "type": "scattergeo"
           }
          ],
          "scattergl": [
           {
            "marker": {
             "colorbar": {
              "outlinewidth": 0,
              "ticks": ""
             }
            },
            "type": "scattergl"
           }
          ],
          "scattermapbox": [
           {
            "marker": {
             "colorbar": {
              "outlinewidth": 0,
              "ticks": ""
             }
            },
            "type": "scattermapbox"
           }
          ],
          "scatterpolar": [
           {
            "marker": {
             "colorbar": {
              "outlinewidth": 0,
              "ticks": ""
             }
            },
            "type": "scatterpolar"
           }
          ],
          "scatterpolargl": [
           {
            "marker": {
             "colorbar": {
              "outlinewidth": 0,
              "ticks": ""
             }
            },
            "type": "scatterpolargl"
           }
          ],
          "scatterternary": [
           {
            "marker": {
             "colorbar": {
              "outlinewidth": 0,
              "ticks": ""
             }
            },
            "type": "scatterternary"
           }
          ],
          "surface": [
           {
            "colorbar": {
             "outlinewidth": 0,
             "ticks": ""
            },
            "colorscale": [
             [
              0,
              "#0d0887"
             ],
             [
              0.1111111111111111,
              "#46039f"
             ],
             [
              0.2222222222222222,
              "#7201a8"
             ],
             [
              0.3333333333333333,
              "#9c179e"
             ],
             [
              0.4444444444444444,
              "#bd3786"
             ],
             [
              0.5555555555555556,
              "#d8576b"
             ],
             [
              0.6666666666666666,
              "#ed7953"
             ],
             [
              0.7777777777777778,
              "#fb9f3a"
             ],
             [
              0.8888888888888888,
              "#fdca26"
             ],
             [
              1,
              "#f0f921"
             ]
            ],
            "type": "surface"
           }
          ],
          "table": [
           {
            "cells": {
             "fill": {
              "color": "#EBF0F8"
             },
             "line": {
              "color": "white"
             }
            },
            "header": {
             "fill": {
              "color": "#C8D4E3"
             },
             "line": {
              "color": "white"
             }
            },
            "type": "table"
           }
          ]
         },
         "layout": {
          "annotationdefaults": {
           "arrowcolor": "#2a3f5f",
           "arrowhead": 0,
           "arrowwidth": 1
          },
          "autotypenumbers": "strict",
          "coloraxis": {
           "colorbar": {
            "outlinewidth": 0,
            "ticks": ""
           }
          },
          "colorscale": {
           "diverging": [
            [
             0,
             "#8e0152"
            ],
            [
             0.1,
             "#c51b7d"
            ],
            [
             0.2,
             "#de77ae"
            ],
            [
             0.3,
             "#f1b6da"
            ],
            [
             0.4,
             "#fde0ef"
            ],
            [
             0.5,
             "#f7f7f7"
            ],
            [
             0.6,
             "#e6f5d0"
            ],
            [
             0.7,
             "#b8e186"
            ],
            [
             0.8,
             "#7fbc41"
            ],
            [
             0.9,
             "#4d9221"
            ],
            [
             1,
             "#276419"
            ]
           ],
           "sequential": [
            [
             0,
             "#0d0887"
            ],
            [
             0.1111111111111111,
             "#46039f"
            ],
            [
             0.2222222222222222,
             "#7201a8"
            ],
            [
             0.3333333333333333,
             "#9c179e"
            ],
            [
             0.4444444444444444,
             "#bd3786"
            ],
            [
             0.5555555555555556,
             "#d8576b"
            ],
            [
             0.6666666666666666,
             "#ed7953"
            ],
            [
             0.7777777777777778,
             "#fb9f3a"
            ],
            [
             0.8888888888888888,
             "#fdca26"
            ],
            [
             1,
             "#f0f921"
            ]
           ],
           "sequentialminus": [
            [
             0,
             "#0d0887"
            ],
            [
             0.1111111111111111,
             "#46039f"
            ],
            [
             0.2222222222222222,
             "#7201a8"
            ],
            [
             0.3333333333333333,
             "#9c179e"
            ],
            [
             0.4444444444444444,
             "#bd3786"
            ],
            [
             0.5555555555555556,
             "#d8576b"
            ],
            [
             0.6666666666666666,
             "#ed7953"
            ],
            [
             0.7777777777777778,
             "#fb9f3a"
            ],
            [
             0.8888888888888888,
             "#fdca26"
            ],
            [
             1,
             "#f0f921"
            ]
           ]
          },
          "colorway": [
           "#636efa",
           "#EF553B",
           "#00cc96",
           "#ab63fa",
           "#FFA15A",
           "#19d3f3",
           "#FF6692",
           "#B6E880",
           "#FF97FF",
           "#FECB52"
          ],
          "font": {
           "color": "#2a3f5f"
          },
          "geo": {
           "bgcolor": "white",
           "lakecolor": "white",
           "landcolor": "#E5ECF6",
           "showlakes": true,
           "showland": true,
           "subunitcolor": "white"
          },
          "hoverlabel": {
           "align": "left"
          },
          "hovermode": "closest",
          "mapbox": {
           "style": "light"
          },
          "paper_bgcolor": "white",
          "plot_bgcolor": "#E5ECF6",
          "polar": {
           "angularaxis": {
            "gridcolor": "white",
            "linecolor": "white",
            "ticks": ""
           },
           "bgcolor": "#E5ECF6",
           "radialaxis": {
            "gridcolor": "white",
            "linecolor": "white",
            "ticks": ""
           }
          },
          "scene": {
           "xaxis": {
            "backgroundcolor": "#E5ECF6",
            "gridcolor": "white",
            "gridwidth": 2,
            "linecolor": "white",
            "showbackground": true,
            "ticks": "",
            "zerolinecolor": "white"
           },
           "yaxis": {
            "backgroundcolor": "#E5ECF6",
            "gridcolor": "white",
            "gridwidth": 2,
            "linecolor": "white",
            "showbackground": true,
            "ticks": "",
            "zerolinecolor": "white"
           },
           "zaxis": {
            "backgroundcolor": "#E5ECF6",
            "gridcolor": "white",
            "gridwidth": 2,
            "linecolor": "white",
            "showbackground": true,
            "ticks": "",
            "zerolinecolor": "white"
           }
          },
          "shapedefaults": {
           "line": {
            "color": "#2a3f5f"
           }
          },
          "ternary": {
           "aaxis": {
            "gridcolor": "white",
            "linecolor": "white",
            "ticks": ""
           },
           "baxis": {
            "gridcolor": "white",
            "linecolor": "white",
            "ticks": ""
           },
           "bgcolor": "#E5ECF6",
           "caxis": {
            "gridcolor": "white",
            "linecolor": "white",
            "ticks": ""
           }
          },
          "title": {
           "x": 0.05
          },
          "xaxis": {
           "automargin": true,
           "gridcolor": "white",
           "linecolor": "white",
           "ticks": "",
           "title": {
            "standoff": 15
           },
           "zerolinecolor": "white",
           "zerolinewidth": 2
          },
          "yaxis": {
           "automargin": true,
           "gridcolor": "white",
           "linecolor": "white",
           "ticks": "",
           "title": {
            "standoff": 15
           },
           "zerolinecolor": "white",
           "zerolinewidth": 2
          }
         }
        },
        "title": {
         "font": {
          "size": 15
         },
         "text": "HalfCheetah-v1",
         "x": 0.53
        },
        "width": 500,
        "xaxis": {
         "anchor": "y",
         "domain": [
          0,
          1
         ],
         "gridcolor": "lightgrey",
         "linecolor": "black",
         "mirror": true,
         "showline": true,
         "ticks": "outside",
         "title": {
          "text": "Iteration"
         }
        },
        "yaxis": {
         "anchor": "x",
         "domain": [
          0,
          1
         ],
         "gridcolor": "lightgrey",
         "linecolor": "black",
         "mirror": true,
         "showline": true,
         "ticks": "outside",
         "title": {
          "text": "Reward"
         }
        }
       }
      },
      "text/html": [
       "<div>                            <div id=\"baaf5f96-f055-4933-97d6-e4338ab57be4\" class=\"plotly-graph-div\" style=\"height:400px; width:500px;\"></div>            <script type=\"text/javascript\">                require([\"plotly\"], function(Plotly) {                    window.PLOTLYENV=window.PLOTLYENV || {};                                    if (document.getElementById(\"baaf5f96-f055-4933-97d6-e4338ab57be4\")) {                    Plotly.newPlot(                        \"baaf5f96-f055-4933-97d6-e4338ab57be4\",                        [{\"hovertemplate\":\"algorithm=ARS-1\\u003cbr\\u003eIteration=%{x}\\u003cbr\\u003ereward=%{y}\\u003cextra\\u003e\\u003c\\u002fextra\\u003e\",\"legendgroup\":\"ARS-1\",\"line\":{\"color\":\"#636efa\",\"dash\":\"solid\"},\"marker\":{\"symbol\":\"circle\"},\"mode\":\"lines\",\"name\":\"ARS-1\",\"orientation\":\"v\",\"showlegend\":true,\"x\":[10,20,30,40,50,60,70,80,90,100,110,120,130,140,150,160,170,180,190,200,210,220,230,240,250,260,270,280,290,300,310,320,330,340,350,360,370,380,390,400,410,420,430,440,450,460,470,480,490,500,510,520,530,540,550,560,570,580,590,600,610,620,630,640,650,660,670,680,690,700,710,720,730,740,750,760,770,780,790,800,810,820,830,840,850,860,870,880,890,900,910,920,930,940,950,960,970,980,990,1000],\"xaxis\":\"x\",\"y\":[-42.04686856893012,284.9928400358743,314.01588983226264,547.9509325022124,681.4366691771595,739.5604065300745,749.828229392503,879.3277983808343,983.3796348647602,1039.347199621385,1114.0118900708662,1182.6258119277884,1251.1366099648046,1326.3356696482404,1358.6756960420944,1383.1589005893866,1452.1694249805128,1430.5201973365893,1450.4454258038686,1485.957074922252,1514.160945278611,1527.2531835944662,1538.550390942868,1536.9889734229605,1597.6699912381198,1624.0992232821573,1667.616624560546,1669.353394989479,1662.5100599411876,1662.4494158774394,1749.6807167044362,1741.3210303863796,1615.6607934724143,1697.111424213206,1693.4941853634766,1747.515423340166,1737.3286428409938,1759.1294186421935,1783.042197155543,1763.2862611618468,1737.3469148548695,1836.1289586022508,1853.2401001884384,1900.0575194089415,1924.689510106488,1886.8096495752263,1857.9395735010355,1844.8604717343287,1802.108889544126,1848.35024598988,1770.2895248141676,1809.021939260699,1814.11113172668,1751.7690481101629,1803.1719589213824,1683.324437057243,1828.5021858313544,1794.243714835647,1767.253139195594,1780.9835515025063,1765.62140560448,1767.3686639495793,1759.299970604251,1712.1896911277197,1666.258849808859,1786.6051905052277,1735.4051000719223,1820.7369558501605,1770.9796665793556,1839.9751509523624,1803.4076791543112,1836.0128095964965,1843.0141327691097,1792.417089038718,1888.0199285182691,1968.196266996164,1936.196879213996,1948.6114880936364,1940.5844574245723,1963.5444738575984,1992.0679246341613,1983.550984227103,1942.3567070177448,2015.823612727885,1885.4826384928397,1984.376601774252,2014.495084765184,2000.1712045024071,1922.5705589372965,1994.918874544658,1980.2199572680888,1969.081158569021,1865.638112558349,1837.3771413676848,1940.976074647943,2037.7701120535717,1980.58617004474,1818.309330954148,1952.041212696399,1911.3780098520845],\"yaxis\":\"y\",\"type\":\"scatter\",\"opacity\":0.7},{\"hovertemplate\":\"algorithm=ARS-2\\u003cbr\\u003eIteration=%{x}\\u003cbr\\u003ereward=%{y}\\u003cextra\\u003e\\u003c\\u002fextra\\u003e\",\"legendgroup\":\"ARS-2\",\"line\":{\"color\":\"#EF553B\",\"dash\":\"solid\"},\"marker\":{\"symbol\":\"circle\"},\"mode\":\"lines\",\"name\":\"ARS-2\",\"orientation\":\"v\",\"showlegend\":true,\"x\":[10,20,30,40,50,60,70,80,90,100,110,120,130,140,150,160,170,180,190,200,210,220,230,240,250,260,270,280,290,300,310,320,330,340,350,360,370,380,390,400,410,420,430,440,450,460,470,480,490,500,510,520,530,540,550,560,570,580,590,600,610,620,630,640,650,660,670,680,690,700,710,720,730,740,750,760,770,780,790,800,810,820,830,840,850,860,870,880,890,900,910,920,930,940,950,960,970,980,990,1000],\"xaxis\":\"x\",\"y\":[1236.2290198198598,3258.543994510132,3650.032541565876,3712.507879615083,3662.763034233007,3891.547261165668,4013.350770087574,4104.2948150455495,4166.457871772817,4176.657926336967,4200.448607964471,4149.006594178796,4285.181524721037,4821.045832809248,4993.569123272498,4968.2599030945385,5215.632983643426,5623.4288326013975,5598.24777906825,5509.897109197606,5541.543562460604,5684.9323321762895,5482.120556917524,5736.485483786778,5268.61058499657,5471.995356181233,5925.754806180913,5739.49336721859,5901.62835606806,6093.790337484209,6023.6889915888,6037.037944986997,6110.774421450416,5935.398719357198,5927.841545588355,5642.283624432789,5950.246724951396,6149.211650778304,5927.407617225188,5552.733091141997,5860.375406251638,5652.346069217532,5980.943880858316,6065.177731379928,5748.186007298455,5927.131993978094,6303.392537480362,6255.932569511103,6224.807011528036,6263.451532447705,6210.423358561651,6218.54947553995,6260.841544092973,6312.502841521473,6249.164287654385,6169.510386263718,6432.710474146817,6310.763319126716,6329.707148172276,6439.886682164551,5985.996827998863,6561.34496649333,6314.205386984985,6305.655891396562,6371.289945484655,6249.462292189934,6359.7127311124,6440.935081092212,6316.780144219475,6472.420711199204,6515.660754226344,6456.015546320492,6579.718482316497,6257.419536691058,6489.062019536042,6473.454254556631,6459.90773196069,6398.994916160654,6482.120473144455,6615.032912932788,6599.896626592688,6271.984291240585,6400.683585334619,6540.723797990063,6556.590257404045,6478.006783818193,6288.1022942622585,6282.556584820622,6609.268411115518,6190.636435905255,6663.724754538437,6554.646674231231,6608.906729324276,6446.690905477685,6532.150836124658,6513.973041044623,6588.135904539548,6435.070557960176,6536.881551987599,6626.337784997674],\"yaxis\":\"y\",\"type\":\"scatter\",\"opacity\":0.7},{\"hovertemplate\":\"algorithm=SFR-1\\u003cbr\\u003eIteration=%{x}\\u003cbr\\u003ereward=%{y}\\u003cextra\\u003e\\u003c\\u002fextra\\u003e\",\"legendgroup\":\"SFR-1\",\"line\":{\"color\":\"#00cc96\",\"dash\":\"solid\"},\"marker\":{\"symbol\":\"circle\"},\"mode\":\"lines\",\"name\":\"SFR-1\",\"orientation\":\"v\",\"showlegend\":true,\"x\":[10,20,30,40,50,60,70,80,90,100,110,120,130,140,150,160,170,180,190,200,210,220,230,240,250,260,270,280,290,300,310,320,330,340,350,360,370,380,390,400,410,420,430,440,450,460,470,480,490,500,510,520,530,540,550,560,570,580,590,600,610,620,630,640,650,660,670,680,690,700,710,720,730,740,750,760,770,780,790,800,810,820,830,840,850,860,870,880,890,900,910,920,930,940,950,960,970,980,990,1000],\"xaxis\":\"x\",\"y\":[-42.04686856893012,284.9928400358743,314.01588983226264,547.9509325022124,681.4366691771595,739.5604065300745,749.828229392503,879.3277983808343,983.3796348647602,1039.347199621385,1114.0118900708662,1182.6258119277884,1251.1366099648046,1326.3356696482404,1358.6756960420944,1383.1589005893866,1452.1694249805128,1430.5201973365893,1450.4454258038686,1485.957074922252,1514.160945278611,1527.2531835944662,1538.550390942868,1536.9889734229605,1597.6699912381198,1624.0992232821573,1667.616624560546,1669.353394989479,1662.5100599411876,1662.4494158774394,1749.6807167044362,1741.3210303863796,1615.6607934724143,1697.111424213206,1693.4941853634766,1747.515423340166,1737.3286428409938,1759.1294186421935,1783.042197155543,1763.2862611618468,1737.3469148548695,1836.1289586022508,1853.2401001884384,1900.0575194089415,1924.689510106488,1886.8096495752263,1857.9395735010355,1844.8604717343287,1802.108889544126,1848.35024598988,1770.2895248141676,1809.021939260699,1814.11113172668,1751.7690481101629,1803.1719589213824,1683.324437057243,1828.5021858313544,1794.243714835647,1767.253139195594,1780.9835515025063,1765.62140560448,1767.3686639495793,1759.299970604251,1712.1896911277197,1666.258849808859,1786.6051905052277,1735.4051000719223,1820.7369558501605,1770.9796665793556,1839.9751509523624,1803.4076791543112,1836.0128095964965,1843.0141327691097,1792.417089038718,1888.0199285182691,1968.196266996164,1936.196879213996,1948.6114880936364,1940.5844574245723,1963.5444738575984,1992.0679246341613,1983.550984227103,1942.3567070177448,2015.823612727885,1885.4826384928397,1984.376601774252,2014.495084765184,2000.1712045024071,1922.5705589372965,1994.918874544658,1980.2199572680888,1969.081158569021,1865.638112558349,1837.3771413676848,1940.976074647943,2037.7701120535717,1980.58617004474,1818.309330954148,1952.041212696399,1911.3780098520845],\"yaxis\":\"y\",\"type\":\"scatter\",\"opacity\":0.7},{\"hovertemplate\":\"algorithm=SFR-2\\u003cbr\\u003eIteration=%{x}\\u003cbr\\u003ereward=%{y}\\u003cextra\\u003e\\u003c\\u002fextra\\u003e\",\"legendgroup\":\"SFR-2\",\"line\":{\"color\":\"#ab63fa\",\"dash\":\"solid\"},\"marker\":{\"symbol\":\"circle\"},\"mode\":\"lines\",\"name\":\"SFR-2\",\"orientation\":\"v\",\"showlegend\":true,\"x\":[10,20,30,40,50,60,70,80,90,100,110,120,130,140,150,160,170,180,190,200,210,220,230,240,250,260,270,280,290,300,310,320,330,340,350,360,370,380,390,400,410,420,430,440,450,460,470,480,490,500,510,520,530,540,550,560,570,580,590,600,610,620,630,640,650,660,670,680,690,700,710,720,730,740,750,760,770,780,790,800,810,820,830,840,850,860,870,880,890,900,910,920,930,940,950,960,970,980,990,1000],\"xaxis\":\"x\",\"y\":[1.461672948974401,1574.4801971841125,2560.5443868811826,2884.2763256651924,3176.228853426273,3376.295016227892,3523.9044242184623,3622.584038527847,3647.52123616729,3844.9010280718767,3843.014552669337,3953.74712527395,4068.366765019202,4498.502715791072,4309.811433488673,4340.34326636928,4379.127337046604,4498.5437638339135,4506.588878655194,4573.957916585778,5050.2706124348015,4976.408677126997,5223.662045574801,5352.294305521508,5251.864698806618,5420.8791793159,5512.8933040028905,5371.641208929726,5385.563398859479,5361.969013335725,5299.846436060574,5363.906291145261,5713.523705123236,5743.226743270421,5606.072145111377,5475.947154950929,5580.947396266408,5775.432512155122,5823.177227104848,5726.269306189473,5794.853997104667,5816.542227124842,5878.537688863352,5848.711389189011,5896.017021728472,5924.294658604705,5810.911677298265,5965.516814847046,5935.141022547539,6029.955092257599,5993.870312232333,5934.229712234894,5955.895408831878,6014.858755709221,6077.766953988941,5978.181021489529,6007.046402902708,6041.523206147044,6015.203345327073,6016.303207593512,6086.585992921805,6177.3783886056135,6074.875780423525,5943.856655839985,6098.144672135545,6030.897154914726,5866.369997420451,6010.801482657526,6071.527705121494,6026.944530261014,6058.888650354271,6165.63486608014,6184.912699085271,6179.876006799259,6101.758881092463,6233.895691792779,6232.462710602175,6259.78738169404,6290.29307039781,6118.722559128964,6176.539766208585,6113.300362691069,6076.714425984202,6247.184774043661,6225.634799346503,6219.660304870498,6243.282430648531,6284.570657488258,6326.991978436601,6191.645779955356,6259.0426077490665,6142.665730315291,6229.080004584559,6397.467306164545,6255.8203327444335,6302.88622878084,6361.820575321754,6318.596009949097,6295.376592071897,6376.115558340002],\"yaxis\":\"y\",\"type\":\"scatter\",\"opacity\":0.7}],                        {\"template\":{\"data\":{\"histogram2dcontour\":[{\"type\":\"histogram2dcontour\",\"colorbar\":{\"outlinewidth\":0,\"ticks\":\"\"},\"colorscale\":[[0.0,\"#0d0887\"],[0.1111111111111111,\"#46039f\"],[0.2222222222222222,\"#7201a8\"],[0.3333333333333333,\"#9c179e\"],[0.4444444444444444,\"#bd3786\"],[0.5555555555555556,\"#d8576b\"],[0.6666666666666666,\"#ed7953\"],[0.7777777777777778,\"#fb9f3a\"],[0.8888888888888888,\"#fdca26\"],[1.0,\"#f0f921\"]]}],\"choropleth\":[{\"type\":\"choropleth\",\"colorbar\":{\"outlinewidth\":0,\"ticks\":\"\"}}],\"histogram2d\":[{\"type\":\"histogram2d\",\"colorbar\":{\"outlinewidth\":0,\"ticks\":\"\"},\"colorscale\":[[0.0,\"#0d0887\"],[0.1111111111111111,\"#46039f\"],[0.2222222222222222,\"#7201a8\"],[0.3333333333333333,\"#9c179e\"],[0.4444444444444444,\"#bd3786\"],[0.5555555555555556,\"#d8576b\"],[0.6666666666666666,\"#ed7953\"],[0.7777777777777778,\"#fb9f3a\"],[0.8888888888888888,\"#fdca26\"],[1.0,\"#f0f921\"]]}],\"heatmap\":[{\"type\":\"heatmap\",\"colorbar\":{\"outlinewidth\":0,\"ticks\":\"\"},\"colorscale\":[[0.0,\"#0d0887\"],[0.1111111111111111,\"#46039f\"],[0.2222222222222222,\"#7201a8\"],[0.3333333333333333,\"#9c179e\"],[0.4444444444444444,\"#bd3786\"],[0.5555555555555556,\"#d8576b\"],[0.6666666666666666,\"#ed7953\"],[0.7777777777777778,\"#fb9f3a\"],[0.8888888888888888,\"#fdca26\"],[1.0,\"#f0f921\"]]}],\"heatmapgl\":[{\"type\":\"heatmapgl\",\"colorbar\":{\"outlinewidth\":0,\"ticks\":\"\"},\"colorscale\":[[0.0,\"#0d0887\"],[0.1111111111111111,\"#46039f\"],[0.2222222222222222,\"#7201a8\"],[0.3333333333333333,\"#9c179e\"],[0.4444444444444444,\"#bd3786\"],[0.5555555555555556,\"#d8576b\"],[0.6666666666666666,\"#ed7953\"],[0.7777777777777778,\"#fb9f3a\"],[0.8888888888888888,\"#fdca26\"],[1.0,\"#f0f921\"]]}],\"contourcarpet\":[{\"type\":\"contourcarpet\",\"colorbar\":{\"outlinewidth\":0,\"ticks\":\"\"}}],\"contour\":[{\"type\":\"contour\",\"colorbar\":{\"outlinewidth\":0,\"ticks\":\"\"},\"colorscale\":[[0.0,\"#0d0887\"],[0.1111111111111111,\"#46039f\"],[0.2222222222222222,\"#7201a8\"],[0.3333333333333333,\"#9c179e\"],[0.4444444444444444,\"#bd3786\"],[0.5555555555555556,\"#d8576b\"],[0.6666666666666666,\"#ed7953\"],[0.7777777777777778,\"#fb9f3a\"],[0.8888888888888888,\"#fdca26\"],[1.0,\"#f0f921\"]]}],\"surface\":[{\"type\":\"surface\",\"colorbar\":{\"outlinewidth\":0,\"ticks\":\"\"},\"colorscale\":[[0.0,\"#0d0887\"],[0.1111111111111111,\"#46039f\"],[0.2222222222222222,\"#7201a8\"],[0.3333333333333333,\"#9c179e\"],[0.4444444444444444,\"#bd3786\"],[0.5555555555555556,\"#d8576b\"],[0.6666666666666666,\"#ed7953\"],[0.7777777777777778,\"#fb9f3a\"],[0.8888888888888888,\"#fdca26\"],[1.0,\"#f0f921\"]]}],\"mesh3d\":[{\"type\":\"mesh3d\",\"colorbar\":{\"outlinewidth\":0,\"ticks\":\"\"}}],\"scatter\":[{\"fillpattern\":{\"fillmode\":\"overlay\",\"size\":10,\"solidity\":0.2},\"type\":\"scatter\"}],\"parcoords\":[{\"type\":\"parcoords\",\"line\":{\"colorbar\":{\"outlinewidth\":0,\"ticks\":\"\"}}}],\"scatterpolargl\":[{\"type\":\"scatterpolargl\",\"marker\":{\"colorbar\":{\"outlinewidth\":0,\"ticks\":\"\"}}}],\"bar\":[{\"error_x\":{\"color\":\"#2a3f5f\"},\"error_y\":{\"color\":\"#2a3f5f\"},\"marker\":{\"line\":{\"color\":\"#E5ECF6\",\"width\":0.5},\"pattern\":{\"fillmode\":\"overlay\",\"size\":10,\"solidity\":0.2}},\"type\":\"bar\"}],\"scattergeo\":[{\"type\":\"scattergeo\",\"marker\":{\"colorbar\":{\"outlinewidth\":0,\"ticks\":\"\"}}}],\"scatterpolar\":[{\"type\":\"scatterpolar\",\"marker\":{\"colorbar\":{\"outlinewidth\":0,\"ticks\":\"\"}}}],\"histogram\":[{\"marker\":{\"pattern\":{\"fillmode\":\"overlay\",\"size\":10,\"solidity\":0.2}},\"type\":\"histogram\"}],\"scattergl\":[{\"type\":\"scattergl\",\"marker\":{\"colorbar\":{\"outlinewidth\":0,\"ticks\":\"\"}}}],\"scatter3d\":[{\"type\":\"scatter3d\",\"line\":{\"colorbar\":{\"outlinewidth\":0,\"ticks\":\"\"}},\"marker\":{\"colorbar\":{\"outlinewidth\":0,\"ticks\":\"\"}}}],\"scattermapbox\":[{\"type\":\"scattermapbox\",\"marker\":{\"colorbar\":{\"outlinewidth\":0,\"ticks\":\"\"}}}],\"scatterternary\":[{\"type\":\"scatterternary\",\"marker\":{\"colorbar\":{\"outlinewidth\":0,\"ticks\":\"\"}}}],\"scattercarpet\":[{\"type\":\"scattercarpet\",\"marker\":{\"colorbar\":{\"outlinewidth\":0,\"ticks\":\"\"}}}],\"carpet\":[{\"aaxis\":{\"endlinecolor\":\"#2a3f5f\",\"gridcolor\":\"white\",\"linecolor\":\"white\",\"minorgridcolor\":\"white\",\"startlinecolor\":\"#2a3f5f\"},\"baxis\":{\"endlinecolor\":\"#2a3f5f\",\"gridcolor\":\"white\",\"linecolor\":\"white\",\"minorgridcolor\":\"white\",\"startlinecolor\":\"#2a3f5f\"},\"type\":\"carpet\"}],\"table\":[{\"cells\":{\"fill\":{\"color\":\"#EBF0F8\"},\"line\":{\"color\":\"white\"}},\"header\":{\"fill\":{\"color\":\"#C8D4E3\"},\"line\":{\"color\":\"white\"}},\"type\":\"table\"}],\"barpolar\":[{\"marker\":{\"line\":{\"color\":\"#E5ECF6\",\"width\":0.5},\"pattern\":{\"fillmode\":\"overlay\",\"size\":10,\"solidity\":0.2}},\"type\":\"barpolar\"}],\"pie\":[{\"automargin\":true,\"type\":\"pie\"}]},\"layout\":{\"autotypenumbers\":\"strict\",\"colorway\":[\"#636efa\",\"#EF553B\",\"#00cc96\",\"#ab63fa\",\"#FFA15A\",\"#19d3f3\",\"#FF6692\",\"#B6E880\",\"#FF97FF\",\"#FECB52\"],\"font\":{\"color\":\"#2a3f5f\"},\"hovermode\":\"closest\",\"hoverlabel\":{\"align\":\"left\"},\"paper_bgcolor\":\"white\",\"plot_bgcolor\":\"#E5ECF6\",\"polar\":{\"bgcolor\":\"#E5ECF6\",\"angularaxis\":{\"gridcolor\":\"white\",\"linecolor\":\"white\",\"ticks\":\"\"},\"radialaxis\":{\"gridcolor\":\"white\",\"linecolor\":\"white\",\"ticks\":\"\"}},\"ternary\":{\"bgcolor\":\"#E5ECF6\",\"aaxis\":{\"gridcolor\":\"white\",\"linecolor\":\"white\",\"ticks\":\"\"},\"baxis\":{\"gridcolor\":\"white\",\"linecolor\":\"white\",\"ticks\":\"\"},\"caxis\":{\"gridcolor\":\"white\",\"linecolor\":\"white\",\"ticks\":\"\"}},\"coloraxis\":{\"colorbar\":{\"outlinewidth\":0,\"ticks\":\"\"}},\"colorscale\":{\"sequential\":[[0.0,\"#0d0887\"],[0.1111111111111111,\"#46039f\"],[0.2222222222222222,\"#7201a8\"],[0.3333333333333333,\"#9c179e\"],[0.4444444444444444,\"#bd3786\"],[0.5555555555555556,\"#d8576b\"],[0.6666666666666666,\"#ed7953\"],[0.7777777777777778,\"#fb9f3a\"],[0.8888888888888888,\"#fdca26\"],[1.0,\"#f0f921\"]],\"sequentialminus\":[[0.0,\"#0d0887\"],[0.1111111111111111,\"#46039f\"],[0.2222222222222222,\"#7201a8\"],[0.3333333333333333,\"#9c179e\"],[0.4444444444444444,\"#bd3786\"],[0.5555555555555556,\"#d8576b\"],[0.6666666666666666,\"#ed7953\"],[0.7777777777777778,\"#fb9f3a\"],[0.8888888888888888,\"#fdca26\"],[1.0,\"#f0f921\"]],\"diverging\":[[0,\"#8e0152\"],[0.1,\"#c51b7d\"],[0.2,\"#de77ae\"],[0.3,\"#f1b6da\"],[0.4,\"#fde0ef\"],[0.5,\"#f7f7f7\"],[0.6,\"#e6f5d0\"],[0.7,\"#b8e186\"],[0.8,\"#7fbc41\"],[0.9,\"#4d9221\"],[1,\"#276419\"]]},\"xaxis\":{\"gridcolor\":\"white\",\"linecolor\":\"white\",\"ticks\":\"\",\"title\":{\"standoff\":15},\"zerolinecolor\":\"white\",\"automargin\":true,\"zerolinewidth\":2},\"yaxis\":{\"gridcolor\":\"white\",\"linecolor\":\"white\",\"ticks\":\"\",\"title\":{\"standoff\":15},\"zerolinecolor\":\"white\",\"automargin\":true,\"zerolinewidth\":2},\"scene\":{\"xaxis\":{\"backgroundcolor\":\"#E5ECF6\",\"gridcolor\":\"white\",\"linecolor\":\"white\",\"showbackground\":true,\"ticks\":\"\",\"zerolinecolor\":\"white\",\"gridwidth\":2},\"yaxis\":{\"backgroundcolor\":\"#E5ECF6\",\"gridcolor\":\"white\",\"linecolor\":\"white\",\"showbackground\":true,\"ticks\":\"\",\"zerolinecolor\":\"white\",\"gridwidth\":2},\"zaxis\":{\"backgroundcolor\":\"#E5ECF6\",\"gridcolor\":\"white\",\"linecolor\":\"white\",\"showbackground\":true,\"ticks\":\"\",\"zerolinecolor\":\"white\",\"gridwidth\":2}},\"shapedefaults\":{\"line\":{\"color\":\"#2a3f5f\"}},\"annotationdefaults\":{\"arrowcolor\":\"#2a3f5f\",\"arrowhead\":0,\"arrowwidth\":1},\"geo\":{\"bgcolor\":\"white\",\"landcolor\":\"#E5ECF6\",\"subunitcolor\":\"white\",\"showland\":true,\"showlakes\":true,\"lakecolor\":\"white\"},\"title\":{\"x\":0.05},\"mapbox\":{\"style\":\"light\"}}},\"xaxis\":{\"anchor\":\"y\",\"domain\":[0.0,1.0],\"title\":{\"text\":\"Iteration\"},\"mirror\":true,\"ticks\":\"outside\",\"showline\":true,\"linecolor\":\"black\",\"gridcolor\":\"lightgrey\"},\"yaxis\":{\"anchor\":\"x\",\"domain\":[0.0,1.0],\"title\":{\"text\":\"Reward\"},\"mirror\":true,\"ticks\":\"outside\",\"showline\":true,\"linecolor\":\"black\",\"gridcolor\":\"lightgrey\"},\"legend\":{\"title\":{\"text\":\"algorithm\"},\"tracegroupgap\":0,\"yanchor\":\"bottom\",\"y\":0.5,\"xanchor\":\"right\",\"x\":0.99},\"margin\":{\"t\":50,\"l\":20,\"r\":20,\"b\":20},\"title\":{\"font\":{\"size\":15},\"text\":\"HalfCheetah-v1\",\"x\":0.53},\"autosize\":false,\"plot_bgcolor\":\"white\",\"width\":500,\"height\":400},                        {\"responsive\": true}                    ).then(function(){\n",
       "                            \n",
       "var gd = document.getElementById('baaf5f96-f055-4933-97d6-e4338ab57be4');\n",
       "var x = new MutationObserver(function (mutations, observer) {{\n",
       "        var display = window.getComputedStyle(gd).display;\n",
       "        if (!display || display === 'none') {{\n",
       "            console.log([gd, 'removed!']);\n",
       "            Plotly.purge(gd);\n",
       "            observer.disconnect();\n",
       "        }}\n",
       "}});\n",
       "\n",
       "// Listen for the removal of the full notebook cells\n",
       "var notebookContainer = gd.closest('#notebook-container');\n",
       "if (notebookContainer) {{\n",
       "    x.observe(notebookContainer, {childList: true});\n",
       "}}\n",
       "\n",
       "// Listen for the clearing of the current output cell\n",
       "var outputEl = gd.closest('.output');\n",
       "if (outputEl) {{\n",
       "    x.observe(outputEl, {childList: true});\n",
       "}}\n",
       "\n",
       "                        })                };                });            </script>        </div>"
      ]
     },
     "metadata": {},
     "output_type": "display_data"
    },
    {
     "data": {
      "application/vnd.plotly.v1+json": {
       "config": {
        "plotlyServerURL": "https://plot.ly"
       },
       "data": [
        {
         "hovertemplate": "algorithm=ARS-1<br>Iteration=%{x}<br>reward=%{y}<extra></extra>",
         "legendgroup": "ARS-1",
         "line": {
          "color": "#636efa",
          "dash": "solid"
         },
         "marker": {
          "symbol": "circle"
         },
         "mode": "lines",
         "name": "ARS-1",
         "opacity": 0.7,
         "orientation": "v",
         "showlegend": true,
         "type": "scatter",
         "x": [
          10,
          20,
          30,
          40,
          50,
          60,
          70,
          80,
          90,
          100,
          110,
          120,
          130,
          140,
          150,
          160,
          170,
          180,
          190,
          200,
          210,
          220,
          230,
          240,
          250,
          260,
          270,
          280,
          290,
          300,
          310,
          320,
          330,
          340,
          350,
          360,
          370,
          380,
          390,
          400,
          410,
          420,
          430,
          440,
          450,
          460,
          470,
          480,
          490,
          500,
          510,
          520,
          530,
          540,
          550,
          560,
          570,
          580,
          590,
          600,
          610,
          620,
          630,
          640,
          650,
          660,
          670,
          680,
          690,
          700,
          710,
          720,
          730,
          740,
          750,
          760,
          770,
          780,
          790,
          800,
          810,
          820,
          830,
          840,
          850,
          860,
          870,
          880,
          890,
          900,
          910,
          920,
          930,
          940,
          950,
          960,
          970,
          980,
          990,
          1000
         ],
         "xaxis": "x",
         "y": [
          79.57280993938446,
          217.3700031715632,
          311.97738690912723,
          318.8697823470831,
          295.1571296554804,
          379.46869580566886,
          147.67162386000155,
          1085.1322203379868,
          2809.3587230831386,
          2998.144770897031,
          2541.680921274424,
          2729.344443441629,
          2715.148928127289,
          2972.5749957418443,
          2993.0083685696127,
          2856.2084032547477,
          711.2989329457283,
          582.1680973124504,
          831.661678378582,
          950.1936722517014,
          1116.27423959136,
          3051.747771167755,
          3036.4791405904293,
          2696.369339259267,
          1318.5073916703464,
          2717.5609712576866,
          2857.529438983202,
          3108.692153581381,
          3187.735833988785,
          3054.741923803091,
          3062.957441749573,
          2865.1766051119566,
          2655.6966109889745,
          2967.352206068039,
          2353.751529740095,
          2972.29748428762,
          2757.810518939495,
          2936.8862277090548,
          2655.821318922639,
          3029.59541021049,
          2511.8406139862536,
          2220.14733821094,
          2565.079600694776,
          2540.039188387394,
          2788.5909668016434,
          2911.358946868181,
          2742.776595673561,
          2908.5831673943994,
          2920.043386541605,
          2986.483517947793,
          2884.418917127848,
          2566.861140437722,
          2961.9363942211867,
          2864.692478660941,
          1833.8399199336768,
          1470.7670336644444,
          2399.6665291416643,
          2020.9170335792005,
          2785.242980885506,
          2678.6173571228983,
          1433.6060353165865,
          2941.6629430133103,
          1739.6306813412905,
          1879.385569486618,
          2071.7769930517675,
          2963.5950052785875,
          3153.440079988241,
          3086.618999375105,
          3035.3523201572893,
          3050.1409919655325,
          3024.010020047426,
          2932.66004783392,
          2874.0257404983045,
          2973.377112935781,
          2873.9132302117346,
          3025.70908626318,
          2950.890531720519,
          2990.2015771704914,
          3087.0582222825287,
          2304.934604908824,
          2802.080990499258,
          3107.543990789056,
          3064.440603365302,
          2970.383437489867,
          2879.4191250085837,
          2923.025410100221,
          2793.7356807786227,
          2468.0088548749686,
          2664.135266430974,
          3039.541619542837,
          3090.214998198748,
          3053.685656260252,
          2957.706551152468,
          2814.105537960529,
          3040.8981837964056,
          3014.1749922049044,
          2955.071550600529,
          3096.2200079149006,
          3095.7550809437034,
          3023.241105159521
         ],
         "yaxis": "y"
        },
        {
         "hovertemplate": "algorithm=ARS-2<br>Iteration=%{x}<br>reward=%{y}<extra></extra>",
         "legendgroup": "ARS-2",
         "line": {
          "color": "#EF553B",
          "dash": "solid"
         },
         "marker": {
          "symbol": "circle"
         },
         "mode": "lines",
         "name": "ARS-2",
         "opacity": 0.7,
         "orientation": "v",
         "showlegend": true,
         "type": "scatter",
         "x": [
          10,
          20,
          30,
          40,
          50,
          60,
          70,
          80,
          90,
          100,
          110,
          120,
          130,
          140,
          150,
          160,
          170,
          180,
          190,
          200,
          210,
          220,
          230,
          240,
          250,
          260,
          270,
          280,
          290,
          300,
          310,
          320,
          330,
          340,
          350,
          360,
          370,
          380,
          390,
          400,
          410,
          420,
          430,
          440,
          450,
          460,
          470,
          480,
          490,
          500,
          510,
          520,
          530,
          540,
          550,
          560,
          570,
          580,
          590,
          600,
          610,
          620,
          630,
          640,
          650,
          660,
          670,
          680,
          690,
          700,
          710,
          720,
          730,
          740,
          750,
          760,
          770,
          780,
          790,
          800,
          810,
          820,
          830,
          840,
          850,
          860,
          870,
          880,
          890,
          900,
          910,
          920,
          930,
          940,
          950,
          960,
          970,
          980,
          990,
          1000
         ],
         "xaxis": "x",
         "y": [
          363.4928492540121,
          1336.498420467973,
          2895.0875475096705,
          3037.258631568551,
          2488.3597610342504,
          2849.731328390837,
          3024.698637612462,
          2899.077269989848,
          3040.18286290288,
          2276.189399808049,
          3186.445739619136,
          3236.85461927414,
          3257.440994070172,
          2246.2056919693946,
          3273.9350067895653,
          3305.677473782897,
          3265.074706327915,
          3295.501512017846,
          3313.3048499405386,
          3311.133221834898,
          3321.707795459628,
          3304.7112884378435,
          3317.0553063464163,
          3037.597482341528,
          3294.355056346059,
          3295.807420578599,
          3316.4716741502284,
          3336.0747603273394,
          3327.9750745475294,
          3332.570097439885,
          3348.9496125602723,
          3338.041260674596,
          3329.0299119973183,
          3349.452333151698,
          3149.9832220357657,
          3270.0083648902178,
          3338.906579743028,
          3264.2370885258915,
          3345.3207184123994,
          2377.510481516123,
          2989.034173282981,
          3311.321706312895,
          3372.595286104679,
          3386.188302758336,
          3387.989680412412,
          2431.740574647188,
          2998.332001423836,
          3493.833505940437,
          3590.41135858953,
          3624.451126283407,
          3625.222548626661,
          3642.409664777517,
          3635.940237847567,
          3533.900094615817,
          3643.46072049737,
          3269.947330110669,
          3651.994229214192,
          3476.446205397844,
          3610.424597913623,
          3345.927435873151,
          3588.254744296074,
          3663.340859082341,
          3661.9003370821474,
          3452.1618582493065,
          3543.3667577654123,
          3662.3867680543663,
          3612.723958282471,
          3631.745086046457,
          3657.735098145604,
          3671.4956688195466,
          3688.5004999899866,
          3690.07154812336,
          3697.694596352577,
          3696.4772900378703,
          3712.926800568104,
          3687.623423429131,
          3687.227207688689,
          3727.19666636467,
          3694.6546926230194,
          3724.0354017025234,
          3737.565987395048,
          3728.2311110794544,
          3726.616896243095,
          3742.624169507623,
          3737.027786850333,
          3713.7747510725258,
          3727.1147916150094,
          3746.820740220546,
          3749.428360468745,
          3752.5037000858783,
          3713.2669117105006,
          3614.233186929822,
          3732.859279831052,
          3697.448752374053,
          3744.0304641711714,
          3752.326911264062,
          3759.856102563738,
          3742.0249191951752,
          3689.600189460516,
          3741.783755288124
         ],
         "yaxis": "y"
        },
        {
         "hovertemplate": "algorithm=SFR-1<br>Iteration=%{x}<br>reward=%{y}<extra></extra>",
         "legendgroup": "SFR-1",
         "line": {
          "color": "#00cc96",
          "dash": "solid"
         },
         "marker": {
          "symbol": "circle"
         },
         "mode": "lines",
         "name": "SFR-1",
         "opacity": 0.7,
         "orientation": "v",
         "showlegend": true,
         "type": "scatter",
         "x": [
          10,
          20,
          30,
          40,
          50,
          60,
          70,
          80,
          90,
          100,
          110,
          120,
          130,
          140,
          150,
          160,
          170,
          180,
          190,
          200,
          210,
          220,
          230,
          240,
          250,
          260,
          270,
          280,
          290,
          300,
          310,
          320,
          330,
          340,
          350,
          360,
          370,
          380,
          390,
          400,
          410,
          420,
          430,
          440,
          450,
          460,
          470,
          480,
          490,
          500,
          510,
          520,
          530,
          540,
          550,
          560,
          570,
          580,
          590,
          600,
          610,
          620,
          630,
          640,
          650,
          660,
          670,
          680,
          690,
          700,
          710,
          720,
          730,
          740,
          750,
          760,
          770,
          780,
          790,
          800,
          810,
          820,
          830,
          840,
          850,
          860,
          870,
          880,
          890,
          900,
          910,
          920,
          930,
          940,
          950,
          960,
          970,
          980,
          990,
          1000
         ],
         "xaxis": "x",
         "y": [
          79.57280993938446,
          217.3700031715632,
          311.97738690912723,
          318.8697823470831,
          295.1571296554804,
          379.46869580566886,
          147.67162386000155,
          1085.1322203379868,
          2809.3587230831386,
          2998.144770897031,
          2541.680921274424,
          2729.344443441629,
          2715.148928127289,
          2972.5749957418443,
          2993.0083685696127,
          2856.2084032547477,
          711.2989329457283,
          582.1680973124504,
          831.661678378582,
          950.1936722517014,
          1116.27423959136,
          3051.747771167755,
          3036.4791405904293,
          2696.369339259267,
          1318.5073916703464,
          2717.5609712576866,
          2857.529438983202,
          3108.692153581381,
          3187.735833988785,
          3054.741923803091,
          3062.957441749573,
          2865.1766051119566,
          2655.6966109889745,
          2967.352206068039,
          2353.751529740095,
          2972.29748428762,
          2757.810518939495,
          2936.8862277090548,
          2655.821318922639,
          3029.59541021049,
          2511.8406139862536,
          2220.14733821094,
          2565.079600694776,
          2540.039188387394,
          2788.5909668016434,
          2911.358946868181,
          2742.776595673561,
          2908.5831673943994,
          2920.043386541605,
          2986.483517947793,
          2884.418917127848,
          2566.861140437722,
          2961.9363942211867,
          2864.692478660941,
          1833.8399199336768,
          1470.7670336644444,
          2399.6665291416643,
          2020.9170335792005,
          2785.242980885506,
          2678.6173571228983,
          1433.6060353165865,
          2941.6629430133103,
          1739.6306813412905,
          1879.385569486618,
          2071.7769930517675,
          2963.5950052785875,
          3153.440079988241,
          3086.618999375105,
          3035.3523201572893,
          3050.1409919655325,
          3024.010020047426,
          2932.66004783392,
          2874.0257404983045,
          2973.377112935781,
          2873.9132302117346,
          3025.70908626318,
          2950.890531720519,
          2990.2015771704914,
          3087.0582222825287,
          2304.934604908824,
          2802.080990499258,
          3107.543990789056,
          3064.440603365302,
          2970.383437489867,
          2879.4191250085837,
          2923.025410100221,
          2793.7356807786227,
          2468.0088548749686,
          2664.135266430974,
          3039.541619542837,
          3090.214998198748,
          3053.685656260252,
          2957.706551152468,
          2814.105537960529,
          3040.8981837964056,
          3014.1749922049044,
          2955.071550600529,
          3096.2200079149006,
          3095.7550809437034,
          3023.241105159521
         ],
         "yaxis": "y"
        },
        {
         "hovertemplate": "algorithm=SFR-2<br>Iteration=%{x}<br>reward=%{y}<extra></extra>",
         "legendgroup": "SFR-2",
         "line": {
          "color": "#ab63fa",
          "dash": "solid"
         },
         "marker": {
          "symbol": "circle"
         },
         "mode": "lines",
         "name": "SFR-2",
         "opacity": 0.7,
         "orientation": "v",
         "showlegend": true,
         "type": "scatter",
         "x": [
          10,
          20,
          30,
          40,
          50,
          60,
          70,
          80,
          90,
          100,
          110,
          120,
          130,
          140,
          150,
          160,
          170,
          180,
          190,
          200,
          210,
          220,
          230,
          240,
          250,
          260,
          270,
          280,
          290,
          300,
          310,
          320,
          330,
          340,
          350,
          360,
          370,
          380,
          390,
          400,
          410,
          420,
          430,
          440,
          450,
          460,
          470,
          480,
          490,
          500,
          510,
          520,
          530,
          540,
          550,
          560,
          570,
          580,
          590,
          600,
          610,
          620,
          630,
          640,
          650,
          660,
          670,
          680,
          690,
          700,
          710,
          720,
          730,
          740,
          750,
          760,
          770,
          780,
          790,
          800,
          810,
          820,
          830,
          840,
          850,
          860,
          870,
          880,
          890,
          900,
          910,
          920,
          930,
          940,
          950,
          960,
          970,
          980,
          990,
          1000
         ],
         "xaxis": "x",
         "y": [
          144.83842838823796,
          179.88179468750954,
          189.82937916517255,
          260.67775987148286,
          536.9091576969623,
          820.8644868922233,
          915.027865191102,
          1121.9152617907523,
          1907.298628000617,
          1963.601870485544,
          2602.245306127071,
          2645.167206031084,
          2455.6400391471384,
          2912.607685502768,
          3023.3946803593635,
          3062.0670935213566,
          3013.239158561229,
          3011.878669558764,
          3043.918803167343,
          3088.36427524209,
          3059.698806325197,
          3110.3086909520625,
          3150.536646564007,
          3170.3649853873253,
          3217.656721317768,
          3173.259707722664,
          3207.4058227705955,
          3217.908892306089,
          3270.8175487720964,
          3272.939360955954,
          3290.626462734938,
          3342.384651994705,
          3376.037835336924,
          3310.63196411252,
          3325.74572342515,
          3359.8155587124825,
          3375.097139402628,
          3349.986567338705,
          3398.1340078246594,
          3374.941280875206,
          3382.0162852180006,
          3434.0882601201533,
          3422.594533301592,
          3445.003513338566,
          3479.9427144360543,
          3477.81486610055,
          3466.356768655777,
          3480.256068584919,
          3490.211895955801,
          3504.893739677668,
          3500.428076257705,
          3527.041500095129,
          3506.921299681664,
          3498.4541378247736,
          3520.2864166605477,
          3479.147418876886,
          3534.4010998129843,
          3536.0759960997107,
          3531.148503342867,
          3521.069338531494,
          3532.783703199625,
          3547.429358278513,
          3564.0387056815625,
          3551.3918318235874,
          3539.306893084049,
          3576.384921653271,
          3572.483601311445,
          3583.646540373564,
          3585.4669683259726,
          3589.095396751165,
          3608.680969942808,
          3576.139772189856,
          3604.222116996646,
          3592.7579023695,
          3597.001484747529,
          3622.15677870512,
          3643.935102158189,
          3638.219609981775,
          3638.53006326437,
          3649.07937328279,
          3642.84233812809,
          3651.8753686445953,
          3641.258257541656,
          3648.049527891874,
          3641.116507885456,
          3621.6553854608537,
          3657.516761882901,
          3650.7110961186886,
          3662.1144295954714,
          3645.880711046457,
          3651.718520677686,
          3631.8963369733096,
          3648.020414006114,
          3650.646710757613,
          3665.614862945676,
          3659.585374387503,
          3668.355921421647,
          3667.566296032667,
          3675.419478141069,
          3673.31030616343
         ],
         "yaxis": "y"
        }
       ],
       "layout": {
        "autosize": false,
        "height": 400,
        "legend": {
         "title": {
          "text": "algorithm"
         },
         "tracegroupgap": 0,
         "x": 0.99,
         "xanchor": "right",
         "y": 0.01,
         "yanchor": "bottom"
        },
        "margin": {
         "b": 20,
         "l": 20,
         "r": 20,
         "t": 50
        },
        "plot_bgcolor": "white",
        "template": {
         "data": {
          "bar": [
           {
            "error_x": {
             "color": "#2a3f5f"
            },
            "error_y": {
             "color": "#2a3f5f"
            },
            "marker": {
             "line": {
              "color": "#E5ECF6",
              "width": 0.5
             },
             "pattern": {
              "fillmode": "overlay",
              "size": 10,
              "solidity": 0.2
             }
            },
            "type": "bar"
           }
          ],
          "barpolar": [
           {
            "marker": {
             "line": {
              "color": "#E5ECF6",
              "width": 0.5
             },
             "pattern": {
              "fillmode": "overlay",
              "size": 10,
              "solidity": 0.2
             }
            },
            "type": "barpolar"
           }
          ],
          "carpet": [
           {
            "aaxis": {
             "endlinecolor": "#2a3f5f",
             "gridcolor": "white",
             "linecolor": "white",
             "minorgridcolor": "white",
             "startlinecolor": "#2a3f5f"
            },
            "baxis": {
             "endlinecolor": "#2a3f5f",
             "gridcolor": "white",
             "linecolor": "white",
             "minorgridcolor": "white",
             "startlinecolor": "#2a3f5f"
            },
            "type": "carpet"
           }
          ],
          "choropleth": [
           {
            "colorbar": {
             "outlinewidth": 0,
             "ticks": ""
            },
            "type": "choropleth"
           }
          ],
          "contour": [
           {
            "colorbar": {
             "outlinewidth": 0,
             "ticks": ""
            },
            "colorscale": [
             [
              0,
              "#0d0887"
             ],
             [
              0.1111111111111111,
              "#46039f"
             ],
             [
              0.2222222222222222,
              "#7201a8"
             ],
             [
              0.3333333333333333,
              "#9c179e"
             ],
             [
              0.4444444444444444,
              "#bd3786"
             ],
             [
              0.5555555555555556,
              "#d8576b"
             ],
             [
              0.6666666666666666,
              "#ed7953"
             ],
             [
              0.7777777777777778,
              "#fb9f3a"
             ],
             [
              0.8888888888888888,
              "#fdca26"
             ],
             [
              1,
              "#f0f921"
             ]
            ],
            "type": "contour"
           }
          ],
          "contourcarpet": [
           {
            "colorbar": {
             "outlinewidth": 0,
             "ticks": ""
            },
            "type": "contourcarpet"
           }
          ],
          "heatmap": [
           {
            "colorbar": {
             "outlinewidth": 0,
             "ticks": ""
            },
            "colorscale": [
             [
              0,
              "#0d0887"
             ],
             [
              0.1111111111111111,
              "#46039f"
             ],
             [
              0.2222222222222222,
              "#7201a8"
             ],
             [
              0.3333333333333333,
              "#9c179e"
             ],
             [
              0.4444444444444444,
              "#bd3786"
             ],
             [
              0.5555555555555556,
              "#d8576b"
             ],
             [
              0.6666666666666666,
              "#ed7953"
             ],
             [
              0.7777777777777778,
              "#fb9f3a"
             ],
             [
              0.8888888888888888,
              "#fdca26"
             ],
             [
              1,
              "#f0f921"
             ]
            ],
            "type": "heatmap"
           }
          ],
          "heatmapgl": [
           {
            "colorbar": {
             "outlinewidth": 0,
             "ticks": ""
            },
            "colorscale": [
             [
              0,
              "#0d0887"
             ],
             [
              0.1111111111111111,
              "#46039f"
             ],
             [
              0.2222222222222222,
              "#7201a8"
             ],
             [
              0.3333333333333333,
              "#9c179e"
             ],
             [
              0.4444444444444444,
              "#bd3786"
             ],
             [
              0.5555555555555556,
              "#d8576b"
             ],
             [
              0.6666666666666666,
              "#ed7953"
             ],
             [
              0.7777777777777778,
              "#fb9f3a"
             ],
             [
              0.8888888888888888,
              "#fdca26"
             ],
             [
              1,
              "#f0f921"
             ]
            ],
            "type": "heatmapgl"
           }
          ],
          "histogram": [
           {
            "marker": {
             "pattern": {
              "fillmode": "overlay",
              "size": 10,
              "solidity": 0.2
             }
            },
            "type": "histogram"
           }
          ],
          "histogram2d": [
           {
            "colorbar": {
             "outlinewidth": 0,
             "ticks": ""
            },
            "colorscale": [
             [
              0,
              "#0d0887"
             ],
             [
              0.1111111111111111,
              "#46039f"
             ],
             [
              0.2222222222222222,
              "#7201a8"
             ],
             [
              0.3333333333333333,
              "#9c179e"
             ],
             [
              0.4444444444444444,
              "#bd3786"
             ],
             [
              0.5555555555555556,
              "#d8576b"
             ],
             [
              0.6666666666666666,
              "#ed7953"
             ],
             [
              0.7777777777777778,
              "#fb9f3a"
             ],
             [
              0.8888888888888888,
              "#fdca26"
             ],
             [
              1,
              "#f0f921"
             ]
            ],
            "type": "histogram2d"
           }
          ],
          "histogram2dcontour": [
           {
            "colorbar": {
             "outlinewidth": 0,
             "ticks": ""
            },
            "colorscale": [
             [
              0,
              "#0d0887"
             ],
             [
              0.1111111111111111,
              "#46039f"
             ],
             [
              0.2222222222222222,
              "#7201a8"
             ],
             [
              0.3333333333333333,
              "#9c179e"
             ],
             [
              0.4444444444444444,
              "#bd3786"
             ],
             [
              0.5555555555555556,
              "#d8576b"
             ],
             [
              0.6666666666666666,
              "#ed7953"
             ],
             [
              0.7777777777777778,
              "#fb9f3a"
             ],
             [
              0.8888888888888888,
              "#fdca26"
             ],
             [
              1,
              "#f0f921"
             ]
            ],
            "type": "histogram2dcontour"
           }
          ],
          "mesh3d": [
           {
            "colorbar": {
             "outlinewidth": 0,
             "ticks": ""
            },
            "type": "mesh3d"
           }
          ],
          "parcoords": [
           {
            "line": {
             "colorbar": {
              "outlinewidth": 0,
              "ticks": ""
             }
            },
            "type": "parcoords"
           }
          ],
          "pie": [
           {
            "automargin": true,
            "type": "pie"
           }
          ],
          "scatter": [
           {
            "fillpattern": {
             "fillmode": "overlay",
             "size": 10,
             "solidity": 0.2
            },
            "type": "scatter"
           }
          ],
          "scatter3d": [
           {
            "line": {
             "colorbar": {
              "outlinewidth": 0,
              "ticks": ""
             }
            },
            "marker": {
             "colorbar": {
              "outlinewidth": 0,
              "ticks": ""
             }
            },
            "type": "scatter3d"
           }
          ],
          "scattercarpet": [
           {
            "marker": {
             "colorbar": {
              "outlinewidth": 0,
              "ticks": ""
             }
            },
            "type": "scattercarpet"
           }
          ],
          "scattergeo": [
           {
            "marker": {
             "colorbar": {
              "outlinewidth": 0,
              "ticks": ""
             }
            },
            "type": "scattergeo"
           }
          ],
          "scattergl": [
           {
            "marker": {
             "colorbar": {
              "outlinewidth": 0,
              "ticks": ""
             }
            },
            "type": "scattergl"
           }
          ],
          "scattermapbox": [
           {
            "marker": {
             "colorbar": {
              "outlinewidth": 0,
              "ticks": ""
             }
            },
            "type": "scattermapbox"
           }
          ],
          "scatterpolar": [
           {
            "marker": {
             "colorbar": {
              "outlinewidth": 0,
              "ticks": ""
             }
            },
            "type": "scatterpolar"
           }
          ],
          "scatterpolargl": [
           {
            "marker": {
             "colorbar": {
              "outlinewidth": 0,
              "ticks": ""
             }
            },
            "type": "scatterpolargl"
           }
          ],
          "scatterternary": [
           {
            "marker": {
             "colorbar": {
              "outlinewidth": 0,
              "ticks": ""
             }
            },
            "type": "scatterternary"
           }
          ],
          "surface": [
           {
            "colorbar": {
             "outlinewidth": 0,
             "ticks": ""
            },
            "colorscale": [
             [
              0,
              "#0d0887"
             ],
             [
              0.1111111111111111,
              "#46039f"
             ],
             [
              0.2222222222222222,
              "#7201a8"
             ],
             [
              0.3333333333333333,
              "#9c179e"
             ],
             [
              0.4444444444444444,
              "#bd3786"
             ],
             [
              0.5555555555555556,
              "#d8576b"
             ],
             [
              0.6666666666666666,
              "#ed7953"
             ],
             [
              0.7777777777777778,
              "#fb9f3a"
             ],
             [
              0.8888888888888888,
              "#fdca26"
             ],
             [
              1,
              "#f0f921"
             ]
            ],
            "type": "surface"
           }
          ],
          "table": [
           {
            "cells": {
             "fill": {
              "color": "#EBF0F8"
             },
             "line": {
              "color": "white"
             }
            },
            "header": {
             "fill": {
              "color": "#C8D4E3"
             },
             "line": {
              "color": "white"
             }
            },
            "type": "table"
           }
          ]
         },
         "layout": {
          "annotationdefaults": {
           "arrowcolor": "#2a3f5f",
           "arrowhead": 0,
           "arrowwidth": 1
          },
          "autotypenumbers": "strict",
          "coloraxis": {
           "colorbar": {
            "outlinewidth": 0,
            "ticks": ""
           }
          },
          "colorscale": {
           "diverging": [
            [
             0,
             "#8e0152"
            ],
            [
             0.1,
             "#c51b7d"
            ],
            [
             0.2,
             "#de77ae"
            ],
            [
             0.3,
             "#f1b6da"
            ],
            [
             0.4,
             "#fde0ef"
            ],
            [
             0.5,
             "#f7f7f7"
            ],
            [
             0.6,
             "#e6f5d0"
            ],
            [
             0.7,
             "#b8e186"
            ],
            [
             0.8,
             "#7fbc41"
            ],
            [
             0.9,
             "#4d9221"
            ],
            [
             1,
             "#276419"
            ]
           ],
           "sequential": [
            [
             0,
             "#0d0887"
            ],
            [
             0.1111111111111111,
             "#46039f"
            ],
            [
             0.2222222222222222,
             "#7201a8"
            ],
            [
             0.3333333333333333,
             "#9c179e"
            ],
            [
             0.4444444444444444,
             "#bd3786"
            ],
            [
             0.5555555555555556,
             "#d8576b"
            ],
            [
             0.6666666666666666,
             "#ed7953"
            ],
            [
             0.7777777777777778,
             "#fb9f3a"
            ],
            [
             0.8888888888888888,
             "#fdca26"
            ],
            [
             1,
             "#f0f921"
            ]
           ],
           "sequentialminus": [
            [
             0,
             "#0d0887"
            ],
            [
             0.1111111111111111,
             "#46039f"
            ],
            [
             0.2222222222222222,
             "#7201a8"
            ],
            [
             0.3333333333333333,
             "#9c179e"
            ],
            [
             0.4444444444444444,
             "#bd3786"
            ],
            [
             0.5555555555555556,
             "#d8576b"
            ],
            [
             0.6666666666666666,
             "#ed7953"
            ],
            [
             0.7777777777777778,
             "#fb9f3a"
            ],
            [
             0.8888888888888888,
             "#fdca26"
            ],
            [
             1,
             "#f0f921"
            ]
           ]
          },
          "colorway": [
           "#636efa",
           "#EF553B",
           "#00cc96",
           "#ab63fa",
           "#FFA15A",
           "#19d3f3",
           "#FF6692",
           "#B6E880",
           "#FF97FF",
           "#FECB52"
          ],
          "font": {
           "color": "#2a3f5f"
          },
          "geo": {
           "bgcolor": "white",
           "lakecolor": "white",
           "landcolor": "#E5ECF6",
           "showlakes": true,
           "showland": true,
           "subunitcolor": "white"
          },
          "hoverlabel": {
           "align": "left"
          },
          "hovermode": "closest",
          "mapbox": {
           "style": "light"
          },
          "paper_bgcolor": "white",
          "plot_bgcolor": "#E5ECF6",
          "polar": {
           "angularaxis": {
            "gridcolor": "white",
            "linecolor": "white",
            "ticks": ""
           },
           "bgcolor": "#E5ECF6",
           "radialaxis": {
            "gridcolor": "white",
            "linecolor": "white",
            "ticks": ""
           }
          },
          "scene": {
           "xaxis": {
            "backgroundcolor": "#E5ECF6",
            "gridcolor": "white",
            "gridwidth": 2,
            "linecolor": "white",
            "showbackground": true,
            "ticks": "",
            "zerolinecolor": "white"
           },
           "yaxis": {
            "backgroundcolor": "#E5ECF6",
            "gridcolor": "white",
            "gridwidth": 2,
            "linecolor": "white",
            "showbackground": true,
            "ticks": "",
            "zerolinecolor": "white"
           },
           "zaxis": {
            "backgroundcolor": "#E5ECF6",
            "gridcolor": "white",
            "gridwidth": 2,
            "linecolor": "white",
            "showbackground": true,
            "ticks": "",
            "zerolinecolor": "white"
           }
          },
          "shapedefaults": {
           "line": {
            "color": "#2a3f5f"
           }
          },
          "ternary": {
           "aaxis": {
            "gridcolor": "white",
            "linecolor": "white",
            "ticks": ""
           },
           "baxis": {
            "gridcolor": "white",
            "linecolor": "white",
            "ticks": ""
           },
           "bgcolor": "#E5ECF6",
           "caxis": {
            "gridcolor": "white",
            "linecolor": "white",
            "ticks": ""
           }
          },
          "title": {
           "x": 0.05
          },
          "xaxis": {
           "automargin": true,
           "gridcolor": "white",
           "linecolor": "white",
           "ticks": "",
           "title": {
            "standoff": 15
           },
           "zerolinecolor": "white",
           "zerolinewidth": 2
          },
          "yaxis": {
           "automargin": true,
           "gridcolor": "white",
           "linecolor": "white",
           "ticks": "",
           "title": {
            "standoff": 15
           },
           "zerolinecolor": "white",
           "zerolinewidth": 2
          }
         }
        },
        "title": {
         "font": {
          "size": 15
         },
         "text": "Hopper-v1",
         "x": 0.53
        },
        "width": 500,
        "xaxis": {
         "anchor": "y",
         "domain": [
          0,
          1
         ],
         "gridcolor": "lightgrey",
         "linecolor": "black",
         "mirror": true,
         "showline": true,
         "ticks": "outside",
         "title": {
          "text": "Iteration"
         }
        },
        "yaxis": {
         "anchor": "x",
         "domain": [
          0,
          1
         ],
         "gridcolor": "lightgrey",
         "linecolor": "black",
         "mirror": true,
         "showline": true,
         "ticks": "outside",
         "title": {
          "text": "Reward"
         }
        }
       }
      },
      "text/html": [
       "<div>                            <div id=\"a0cc11e2-151c-4f2a-8719-5cd4f71ed797\" class=\"plotly-graph-div\" style=\"height:400px; width:500px;\"></div>            <script type=\"text/javascript\">                require([\"plotly\"], function(Plotly) {                    window.PLOTLYENV=window.PLOTLYENV || {};                                    if (document.getElementById(\"a0cc11e2-151c-4f2a-8719-5cd4f71ed797\")) {                    Plotly.newPlot(                        \"a0cc11e2-151c-4f2a-8719-5cd4f71ed797\",                        [{\"hovertemplate\":\"algorithm=ARS-1\\u003cbr\\u003eIteration=%{x}\\u003cbr\\u003ereward=%{y}\\u003cextra\\u003e\\u003c\\u002fextra\\u003e\",\"legendgroup\":\"ARS-1\",\"line\":{\"color\":\"#636efa\",\"dash\":\"solid\"},\"marker\":{\"symbol\":\"circle\"},\"mode\":\"lines\",\"name\":\"ARS-1\",\"orientation\":\"v\",\"showlegend\":true,\"x\":[10,20,30,40,50,60,70,80,90,100,110,120,130,140,150,160,170,180,190,200,210,220,230,240,250,260,270,280,290,300,310,320,330,340,350,360,370,380,390,400,410,420,430,440,450,460,470,480,490,500,510,520,530,540,550,560,570,580,590,600,610,620,630,640,650,660,670,680,690,700,710,720,730,740,750,760,770,780,790,800,810,820,830,840,850,860,870,880,890,900,910,920,930,940,950,960,970,980,990,1000],\"xaxis\":\"x\",\"y\":[79.57280993938446,217.3700031715632,311.97738690912723,318.8697823470831,295.1571296554804,379.46869580566886,147.67162386000155,1085.1322203379868,2809.3587230831386,2998.144770897031,2541.680921274424,2729.344443441629,2715.148928127289,2972.5749957418443,2993.0083685696127,2856.2084032547477,711.2989329457283,582.1680973124504,831.661678378582,950.1936722517014,1116.27423959136,3051.747771167755,3036.4791405904293,2696.369339259267,1318.5073916703464,2717.5609712576866,2857.529438983202,3108.692153581381,3187.735833988785,3054.741923803091,3062.957441749573,2865.1766051119566,2655.6966109889745,2967.352206068039,2353.751529740095,2972.29748428762,2757.810518939495,2936.8862277090548,2655.821318922639,3029.59541021049,2511.8406139862536,2220.14733821094,2565.079600694776,2540.039188387394,2788.5909668016434,2911.358946868181,2742.776595673561,2908.5831673943994,2920.043386541605,2986.483517947793,2884.418917127848,2566.861140437722,2961.9363942211867,2864.692478660941,1833.8399199336768,1470.7670336644444,2399.6665291416643,2020.9170335792005,2785.242980885506,2678.6173571228983,1433.6060353165865,2941.6629430133103,1739.6306813412905,1879.385569486618,2071.7769930517675,2963.5950052785875,3153.440079988241,3086.618999375105,3035.3523201572893,3050.1409919655325,3024.010020047426,2932.66004783392,2874.0257404983045,2973.377112935781,2873.9132302117346,3025.70908626318,2950.890531720519,2990.2015771704914,3087.0582222825287,2304.934604908824,2802.080990499258,3107.543990789056,3064.440603365302,2970.383437489867,2879.4191250085837,2923.025410100221,2793.7356807786227,2468.0088548749686,2664.135266430974,3039.541619542837,3090.214998198748,3053.685656260252,2957.706551152468,2814.105537960529,3040.8981837964056,3014.1749922049044,2955.071550600529,3096.2200079149006,3095.7550809437034,3023.241105159521],\"yaxis\":\"y\",\"type\":\"scatter\",\"opacity\":0.7},{\"hovertemplate\":\"algorithm=ARS-2\\u003cbr\\u003eIteration=%{x}\\u003cbr\\u003ereward=%{y}\\u003cextra\\u003e\\u003c\\u002fextra\\u003e\",\"legendgroup\":\"ARS-2\",\"line\":{\"color\":\"#EF553B\",\"dash\":\"solid\"},\"marker\":{\"symbol\":\"circle\"},\"mode\":\"lines\",\"name\":\"ARS-2\",\"orientation\":\"v\",\"showlegend\":true,\"x\":[10,20,30,40,50,60,70,80,90,100,110,120,130,140,150,160,170,180,190,200,210,220,230,240,250,260,270,280,290,300,310,320,330,340,350,360,370,380,390,400,410,420,430,440,450,460,470,480,490,500,510,520,530,540,550,560,570,580,590,600,610,620,630,640,650,660,670,680,690,700,710,720,730,740,750,760,770,780,790,800,810,820,830,840,850,860,870,880,890,900,910,920,930,940,950,960,970,980,990,1000],\"xaxis\":\"x\",\"y\":[363.4928492540121,1336.498420467973,2895.0875475096705,3037.258631568551,2488.3597610342504,2849.731328390837,3024.698637612462,2899.077269989848,3040.18286290288,2276.189399808049,3186.445739619136,3236.85461927414,3257.440994070172,2246.2056919693946,3273.9350067895653,3305.677473782897,3265.074706327915,3295.501512017846,3313.3048499405386,3311.133221834898,3321.707795459628,3304.7112884378435,3317.0553063464163,3037.597482341528,3294.355056346059,3295.807420578599,3316.4716741502284,3336.0747603273394,3327.9750745475294,3332.570097439885,3348.9496125602723,3338.041260674596,3329.0299119973183,3349.452333151698,3149.9832220357657,3270.0083648902178,3338.906579743028,3264.2370885258915,3345.3207184123994,2377.510481516123,2989.034173282981,3311.321706312895,3372.595286104679,3386.188302758336,3387.989680412412,2431.740574647188,2998.332001423836,3493.833505940437,3590.41135858953,3624.451126283407,3625.222548626661,3642.409664777517,3635.940237847567,3533.900094615817,3643.46072049737,3269.947330110669,3651.994229214192,3476.446205397844,3610.424597913623,3345.927435873151,3588.254744296074,3663.340859082341,3661.9003370821474,3452.1618582493065,3543.3667577654123,3662.3867680543663,3612.723958282471,3631.745086046457,3657.735098145604,3671.4956688195466,3688.5004999899866,3690.07154812336,3697.694596352577,3696.4772900378703,3712.926800568104,3687.623423429131,3687.227207688689,3727.19666636467,3694.6546926230194,3724.0354017025234,3737.565987395048,3728.2311110794544,3726.616896243095,3742.624169507623,3737.027786850333,3713.7747510725258,3727.1147916150094,3746.820740220546,3749.428360468745,3752.5037000858783,3713.2669117105006,3614.233186929822,3732.859279831052,3697.448752374053,3744.0304641711714,3752.326911264062,3759.856102563738,3742.0249191951752,3689.600189460516,3741.783755288124],\"yaxis\":\"y\",\"type\":\"scatter\",\"opacity\":0.7},{\"hovertemplate\":\"algorithm=SFR-1\\u003cbr\\u003eIteration=%{x}\\u003cbr\\u003ereward=%{y}\\u003cextra\\u003e\\u003c\\u002fextra\\u003e\",\"legendgroup\":\"SFR-1\",\"line\":{\"color\":\"#00cc96\",\"dash\":\"solid\"},\"marker\":{\"symbol\":\"circle\"},\"mode\":\"lines\",\"name\":\"SFR-1\",\"orientation\":\"v\",\"showlegend\":true,\"x\":[10,20,30,40,50,60,70,80,90,100,110,120,130,140,150,160,170,180,190,200,210,220,230,240,250,260,270,280,290,300,310,320,330,340,350,360,370,380,390,400,410,420,430,440,450,460,470,480,490,500,510,520,530,540,550,560,570,580,590,600,610,620,630,640,650,660,670,680,690,700,710,720,730,740,750,760,770,780,790,800,810,820,830,840,850,860,870,880,890,900,910,920,930,940,950,960,970,980,990,1000],\"xaxis\":\"x\",\"y\":[79.57280993938446,217.3700031715632,311.97738690912723,318.8697823470831,295.1571296554804,379.46869580566886,147.67162386000155,1085.1322203379868,2809.3587230831386,2998.144770897031,2541.680921274424,2729.344443441629,2715.148928127289,2972.5749957418443,2993.0083685696127,2856.2084032547477,711.2989329457283,582.1680973124504,831.661678378582,950.1936722517014,1116.27423959136,3051.747771167755,3036.4791405904293,2696.369339259267,1318.5073916703464,2717.5609712576866,2857.529438983202,3108.692153581381,3187.735833988785,3054.741923803091,3062.957441749573,2865.1766051119566,2655.6966109889745,2967.352206068039,2353.751529740095,2972.29748428762,2757.810518939495,2936.8862277090548,2655.821318922639,3029.59541021049,2511.8406139862536,2220.14733821094,2565.079600694776,2540.039188387394,2788.5909668016434,2911.358946868181,2742.776595673561,2908.5831673943994,2920.043386541605,2986.483517947793,2884.418917127848,2566.861140437722,2961.9363942211867,2864.692478660941,1833.8399199336768,1470.7670336644444,2399.6665291416643,2020.9170335792005,2785.242980885506,2678.6173571228983,1433.6060353165865,2941.6629430133103,1739.6306813412905,1879.385569486618,2071.7769930517675,2963.5950052785875,3153.440079988241,3086.618999375105,3035.3523201572893,3050.1409919655325,3024.010020047426,2932.66004783392,2874.0257404983045,2973.377112935781,2873.9132302117346,3025.70908626318,2950.890531720519,2990.2015771704914,3087.0582222825287,2304.934604908824,2802.080990499258,3107.543990789056,3064.440603365302,2970.383437489867,2879.4191250085837,2923.025410100221,2793.7356807786227,2468.0088548749686,2664.135266430974,3039.541619542837,3090.214998198748,3053.685656260252,2957.706551152468,2814.105537960529,3040.8981837964056,3014.1749922049044,2955.071550600529,3096.2200079149006,3095.7550809437034,3023.241105159521],\"yaxis\":\"y\",\"type\":\"scatter\",\"opacity\":0.7},{\"hovertemplate\":\"algorithm=SFR-2\\u003cbr\\u003eIteration=%{x}\\u003cbr\\u003ereward=%{y}\\u003cextra\\u003e\\u003c\\u002fextra\\u003e\",\"legendgroup\":\"SFR-2\",\"line\":{\"color\":\"#ab63fa\",\"dash\":\"solid\"},\"marker\":{\"symbol\":\"circle\"},\"mode\":\"lines\",\"name\":\"SFR-2\",\"orientation\":\"v\",\"showlegend\":true,\"x\":[10,20,30,40,50,60,70,80,90,100,110,120,130,140,150,160,170,180,190,200,210,220,230,240,250,260,270,280,290,300,310,320,330,340,350,360,370,380,390,400,410,420,430,440,450,460,470,480,490,500,510,520,530,540,550,560,570,580,590,600,610,620,630,640,650,660,670,680,690,700,710,720,730,740,750,760,770,780,790,800,810,820,830,840,850,860,870,880,890,900,910,920,930,940,950,960,970,980,990,1000],\"xaxis\":\"x\",\"y\":[144.83842838823796,179.88179468750954,189.82937916517255,260.67775987148286,536.9091576969623,820.8644868922233,915.027865191102,1121.9152617907523,1907.298628000617,1963.601870485544,2602.245306127071,2645.167206031084,2455.6400391471384,2912.607685502768,3023.3946803593635,3062.0670935213566,3013.239158561229,3011.878669558764,3043.918803167343,3088.36427524209,3059.698806325197,3110.3086909520625,3150.536646564007,3170.3649853873253,3217.656721317768,3173.259707722664,3207.4058227705955,3217.908892306089,3270.8175487720964,3272.939360955954,3290.626462734938,3342.384651994705,3376.037835336924,3310.63196411252,3325.74572342515,3359.8155587124825,3375.097139402628,3349.986567338705,3398.1340078246594,3374.941280875206,3382.0162852180006,3434.0882601201533,3422.594533301592,3445.003513338566,3479.9427144360543,3477.81486610055,3466.356768655777,3480.256068584919,3490.211895955801,3504.893739677668,3500.428076257705,3527.041500095129,3506.921299681664,3498.4541378247736,3520.2864166605477,3479.147418876886,3534.4010998129843,3536.0759960997107,3531.148503342867,3521.069338531494,3532.783703199625,3547.429358278513,3564.0387056815625,3551.3918318235874,3539.306893084049,3576.384921653271,3572.483601311445,3583.646540373564,3585.4669683259726,3589.095396751165,3608.680969942808,3576.139772189856,3604.222116996646,3592.7579023695,3597.001484747529,3622.15677870512,3643.935102158189,3638.219609981775,3638.53006326437,3649.07937328279,3642.84233812809,3651.8753686445953,3641.258257541656,3648.049527891874,3641.116507885456,3621.6553854608537,3657.516761882901,3650.7110961186886,3662.1144295954714,3645.880711046457,3651.718520677686,3631.8963369733096,3648.020414006114,3650.646710757613,3665.614862945676,3659.585374387503,3668.355921421647,3667.566296032667,3675.419478141069,3673.31030616343],\"yaxis\":\"y\",\"type\":\"scatter\",\"opacity\":0.7}],                        {\"template\":{\"data\":{\"histogram2dcontour\":[{\"type\":\"histogram2dcontour\",\"colorbar\":{\"outlinewidth\":0,\"ticks\":\"\"},\"colorscale\":[[0.0,\"#0d0887\"],[0.1111111111111111,\"#46039f\"],[0.2222222222222222,\"#7201a8\"],[0.3333333333333333,\"#9c179e\"],[0.4444444444444444,\"#bd3786\"],[0.5555555555555556,\"#d8576b\"],[0.6666666666666666,\"#ed7953\"],[0.7777777777777778,\"#fb9f3a\"],[0.8888888888888888,\"#fdca26\"],[1.0,\"#f0f921\"]]}],\"choropleth\":[{\"type\":\"choropleth\",\"colorbar\":{\"outlinewidth\":0,\"ticks\":\"\"}}],\"histogram2d\":[{\"type\":\"histogram2d\",\"colorbar\":{\"outlinewidth\":0,\"ticks\":\"\"},\"colorscale\":[[0.0,\"#0d0887\"],[0.1111111111111111,\"#46039f\"],[0.2222222222222222,\"#7201a8\"],[0.3333333333333333,\"#9c179e\"],[0.4444444444444444,\"#bd3786\"],[0.5555555555555556,\"#d8576b\"],[0.6666666666666666,\"#ed7953\"],[0.7777777777777778,\"#fb9f3a\"],[0.8888888888888888,\"#fdca26\"],[1.0,\"#f0f921\"]]}],\"heatmap\":[{\"type\":\"heatmap\",\"colorbar\":{\"outlinewidth\":0,\"ticks\":\"\"},\"colorscale\":[[0.0,\"#0d0887\"],[0.1111111111111111,\"#46039f\"],[0.2222222222222222,\"#7201a8\"],[0.3333333333333333,\"#9c179e\"],[0.4444444444444444,\"#bd3786\"],[0.5555555555555556,\"#d8576b\"],[0.6666666666666666,\"#ed7953\"],[0.7777777777777778,\"#fb9f3a\"],[0.8888888888888888,\"#fdca26\"],[1.0,\"#f0f921\"]]}],\"heatmapgl\":[{\"type\":\"heatmapgl\",\"colorbar\":{\"outlinewidth\":0,\"ticks\":\"\"},\"colorscale\":[[0.0,\"#0d0887\"],[0.1111111111111111,\"#46039f\"],[0.2222222222222222,\"#7201a8\"],[0.3333333333333333,\"#9c179e\"],[0.4444444444444444,\"#bd3786\"],[0.5555555555555556,\"#d8576b\"],[0.6666666666666666,\"#ed7953\"],[0.7777777777777778,\"#fb9f3a\"],[0.8888888888888888,\"#fdca26\"],[1.0,\"#f0f921\"]]}],\"contourcarpet\":[{\"type\":\"contourcarpet\",\"colorbar\":{\"outlinewidth\":0,\"ticks\":\"\"}}],\"contour\":[{\"type\":\"contour\",\"colorbar\":{\"outlinewidth\":0,\"ticks\":\"\"},\"colorscale\":[[0.0,\"#0d0887\"],[0.1111111111111111,\"#46039f\"],[0.2222222222222222,\"#7201a8\"],[0.3333333333333333,\"#9c179e\"],[0.4444444444444444,\"#bd3786\"],[0.5555555555555556,\"#d8576b\"],[0.6666666666666666,\"#ed7953\"],[0.7777777777777778,\"#fb9f3a\"],[0.8888888888888888,\"#fdca26\"],[1.0,\"#f0f921\"]]}],\"surface\":[{\"type\":\"surface\",\"colorbar\":{\"outlinewidth\":0,\"ticks\":\"\"},\"colorscale\":[[0.0,\"#0d0887\"],[0.1111111111111111,\"#46039f\"],[0.2222222222222222,\"#7201a8\"],[0.3333333333333333,\"#9c179e\"],[0.4444444444444444,\"#bd3786\"],[0.5555555555555556,\"#d8576b\"],[0.6666666666666666,\"#ed7953\"],[0.7777777777777778,\"#fb9f3a\"],[0.8888888888888888,\"#fdca26\"],[1.0,\"#f0f921\"]]}],\"mesh3d\":[{\"type\":\"mesh3d\",\"colorbar\":{\"outlinewidth\":0,\"ticks\":\"\"}}],\"scatter\":[{\"fillpattern\":{\"fillmode\":\"overlay\",\"size\":10,\"solidity\":0.2},\"type\":\"scatter\"}],\"parcoords\":[{\"type\":\"parcoords\",\"line\":{\"colorbar\":{\"outlinewidth\":0,\"ticks\":\"\"}}}],\"scatterpolargl\":[{\"type\":\"scatterpolargl\",\"marker\":{\"colorbar\":{\"outlinewidth\":0,\"ticks\":\"\"}}}],\"bar\":[{\"error_x\":{\"color\":\"#2a3f5f\"},\"error_y\":{\"color\":\"#2a3f5f\"},\"marker\":{\"line\":{\"color\":\"#E5ECF6\",\"width\":0.5},\"pattern\":{\"fillmode\":\"overlay\",\"size\":10,\"solidity\":0.2}},\"type\":\"bar\"}],\"scattergeo\":[{\"type\":\"scattergeo\",\"marker\":{\"colorbar\":{\"outlinewidth\":0,\"ticks\":\"\"}}}],\"scatterpolar\":[{\"type\":\"scatterpolar\",\"marker\":{\"colorbar\":{\"outlinewidth\":0,\"ticks\":\"\"}}}],\"histogram\":[{\"marker\":{\"pattern\":{\"fillmode\":\"overlay\",\"size\":10,\"solidity\":0.2}},\"type\":\"histogram\"}],\"scattergl\":[{\"type\":\"scattergl\",\"marker\":{\"colorbar\":{\"outlinewidth\":0,\"ticks\":\"\"}}}],\"scatter3d\":[{\"type\":\"scatter3d\",\"line\":{\"colorbar\":{\"outlinewidth\":0,\"ticks\":\"\"}},\"marker\":{\"colorbar\":{\"outlinewidth\":0,\"ticks\":\"\"}}}],\"scattermapbox\":[{\"type\":\"scattermapbox\",\"marker\":{\"colorbar\":{\"outlinewidth\":0,\"ticks\":\"\"}}}],\"scatterternary\":[{\"type\":\"scatterternary\",\"marker\":{\"colorbar\":{\"outlinewidth\":0,\"ticks\":\"\"}}}],\"scattercarpet\":[{\"type\":\"scattercarpet\",\"marker\":{\"colorbar\":{\"outlinewidth\":0,\"ticks\":\"\"}}}],\"carpet\":[{\"aaxis\":{\"endlinecolor\":\"#2a3f5f\",\"gridcolor\":\"white\",\"linecolor\":\"white\",\"minorgridcolor\":\"white\",\"startlinecolor\":\"#2a3f5f\"},\"baxis\":{\"endlinecolor\":\"#2a3f5f\",\"gridcolor\":\"white\",\"linecolor\":\"white\",\"minorgridcolor\":\"white\",\"startlinecolor\":\"#2a3f5f\"},\"type\":\"carpet\"}],\"table\":[{\"cells\":{\"fill\":{\"color\":\"#EBF0F8\"},\"line\":{\"color\":\"white\"}},\"header\":{\"fill\":{\"color\":\"#C8D4E3\"},\"line\":{\"color\":\"white\"}},\"type\":\"table\"}],\"barpolar\":[{\"marker\":{\"line\":{\"color\":\"#E5ECF6\",\"width\":0.5},\"pattern\":{\"fillmode\":\"overlay\",\"size\":10,\"solidity\":0.2}},\"type\":\"barpolar\"}],\"pie\":[{\"automargin\":true,\"type\":\"pie\"}]},\"layout\":{\"autotypenumbers\":\"strict\",\"colorway\":[\"#636efa\",\"#EF553B\",\"#00cc96\",\"#ab63fa\",\"#FFA15A\",\"#19d3f3\",\"#FF6692\",\"#B6E880\",\"#FF97FF\",\"#FECB52\"],\"font\":{\"color\":\"#2a3f5f\"},\"hovermode\":\"closest\",\"hoverlabel\":{\"align\":\"left\"},\"paper_bgcolor\":\"white\",\"plot_bgcolor\":\"#E5ECF6\",\"polar\":{\"bgcolor\":\"#E5ECF6\",\"angularaxis\":{\"gridcolor\":\"white\",\"linecolor\":\"white\",\"ticks\":\"\"},\"radialaxis\":{\"gridcolor\":\"white\",\"linecolor\":\"white\",\"ticks\":\"\"}},\"ternary\":{\"bgcolor\":\"#E5ECF6\",\"aaxis\":{\"gridcolor\":\"white\",\"linecolor\":\"white\",\"ticks\":\"\"},\"baxis\":{\"gridcolor\":\"white\",\"linecolor\":\"white\",\"ticks\":\"\"},\"caxis\":{\"gridcolor\":\"white\",\"linecolor\":\"white\",\"ticks\":\"\"}},\"coloraxis\":{\"colorbar\":{\"outlinewidth\":0,\"ticks\":\"\"}},\"colorscale\":{\"sequential\":[[0.0,\"#0d0887\"],[0.1111111111111111,\"#46039f\"],[0.2222222222222222,\"#7201a8\"],[0.3333333333333333,\"#9c179e\"],[0.4444444444444444,\"#bd3786\"],[0.5555555555555556,\"#d8576b\"],[0.6666666666666666,\"#ed7953\"],[0.7777777777777778,\"#fb9f3a\"],[0.8888888888888888,\"#fdca26\"],[1.0,\"#f0f921\"]],\"sequentialminus\":[[0.0,\"#0d0887\"],[0.1111111111111111,\"#46039f\"],[0.2222222222222222,\"#7201a8\"],[0.3333333333333333,\"#9c179e\"],[0.4444444444444444,\"#bd3786\"],[0.5555555555555556,\"#d8576b\"],[0.6666666666666666,\"#ed7953\"],[0.7777777777777778,\"#fb9f3a\"],[0.8888888888888888,\"#fdca26\"],[1.0,\"#f0f921\"]],\"diverging\":[[0,\"#8e0152\"],[0.1,\"#c51b7d\"],[0.2,\"#de77ae\"],[0.3,\"#f1b6da\"],[0.4,\"#fde0ef\"],[0.5,\"#f7f7f7\"],[0.6,\"#e6f5d0\"],[0.7,\"#b8e186\"],[0.8,\"#7fbc41\"],[0.9,\"#4d9221\"],[1,\"#276419\"]]},\"xaxis\":{\"gridcolor\":\"white\",\"linecolor\":\"white\",\"ticks\":\"\",\"title\":{\"standoff\":15},\"zerolinecolor\":\"white\",\"automargin\":true,\"zerolinewidth\":2},\"yaxis\":{\"gridcolor\":\"white\",\"linecolor\":\"white\",\"ticks\":\"\",\"title\":{\"standoff\":15},\"zerolinecolor\":\"white\",\"automargin\":true,\"zerolinewidth\":2},\"scene\":{\"xaxis\":{\"backgroundcolor\":\"#E5ECF6\",\"gridcolor\":\"white\",\"linecolor\":\"white\",\"showbackground\":true,\"ticks\":\"\",\"zerolinecolor\":\"white\",\"gridwidth\":2},\"yaxis\":{\"backgroundcolor\":\"#E5ECF6\",\"gridcolor\":\"white\",\"linecolor\":\"white\",\"showbackground\":true,\"ticks\":\"\",\"zerolinecolor\":\"white\",\"gridwidth\":2},\"zaxis\":{\"backgroundcolor\":\"#E5ECF6\",\"gridcolor\":\"white\",\"linecolor\":\"white\",\"showbackground\":true,\"ticks\":\"\",\"zerolinecolor\":\"white\",\"gridwidth\":2}},\"shapedefaults\":{\"line\":{\"color\":\"#2a3f5f\"}},\"annotationdefaults\":{\"arrowcolor\":\"#2a3f5f\",\"arrowhead\":0,\"arrowwidth\":1},\"geo\":{\"bgcolor\":\"white\",\"landcolor\":\"#E5ECF6\",\"subunitcolor\":\"white\",\"showland\":true,\"showlakes\":true,\"lakecolor\":\"white\"},\"title\":{\"x\":0.05},\"mapbox\":{\"style\":\"light\"}}},\"xaxis\":{\"anchor\":\"y\",\"domain\":[0.0,1.0],\"title\":{\"text\":\"Iteration\"},\"mirror\":true,\"ticks\":\"outside\",\"showline\":true,\"linecolor\":\"black\",\"gridcolor\":\"lightgrey\"},\"yaxis\":{\"anchor\":\"x\",\"domain\":[0.0,1.0],\"title\":{\"text\":\"Reward\"},\"mirror\":true,\"ticks\":\"outside\",\"showline\":true,\"linecolor\":\"black\",\"gridcolor\":\"lightgrey\"},\"legend\":{\"title\":{\"text\":\"algorithm\"},\"tracegroupgap\":0,\"yanchor\":\"bottom\",\"y\":0.01,\"xanchor\":\"right\",\"x\":0.99},\"margin\":{\"t\":50,\"l\":20,\"r\":20,\"b\":20},\"title\":{\"font\":{\"size\":15},\"text\":\"Hopper-v1\",\"x\":0.53},\"autosize\":false,\"plot_bgcolor\":\"white\",\"width\":500,\"height\":400},                        {\"responsive\": true}                    ).then(function(){\n",
       "                            \n",
       "var gd = document.getElementById('a0cc11e2-151c-4f2a-8719-5cd4f71ed797');\n",
       "var x = new MutationObserver(function (mutations, observer) {{\n",
       "        var display = window.getComputedStyle(gd).display;\n",
       "        if (!display || display === 'none') {{\n",
       "            console.log([gd, 'removed!']);\n",
       "            Plotly.purge(gd);\n",
       "            observer.disconnect();\n",
       "        }}\n",
       "}});\n",
       "\n",
       "// Listen for the removal of the full notebook cells\n",
       "var notebookContainer = gd.closest('#notebook-container');\n",
       "if (notebookContainer) {{\n",
       "    x.observe(notebookContainer, {childList: true});\n",
       "}}\n",
       "\n",
       "// Listen for the clearing of the current output cell\n",
       "var outputEl = gd.closest('.output');\n",
       "if (outputEl) {{\n",
       "    x.observe(outputEl, {childList: true});\n",
       "}}\n",
       "\n",
       "                        })                };                });            </script>        </div>"
      ]
     },
     "metadata": {},
     "output_type": "display_data"
    },
    {
     "data": {
      "application/vnd.plotly.v1+json": {
       "config": {
        "plotlyServerURL": "https://plot.ly"
       },
       "data": [
        {
         "hovertemplate": "algorithm=ARS-1<br>Iteration=%{x}<br>reward=%{y}<extra></extra>",
         "legendgroup": "ARS-1",
         "line": {
          "color": "#636efa",
          "dash": "solid"
         },
         "marker": {
          "symbol": "circle"
         },
         "mode": "lines",
         "name": "ARS-1",
         "opacity": 0.7,
         "orientation": "v",
         "showlegend": true,
         "type": "scatter",
         "x": [
          10,
          20,
          30,
          40,
          50,
          60,
          70,
          80,
          90,
          100,
          110,
          120,
          130,
          140,
          150,
          160,
          170,
          180,
          190,
          200,
          210,
          220,
          230,
          240,
          250,
          260,
          270,
          280,
          290,
          300,
          310,
          320,
          330,
          340,
          350,
          360,
          370,
          380,
          390,
          400,
          410,
          420,
          430,
          440,
          450,
          460,
          470,
          480,
          490,
          500,
          510,
          520,
          530,
          540,
          550,
          560,
          570,
          580,
          590,
          600,
          610,
          620,
          630,
          640,
          650,
          660,
          670,
          680,
          690,
          700,
          710,
          720,
          730,
          740,
          750,
          760,
          770,
          780,
          790,
          800,
          810,
          820,
          830,
          840,
          850,
          860,
          870,
          880,
          890,
          900,
          910,
          920,
          930,
          940,
          950,
          960,
          970,
          980,
          990,
          1000
         ],
         "xaxis": "x",
         "y": [
          350.4665132665634,
          506.6118012833595,
          486.177058172822,
          494.721253951788,
          580.9590122580528,
          557.7512128850817,
          571.6525189740955,
          527.7984730125963,
          583.4089477104321,
          602.7285864237091,
          548.5736002553068,
          547.2782203966751,
          552.4907074654848,
          539.7067473624274,
          576.8069907276891,
          582.3750073710085,
          553.149791203551,
          548.4850589955225,
          549.1987873183191,
          546.6931237852573,
          559.1502498704195,
          570.6763588412106,
          587.820656671971,
          579.4020885868371,
          562.3013499218225,
          601.7556283137202,
          698.3306460263068,
          690.4972942917049,
          667.4561422617547,
          687.0336698773503,
          689.9410120578483,
          787.5698756464943,
          817.3303496028483,
          756.1095541097596,
          780.6971480925381,
          760.7805396090448,
          788.9608625060087,
          798.4323087497428,
          799.1190291227214,
          852.135566195324,
          917.9452576313168,
          1046.603905161768,
          1084.4796837897552,
          1128.650023570247,
          1137.747228503786,
          1231.8331721270456,
          1225.930821441002,
          1202.86194597058,
          1395.6335660065724,
          1646.100492908191,
          1489.8628994420474,
          1716.6147428268428,
          1998.658849457172,
          2612.838561308942,
          3211.515732282102,
          3964.986351155229,
          4127.908297897018,
          4393.799440191388,
          4281.578356946102,
          4375.751541473344,
          4520.20661122255,
          4605.389878487438,
          4730.952395481047,
          4726.520737114027,
          4724.027180850506,
          4617.623221791219,
          4526.748932231385,
          4409.720699397028,
          4421.606171176173,
          4312.876730294265,
          4495.29297880292,
          4277.672912374437,
          3905.580407831889,
          4323.965083279833,
          4115.584088347787,
          4066.0961102134406,
          3827.248833633016,
          4052.111817161836,
          3982.8381729568414,
          3963.5633081864426,
          3663.206874411487,
          3744.9459692152423,
          3780.362019537077,
          3979.991482313928,
          1674.232184559903,
          3651.713204020101,
          3255.9405643300724,
          3654.678266047101,
          3260.872435490512,
          3267.761104822047,
          2953.383461652317,
          3496.2432889303223,
          3430.431339951878,
          3190.513614690542,
          3086.769340033912,
          2988.571654246301,
          3191.042715303028,
          3225.5539460866235,
          3279.8679434488995,
          3294.1008184613142
         ],
         "yaxis": "y"
        },
        {
         "hovertemplate": "algorithm=ARS-2<br>Iteration=%{x}<br>reward=%{y}<extra></extra>",
         "legendgroup": "ARS-2",
         "line": {
          "color": "#EF553B",
          "dash": "solid"
         },
         "marker": {
          "symbol": "circle"
         },
         "mode": "lines",
         "name": "ARS-2",
         "opacity": 0.7,
         "orientation": "v",
         "showlegend": true,
         "type": "scatter",
         "x": [
          10,
          20,
          30,
          40,
          50,
          60,
          70,
          80,
          90,
          100,
          110,
          120,
          130,
          140,
          150,
          160,
          170,
          180,
          190,
          200,
          210,
          220,
          230,
          240,
          250,
          260,
          270,
          280,
          290,
          300,
          310,
          320,
          330,
          340,
          350,
          360,
          370,
          380,
          390,
          400,
          410,
          420,
          430,
          440,
          450,
          460,
          470,
          480,
          490,
          500,
          510,
          520,
          530,
          540,
          550,
          560,
          570,
          580,
          590,
          600,
          610,
          620,
          630,
          640,
          650,
          660,
          670,
          680,
          690,
          700,
          710,
          720,
          730,
          740,
          750,
          760,
          770,
          780,
          790,
          800,
          810,
          820,
          830,
          840,
          850,
          860,
          870,
          880,
          890,
          900,
          910,
          920,
          930,
          940,
          950,
          960,
          970,
          980,
          990,
          1000
         ],
         "xaxis": "x",
         "y": [
          408.9164542579651,
          484.85735313892366,
          529.4310566115379,
          577.2679894685746,
          554.8800528216362,
          587.4393037438392,
          606.3438917398453,
          555.899377008304,
          577.876248319149,
          597.8967506670951,
          585.1269712263346,
          563.4988963341713,
          576.5300600361824,
          576.5231590676308,
          604.5609625005723,
          574.5486368989945,
          589.2218552708625,
          585.7377728009224,
          591.483759701252,
          598.6325587058068,
          575.4389146780968,
          601.5532117080688,
          593.4886723828316,
          594.2006121349335,
          584.5523398208618,
          612.231900165081,
          582.6964348363877,
          608.1194684267044,
          612.2386438393593,
          596.070846710205,
          582.0788529998064,
          566.7505699181556,
          581.5146840333939,
          608.3543964099885,
          606.5601592934131,
          613.3826278042793,
          595.4755235886573,
          643.8156839907169,
          597.8239509606361,
          593.8418019592762,
          618.2280941283702,
          642.3448544204235,
          649.3091997134685,
          680.7469073659181,
          711.270950164795,
          757.5884939074516,
          810.3429567098617,
          900.6329599869251,
          954.9167703080176,
          1071.0413402661682,
          1626.5664008374513,
          3208.209976510704,
          4985.199477908612,
          5042.080976834297,
          5107.113141226769,
          5329.155064601899,
          5467.882792553902,
          5570.506346216202,
          5661.482188601494,
          5777.617192397118,
          5924.391453726292,
          6048.575823693275,
          6146.045776557922,
          6241.129012541771,
          6345.581482784748,
          6462.816302280426,
          6523.353846101761,
          6626.202546160221,
          6737.05777736187,
          6804.87311463356,
          6922.615200629234,
          6960.472811419964,
          7015.698334310055,
          7107.239377613068,
          7178.408833825588,
          7219.20112600565,
          7227.470337460041,
          7262.387101061344,
          7290.977931213379,
          7353.1145670938495,
          7400.861300308705,
          7471.946698210239,
          7475.652732293605,
          7528.757703878879,
          7533.522675776481,
          7566.016535434723,
          7546.58653968811,
          7579.3050135040285,
          7628.679946124554,
          7640.542206757069,
          7650.793514432907,
          7707.768009290695,
          7725.322774188518,
          7788.140047632456,
          7800.009744262696,
          7850.482288093567,
          7846.143191914558,
          7865.275496404171,
          7883.410208269358,
          7934.4940701520445
         ],
         "yaxis": "y"
        },
        {
         "hovertemplate": "algorithm=SFR-1<br>Iteration=%{x}<br>reward=%{y}<extra></extra>",
         "legendgroup": "SFR-1",
         "line": {
          "color": "#00cc96",
          "dash": "solid"
         },
         "marker": {
          "symbol": "circle"
         },
         "mode": "lines",
         "name": "SFR-1",
         "opacity": 0.7,
         "orientation": "v",
         "showlegend": true,
         "type": "scatter",
         "x": [
          10,
          20,
          30,
          40,
          50,
          60,
          70,
          80,
          90,
          100,
          110,
          120,
          130,
          140,
          150,
          160,
          170,
          180,
          190,
          200,
          210,
          220,
          230,
          240,
          250,
          260,
          270,
          280,
          290,
          300,
          310,
          320,
          330,
          340,
          350,
          360,
          370,
          380,
          390,
          400,
          410,
          420,
          430,
          440,
          450,
          460,
          470,
          480,
          490,
          500,
          510,
          520,
          530,
          540,
          550,
          560,
          570,
          580,
          590,
          600,
          610,
          620,
          630,
          640,
          650,
          660,
          670,
          680,
          690,
          700,
          710,
          720,
          730,
          740,
          750,
          760,
          770,
          780,
          790,
          800,
          810,
          820,
          830,
          840,
          850,
          860,
          870,
          880,
          890,
          900,
          910,
          920,
          930,
          940,
          950,
          960,
          970,
          980,
          990,
          1000
         ],
         "xaxis": "x",
         "y": [
          361.33164583683015,
          338.2147450876236,
          391.7606852006912,
          365.7534182071686,
          391.7521956586838,
          338.1363994026184,
          366.364176735878,
          361.7026764011383,
          424.0477558660507,
          390.941452126503,
          408.4779252958298,
          455.81132626771927,
          426.86876439094544,
          438.5165131187439,
          393.103101284504,
          408.2033294034004,
          394.7435651427508,
          379.8733287537098,
          389.6297937631607,
          401.026848385334,
          370.3779181241989,
          404.5511996150017,
          390.8926660871506,
          399.416380879879,
          448.9584233957529,
          398.01250351190566,
          452.9611980739981,
          487.16913256019353,
          497.40011856744064,
          509.2672517961264,
          521.3373493033647,
          467.5607956802845,
          551.3422249352932,
          508.55409325085583,
          467.9430817363411,
          529.1939399898052,
          490.3914636737108,
          518.2877648509294,
          526.6612101035705,
          533.3592809087783,
          508.9064220970311,
          531.4684586068615,
          520.930184057029,
          501.0644699696638,
          494.7072315445915,
          490.6302063038573,
          511.4523779615853,
          495.40559691026806,
          519.7095643997355,
          509.0769430591166,
          503.06807750980136,
          506.8638332374114,
          514.0910676824116,
          523.4638277681148,
          512.6304693561048,
          511.1089390644431,
          512.4569575242698,
          501.2327085149474,
          507.7098128278926,
          503.49503533181735,
          523.0470014114678,
          508.6533560450375,
          492.09042596954384,
          520.6467740775645,
          537.2461114024743,
          521.133350943476,
          557.2711581900716,
          551.4866905808822,
          561.7429725671559,
          562.1718910118938,
          535.9894623613358,
          553.0191525030136,
          520.7442890000343,
          562.8323562772945,
          520.318234134987,
          551.6147269164026,
          531.2191662978753,
          536.2001308287307,
          545.0807497465611,
          507.5399516553711,
          535.5824373976142,
          539.5332420907914,
          515.3244142666086,
          518.6828689201176,
          501.1007891474664,
          518.5559760735929,
          578.9951334835752,
          565.8250403099507,
          538.9892484765872,
          572.4046862339974,
          596.9093152778223,
          570.358954523988,
          553.2758730880917,
          575.2865973868221,
          596.6655848704814,
          573.4681878477708,
          578.2347046557813,
          622.8134624817316,
          613.8828664854169,
          581.8763634929061
         ],
         "yaxis": "y"
        },
        {
         "hovertemplate": "algorithm=SFR-2<br>Iteration=%{x}<br>reward=%{y}<extra></extra>",
         "legendgroup": "SFR-2",
         "line": {
          "color": "#ab63fa",
          "dash": "solid"
         },
         "marker": {
          "symbol": "circle"
         },
         "mode": "lines",
         "name": "SFR-2",
         "opacity": 0.7,
         "orientation": "v",
         "showlegend": true,
         "type": "scatter",
         "x": [
          10,
          20,
          30,
          40,
          50,
          60,
          70,
          80,
          90,
          100,
          110,
          120,
          130,
          140,
          150,
          160,
          170,
          180,
          190,
          200,
          210,
          220,
          230,
          240,
          250,
          260,
          270,
          280,
          290,
          300,
          310,
          320,
          330,
          340,
          350,
          360,
          370,
          380,
          390,
          400,
          410,
          420,
          430,
          440,
          450,
          460,
          470,
          480,
          490,
          500,
          510,
          520,
          530,
          540,
          550,
          560,
          570,
          580,
          590,
          600,
          610,
          620,
          630,
          640,
          650,
          660,
          670,
          680,
          690,
          700,
          710,
          720,
          730,
          740,
          750,
          760,
          770,
          780,
          790,
          800,
          810,
          820,
          830,
          840,
          850,
          860,
          870,
          880,
          890,
          900,
          910,
          920,
          930,
          940,
          950,
          960,
          970,
          980,
          990,
          1000
         ],
         "xaxis": "x",
         "y": [
          434.9768766403198,
          416.8251193857193,
          464.305708770752,
          468.39369302749634,
          510.2784191536903,
          542.3398716616631,
          552.6058951783181,
          570.26802277565,
          571.1524072742462,
          587.3020033288002,
          584.4655059933663,
          603.9233850836754,
          585.2527864336968,
          587.7806129169464,
          592.5884845709801,
          603.7898235225678,
          568.6206175661086,
          606.473500288725,
          587.8569677110016,
          593.1347993326187,
          593.5334849834442,
          605.2119158056379,
          595.7080784225464,
          580.7700524210929,
          598.3852098965644,
          601.8079870381952,
          585.0470967626571,
          599.8017019176483,
          612.9874284815788,
          605.2247663497925,
          583.3125774216652,
          619.9816891622544,
          604.031435084343,
          590.7591086864471,
          639.9164153289795,
          577.6207745981217,
          609.2570807909965,
          608.592183394432,
          611.1460686397553,
          631.1684332799912,
          623.3706188130378,
          631.6362001562119,
          657.4812625694275,
          682.6199808239937,
          889.8393342041969,
          1285.8600918960572,
          1841.0058813166615,
          3703.798135182261,
          5059.141315273047,
          5263.237477252484,
          5296.413571481705,
          5344.06413163662,
          5375.470072259903,
          5355.669174094201,
          5366.9501287555695,
          5389.103878164291,
          5413.608623361588,
          5438.18966152668,
          5458.866271672249,
          5490.103288640976,
          5465.285624332428,
          5481.066954545975,
          5474.073591709137,
          5525.891588187218,
          5524.712884721756,
          5538.681860370636,
          5578.271752696037,
          5612.485132739544,
          5604.975727701187,
          5655.996501607895,
          5652.923781371117,
          5705.524011468888,
          5737.956975855827,
          5759.703511660099,
          5793.248676695824,
          5805.488459498883,
          5782.39020642519,
          5840.872613525391,
          5892.937061603069,
          5916.889117836952,
          5936.599261994362,
          5928.743426067829,
          5935.131003022194,
          5948.366187725067,
          5953.7776816272735,
          5957.056737792492,
          5983.599465997219,
          6015.175293793678,
          6021.418161683083,
          6020.508588936329,
          6084.453155899048,
          6066.926747324466,
          6108.852351965904,
          6112.135175263882,
          6124.381549510956,
          6158.2047909402845,
          6169.133918864727,
          6171.089795031548,
          6231.180331388712,
          6262.246057218314
         ],
         "yaxis": "y"
        }
       ],
       "layout": {
        "autosize": false,
        "height": 400,
        "legend": {
         "title": {
          "text": "algorithm"
         },
         "tracegroupgap": 0,
         "x": 0,
         "xanchor": "left",
         "y": 0.5,
         "yanchor": "bottom"
        },
        "margin": {
         "b": 20,
         "l": 20,
         "r": 20,
         "t": 50
        },
        "plot_bgcolor": "white",
        "template": {
         "data": {
          "bar": [
           {
            "error_x": {
             "color": "#2a3f5f"
            },
            "error_y": {
             "color": "#2a3f5f"
            },
            "marker": {
             "line": {
              "color": "#E5ECF6",
              "width": 0.5
             },
             "pattern": {
              "fillmode": "overlay",
              "size": 10,
              "solidity": 0.2
             }
            },
            "type": "bar"
           }
          ],
          "barpolar": [
           {
            "marker": {
             "line": {
              "color": "#E5ECF6",
              "width": 0.5
             },
             "pattern": {
              "fillmode": "overlay",
              "size": 10,
              "solidity": 0.2
             }
            },
            "type": "barpolar"
           }
          ],
          "carpet": [
           {
            "aaxis": {
             "endlinecolor": "#2a3f5f",
             "gridcolor": "white",
             "linecolor": "white",
             "minorgridcolor": "white",
             "startlinecolor": "#2a3f5f"
            },
            "baxis": {
             "endlinecolor": "#2a3f5f",
             "gridcolor": "white",
             "linecolor": "white",
             "minorgridcolor": "white",
             "startlinecolor": "#2a3f5f"
            },
            "type": "carpet"
           }
          ],
          "choropleth": [
           {
            "colorbar": {
             "outlinewidth": 0,
             "ticks": ""
            },
            "type": "choropleth"
           }
          ],
          "contour": [
           {
            "colorbar": {
             "outlinewidth": 0,
             "ticks": ""
            },
            "colorscale": [
             [
              0,
              "#0d0887"
             ],
             [
              0.1111111111111111,
              "#46039f"
             ],
             [
              0.2222222222222222,
              "#7201a8"
             ],
             [
              0.3333333333333333,
              "#9c179e"
             ],
             [
              0.4444444444444444,
              "#bd3786"
             ],
             [
              0.5555555555555556,
              "#d8576b"
             ],
             [
              0.6666666666666666,
              "#ed7953"
             ],
             [
              0.7777777777777778,
              "#fb9f3a"
             ],
             [
              0.8888888888888888,
              "#fdca26"
             ],
             [
              1,
              "#f0f921"
             ]
            ],
            "type": "contour"
           }
          ],
          "contourcarpet": [
           {
            "colorbar": {
             "outlinewidth": 0,
             "ticks": ""
            },
            "type": "contourcarpet"
           }
          ],
          "heatmap": [
           {
            "colorbar": {
             "outlinewidth": 0,
             "ticks": ""
            },
            "colorscale": [
             [
              0,
              "#0d0887"
             ],
             [
              0.1111111111111111,
              "#46039f"
             ],
             [
              0.2222222222222222,
              "#7201a8"
             ],
             [
              0.3333333333333333,
              "#9c179e"
             ],
             [
              0.4444444444444444,
              "#bd3786"
             ],
             [
              0.5555555555555556,
              "#d8576b"
             ],
             [
              0.6666666666666666,
              "#ed7953"
             ],
             [
              0.7777777777777778,
              "#fb9f3a"
             ],
             [
              0.8888888888888888,
              "#fdca26"
             ],
             [
              1,
              "#f0f921"
             ]
            ],
            "type": "heatmap"
           }
          ],
          "heatmapgl": [
           {
            "colorbar": {
             "outlinewidth": 0,
             "ticks": ""
            },
            "colorscale": [
             [
              0,
              "#0d0887"
             ],
             [
              0.1111111111111111,
              "#46039f"
             ],
             [
              0.2222222222222222,
              "#7201a8"
             ],
             [
              0.3333333333333333,
              "#9c179e"
             ],
             [
              0.4444444444444444,
              "#bd3786"
             ],
             [
              0.5555555555555556,
              "#d8576b"
             ],
             [
              0.6666666666666666,
              "#ed7953"
             ],
             [
              0.7777777777777778,
              "#fb9f3a"
             ],
             [
              0.8888888888888888,
              "#fdca26"
             ],
             [
              1,
              "#f0f921"
             ]
            ],
            "type": "heatmapgl"
           }
          ],
          "histogram": [
           {
            "marker": {
             "pattern": {
              "fillmode": "overlay",
              "size": 10,
              "solidity": 0.2
             }
            },
            "type": "histogram"
           }
          ],
          "histogram2d": [
           {
            "colorbar": {
             "outlinewidth": 0,
             "ticks": ""
            },
            "colorscale": [
             [
              0,
              "#0d0887"
             ],
             [
              0.1111111111111111,
              "#46039f"
             ],
             [
              0.2222222222222222,
              "#7201a8"
             ],
             [
              0.3333333333333333,
              "#9c179e"
             ],
             [
              0.4444444444444444,
              "#bd3786"
             ],
             [
              0.5555555555555556,
              "#d8576b"
             ],
             [
              0.6666666666666666,
              "#ed7953"
             ],
             [
              0.7777777777777778,
              "#fb9f3a"
             ],
             [
              0.8888888888888888,
              "#fdca26"
             ],
             [
              1,
              "#f0f921"
             ]
            ],
            "type": "histogram2d"
           }
          ],
          "histogram2dcontour": [
           {
            "colorbar": {
             "outlinewidth": 0,
             "ticks": ""
            },
            "colorscale": [
             [
              0,
              "#0d0887"
             ],
             [
              0.1111111111111111,
              "#46039f"
             ],
             [
              0.2222222222222222,
              "#7201a8"
             ],
             [
              0.3333333333333333,
              "#9c179e"
             ],
             [
              0.4444444444444444,
              "#bd3786"
             ],
             [
              0.5555555555555556,
              "#d8576b"
             ],
             [
              0.6666666666666666,
              "#ed7953"
             ],
             [
              0.7777777777777778,
              "#fb9f3a"
             ],
             [
              0.8888888888888888,
              "#fdca26"
             ],
             [
              1,
              "#f0f921"
             ]
            ],
            "type": "histogram2dcontour"
           }
          ],
          "mesh3d": [
           {
            "colorbar": {
             "outlinewidth": 0,
             "ticks": ""
            },
            "type": "mesh3d"
           }
          ],
          "parcoords": [
           {
            "line": {
             "colorbar": {
              "outlinewidth": 0,
              "ticks": ""
             }
            },
            "type": "parcoords"
           }
          ],
          "pie": [
           {
            "automargin": true,
            "type": "pie"
           }
          ],
          "scatter": [
           {
            "fillpattern": {
             "fillmode": "overlay",
             "size": 10,
             "solidity": 0.2
            },
            "type": "scatter"
           }
          ],
          "scatter3d": [
           {
            "line": {
             "colorbar": {
              "outlinewidth": 0,
              "ticks": ""
             }
            },
            "marker": {
             "colorbar": {
              "outlinewidth": 0,
              "ticks": ""
             }
            },
            "type": "scatter3d"
           }
          ],
          "scattercarpet": [
           {
            "marker": {
             "colorbar": {
              "outlinewidth": 0,
              "ticks": ""
             }
            },
            "type": "scattercarpet"
           }
          ],
          "scattergeo": [
           {
            "marker": {
             "colorbar": {
              "outlinewidth": 0,
              "ticks": ""
             }
            },
            "type": "scattergeo"
           }
          ],
          "scattergl": [
           {
            "marker": {
             "colorbar": {
              "outlinewidth": 0,
              "ticks": ""
             }
            },
            "type": "scattergl"
           }
          ],
          "scattermapbox": [
           {
            "marker": {
             "colorbar": {
              "outlinewidth": 0,
              "ticks": ""
             }
            },
            "type": "scattermapbox"
           }
          ],
          "scatterpolar": [
           {
            "marker": {
             "colorbar": {
              "outlinewidth": 0,
              "ticks": ""
             }
            },
            "type": "scatterpolar"
           }
          ],
          "scatterpolargl": [
           {
            "marker": {
             "colorbar": {
              "outlinewidth": 0,
              "ticks": ""
             }
            },
            "type": "scatterpolargl"
           }
          ],
          "scatterternary": [
           {
            "marker": {
             "colorbar": {
              "outlinewidth": 0,
              "ticks": ""
             }
            },
            "type": "scatterternary"
           }
          ],
          "surface": [
           {
            "colorbar": {
             "outlinewidth": 0,
             "ticks": ""
            },
            "colorscale": [
             [
              0,
              "#0d0887"
             ],
             [
              0.1111111111111111,
              "#46039f"
             ],
             [
              0.2222222222222222,
              "#7201a8"
             ],
             [
              0.3333333333333333,
              "#9c179e"
             ],
             [
              0.4444444444444444,
              "#bd3786"
             ],
             [
              0.5555555555555556,
              "#d8576b"
             ],
             [
              0.6666666666666666,
              "#ed7953"
             ],
             [
              0.7777777777777778,
              "#fb9f3a"
             ],
             [
              0.8888888888888888,
              "#fdca26"
             ],
             [
              1,
              "#f0f921"
             ]
            ],
            "type": "surface"
           }
          ],
          "table": [
           {
            "cells": {
             "fill": {
              "color": "#EBF0F8"
             },
             "line": {
              "color": "white"
             }
            },
            "header": {
             "fill": {
              "color": "#C8D4E3"
             },
             "line": {
              "color": "white"
             }
            },
            "type": "table"
           }
          ]
         },
         "layout": {
          "annotationdefaults": {
           "arrowcolor": "#2a3f5f",
           "arrowhead": 0,
           "arrowwidth": 1
          },
          "autotypenumbers": "strict",
          "coloraxis": {
           "colorbar": {
            "outlinewidth": 0,
            "ticks": ""
           }
          },
          "colorscale": {
           "diverging": [
            [
             0,
             "#8e0152"
            ],
            [
             0.1,
             "#c51b7d"
            ],
            [
             0.2,
             "#de77ae"
            ],
            [
             0.3,
             "#f1b6da"
            ],
            [
             0.4,
             "#fde0ef"
            ],
            [
             0.5,
             "#f7f7f7"
            ],
            [
             0.6,
             "#e6f5d0"
            ],
            [
             0.7,
             "#b8e186"
            ],
            [
             0.8,
             "#7fbc41"
            ],
            [
             0.9,
             "#4d9221"
            ],
            [
             1,
             "#276419"
            ]
           ],
           "sequential": [
            [
             0,
             "#0d0887"
            ],
            [
             0.1111111111111111,
             "#46039f"
            ],
            [
             0.2222222222222222,
             "#7201a8"
            ],
            [
             0.3333333333333333,
             "#9c179e"
            ],
            [
             0.4444444444444444,
             "#bd3786"
            ],
            [
             0.5555555555555556,
             "#d8576b"
            ],
            [
             0.6666666666666666,
             "#ed7953"
            ],
            [
             0.7777777777777778,
             "#fb9f3a"
            ],
            [
             0.8888888888888888,
             "#fdca26"
            ],
            [
             1,
             "#f0f921"
            ]
           ],
           "sequentialminus": [
            [
             0,
             "#0d0887"
            ],
            [
             0.1111111111111111,
             "#46039f"
            ],
            [
             0.2222222222222222,
             "#7201a8"
            ],
            [
             0.3333333333333333,
             "#9c179e"
            ],
            [
             0.4444444444444444,
             "#bd3786"
            ],
            [
             0.5555555555555556,
             "#d8576b"
            ],
            [
             0.6666666666666666,
             "#ed7953"
            ],
            [
             0.7777777777777778,
             "#fb9f3a"
            ],
            [
             0.8888888888888888,
             "#fdca26"
            ],
            [
             1,
             "#f0f921"
            ]
           ]
          },
          "colorway": [
           "#636efa",
           "#EF553B",
           "#00cc96",
           "#ab63fa",
           "#FFA15A",
           "#19d3f3",
           "#FF6692",
           "#B6E880",
           "#FF97FF",
           "#FECB52"
          ],
          "font": {
           "color": "#2a3f5f"
          },
          "geo": {
           "bgcolor": "white",
           "lakecolor": "white",
           "landcolor": "#E5ECF6",
           "showlakes": true,
           "showland": true,
           "subunitcolor": "white"
          },
          "hoverlabel": {
           "align": "left"
          },
          "hovermode": "closest",
          "mapbox": {
           "style": "light"
          },
          "paper_bgcolor": "white",
          "plot_bgcolor": "#E5ECF6",
          "polar": {
           "angularaxis": {
            "gridcolor": "white",
            "linecolor": "white",
            "ticks": ""
           },
           "bgcolor": "#E5ECF6",
           "radialaxis": {
            "gridcolor": "white",
            "linecolor": "white",
            "ticks": ""
           }
          },
          "scene": {
           "xaxis": {
            "backgroundcolor": "#E5ECF6",
            "gridcolor": "white",
            "gridwidth": 2,
            "linecolor": "white",
            "showbackground": true,
            "ticks": "",
            "zerolinecolor": "white"
           },
           "yaxis": {
            "backgroundcolor": "#E5ECF6",
            "gridcolor": "white",
            "gridwidth": 2,
            "linecolor": "white",
            "showbackground": true,
            "ticks": "",
            "zerolinecolor": "white"
           },
           "zaxis": {
            "backgroundcolor": "#E5ECF6",
            "gridcolor": "white",
            "gridwidth": 2,
            "linecolor": "white",
            "showbackground": true,
            "ticks": "",
            "zerolinecolor": "white"
           }
          },
          "shapedefaults": {
           "line": {
            "color": "#2a3f5f"
           }
          },
          "ternary": {
           "aaxis": {
            "gridcolor": "white",
            "linecolor": "white",
            "ticks": ""
           },
           "baxis": {
            "gridcolor": "white",
            "linecolor": "white",
            "ticks": ""
           },
           "bgcolor": "#E5ECF6",
           "caxis": {
            "gridcolor": "white",
            "linecolor": "white",
            "ticks": ""
           }
          },
          "title": {
           "x": 0.05
          },
          "xaxis": {
           "automargin": true,
           "gridcolor": "white",
           "linecolor": "white",
           "ticks": "",
           "title": {
            "standoff": 15
           },
           "zerolinecolor": "white",
           "zerolinewidth": 2
          },
          "yaxis": {
           "automargin": true,
           "gridcolor": "white",
           "linecolor": "white",
           "ticks": "",
           "title": {
            "standoff": 15
           },
           "zerolinecolor": "white",
           "zerolinewidth": 2
          }
         }
        },
        "title": {
         "font": {
          "size": 15
         },
         "text": "Humanoid-v1",
         "x": 0.53
        },
        "width": 500,
        "xaxis": {
         "anchor": "y",
         "domain": [
          0,
          1
         ],
         "gridcolor": "lightgrey",
         "linecolor": "black",
         "mirror": true,
         "showline": true,
         "ticks": "outside",
         "title": {
          "text": "Iteration"
         }
        },
        "yaxis": {
         "anchor": "x",
         "domain": [
          0,
          1
         ],
         "gridcolor": "lightgrey",
         "linecolor": "black",
         "mirror": true,
         "showline": true,
         "ticks": "outside",
         "title": {
          "text": "Reward"
         }
        }
       }
      },
      "text/html": [
       "<div>                            <div id=\"f1614f8b-de0e-43b7-b88a-7ed5a4a80d5b\" class=\"plotly-graph-div\" style=\"height:400px; width:500px;\"></div>            <script type=\"text/javascript\">                require([\"plotly\"], function(Plotly) {                    window.PLOTLYENV=window.PLOTLYENV || {};                                    if (document.getElementById(\"f1614f8b-de0e-43b7-b88a-7ed5a4a80d5b\")) {                    Plotly.newPlot(                        \"f1614f8b-de0e-43b7-b88a-7ed5a4a80d5b\",                        [{\"hovertemplate\":\"algorithm=ARS-1\\u003cbr\\u003eIteration=%{x}\\u003cbr\\u003ereward=%{y}\\u003cextra\\u003e\\u003c\\u002fextra\\u003e\",\"legendgroup\":\"ARS-1\",\"line\":{\"color\":\"#636efa\",\"dash\":\"solid\"},\"marker\":{\"symbol\":\"circle\"},\"mode\":\"lines\",\"name\":\"ARS-1\",\"orientation\":\"v\",\"showlegend\":true,\"x\":[10,20,30,40,50,60,70,80,90,100,110,120,130,140,150,160,170,180,190,200,210,220,230,240,250,260,270,280,290,300,310,320,330,340,350,360,370,380,390,400,410,420,430,440,450,460,470,480,490,500,510,520,530,540,550,560,570,580,590,600,610,620,630,640,650,660,670,680,690,700,710,720,730,740,750,760,770,780,790,800,810,820,830,840,850,860,870,880,890,900,910,920,930,940,950,960,970,980,990,1000],\"xaxis\":\"x\",\"y\":[350.4665132665634,506.6118012833595,486.177058172822,494.721253951788,580.9590122580528,557.7512128850817,571.6525189740955,527.7984730125963,583.4089477104321,602.7285864237091,548.5736002553068,547.2782203966751,552.4907074654848,539.7067473624274,576.8069907276891,582.3750073710085,553.149791203551,548.4850589955225,549.1987873183191,546.6931237852573,559.1502498704195,570.6763588412106,587.820656671971,579.4020885868371,562.3013499218225,601.7556283137202,698.3306460263068,690.4972942917049,667.4561422617547,687.0336698773503,689.9410120578483,787.5698756464943,817.3303496028483,756.1095541097596,780.6971480925381,760.7805396090448,788.9608625060087,798.4323087497428,799.1190291227214,852.135566195324,917.9452576313168,1046.603905161768,1084.4796837897552,1128.650023570247,1137.747228503786,1231.8331721270456,1225.930821441002,1202.86194597058,1395.6335660065724,1646.100492908191,1489.8628994420474,1716.6147428268428,1998.658849457172,2612.838561308942,3211.515732282102,3964.986351155229,4127.908297897018,4393.799440191388,4281.578356946102,4375.751541473344,4520.20661122255,4605.389878487438,4730.952395481047,4726.520737114027,4724.027180850506,4617.623221791219,4526.748932231385,4409.720699397028,4421.606171176173,4312.876730294265,4495.29297880292,4277.672912374437,3905.580407831889,4323.965083279833,4115.584088347787,4066.0961102134406,3827.248833633016,4052.111817161836,3982.8381729568414,3963.5633081864426,3663.206874411487,3744.9459692152423,3780.362019537077,3979.991482313928,1674.232184559903,3651.713204020101,3255.9405643300724,3654.678266047101,3260.872435490512,3267.761104822047,2953.383461652317,3496.2432889303223,3430.431339951878,3190.513614690542,3086.769340033912,2988.571654246301,3191.042715303028,3225.5539460866235,3279.8679434488995,3294.1008184613142],\"yaxis\":\"y\",\"type\":\"scatter\",\"opacity\":0.7},{\"hovertemplate\":\"algorithm=ARS-2\\u003cbr\\u003eIteration=%{x}\\u003cbr\\u003ereward=%{y}\\u003cextra\\u003e\\u003c\\u002fextra\\u003e\",\"legendgroup\":\"ARS-2\",\"line\":{\"color\":\"#EF553B\",\"dash\":\"solid\"},\"marker\":{\"symbol\":\"circle\"},\"mode\":\"lines\",\"name\":\"ARS-2\",\"orientation\":\"v\",\"showlegend\":true,\"x\":[10,20,30,40,50,60,70,80,90,100,110,120,130,140,150,160,170,180,190,200,210,220,230,240,250,260,270,280,290,300,310,320,330,340,350,360,370,380,390,400,410,420,430,440,450,460,470,480,490,500,510,520,530,540,550,560,570,580,590,600,610,620,630,640,650,660,670,680,690,700,710,720,730,740,750,760,770,780,790,800,810,820,830,840,850,860,870,880,890,900,910,920,930,940,950,960,970,980,990,1000],\"xaxis\":\"x\",\"y\":[408.9164542579651,484.85735313892366,529.4310566115379,577.2679894685746,554.8800528216362,587.4393037438392,606.3438917398453,555.899377008304,577.876248319149,597.8967506670951,585.1269712263346,563.4988963341713,576.5300600361824,576.5231590676308,604.5609625005723,574.5486368989945,589.2218552708625,585.7377728009224,591.483759701252,598.6325587058068,575.4389146780968,601.5532117080688,593.4886723828316,594.2006121349335,584.5523398208618,612.231900165081,582.6964348363877,608.1194684267044,612.2386438393593,596.070846710205,582.0788529998064,566.7505699181556,581.5146840333939,608.3543964099885,606.5601592934131,613.3826278042793,595.4755235886573,643.8156839907169,597.8239509606361,593.8418019592762,618.2280941283702,642.3448544204235,649.3091997134685,680.7469073659181,711.270950164795,757.5884939074516,810.3429567098617,900.6329599869251,954.9167703080176,1071.0413402661682,1626.5664008374513,3208.209976510704,4985.199477908612,5042.080976834297,5107.113141226769,5329.155064601899,5467.882792553902,5570.506346216202,5661.482188601494,5777.617192397118,5924.391453726292,6048.575823693275,6146.045776557922,6241.129012541771,6345.581482784748,6462.816302280426,6523.353846101761,6626.202546160221,6737.05777736187,6804.87311463356,6922.615200629234,6960.472811419964,7015.698334310055,7107.239377613068,7178.408833825588,7219.20112600565,7227.470337460041,7262.387101061344,7290.977931213379,7353.1145670938495,7400.861300308705,7471.946698210239,7475.652732293605,7528.757703878879,7533.522675776481,7566.016535434723,7546.58653968811,7579.3050135040285,7628.679946124554,7640.542206757069,7650.793514432907,7707.768009290695,7725.322774188518,7788.140047632456,7800.009744262696,7850.482288093567,7846.143191914558,7865.275496404171,7883.410208269358,7934.4940701520445],\"yaxis\":\"y\",\"type\":\"scatter\",\"opacity\":0.7},{\"hovertemplate\":\"algorithm=SFR-1\\u003cbr\\u003eIteration=%{x}\\u003cbr\\u003ereward=%{y}\\u003cextra\\u003e\\u003c\\u002fextra\\u003e\",\"legendgroup\":\"SFR-1\",\"line\":{\"color\":\"#00cc96\",\"dash\":\"solid\"},\"marker\":{\"symbol\":\"circle\"},\"mode\":\"lines\",\"name\":\"SFR-1\",\"orientation\":\"v\",\"showlegend\":true,\"x\":[10,20,30,40,50,60,70,80,90,100,110,120,130,140,150,160,170,180,190,200,210,220,230,240,250,260,270,280,290,300,310,320,330,340,350,360,370,380,390,400,410,420,430,440,450,460,470,480,490,500,510,520,530,540,550,560,570,580,590,600,610,620,630,640,650,660,670,680,690,700,710,720,730,740,750,760,770,780,790,800,810,820,830,840,850,860,870,880,890,900,910,920,930,940,950,960,970,980,990,1000],\"xaxis\":\"x\",\"y\":[361.33164583683015,338.2147450876236,391.7606852006912,365.7534182071686,391.7521956586838,338.1363994026184,366.364176735878,361.7026764011383,424.0477558660507,390.941452126503,408.4779252958298,455.81132626771927,426.86876439094544,438.5165131187439,393.103101284504,408.2033294034004,394.7435651427508,379.8733287537098,389.6297937631607,401.026848385334,370.3779181241989,404.5511996150017,390.8926660871506,399.416380879879,448.9584233957529,398.01250351190566,452.9611980739981,487.16913256019353,497.40011856744064,509.2672517961264,521.3373493033647,467.5607956802845,551.3422249352932,508.55409325085583,467.9430817363411,529.1939399898052,490.3914636737108,518.2877648509294,526.6612101035705,533.3592809087783,508.9064220970311,531.4684586068615,520.930184057029,501.0644699696638,494.7072315445915,490.6302063038573,511.4523779615853,495.40559691026806,519.7095643997355,509.0769430591166,503.06807750980136,506.8638332374114,514.0910676824116,523.4638277681148,512.6304693561048,511.1089390644431,512.4569575242698,501.2327085149474,507.7098128278926,503.49503533181735,523.0470014114678,508.6533560450375,492.09042596954384,520.6467740775645,537.2461114024743,521.133350943476,557.2711581900716,551.4866905808822,561.7429725671559,562.1718910118938,535.9894623613358,553.0191525030136,520.7442890000343,562.8323562772945,520.318234134987,551.6147269164026,531.2191662978753,536.2001308287307,545.0807497465611,507.5399516553711,535.5824373976142,539.5332420907914,515.3244142666086,518.6828689201176,501.1007891474664,518.5559760735929,578.9951334835752,565.8250403099507,538.9892484765872,572.4046862339974,596.9093152778223,570.358954523988,553.2758730880917,575.2865973868221,596.6655848704814,573.4681878477708,578.2347046557813,622.8134624817316,613.8828664854169,581.8763634929061],\"yaxis\":\"y\",\"type\":\"scatter\",\"opacity\":0.7},{\"hovertemplate\":\"algorithm=SFR-2\\u003cbr\\u003eIteration=%{x}\\u003cbr\\u003ereward=%{y}\\u003cextra\\u003e\\u003c\\u002fextra\\u003e\",\"legendgroup\":\"SFR-2\",\"line\":{\"color\":\"#ab63fa\",\"dash\":\"solid\"},\"marker\":{\"symbol\":\"circle\"},\"mode\":\"lines\",\"name\":\"SFR-2\",\"orientation\":\"v\",\"showlegend\":true,\"x\":[10,20,30,40,50,60,70,80,90,100,110,120,130,140,150,160,170,180,190,200,210,220,230,240,250,260,270,280,290,300,310,320,330,340,350,360,370,380,390,400,410,420,430,440,450,460,470,480,490,500,510,520,530,540,550,560,570,580,590,600,610,620,630,640,650,660,670,680,690,700,710,720,730,740,750,760,770,780,790,800,810,820,830,840,850,860,870,880,890,900,910,920,930,940,950,960,970,980,990,1000],\"xaxis\":\"x\",\"y\":[434.9768766403198,416.8251193857193,464.305708770752,468.39369302749634,510.2784191536903,542.3398716616631,552.6058951783181,570.26802277565,571.1524072742462,587.3020033288002,584.4655059933663,603.9233850836754,585.2527864336968,587.7806129169464,592.5884845709801,603.7898235225678,568.6206175661086,606.473500288725,587.8569677110016,593.1347993326187,593.5334849834442,605.2119158056379,595.7080784225464,580.7700524210929,598.3852098965644,601.8079870381952,585.0470967626571,599.8017019176483,612.9874284815788,605.2247663497925,583.3125774216652,619.9816891622544,604.031435084343,590.7591086864471,639.9164153289795,577.6207745981217,609.2570807909965,608.592183394432,611.1460686397553,631.1684332799912,623.3706188130378,631.6362001562119,657.4812625694275,682.6199808239937,889.8393342041969,1285.8600918960572,1841.0058813166615,3703.798135182261,5059.141315273047,5263.237477252484,5296.413571481705,5344.06413163662,5375.470072259903,5355.669174094201,5366.9501287555695,5389.103878164291,5413.608623361588,5438.18966152668,5458.866271672249,5490.103288640976,5465.285624332428,5481.066954545975,5474.073591709137,5525.891588187218,5524.712884721756,5538.681860370636,5578.271752696037,5612.485132739544,5604.975727701187,5655.996501607895,5652.923781371117,5705.524011468888,5737.956975855827,5759.703511660099,5793.248676695824,5805.488459498883,5782.39020642519,5840.872613525391,5892.937061603069,5916.889117836952,5936.599261994362,5928.743426067829,5935.131003022194,5948.366187725067,5953.7776816272735,5957.056737792492,5983.599465997219,6015.175293793678,6021.418161683083,6020.508588936329,6084.453155899048,6066.926747324466,6108.852351965904,6112.135175263882,6124.381549510956,6158.2047909402845,6169.133918864727,6171.089795031548,6231.180331388712,6262.246057218314],\"yaxis\":\"y\",\"type\":\"scatter\",\"opacity\":0.7}],                        {\"template\":{\"data\":{\"histogram2dcontour\":[{\"type\":\"histogram2dcontour\",\"colorbar\":{\"outlinewidth\":0,\"ticks\":\"\"},\"colorscale\":[[0.0,\"#0d0887\"],[0.1111111111111111,\"#46039f\"],[0.2222222222222222,\"#7201a8\"],[0.3333333333333333,\"#9c179e\"],[0.4444444444444444,\"#bd3786\"],[0.5555555555555556,\"#d8576b\"],[0.6666666666666666,\"#ed7953\"],[0.7777777777777778,\"#fb9f3a\"],[0.8888888888888888,\"#fdca26\"],[1.0,\"#f0f921\"]]}],\"choropleth\":[{\"type\":\"choropleth\",\"colorbar\":{\"outlinewidth\":0,\"ticks\":\"\"}}],\"histogram2d\":[{\"type\":\"histogram2d\",\"colorbar\":{\"outlinewidth\":0,\"ticks\":\"\"},\"colorscale\":[[0.0,\"#0d0887\"],[0.1111111111111111,\"#46039f\"],[0.2222222222222222,\"#7201a8\"],[0.3333333333333333,\"#9c179e\"],[0.4444444444444444,\"#bd3786\"],[0.5555555555555556,\"#d8576b\"],[0.6666666666666666,\"#ed7953\"],[0.7777777777777778,\"#fb9f3a\"],[0.8888888888888888,\"#fdca26\"],[1.0,\"#f0f921\"]]}],\"heatmap\":[{\"type\":\"heatmap\",\"colorbar\":{\"outlinewidth\":0,\"ticks\":\"\"},\"colorscale\":[[0.0,\"#0d0887\"],[0.1111111111111111,\"#46039f\"],[0.2222222222222222,\"#7201a8\"],[0.3333333333333333,\"#9c179e\"],[0.4444444444444444,\"#bd3786\"],[0.5555555555555556,\"#d8576b\"],[0.6666666666666666,\"#ed7953\"],[0.7777777777777778,\"#fb9f3a\"],[0.8888888888888888,\"#fdca26\"],[1.0,\"#f0f921\"]]}],\"heatmapgl\":[{\"type\":\"heatmapgl\",\"colorbar\":{\"outlinewidth\":0,\"ticks\":\"\"},\"colorscale\":[[0.0,\"#0d0887\"],[0.1111111111111111,\"#46039f\"],[0.2222222222222222,\"#7201a8\"],[0.3333333333333333,\"#9c179e\"],[0.4444444444444444,\"#bd3786\"],[0.5555555555555556,\"#d8576b\"],[0.6666666666666666,\"#ed7953\"],[0.7777777777777778,\"#fb9f3a\"],[0.8888888888888888,\"#fdca26\"],[1.0,\"#f0f921\"]]}],\"contourcarpet\":[{\"type\":\"contourcarpet\",\"colorbar\":{\"outlinewidth\":0,\"ticks\":\"\"}}],\"contour\":[{\"type\":\"contour\",\"colorbar\":{\"outlinewidth\":0,\"ticks\":\"\"},\"colorscale\":[[0.0,\"#0d0887\"],[0.1111111111111111,\"#46039f\"],[0.2222222222222222,\"#7201a8\"],[0.3333333333333333,\"#9c179e\"],[0.4444444444444444,\"#bd3786\"],[0.5555555555555556,\"#d8576b\"],[0.6666666666666666,\"#ed7953\"],[0.7777777777777778,\"#fb9f3a\"],[0.8888888888888888,\"#fdca26\"],[1.0,\"#f0f921\"]]}],\"surface\":[{\"type\":\"surface\",\"colorbar\":{\"outlinewidth\":0,\"ticks\":\"\"},\"colorscale\":[[0.0,\"#0d0887\"],[0.1111111111111111,\"#46039f\"],[0.2222222222222222,\"#7201a8\"],[0.3333333333333333,\"#9c179e\"],[0.4444444444444444,\"#bd3786\"],[0.5555555555555556,\"#d8576b\"],[0.6666666666666666,\"#ed7953\"],[0.7777777777777778,\"#fb9f3a\"],[0.8888888888888888,\"#fdca26\"],[1.0,\"#f0f921\"]]}],\"mesh3d\":[{\"type\":\"mesh3d\",\"colorbar\":{\"outlinewidth\":0,\"ticks\":\"\"}}],\"scatter\":[{\"fillpattern\":{\"fillmode\":\"overlay\",\"size\":10,\"solidity\":0.2},\"type\":\"scatter\"}],\"parcoords\":[{\"type\":\"parcoords\",\"line\":{\"colorbar\":{\"outlinewidth\":0,\"ticks\":\"\"}}}],\"scatterpolargl\":[{\"type\":\"scatterpolargl\",\"marker\":{\"colorbar\":{\"outlinewidth\":0,\"ticks\":\"\"}}}],\"bar\":[{\"error_x\":{\"color\":\"#2a3f5f\"},\"error_y\":{\"color\":\"#2a3f5f\"},\"marker\":{\"line\":{\"color\":\"#E5ECF6\",\"width\":0.5},\"pattern\":{\"fillmode\":\"overlay\",\"size\":10,\"solidity\":0.2}},\"type\":\"bar\"}],\"scattergeo\":[{\"type\":\"scattergeo\",\"marker\":{\"colorbar\":{\"outlinewidth\":0,\"ticks\":\"\"}}}],\"scatterpolar\":[{\"type\":\"scatterpolar\",\"marker\":{\"colorbar\":{\"outlinewidth\":0,\"ticks\":\"\"}}}],\"histogram\":[{\"marker\":{\"pattern\":{\"fillmode\":\"overlay\",\"size\":10,\"solidity\":0.2}},\"type\":\"histogram\"}],\"scattergl\":[{\"type\":\"scattergl\",\"marker\":{\"colorbar\":{\"outlinewidth\":0,\"ticks\":\"\"}}}],\"scatter3d\":[{\"type\":\"scatter3d\",\"line\":{\"colorbar\":{\"outlinewidth\":0,\"ticks\":\"\"}},\"marker\":{\"colorbar\":{\"outlinewidth\":0,\"ticks\":\"\"}}}],\"scattermapbox\":[{\"type\":\"scattermapbox\",\"marker\":{\"colorbar\":{\"outlinewidth\":0,\"ticks\":\"\"}}}],\"scatterternary\":[{\"type\":\"scatterternary\",\"marker\":{\"colorbar\":{\"outlinewidth\":0,\"ticks\":\"\"}}}],\"scattercarpet\":[{\"type\":\"scattercarpet\",\"marker\":{\"colorbar\":{\"outlinewidth\":0,\"ticks\":\"\"}}}],\"carpet\":[{\"aaxis\":{\"endlinecolor\":\"#2a3f5f\",\"gridcolor\":\"white\",\"linecolor\":\"white\",\"minorgridcolor\":\"white\",\"startlinecolor\":\"#2a3f5f\"},\"baxis\":{\"endlinecolor\":\"#2a3f5f\",\"gridcolor\":\"white\",\"linecolor\":\"white\",\"minorgridcolor\":\"white\",\"startlinecolor\":\"#2a3f5f\"},\"type\":\"carpet\"}],\"table\":[{\"cells\":{\"fill\":{\"color\":\"#EBF0F8\"},\"line\":{\"color\":\"white\"}},\"header\":{\"fill\":{\"color\":\"#C8D4E3\"},\"line\":{\"color\":\"white\"}},\"type\":\"table\"}],\"barpolar\":[{\"marker\":{\"line\":{\"color\":\"#E5ECF6\",\"width\":0.5},\"pattern\":{\"fillmode\":\"overlay\",\"size\":10,\"solidity\":0.2}},\"type\":\"barpolar\"}],\"pie\":[{\"automargin\":true,\"type\":\"pie\"}]},\"layout\":{\"autotypenumbers\":\"strict\",\"colorway\":[\"#636efa\",\"#EF553B\",\"#00cc96\",\"#ab63fa\",\"#FFA15A\",\"#19d3f3\",\"#FF6692\",\"#B6E880\",\"#FF97FF\",\"#FECB52\"],\"font\":{\"color\":\"#2a3f5f\"},\"hovermode\":\"closest\",\"hoverlabel\":{\"align\":\"left\"},\"paper_bgcolor\":\"white\",\"plot_bgcolor\":\"#E5ECF6\",\"polar\":{\"bgcolor\":\"#E5ECF6\",\"angularaxis\":{\"gridcolor\":\"white\",\"linecolor\":\"white\",\"ticks\":\"\"},\"radialaxis\":{\"gridcolor\":\"white\",\"linecolor\":\"white\",\"ticks\":\"\"}},\"ternary\":{\"bgcolor\":\"#E5ECF6\",\"aaxis\":{\"gridcolor\":\"white\",\"linecolor\":\"white\",\"ticks\":\"\"},\"baxis\":{\"gridcolor\":\"white\",\"linecolor\":\"white\",\"ticks\":\"\"},\"caxis\":{\"gridcolor\":\"white\",\"linecolor\":\"white\",\"ticks\":\"\"}},\"coloraxis\":{\"colorbar\":{\"outlinewidth\":0,\"ticks\":\"\"}},\"colorscale\":{\"sequential\":[[0.0,\"#0d0887\"],[0.1111111111111111,\"#46039f\"],[0.2222222222222222,\"#7201a8\"],[0.3333333333333333,\"#9c179e\"],[0.4444444444444444,\"#bd3786\"],[0.5555555555555556,\"#d8576b\"],[0.6666666666666666,\"#ed7953\"],[0.7777777777777778,\"#fb9f3a\"],[0.8888888888888888,\"#fdca26\"],[1.0,\"#f0f921\"]],\"sequentialminus\":[[0.0,\"#0d0887\"],[0.1111111111111111,\"#46039f\"],[0.2222222222222222,\"#7201a8\"],[0.3333333333333333,\"#9c179e\"],[0.4444444444444444,\"#bd3786\"],[0.5555555555555556,\"#d8576b\"],[0.6666666666666666,\"#ed7953\"],[0.7777777777777778,\"#fb9f3a\"],[0.8888888888888888,\"#fdca26\"],[1.0,\"#f0f921\"]],\"diverging\":[[0,\"#8e0152\"],[0.1,\"#c51b7d\"],[0.2,\"#de77ae\"],[0.3,\"#f1b6da\"],[0.4,\"#fde0ef\"],[0.5,\"#f7f7f7\"],[0.6,\"#e6f5d0\"],[0.7,\"#b8e186\"],[0.8,\"#7fbc41\"],[0.9,\"#4d9221\"],[1,\"#276419\"]]},\"xaxis\":{\"gridcolor\":\"white\",\"linecolor\":\"white\",\"ticks\":\"\",\"title\":{\"standoff\":15},\"zerolinecolor\":\"white\",\"automargin\":true,\"zerolinewidth\":2},\"yaxis\":{\"gridcolor\":\"white\",\"linecolor\":\"white\",\"ticks\":\"\",\"title\":{\"standoff\":15},\"zerolinecolor\":\"white\",\"automargin\":true,\"zerolinewidth\":2},\"scene\":{\"xaxis\":{\"backgroundcolor\":\"#E5ECF6\",\"gridcolor\":\"white\",\"linecolor\":\"white\",\"showbackground\":true,\"ticks\":\"\",\"zerolinecolor\":\"white\",\"gridwidth\":2},\"yaxis\":{\"backgroundcolor\":\"#E5ECF6\",\"gridcolor\":\"white\",\"linecolor\":\"white\",\"showbackground\":true,\"ticks\":\"\",\"zerolinecolor\":\"white\",\"gridwidth\":2},\"zaxis\":{\"backgroundcolor\":\"#E5ECF6\",\"gridcolor\":\"white\",\"linecolor\":\"white\",\"showbackground\":true,\"ticks\":\"\",\"zerolinecolor\":\"white\",\"gridwidth\":2}},\"shapedefaults\":{\"line\":{\"color\":\"#2a3f5f\"}},\"annotationdefaults\":{\"arrowcolor\":\"#2a3f5f\",\"arrowhead\":0,\"arrowwidth\":1},\"geo\":{\"bgcolor\":\"white\",\"landcolor\":\"#E5ECF6\",\"subunitcolor\":\"white\",\"showland\":true,\"showlakes\":true,\"lakecolor\":\"white\"},\"title\":{\"x\":0.05},\"mapbox\":{\"style\":\"light\"}}},\"xaxis\":{\"anchor\":\"y\",\"domain\":[0.0,1.0],\"title\":{\"text\":\"Iteration\"},\"mirror\":true,\"ticks\":\"outside\",\"showline\":true,\"linecolor\":\"black\",\"gridcolor\":\"lightgrey\"},\"yaxis\":{\"anchor\":\"x\",\"domain\":[0.0,1.0],\"title\":{\"text\":\"Reward\"},\"mirror\":true,\"ticks\":\"outside\",\"showline\":true,\"linecolor\":\"black\",\"gridcolor\":\"lightgrey\"},\"legend\":{\"title\":{\"text\":\"algorithm\"},\"tracegroupgap\":0,\"yanchor\":\"bottom\",\"y\":0.5,\"xanchor\":\"left\",\"x\":0.0},\"margin\":{\"t\":50,\"l\":20,\"r\":20,\"b\":20},\"title\":{\"font\":{\"size\":15},\"text\":\"Humanoid-v1\",\"x\":0.53},\"autosize\":false,\"plot_bgcolor\":\"white\",\"width\":500,\"height\":400},                        {\"responsive\": true}                    ).then(function(){\n",
       "                            \n",
       "var gd = document.getElementById('f1614f8b-de0e-43b7-b88a-7ed5a4a80d5b');\n",
       "var x = new MutationObserver(function (mutations, observer) {{\n",
       "        var display = window.getComputedStyle(gd).display;\n",
       "        if (!display || display === 'none') {{\n",
       "            console.log([gd, 'removed!']);\n",
       "            Plotly.purge(gd);\n",
       "            observer.disconnect();\n",
       "        }}\n",
       "}});\n",
       "\n",
       "// Listen for the removal of the full notebook cells\n",
       "var notebookContainer = gd.closest('#notebook-container');\n",
       "if (notebookContainer) {{\n",
       "    x.observe(notebookContainer, {childList: true});\n",
       "}}\n",
       "\n",
       "// Listen for the clearing of the current output cell\n",
       "var outputEl = gd.closest('.output');\n",
       "if (outputEl) {{\n",
       "    x.observe(outputEl, {childList: true});\n",
       "}}\n",
       "\n",
       "                        })                };                });            </script>        </div>"
      ]
     },
     "metadata": {},
     "output_type": "display_data"
    },
    {
     "data": {
      "application/vnd.plotly.v1+json": {
       "config": {
        "plotlyServerURL": "https://plot.ly"
       },
       "data": [
        {
         "hovertemplate": "algorithm=ARS-1<br>Iteration=%{x}<br>reward=%{y}<extra></extra>",
         "legendgroup": "ARS-1",
         "line": {
          "color": "#636efa",
          "dash": "solid"
         },
         "marker": {
          "symbol": "circle"
         },
         "mode": "lines",
         "name": "ARS-1",
         "opacity": 0.7,
         "orientation": "v",
         "showlegend": true,
         "type": "scatter",
         "x": [
          10,
          20,
          30,
          40,
          50,
          60,
          70,
          80,
          90,
          100,
          110,
          120,
          130,
          140,
          150,
          160,
          170,
          180,
          190,
          200,
          210,
          220,
          230,
          240,
          250,
          260,
          270,
          280,
          290,
          300,
          310,
          320,
          330,
          340,
          350,
          360,
          370,
          380,
          390,
          400,
          410,
          420,
          430,
          440,
          450,
          460,
          470,
          480,
          490,
          500,
          510,
          520,
          530,
          540,
          550,
          560,
          570,
          580,
          590,
          600,
          610,
          620,
          630,
          640,
          650,
          660,
          670,
          680,
          690,
          700,
          710,
          720,
          730,
          740,
          750,
          760,
          770,
          780,
          790,
          800,
          810,
          820,
          830,
          840,
          850,
          860,
          870,
          880,
          890,
          900,
          910,
          920,
          930,
          940,
          950,
          960,
          970,
          980,
          990,
          1000
         ],
         "xaxis": "x",
         "y": [
          -22.901165876404733,
          -23.74801492941825,
          -15.643511891311892,
          -15.476234239956844,
          -25.23821116960808,
          -15.476713044700478,
          -22.32290012335713,
          -43.64741327186955,
          -19.442568292595624,
          -32.050750052200584,
          -28.37782481216209,
          -35.89188712549614,
          -17.360376099064553,
          -22.760940441830783,
          -19.17107073022016,
          -19.246572668714503,
          -26.500462924690872,
          -32.23798638475596,
          -15.276896510235815,
          -217.4345951098248,
          -228.4633717770388,
          -213.5258567134813,
          -103.0626682999421,
          -103.75338743028829,
          -77.89260672649586,
          -67.83305956286294,
          -57.259591350583584,
          -77.11587012501576,
          -102.42002064511024,
          -91.15279983644444,
          -102.57450016503658,
          -8.817166404176142,
          -72.87573864671886,
          -46.90503051279007,
          -100.45952986877826,
          -29.688770637986018,
          32.21395450692558,
          43.04190101060641,
          39.90154003097436,
          46.842494121339314,
          35.707115259523746,
          -16.039103184683626,
          -117.0853961427332,
          -51.94121455338944,
          -78.61310508620267,
          -65.80731756057492,
          -87.5275941591868,
          -72.88797665570245,
          -80.16030620156606,
          -117.7410389715212,
          -93.9091183585845,
          -109.59935261186588,
          -47.904788211233246,
          -51.04749588018909,
          38.93835569688723,
          47.498949139363646,
          5.775307909795702,
          -131.89454814835247,
          -25.81674678784613,
          -36.58137387692448,
          -88.87280414876277,
          -93.56036807618162,
          -17.238842368301647,
          -67.60231717179357,
          -57.11886721955739,
          -62.18346064413808,
          -63.35462686617221,
          -68.17666071961452,
          -32.60976972826494,
          -144.91237812402375,
          -28.93102989735556,
          -133.85422044990457,
          -87.80095713981282,
          -47.573727375428135,
          -71.52386876931206,
          -78.9980052907824,
          -136.79097982339027,
          -19.61623962802929,
          29.217939390570265,
          -57.90031242895846,
          -76.32257539932283,
          -83.75455366618677,
          -73.4033349402559,
          -63.51134573077011,
          -60.28281244130641,
          -58.15886730979406,
          -26.542980893036155,
          -28.34064439665295,
          -22.92180948867632,
          -29.146460471489185,
          -41.84750069033955,
          -50.180333949090326,
          -34.86323238939943,
          -18.35761621480733,
          -39.05820757146086,
          -34.472073272930054,
          -36.03958709037804,
          -44.20512157597033,
          -61.63857427604314,
          -46.74875871405691
         ],
         "yaxis": "y"
        },
        {
         "hovertemplate": "algorithm=ARS-2<br>Iteration=%{x}<br>reward=%{y}<extra></extra>",
         "legendgroup": "ARS-2",
         "line": {
          "color": "#EF553B",
          "dash": "solid"
         },
         "marker": {
          "symbol": "circle"
         },
         "mode": "lines",
         "name": "ARS-2",
         "opacity": 0.7,
         "orientation": "v",
         "showlegend": true,
         "type": "scatter",
         "x": [
          10,
          20,
          30,
          40,
          50,
          60,
          70,
          80,
          90,
          100,
          110,
          120,
          130,
          140,
          150,
          160,
          170,
          180,
          190,
          200,
          210,
          220,
          230,
          240,
          250,
          260,
          270,
          280,
          290,
          300,
          310,
          320,
          330,
          340,
          350,
          360,
          370,
          380,
          390,
          400,
          410,
          420,
          430,
          440,
          450,
          460,
          470,
          480,
          490,
          500,
          510,
          520,
          530,
          540,
          550,
          560,
          570,
          580,
          590,
          600,
          610,
          620,
          630,
          640,
          650,
          660,
          670,
          680,
          690,
          700,
          710,
          720,
          730,
          740,
          750,
          760,
          770,
          780,
          790,
          800,
          810,
          820,
          830,
          840,
          850,
          860,
          870,
          880,
          890,
          900,
          910,
          920,
          930,
          940,
          950,
          960,
          970,
          980,
          990,
          1000
         ],
         "xaxis": "x",
         "y": [
          174.20365888605673,
          341.3166842124523,
          350.38802346898325,
          353.9205456894761,
          353.02312498743066,
          353.9107844242761,
          353.6241249781268,
          354.09674694297746,
          354.84526993186694,
          354.228057315608,
          354.9490548964879,
          354.0742187898203,
          356.90315614512207,
          356.5956865799684,
          354.046155656565,
          358.26770049851734,
          354.3548018760287,
          354.0660076741904,
          356.1967293055051,
          358.4898829750428,
          359.76865715108465,
          356.5968926827369,
          356.93607577822,
          359.4551882751624,
          355.4102160447546,
          359.11164679853295,
          355.1491641345621,
          352.68213971446124,
          355.9371089111371,
          355.08105248399903,
          355.9007005989266,
          359.7982128652469,
          358.05307224514434,
          355.9151844961648,
          356.5581936466889,
          359.46611073052287,
          359.0230502732782,
          359.80345070673656,
          358.9007209482622,
          360.38018085427393,
          357.72069049087,
          359.11880637391266,
          355.30657793258115,
          359.08884379073686,
          355.3762203444795,
          356.5107491153308,
          359.78565189764834,
          357.8318135272321,
          360.4417859901537,
          356.5146796191945,
          360.24562914869307,
          360.8796944024327,
          356.0826877012251,
          360.3452603317169,
          356.12994906036585,
          355.769008948064,
          355.8664400016142,
          359.0457564990454,
          356.07884302726654,
          355.9958873492999,
          358.94938522401907,
          357.71582034289463,
          356.10162986935774,
          358.9923220152478,
          356.0322417198174,
          357.4433966871527,
          354.9655243215116,
          356.3584026532492,
          356.72344536444564,
          356.19977044103786,
          355.8169984561643,
          360.0767992854984,
          355.6755576011888,
          355.8146832662189,
          357.67588962293115,
          355.3396386344719,
          356.86337041709174,
          355.46288138166364,
          358.6828707821367,
          357.8165580737821,
          360.2782742249242,
          359.5375209397423,
          356.2224963114555,
          356.1304041487685,
          360.96636966974046,
          359.8652657763291,
          360.16330931173246,
          357.2337194876755,
          360.6584684337834,
          355.6591001374332,
          355.6833387017224,
          360.2396030400852,
          359.24560471916,
          359.9111825283798,
          358.6073141602972,
          357.5620581826184,
          358.8454097054231,
          356.3519689337752,
          359.023227941494,
          357.10511421629366
         ],
         "yaxis": "y"
        },
        {
         "hovertemplate": "algorithm=SFR-1<br>Iteration=%{x}<br>reward=%{y}<extra></extra>",
         "legendgroup": "SFR-1",
         "line": {
          "color": "#00cc96",
          "dash": "solid"
         },
         "marker": {
          "symbol": "circle"
         },
         "mode": "lines",
         "name": "SFR-1",
         "opacity": 0.7,
         "orientation": "v",
         "showlegend": true,
         "type": "scatter",
         "x": [
          10,
          20,
          30,
          40,
          50,
          60,
          70,
          80,
          90,
          100,
          110,
          120,
          130,
          140,
          150,
          160,
          170,
          180,
          190,
          200,
          210,
          220,
          230,
          240,
          250,
          260,
          270,
          280,
          290,
          300,
          310,
          320,
          330,
          340,
          350,
          360,
          370,
          380,
          390,
          400,
          410,
          420,
          430,
          440,
          450,
          460,
          470,
          480,
          490,
          500,
          510,
          520,
          530,
          540,
          550,
          560,
          570,
          580,
          590,
          600,
          610,
          620,
          630,
          640,
          650,
          660,
          670,
          680,
          690,
          700,
          710,
          720,
          730,
          740,
          750,
          760,
          770,
          780,
          790,
          800,
          810,
          820,
          830,
          840,
          850,
          860,
          870,
          880,
          890,
          900,
          910,
          920,
          930,
          940,
          950,
          960,
          970,
          980,
          990,
          1000
         ],
         "xaxis": "x",
         "y": [
          -22.901165876404733,
          -23.74801492941825,
          -15.643511891311892,
          -15.476234239956844,
          -25.23821116960808,
          -15.476713044700478,
          -22.32290012335713,
          -43.64741327186955,
          -19.442568292595624,
          -32.050750052200584,
          -28.37782481216209,
          -35.89188712549614,
          -17.360376099064553,
          -22.760940441830783,
          -19.17107073022016,
          -19.246572668714503,
          -26.500462924690872,
          -32.23798638475596,
          -15.276896510235815,
          -217.4345951098248,
          -228.4633717770388,
          -213.5258567134813,
          -103.0626682999421,
          -103.75338743028829,
          -77.89260672649586,
          -67.83305956286294,
          -57.259591350583584,
          -77.11587012501576,
          -102.42002064511024,
          -91.15279983644444,
          -102.57450016503658,
          -8.817166404176142,
          -72.87573864671886,
          -46.90503051279007,
          -100.45952986877826,
          -29.688770637986018,
          32.21395450692558,
          43.04190101060641,
          39.90154003097436,
          46.842494121339314,
          35.707115259523746,
          -16.039103184683626,
          -117.0853961427332,
          -51.94121455338944,
          -78.61310508620267,
          -65.80731756057492,
          -87.5275941591868,
          -72.88797665570245,
          -80.16030620156606,
          -117.7410389715212,
          -93.9091183585845,
          -109.59935261186588,
          -47.904788211233246,
          -51.04749588018909,
          38.93835569688723,
          47.498949139363646,
          5.775307909795702,
          -131.89454814835247,
          -25.81674678784613,
          -36.58137387692448,
          -88.87280414876277,
          -93.56036807618162,
          -17.238842368301647,
          -67.60231717179357,
          -57.11886721955739,
          -62.18346064413808,
          -63.35462686617221,
          -68.17666071961452,
          -32.60976972826494,
          -144.91237812402375,
          -28.93102989735556,
          -133.85422044990457,
          -87.80095713981282,
          -47.573727375428135,
          -71.52386876931206,
          -78.9980052907824,
          -136.79097982339027,
          -19.61623962802929,
          29.217939390570265,
          -57.90031242895846,
          -76.32257539932283,
          -83.75455366618677,
          -73.4033349402559,
          -63.51134573077011,
          -60.28281244130641,
          -58.15886730979406,
          -26.542980893036155,
          -28.34064439665295,
          -22.92180948867632,
          -29.146460471489185,
          -41.84750069033955,
          -50.180333949090326,
          -34.86323238939943,
          -18.35761621480733,
          -39.05820757146086,
          -34.472073272930054,
          -36.03958709037804,
          -44.20512157597033,
          -61.63857427604314,
          -46.74875871405691
         ],
         "yaxis": "y"
        },
        {
         "hovertemplate": "algorithm=SFR-2<br>Iteration=%{x}<br>reward=%{y}<extra></extra>",
         "legendgroup": "SFR-2",
         "line": {
          "color": "#ab63fa",
          "dash": "solid"
         },
         "marker": {
          "symbol": "circle"
         },
         "mode": "lines",
         "name": "SFR-2",
         "opacity": 0.7,
         "orientation": "v",
         "showlegend": true,
         "type": "scatter",
         "x": [
          10,
          20,
          30,
          40,
          50,
          60,
          70,
          80,
          90,
          100,
          110,
          120,
          130,
          140,
          150,
          160,
          170,
          180,
          190,
          200,
          210,
          220,
          230,
          240,
          250,
          260,
          270,
          280,
          290,
          300,
          310,
          320,
          330,
          340,
          350,
          360,
          370,
          380,
          390,
          400,
          410,
          420,
          430,
          440,
          450,
          460,
          470,
          480,
          490,
          500,
          510,
          520,
          530,
          540,
          550,
          560,
          570,
          580,
          590,
          600,
          610,
          620,
          630,
          640,
          650,
          660,
          670,
          680,
          690,
          700,
          710,
          720,
          730,
          740,
          750,
          760,
          770,
          780,
          790,
          800,
          810,
          820,
          830,
          840,
          850,
          860,
          870,
          880,
          890,
          900,
          910,
          920,
          930,
          940,
          950,
          960,
          970,
          980,
          990,
          1000
         ],
         "xaxis": "x",
         "y": [
          75.4156266003223,
          271.7007093413987,
          331.51490978905656,
          345.3876460949632,
          349.1233844817162,
          350.58236301033685,
          354.9215554187094,
          354.16671500791296,
          355.3317588101355,
          355.5741922338857,
          356.30762684796866,
          356.4067682338739,
          355.4058005782762,
          357.3509163482759,
          354.7148564014197,
          355.47355703883693,
          354.8725135174942,
          357.8690144687445,
          355.22361573389776,
          357.91615423705736,
          355.6181563668165,
          354.97568988383887,
          354.6897786860325,
          355.0619373850823,
          356.1765767476053,
          359.7968159566153,
          355.79649784815365,
          354.82460410996487,
          358.0891009659036,
          359.04482349115324,
          358.69308006035266,
          359.0181372553757,
          355.828411617993,
          355.64738018070733,
          357.7649361465235,
          358.58641660089546,
          354.8941867155838,
          355.6887729728753,
          356.10312069535325,
          359.2781066925479,
          358.9620017401729,
          357.02229894173126,
          358.64659602132537,
          359.1942815536604,
          358.0453630196795,
          359.39319434080653,
          355.7843298374791,
          357.0191296551311,
          358.75221725947154,
          357.03716018474887,
          355.4868298687909,
          355.7725784119214,
          357.8967162776217,
          356.1083181988049,
          357.8604789834665,
          355.6932283269514,
          358.1085559854917,
          356.0913847565357,
          355.76695766362946,
          356.3450237016631,
          355.69230910673184,
          355.7365074435809,
          358.0553179878248,
          359.02999900993944,
          355.81959026045297,
          360.1176849512345,
          357.105965864803,
          358.8954739006581,
          357.973235727373,
          355.9265997636652,
          356.87222152474715,
          358.7252389326684,
          358.4970914944026,
          356.45680093363626,
          359.00943506672047,
          357.03696509855746,
          355.762608687178,
          357.2540505765828,
          356.41432656068014,
          356.11984442045286,
          359.7218182776813,
          356.01979347329194,
          359.34221562136656,
          358.3240088504133,
          359.0755657079049,
          358.7798598881278,
          359.46183353151923,
          356.9915898447657,
          356.90455419605905,
          358.3631715479065,
          356.5921721379841,
          356.7344210060768,
          359.17718051091055,
          356.538841262432,
          357.8819282414676,
          359.3840162105147,
          359.17216409830087,
          356.2482670140837,
          356.5114003742505,
          356.1294850665804
         ],
         "yaxis": "y"
        }
       ],
       "layout": {
        "autosize": false,
        "height": 400,
        "legend": {
         "title": {
          "text": "algorithm"
         },
         "tracegroupgap": 0,
         "x": 0.99,
         "xanchor": "right",
         "y": 0.5,
         "yanchor": "bottom"
        },
        "margin": {
         "b": 20,
         "l": 20,
         "r": 20,
         "t": 50
        },
        "plot_bgcolor": "white",
        "template": {
         "data": {
          "bar": [
           {
            "error_x": {
             "color": "#2a3f5f"
            },
            "error_y": {
             "color": "#2a3f5f"
            },
            "marker": {
             "line": {
              "color": "#E5ECF6",
              "width": 0.5
             },
             "pattern": {
              "fillmode": "overlay",
              "size": 10,
              "solidity": 0.2
             }
            },
            "type": "bar"
           }
          ],
          "barpolar": [
           {
            "marker": {
             "line": {
              "color": "#E5ECF6",
              "width": 0.5
             },
             "pattern": {
              "fillmode": "overlay",
              "size": 10,
              "solidity": 0.2
             }
            },
            "type": "barpolar"
           }
          ],
          "carpet": [
           {
            "aaxis": {
             "endlinecolor": "#2a3f5f",
             "gridcolor": "white",
             "linecolor": "white",
             "minorgridcolor": "white",
             "startlinecolor": "#2a3f5f"
            },
            "baxis": {
             "endlinecolor": "#2a3f5f",
             "gridcolor": "white",
             "linecolor": "white",
             "minorgridcolor": "white",
             "startlinecolor": "#2a3f5f"
            },
            "type": "carpet"
           }
          ],
          "choropleth": [
           {
            "colorbar": {
             "outlinewidth": 0,
             "ticks": ""
            },
            "type": "choropleth"
           }
          ],
          "contour": [
           {
            "colorbar": {
             "outlinewidth": 0,
             "ticks": ""
            },
            "colorscale": [
             [
              0,
              "#0d0887"
             ],
             [
              0.1111111111111111,
              "#46039f"
             ],
             [
              0.2222222222222222,
              "#7201a8"
             ],
             [
              0.3333333333333333,
              "#9c179e"
             ],
             [
              0.4444444444444444,
              "#bd3786"
             ],
             [
              0.5555555555555556,
              "#d8576b"
             ],
             [
              0.6666666666666666,
              "#ed7953"
             ],
             [
              0.7777777777777778,
              "#fb9f3a"
             ],
             [
              0.8888888888888888,
              "#fdca26"
             ],
             [
              1,
              "#f0f921"
             ]
            ],
            "type": "contour"
           }
          ],
          "contourcarpet": [
           {
            "colorbar": {
             "outlinewidth": 0,
             "ticks": ""
            },
            "type": "contourcarpet"
           }
          ],
          "heatmap": [
           {
            "colorbar": {
             "outlinewidth": 0,
             "ticks": ""
            },
            "colorscale": [
             [
              0,
              "#0d0887"
             ],
             [
              0.1111111111111111,
              "#46039f"
             ],
             [
              0.2222222222222222,
              "#7201a8"
             ],
             [
              0.3333333333333333,
              "#9c179e"
             ],
             [
              0.4444444444444444,
              "#bd3786"
             ],
             [
              0.5555555555555556,
              "#d8576b"
             ],
             [
              0.6666666666666666,
              "#ed7953"
             ],
             [
              0.7777777777777778,
              "#fb9f3a"
             ],
             [
              0.8888888888888888,
              "#fdca26"
             ],
             [
              1,
              "#f0f921"
             ]
            ],
            "type": "heatmap"
           }
          ],
          "heatmapgl": [
           {
            "colorbar": {
             "outlinewidth": 0,
             "ticks": ""
            },
            "colorscale": [
             [
              0,
              "#0d0887"
             ],
             [
              0.1111111111111111,
              "#46039f"
             ],
             [
              0.2222222222222222,
              "#7201a8"
             ],
             [
              0.3333333333333333,
              "#9c179e"
             ],
             [
              0.4444444444444444,
              "#bd3786"
             ],
             [
              0.5555555555555556,
              "#d8576b"
             ],
             [
              0.6666666666666666,
              "#ed7953"
             ],
             [
              0.7777777777777778,
              "#fb9f3a"
             ],
             [
              0.8888888888888888,
              "#fdca26"
             ],
             [
              1,
              "#f0f921"
             ]
            ],
            "type": "heatmapgl"
           }
          ],
          "histogram": [
           {
            "marker": {
             "pattern": {
              "fillmode": "overlay",
              "size": 10,
              "solidity": 0.2
             }
            },
            "type": "histogram"
           }
          ],
          "histogram2d": [
           {
            "colorbar": {
             "outlinewidth": 0,
             "ticks": ""
            },
            "colorscale": [
             [
              0,
              "#0d0887"
             ],
             [
              0.1111111111111111,
              "#46039f"
             ],
             [
              0.2222222222222222,
              "#7201a8"
             ],
             [
              0.3333333333333333,
              "#9c179e"
             ],
             [
              0.4444444444444444,
              "#bd3786"
             ],
             [
              0.5555555555555556,
              "#d8576b"
             ],
             [
              0.6666666666666666,
              "#ed7953"
             ],
             [
              0.7777777777777778,
              "#fb9f3a"
             ],
             [
              0.8888888888888888,
              "#fdca26"
             ],
             [
              1,
              "#f0f921"
             ]
            ],
            "type": "histogram2d"
           }
          ],
          "histogram2dcontour": [
           {
            "colorbar": {
             "outlinewidth": 0,
             "ticks": ""
            },
            "colorscale": [
             [
              0,
              "#0d0887"
             ],
             [
              0.1111111111111111,
              "#46039f"
             ],
             [
              0.2222222222222222,
              "#7201a8"
             ],
             [
              0.3333333333333333,
              "#9c179e"
             ],
             [
              0.4444444444444444,
              "#bd3786"
             ],
             [
              0.5555555555555556,
              "#d8576b"
             ],
             [
              0.6666666666666666,
              "#ed7953"
             ],
             [
              0.7777777777777778,
              "#fb9f3a"
             ],
             [
              0.8888888888888888,
              "#fdca26"
             ],
             [
              1,
              "#f0f921"
             ]
            ],
            "type": "histogram2dcontour"
           }
          ],
          "mesh3d": [
           {
            "colorbar": {
             "outlinewidth": 0,
             "ticks": ""
            },
            "type": "mesh3d"
           }
          ],
          "parcoords": [
           {
            "line": {
             "colorbar": {
              "outlinewidth": 0,
              "ticks": ""
             }
            },
            "type": "parcoords"
           }
          ],
          "pie": [
           {
            "automargin": true,
            "type": "pie"
           }
          ],
          "scatter": [
           {
            "fillpattern": {
             "fillmode": "overlay",
             "size": 10,
             "solidity": 0.2
            },
            "type": "scatter"
           }
          ],
          "scatter3d": [
           {
            "line": {
             "colorbar": {
              "outlinewidth": 0,
              "ticks": ""
             }
            },
            "marker": {
             "colorbar": {
              "outlinewidth": 0,
              "ticks": ""
             }
            },
            "type": "scatter3d"
           }
          ],
          "scattercarpet": [
           {
            "marker": {
             "colorbar": {
              "outlinewidth": 0,
              "ticks": ""
             }
            },
            "type": "scattercarpet"
           }
          ],
          "scattergeo": [
           {
            "marker": {
             "colorbar": {
              "outlinewidth": 0,
              "ticks": ""
             }
            },
            "type": "scattergeo"
           }
          ],
          "scattergl": [
           {
            "marker": {
             "colorbar": {
              "outlinewidth": 0,
              "ticks": ""
             }
            },
            "type": "scattergl"
           }
          ],
          "scattermapbox": [
           {
            "marker": {
             "colorbar": {
              "outlinewidth": 0,
              "ticks": ""
             }
            },
            "type": "scattermapbox"
           }
          ],
          "scatterpolar": [
           {
            "marker": {
             "colorbar": {
              "outlinewidth": 0,
              "ticks": ""
             }
            },
            "type": "scatterpolar"
           }
          ],
          "scatterpolargl": [
           {
            "marker": {
             "colorbar": {
              "outlinewidth": 0,
              "ticks": ""
             }
            },
            "type": "scatterpolargl"
           }
          ],
          "scatterternary": [
           {
            "marker": {
             "colorbar": {
              "outlinewidth": 0,
              "ticks": ""
             }
            },
            "type": "scatterternary"
           }
          ],
          "surface": [
           {
            "colorbar": {
             "outlinewidth": 0,
             "ticks": ""
            },
            "colorscale": [
             [
              0,
              "#0d0887"
             ],
             [
              0.1111111111111111,
              "#46039f"
             ],
             [
              0.2222222222222222,
              "#7201a8"
             ],
             [
              0.3333333333333333,
              "#9c179e"
             ],
             [
              0.4444444444444444,
              "#bd3786"
             ],
             [
              0.5555555555555556,
              "#d8576b"
             ],
             [
              0.6666666666666666,
              "#ed7953"
             ],
             [
              0.7777777777777778,
              "#fb9f3a"
             ],
             [
              0.8888888888888888,
              "#fdca26"
             ],
             [
              1,
              "#f0f921"
             ]
            ],
            "type": "surface"
           }
          ],
          "table": [
           {
            "cells": {
             "fill": {
              "color": "#EBF0F8"
             },
             "line": {
              "color": "white"
             }
            },
            "header": {
             "fill": {
              "color": "#C8D4E3"
             },
             "line": {
              "color": "white"
             }
            },
            "type": "table"
           }
          ]
         },
         "layout": {
          "annotationdefaults": {
           "arrowcolor": "#2a3f5f",
           "arrowhead": 0,
           "arrowwidth": 1
          },
          "autotypenumbers": "strict",
          "coloraxis": {
           "colorbar": {
            "outlinewidth": 0,
            "ticks": ""
           }
          },
          "colorscale": {
           "diverging": [
            [
             0,
             "#8e0152"
            ],
            [
             0.1,
             "#c51b7d"
            ],
            [
             0.2,
             "#de77ae"
            ],
            [
             0.3,
             "#f1b6da"
            ],
            [
             0.4,
             "#fde0ef"
            ],
            [
             0.5,
             "#f7f7f7"
            ],
            [
             0.6,
             "#e6f5d0"
            ],
            [
             0.7,
             "#b8e186"
            ],
            [
             0.8,
             "#7fbc41"
            ],
            [
             0.9,
             "#4d9221"
            ],
            [
             1,
             "#276419"
            ]
           ],
           "sequential": [
            [
             0,
             "#0d0887"
            ],
            [
             0.1111111111111111,
             "#46039f"
            ],
            [
             0.2222222222222222,
             "#7201a8"
            ],
            [
             0.3333333333333333,
             "#9c179e"
            ],
            [
             0.4444444444444444,
             "#bd3786"
            ],
            [
             0.5555555555555556,
             "#d8576b"
            ],
            [
             0.6666666666666666,
             "#ed7953"
            ],
            [
             0.7777777777777778,
             "#fb9f3a"
            ],
            [
             0.8888888888888888,
             "#fdca26"
            ],
            [
             1,
             "#f0f921"
            ]
           ],
           "sequentialminus": [
            [
             0,
             "#0d0887"
            ],
            [
             0.1111111111111111,
             "#46039f"
            ],
            [
             0.2222222222222222,
             "#7201a8"
            ],
            [
             0.3333333333333333,
             "#9c179e"
            ],
            [
             0.4444444444444444,
             "#bd3786"
            ],
            [
             0.5555555555555556,
             "#d8576b"
            ],
            [
             0.6666666666666666,
             "#ed7953"
            ],
            [
             0.7777777777777778,
             "#fb9f3a"
            ],
            [
             0.8888888888888888,
             "#fdca26"
            ],
            [
             1,
             "#f0f921"
            ]
           ]
          },
          "colorway": [
           "#636efa",
           "#EF553B",
           "#00cc96",
           "#ab63fa",
           "#FFA15A",
           "#19d3f3",
           "#FF6692",
           "#B6E880",
           "#FF97FF",
           "#FECB52"
          ],
          "font": {
           "color": "#2a3f5f"
          },
          "geo": {
           "bgcolor": "white",
           "lakecolor": "white",
           "landcolor": "#E5ECF6",
           "showlakes": true,
           "showland": true,
           "subunitcolor": "white"
          },
          "hoverlabel": {
           "align": "left"
          },
          "hovermode": "closest",
          "mapbox": {
           "style": "light"
          },
          "paper_bgcolor": "white",
          "plot_bgcolor": "#E5ECF6",
          "polar": {
           "angularaxis": {
            "gridcolor": "white",
            "linecolor": "white",
            "ticks": ""
           },
           "bgcolor": "#E5ECF6",
           "radialaxis": {
            "gridcolor": "white",
            "linecolor": "white",
            "ticks": ""
           }
          },
          "scene": {
           "xaxis": {
            "backgroundcolor": "#E5ECF6",
            "gridcolor": "white",
            "gridwidth": 2,
            "linecolor": "white",
            "showbackground": true,
            "ticks": "",
            "zerolinecolor": "white"
           },
           "yaxis": {
            "backgroundcolor": "#E5ECF6",
            "gridcolor": "white",
            "gridwidth": 2,
            "linecolor": "white",
            "showbackground": true,
            "ticks": "",
            "zerolinecolor": "white"
           },
           "zaxis": {
            "backgroundcolor": "#E5ECF6",
            "gridcolor": "white",
            "gridwidth": 2,
            "linecolor": "white",
            "showbackground": true,
            "ticks": "",
            "zerolinecolor": "white"
           }
          },
          "shapedefaults": {
           "line": {
            "color": "#2a3f5f"
           }
          },
          "ternary": {
           "aaxis": {
            "gridcolor": "white",
            "linecolor": "white",
            "ticks": ""
           },
           "baxis": {
            "gridcolor": "white",
            "linecolor": "white",
            "ticks": ""
           },
           "bgcolor": "#E5ECF6",
           "caxis": {
            "gridcolor": "white",
            "linecolor": "white",
            "ticks": ""
           }
          },
          "title": {
           "x": 0.05
          },
          "xaxis": {
           "automargin": true,
           "gridcolor": "white",
           "linecolor": "white",
           "ticks": "",
           "title": {
            "standoff": 15
           },
           "zerolinecolor": "white",
           "zerolinewidth": 2
          },
          "yaxis": {
           "automargin": true,
           "gridcolor": "white",
           "linecolor": "white",
           "ticks": "",
           "title": {
            "standoff": 15
           },
           "zerolinecolor": "white",
           "zerolinewidth": 2
          }
         }
        },
        "title": {
         "font": {
          "size": 15
         },
         "text": "Swimmer-v1",
         "x": 0.53
        },
        "width": 500,
        "xaxis": {
         "anchor": "y",
         "domain": [
          0,
          1
         ],
         "gridcolor": "lightgrey",
         "linecolor": "black",
         "mirror": true,
         "showline": true,
         "ticks": "outside",
         "title": {
          "text": "Iteration"
         }
        },
        "yaxis": {
         "anchor": "x",
         "domain": [
          0,
          1
         ],
         "gridcolor": "lightgrey",
         "linecolor": "black",
         "mirror": true,
         "showline": true,
         "ticks": "outside",
         "title": {
          "text": "Reward"
         }
        }
       }
      },
      "text/html": [
       "<div>                            <div id=\"9eb6a1d3-1937-43af-9322-cef91da8a30a\" class=\"plotly-graph-div\" style=\"height:400px; width:500px;\"></div>            <script type=\"text/javascript\">                require([\"plotly\"], function(Plotly) {                    window.PLOTLYENV=window.PLOTLYENV || {};                                    if (document.getElementById(\"9eb6a1d3-1937-43af-9322-cef91da8a30a\")) {                    Plotly.newPlot(                        \"9eb6a1d3-1937-43af-9322-cef91da8a30a\",                        [{\"hovertemplate\":\"algorithm=ARS-1\\u003cbr\\u003eIteration=%{x}\\u003cbr\\u003ereward=%{y}\\u003cextra\\u003e\\u003c\\u002fextra\\u003e\",\"legendgroup\":\"ARS-1\",\"line\":{\"color\":\"#636efa\",\"dash\":\"solid\"},\"marker\":{\"symbol\":\"circle\"},\"mode\":\"lines\",\"name\":\"ARS-1\",\"orientation\":\"v\",\"showlegend\":true,\"x\":[10,20,30,40,50,60,70,80,90,100,110,120,130,140,150,160,170,180,190,200,210,220,230,240,250,260,270,280,290,300,310,320,330,340,350,360,370,380,390,400,410,420,430,440,450,460,470,480,490,500,510,520,530,540,550,560,570,580,590,600,610,620,630,640,650,660,670,680,690,700,710,720,730,740,750,760,770,780,790,800,810,820,830,840,850,860,870,880,890,900,910,920,930,940,950,960,970,980,990,1000],\"xaxis\":\"x\",\"y\":[-22.901165876404733,-23.74801492941825,-15.643511891311892,-15.476234239956844,-25.23821116960808,-15.476713044700478,-22.32290012335713,-43.64741327186955,-19.442568292595624,-32.050750052200584,-28.37782481216209,-35.89188712549614,-17.360376099064553,-22.760940441830783,-19.17107073022016,-19.246572668714503,-26.500462924690872,-32.23798638475596,-15.276896510235815,-217.4345951098248,-228.4633717770388,-213.5258567134813,-103.0626682999421,-103.75338743028829,-77.89260672649586,-67.83305956286294,-57.259591350583584,-77.11587012501576,-102.42002064511024,-91.15279983644444,-102.57450016503658,-8.817166404176142,-72.87573864671886,-46.90503051279007,-100.45952986877826,-29.688770637986018,32.21395450692558,43.04190101060641,39.90154003097436,46.842494121339314,35.707115259523746,-16.039103184683626,-117.0853961427332,-51.94121455338944,-78.61310508620267,-65.80731756057492,-87.5275941591868,-72.88797665570245,-80.16030620156606,-117.7410389715212,-93.9091183585845,-109.59935261186588,-47.904788211233246,-51.04749588018909,38.93835569688723,47.498949139363646,5.775307909795702,-131.89454814835247,-25.81674678784613,-36.58137387692448,-88.87280414876277,-93.56036807618162,-17.238842368301647,-67.60231717179357,-57.11886721955739,-62.18346064413808,-63.35462686617221,-68.17666071961452,-32.60976972826494,-144.91237812402375,-28.93102989735556,-133.85422044990457,-87.80095713981282,-47.573727375428135,-71.52386876931206,-78.9980052907824,-136.79097982339027,-19.61623962802929,29.217939390570265,-57.90031242895846,-76.32257539932283,-83.75455366618677,-73.4033349402559,-63.51134573077011,-60.28281244130641,-58.15886730979406,-26.542980893036155,-28.34064439665295,-22.92180948867632,-29.146460471489185,-41.84750069033955,-50.180333949090326,-34.86323238939943,-18.35761621480733,-39.05820757146086,-34.472073272930054,-36.03958709037804,-44.20512157597033,-61.63857427604314,-46.74875871405691],\"yaxis\":\"y\",\"type\":\"scatter\",\"opacity\":0.7},{\"hovertemplate\":\"algorithm=ARS-2\\u003cbr\\u003eIteration=%{x}\\u003cbr\\u003ereward=%{y}\\u003cextra\\u003e\\u003c\\u002fextra\\u003e\",\"legendgroup\":\"ARS-2\",\"line\":{\"color\":\"#EF553B\",\"dash\":\"solid\"},\"marker\":{\"symbol\":\"circle\"},\"mode\":\"lines\",\"name\":\"ARS-2\",\"orientation\":\"v\",\"showlegend\":true,\"x\":[10,20,30,40,50,60,70,80,90,100,110,120,130,140,150,160,170,180,190,200,210,220,230,240,250,260,270,280,290,300,310,320,330,340,350,360,370,380,390,400,410,420,430,440,450,460,470,480,490,500,510,520,530,540,550,560,570,580,590,600,610,620,630,640,650,660,670,680,690,700,710,720,730,740,750,760,770,780,790,800,810,820,830,840,850,860,870,880,890,900,910,920,930,940,950,960,970,980,990,1000],\"xaxis\":\"x\",\"y\":[174.20365888605673,341.3166842124523,350.38802346898325,353.9205456894761,353.02312498743066,353.9107844242761,353.6241249781268,354.09674694297746,354.84526993186694,354.228057315608,354.9490548964879,354.0742187898203,356.90315614512207,356.5956865799684,354.046155656565,358.26770049851734,354.3548018760287,354.0660076741904,356.1967293055051,358.4898829750428,359.76865715108465,356.5968926827369,356.93607577822,359.4551882751624,355.4102160447546,359.11164679853295,355.1491641345621,352.68213971446124,355.9371089111371,355.08105248399903,355.9007005989266,359.7982128652469,358.05307224514434,355.9151844961648,356.5581936466889,359.46611073052287,359.0230502732782,359.80345070673656,358.9007209482622,360.38018085427393,357.72069049087,359.11880637391266,355.30657793258115,359.08884379073686,355.3762203444795,356.5107491153308,359.78565189764834,357.8318135272321,360.4417859901537,356.5146796191945,360.24562914869307,360.8796944024327,356.0826877012251,360.3452603317169,356.12994906036585,355.769008948064,355.8664400016142,359.0457564990454,356.07884302726654,355.9958873492999,358.94938522401907,357.71582034289463,356.10162986935774,358.9923220152478,356.0322417198174,357.4433966871527,354.9655243215116,356.3584026532492,356.72344536444564,356.19977044103786,355.8169984561643,360.0767992854984,355.6755576011888,355.8146832662189,357.67588962293115,355.3396386344719,356.86337041709174,355.46288138166364,358.6828707821367,357.8165580737821,360.2782742249242,359.5375209397423,356.2224963114555,356.1304041487685,360.96636966974046,359.8652657763291,360.16330931173246,357.2337194876755,360.6584684337834,355.6591001374332,355.6833387017224,360.2396030400852,359.24560471916,359.9111825283798,358.6073141602972,357.5620581826184,358.8454097054231,356.3519689337752,359.023227941494,357.10511421629366],\"yaxis\":\"y\",\"type\":\"scatter\",\"opacity\":0.7},{\"hovertemplate\":\"algorithm=SFR-1\\u003cbr\\u003eIteration=%{x}\\u003cbr\\u003ereward=%{y}\\u003cextra\\u003e\\u003c\\u002fextra\\u003e\",\"legendgroup\":\"SFR-1\",\"line\":{\"color\":\"#00cc96\",\"dash\":\"solid\"},\"marker\":{\"symbol\":\"circle\"},\"mode\":\"lines\",\"name\":\"SFR-1\",\"orientation\":\"v\",\"showlegend\":true,\"x\":[10,20,30,40,50,60,70,80,90,100,110,120,130,140,150,160,170,180,190,200,210,220,230,240,250,260,270,280,290,300,310,320,330,340,350,360,370,380,390,400,410,420,430,440,450,460,470,480,490,500,510,520,530,540,550,560,570,580,590,600,610,620,630,640,650,660,670,680,690,700,710,720,730,740,750,760,770,780,790,800,810,820,830,840,850,860,870,880,890,900,910,920,930,940,950,960,970,980,990,1000],\"xaxis\":\"x\",\"y\":[-22.901165876404733,-23.74801492941825,-15.643511891311892,-15.476234239956844,-25.23821116960808,-15.476713044700478,-22.32290012335713,-43.64741327186955,-19.442568292595624,-32.050750052200584,-28.37782481216209,-35.89188712549614,-17.360376099064553,-22.760940441830783,-19.17107073022016,-19.246572668714503,-26.500462924690872,-32.23798638475596,-15.276896510235815,-217.4345951098248,-228.4633717770388,-213.5258567134813,-103.0626682999421,-103.75338743028829,-77.89260672649586,-67.83305956286294,-57.259591350583584,-77.11587012501576,-102.42002064511024,-91.15279983644444,-102.57450016503658,-8.817166404176142,-72.87573864671886,-46.90503051279007,-100.45952986877826,-29.688770637986018,32.21395450692558,43.04190101060641,39.90154003097436,46.842494121339314,35.707115259523746,-16.039103184683626,-117.0853961427332,-51.94121455338944,-78.61310508620267,-65.80731756057492,-87.5275941591868,-72.88797665570245,-80.16030620156606,-117.7410389715212,-93.9091183585845,-109.59935261186588,-47.904788211233246,-51.04749588018909,38.93835569688723,47.498949139363646,5.775307909795702,-131.89454814835247,-25.81674678784613,-36.58137387692448,-88.87280414876277,-93.56036807618162,-17.238842368301647,-67.60231717179357,-57.11886721955739,-62.18346064413808,-63.35462686617221,-68.17666071961452,-32.60976972826494,-144.91237812402375,-28.93102989735556,-133.85422044990457,-87.80095713981282,-47.573727375428135,-71.52386876931206,-78.9980052907824,-136.79097982339027,-19.61623962802929,29.217939390570265,-57.90031242895846,-76.32257539932283,-83.75455366618677,-73.4033349402559,-63.51134573077011,-60.28281244130641,-58.15886730979406,-26.542980893036155,-28.34064439665295,-22.92180948867632,-29.146460471489185,-41.84750069033955,-50.180333949090326,-34.86323238939943,-18.35761621480733,-39.05820757146086,-34.472073272930054,-36.03958709037804,-44.20512157597033,-61.63857427604314,-46.74875871405691],\"yaxis\":\"y\",\"type\":\"scatter\",\"opacity\":0.7},{\"hovertemplate\":\"algorithm=SFR-2\\u003cbr\\u003eIteration=%{x}\\u003cbr\\u003ereward=%{y}\\u003cextra\\u003e\\u003c\\u002fextra\\u003e\",\"legendgroup\":\"SFR-2\",\"line\":{\"color\":\"#ab63fa\",\"dash\":\"solid\"},\"marker\":{\"symbol\":\"circle\"},\"mode\":\"lines\",\"name\":\"SFR-2\",\"orientation\":\"v\",\"showlegend\":true,\"x\":[10,20,30,40,50,60,70,80,90,100,110,120,130,140,150,160,170,180,190,200,210,220,230,240,250,260,270,280,290,300,310,320,330,340,350,360,370,380,390,400,410,420,430,440,450,460,470,480,490,500,510,520,530,540,550,560,570,580,590,600,610,620,630,640,650,660,670,680,690,700,710,720,730,740,750,760,770,780,790,800,810,820,830,840,850,860,870,880,890,900,910,920,930,940,950,960,970,980,990,1000],\"xaxis\":\"x\",\"y\":[75.4156266003223,271.7007093413987,331.51490978905656,345.3876460949632,349.1233844817162,350.58236301033685,354.9215554187094,354.16671500791296,355.3317588101355,355.5741922338857,356.30762684796866,356.4067682338739,355.4058005782762,357.3509163482759,354.7148564014197,355.47355703883693,354.8725135174942,357.8690144687445,355.22361573389776,357.91615423705736,355.6181563668165,354.97568988383887,354.6897786860325,355.0619373850823,356.1765767476053,359.7968159566153,355.79649784815365,354.82460410996487,358.0891009659036,359.04482349115324,358.69308006035266,359.0181372553757,355.828411617993,355.64738018070733,357.7649361465235,358.58641660089546,354.8941867155838,355.6887729728753,356.10312069535325,359.2781066925479,358.9620017401729,357.02229894173126,358.64659602132537,359.1942815536604,358.0453630196795,359.39319434080653,355.7843298374791,357.0191296551311,358.75221725947154,357.03716018474887,355.4868298687909,355.7725784119214,357.8967162776217,356.1083181988049,357.8604789834665,355.6932283269514,358.1085559854917,356.0913847565357,355.76695766362946,356.3450237016631,355.69230910673184,355.7365074435809,358.0553179878248,359.02999900993944,355.81959026045297,360.1176849512345,357.105965864803,358.8954739006581,357.973235727373,355.9265997636652,356.87222152474715,358.7252389326684,358.4970914944026,356.45680093363626,359.00943506672047,357.03696509855746,355.762608687178,357.2540505765828,356.41432656068014,356.11984442045286,359.7218182776813,356.01979347329194,359.34221562136656,358.3240088504133,359.0755657079049,358.7798598881278,359.46183353151923,356.9915898447657,356.90455419605905,358.3631715479065,356.5921721379841,356.7344210060768,359.17718051091055,356.538841262432,357.8819282414676,359.3840162105147,359.17216409830087,356.2482670140837,356.5114003742505,356.1294850665804],\"yaxis\":\"y\",\"type\":\"scatter\",\"opacity\":0.7}],                        {\"template\":{\"data\":{\"histogram2dcontour\":[{\"type\":\"histogram2dcontour\",\"colorbar\":{\"outlinewidth\":0,\"ticks\":\"\"},\"colorscale\":[[0.0,\"#0d0887\"],[0.1111111111111111,\"#46039f\"],[0.2222222222222222,\"#7201a8\"],[0.3333333333333333,\"#9c179e\"],[0.4444444444444444,\"#bd3786\"],[0.5555555555555556,\"#d8576b\"],[0.6666666666666666,\"#ed7953\"],[0.7777777777777778,\"#fb9f3a\"],[0.8888888888888888,\"#fdca26\"],[1.0,\"#f0f921\"]]}],\"choropleth\":[{\"type\":\"choropleth\",\"colorbar\":{\"outlinewidth\":0,\"ticks\":\"\"}}],\"histogram2d\":[{\"type\":\"histogram2d\",\"colorbar\":{\"outlinewidth\":0,\"ticks\":\"\"},\"colorscale\":[[0.0,\"#0d0887\"],[0.1111111111111111,\"#46039f\"],[0.2222222222222222,\"#7201a8\"],[0.3333333333333333,\"#9c179e\"],[0.4444444444444444,\"#bd3786\"],[0.5555555555555556,\"#d8576b\"],[0.6666666666666666,\"#ed7953\"],[0.7777777777777778,\"#fb9f3a\"],[0.8888888888888888,\"#fdca26\"],[1.0,\"#f0f921\"]]}],\"heatmap\":[{\"type\":\"heatmap\",\"colorbar\":{\"outlinewidth\":0,\"ticks\":\"\"},\"colorscale\":[[0.0,\"#0d0887\"],[0.1111111111111111,\"#46039f\"],[0.2222222222222222,\"#7201a8\"],[0.3333333333333333,\"#9c179e\"],[0.4444444444444444,\"#bd3786\"],[0.5555555555555556,\"#d8576b\"],[0.6666666666666666,\"#ed7953\"],[0.7777777777777778,\"#fb9f3a\"],[0.8888888888888888,\"#fdca26\"],[1.0,\"#f0f921\"]]}],\"heatmapgl\":[{\"type\":\"heatmapgl\",\"colorbar\":{\"outlinewidth\":0,\"ticks\":\"\"},\"colorscale\":[[0.0,\"#0d0887\"],[0.1111111111111111,\"#46039f\"],[0.2222222222222222,\"#7201a8\"],[0.3333333333333333,\"#9c179e\"],[0.4444444444444444,\"#bd3786\"],[0.5555555555555556,\"#d8576b\"],[0.6666666666666666,\"#ed7953\"],[0.7777777777777778,\"#fb9f3a\"],[0.8888888888888888,\"#fdca26\"],[1.0,\"#f0f921\"]]}],\"contourcarpet\":[{\"type\":\"contourcarpet\",\"colorbar\":{\"outlinewidth\":0,\"ticks\":\"\"}}],\"contour\":[{\"type\":\"contour\",\"colorbar\":{\"outlinewidth\":0,\"ticks\":\"\"},\"colorscale\":[[0.0,\"#0d0887\"],[0.1111111111111111,\"#46039f\"],[0.2222222222222222,\"#7201a8\"],[0.3333333333333333,\"#9c179e\"],[0.4444444444444444,\"#bd3786\"],[0.5555555555555556,\"#d8576b\"],[0.6666666666666666,\"#ed7953\"],[0.7777777777777778,\"#fb9f3a\"],[0.8888888888888888,\"#fdca26\"],[1.0,\"#f0f921\"]]}],\"surface\":[{\"type\":\"surface\",\"colorbar\":{\"outlinewidth\":0,\"ticks\":\"\"},\"colorscale\":[[0.0,\"#0d0887\"],[0.1111111111111111,\"#46039f\"],[0.2222222222222222,\"#7201a8\"],[0.3333333333333333,\"#9c179e\"],[0.4444444444444444,\"#bd3786\"],[0.5555555555555556,\"#d8576b\"],[0.6666666666666666,\"#ed7953\"],[0.7777777777777778,\"#fb9f3a\"],[0.8888888888888888,\"#fdca26\"],[1.0,\"#f0f921\"]]}],\"mesh3d\":[{\"type\":\"mesh3d\",\"colorbar\":{\"outlinewidth\":0,\"ticks\":\"\"}}],\"scatter\":[{\"fillpattern\":{\"fillmode\":\"overlay\",\"size\":10,\"solidity\":0.2},\"type\":\"scatter\"}],\"parcoords\":[{\"type\":\"parcoords\",\"line\":{\"colorbar\":{\"outlinewidth\":0,\"ticks\":\"\"}}}],\"scatterpolargl\":[{\"type\":\"scatterpolargl\",\"marker\":{\"colorbar\":{\"outlinewidth\":0,\"ticks\":\"\"}}}],\"bar\":[{\"error_x\":{\"color\":\"#2a3f5f\"},\"error_y\":{\"color\":\"#2a3f5f\"},\"marker\":{\"line\":{\"color\":\"#E5ECF6\",\"width\":0.5},\"pattern\":{\"fillmode\":\"overlay\",\"size\":10,\"solidity\":0.2}},\"type\":\"bar\"}],\"scattergeo\":[{\"type\":\"scattergeo\",\"marker\":{\"colorbar\":{\"outlinewidth\":0,\"ticks\":\"\"}}}],\"scatterpolar\":[{\"type\":\"scatterpolar\",\"marker\":{\"colorbar\":{\"outlinewidth\":0,\"ticks\":\"\"}}}],\"histogram\":[{\"marker\":{\"pattern\":{\"fillmode\":\"overlay\",\"size\":10,\"solidity\":0.2}},\"type\":\"histogram\"}],\"scattergl\":[{\"type\":\"scattergl\",\"marker\":{\"colorbar\":{\"outlinewidth\":0,\"ticks\":\"\"}}}],\"scatter3d\":[{\"type\":\"scatter3d\",\"line\":{\"colorbar\":{\"outlinewidth\":0,\"ticks\":\"\"}},\"marker\":{\"colorbar\":{\"outlinewidth\":0,\"ticks\":\"\"}}}],\"scattermapbox\":[{\"type\":\"scattermapbox\",\"marker\":{\"colorbar\":{\"outlinewidth\":0,\"ticks\":\"\"}}}],\"scatterternary\":[{\"type\":\"scatterternary\",\"marker\":{\"colorbar\":{\"outlinewidth\":0,\"ticks\":\"\"}}}],\"scattercarpet\":[{\"type\":\"scattercarpet\",\"marker\":{\"colorbar\":{\"outlinewidth\":0,\"ticks\":\"\"}}}],\"carpet\":[{\"aaxis\":{\"endlinecolor\":\"#2a3f5f\",\"gridcolor\":\"white\",\"linecolor\":\"white\",\"minorgridcolor\":\"white\",\"startlinecolor\":\"#2a3f5f\"},\"baxis\":{\"endlinecolor\":\"#2a3f5f\",\"gridcolor\":\"white\",\"linecolor\":\"white\",\"minorgridcolor\":\"white\",\"startlinecolor\":\"#2a3f5f\"},\"type\":\"carpet\"}],\"table\":[{\"cells\":{\"fill\":{\"color\":\"#EBF0F8\"},\"line\":{\"color\":\"white\"}},\"header\":{\"fill\":{\"color\":\"#C8D4E3\"},\"line\":{\"color\":\"white\"}},\"type\":\"table\"}],\"barpolar\":[{\"marker\":{\"line\":{\"color\":\"#E5ECF6\",\"width\":0.5},\"pattern\":{\"fillmode\":\"overlay\",\"size\":10,\"solidity\":0.2}},\"type\":\"barpolar\"}],\"pie\":[{\"automargin\":true,\"type\":\"pie\"}]},\"layout\":{\"autotypenumbers\":\"strict\",\"colorway\":[\"#636efa\",\"#EF553B\",\"#00cc96\",\"#ab63fa\",\"#FFA15A\",\"#19d3f3\",\"#FF6692\",\"#B6E880\",\"#FF97FF\",\"#FECB52\"],\"font\":{\"color\":\"#2a3f5f\"},\"hovermode\":\"closest\",\"hoverlabel\":{\"align\":\"left\"},\"paper_bgcolor\":\"white\",\"plot_bgcolor\":\"#E5ECF6\",\"polar\":{\"bgcolor\":\"#E5ECF6\",\"angularaxis\":{\"gridcolor\":\"white\",\"linecolor\":\"white\",\"ticks\":\"\"},\"radialaxis\":{\"gridcolor\":\"white\",\"linecolor\":\"white\",\"ticks\":\"\"}},\"ternary\":{\"bgcolor\":\"#E5ECF6\",\"aaxis\":{\"gridcolor\":\"white\",\"linecolor\":\"white\",\"ticks\":\"\"},\"baxis\":{\"gridcolor\":\"white\",\"linecolor\":\"white\",\"ticks\":\"\"},\"caxis\":{\"gridcolor\":\"white\",\"linecolor\":\"white\",\"ticks\":\"\"}},\"coloraxis\":{\"colorbar\":{\"outlinewidth\":0,\"ticks\":\"\"}},\"colorscale\":{\"sequential\":[[0.0,\"#0d0887\"],[0.1111111111111111,\"#46039f\"],[0.2222222222222222,\"#7201a8\"],[0.3333333333333333,\"#9c179e\"],[0.4444444444444444,\"#bd3786\"],[0.5555555555555556,\"#d8576b\"],[0.6666666666666666,\"#ed7953\"],[0.7777777777777778,\"#fb9f3a\"],[0.8888888888888888,\"#fdca26\"],[1.0,\"#f0f921\"]],\"sequentialminus\":[[0.0,\"#0d0887\"],[0.1111111111111111,\"#46039f\"],[0.2222222222222222,\"#7201a8\"],[0.3333333333333333,\"#9c179e\"],[0.4444444444444444,\"#bd3786\"],[0.5555555555555556,\"#d8576b\"],[0.6666666666666666,\"#ed7953\"],[0.7777777777777778,\"#fb9f3a\"],[0.8888888888888888,\"#fdca26\"],[1.0,\"#f0f921\"]],\"diverging\":[[0,\"#8e0152\"],[0.1,\"#c51b7d\"],[0.2,\"#de77ae\"],[0.3,\"#f1b6da\"],[0.4,\"#fde0ef\"],[0.5,\"#f7f7f7\"],[0.6,\"#e6f5d0\"],[0.7,\"#b8e186\"],[0.8,\"#7fbc41\"],[0.9,\"#4d9221\"],[1,\"#276419\"]]},\"xaxis\":{\"gridcolor\":\"white\",\"linecolor\":\"white\",\"ticks\":\"\",\"title\":{\"standoff\":15},\"zerolinecolor\":\"white\",\"automargin\":true,\"zerolinewidth\":2},\"yaxis\":{\"gridcolor\":\"white\",\"linecolor\":\"white\",\"ticks\":\"\",\"title\":{\"standoff\":15},\"zerolinecolor\":\"white\",\"automargin\":true,\"zerolinewidth\":2},\"scene\":{\"xaxis\":{\"backgroundcolor\":\"#E5ECF6\",\"gridcolor\":\"white\",\"linecolor\":\"white\",\"showbackground\":true,\"ticks\":\"\",\"zerolinecolor\":\"white\",\"gridwidth\":2},\"yaxis\":{\"backgroundcolor\":\"#E5ECF6\",\"gridcolor\":\"white\",\"linecolor\":\"white\",\"showbackground\":true,\"ticks\":\"\",\"zerolinecolor\":\"white\",\"gridwidth\":2},\"zaxis\":{\"backgroundcolor\":\"#E5ECF6\",\"gridcolor\":\"white\",\"linecolor\":\"white\",\"showbackground\":true,\"ticks\":\"\",\"zerolinecolor\":\"white\",\"gridwidth\":2}},\"shapedefaults\":{\"line\":{\"color\":\"#2a3f5f\"}},\"annotationdefaults\":{\"arrowcolor\":\"#2a3f5f\",\"arrowhead\":0,\"arrowwidth\":1},\"geo\":{\"bgcolor\":\"white\",\"landcolor\":\"#E5ECF6\",\"subunitcolor\":\"white\",\"showland\":true,\"showlakes\":true,\"lakecolor\":\"white\"},\"title\":{\"x\":0.05},\"mapbox\":{\"style\":\"light\"}}},\"xaxis\":{\"anchor\":\"y\",\"domain\":[0.0,1.0],\"title\":{\"text\":\"Iteration\"},\"mirror\":true,\"ticks\":\"outside\",\"showline\":true,\"linecolor\":\"black\",\"gridcolor\":\"lightgrey\"},\"yaxis\":{\"anchor\":\"x\",\"domain\":[0.0,1.0],\"title\":{\"text\":\"Reward\"},\"mirror\":true,\"ticks\":\"outside\",\"showline\":true,\"linecolor\":\"black\",\"gridcolor\":\"lightgrey\"},\"legend\":{\"title\":{\"text\":\"algorithm\"},\"tracegroupgap\":0,\"yanchor\":\"bottom\",\"y\":0.5,\"xanchor\":\"right\",\"x\":0.99},\"margin\":{\"t\":50,\"l\":20,\"r\":20,\"b\":20},\"title\":{\"font\":{\"size\":15},\"text\":\"Swimmer-v1\",\"x\":0.53},\"autosize\":false,\"plot_bgcolor\":\"white\",\"width\":500,\"height\":400},                        {\"responsive\": true}                    ).then(function(){\n",
       "                            \n",
       "var gd = document.getElementById('9eb6a1d3-1937-43af-9322-cef91da8a30a');\n",
       "var x = new MutationObserver(function (mutations, observer) {{\n",
       "        var display = window.getComputedStyle(gd).display;\n",
       "        if (!display || display === 'none') {{\n",
       "            console.log([gd, 'removed!']);\n",
       "            Plotly.purge(gd);\n",
       "            observer.disconnect();\n",
       "        }}\n",
       "}});\n",
       "\n",
       "// Listen for the removal of the full notebook cells\n",
       "var notebookContainer = gd.closest('#notebook-container');\n",
       "if (notebookContainer) {{\n",
       "    x.observe(notebookContainer, {childList: true});\n",
       "}}\n",
       "\n",
       "// Listen for the clearing of the current output cell\n",
       "var outputEl = gd.closest('.output');\n",
       "if (outputEl) {{\n",
       "    x.observe(outputEl, {childList: true});\n",
       "}}\n",
       "\n",
       "                        })                };                });            </script>        </div>"
      ]
     },
     "metadata": {},
     "output_type": "display_data"
    },
    {
     "data": {
      "application/vnd.plotly.v1+json": {
       "config": {
        "plotlyServerURL": "https://plot.ly"
       },
       "data": [
        {
         "hovertemplate": "algorithm=ARS-1<br>Iteration=%{x}<br>reward=%{y}<extra></extra>",
         "legendgroup": "ARS-1",
         "line": {
          "color": "#636efa",
          "dash": "solid"
         },
         "marker": {
          "symbol": "circle"
         },
         "mode": "lines",
         "name": "ARS-1",
         "opacity": 0.7,
         "orientation": "v",
         "showlegend": true,
         "type": "scatter",
         "x": [
          10,
          20,
          30,
          40,
          50,
          60,
          70,
          80,
          90,
          100,
          110,
          120,
          130,
          140,
          150,
          160,
          170,
          180,
          190,
          200,
          210,
          220,
          230,
          240,
          250,
          260,
          270,
          280,
          290,
          300,
          310,
          320,
          330,
          340,
          350,
          360,
          370,
          380,
          390,
          400,
          410,
          420,
          430,
          440,
          450,
          460,
          470,
          480,
          490,
          500,
          510,
          520,
          530,
          540,
          550,
          560,
          570,
          580,
          590,
          600,
          610,
          620,
          630,
          640,
          650,
          660,
          670,
          680,
          690,
          700,
          710,
          720,
          730,
          740,
          750,
          760,
          770,
          780,
          790,
          800,
          810,
          820,
          830,
          840,
          850,
          860,
          870,
          880,
          890,
          900,
          910,
          920,
          930,
          940,
          950,
          960,
          970,
          980,
          990,
          1000
         ],
         "xaxis": "x",
         "y": [
          249.0656311839819,
          250.4047051358223,
          251.04317377567293,
          251.18810670852665,
          251.86057984232903,
          253.9621009707451,
          254.3758047556877,
          255.26167085051537,
          259.0041124612093,
          265.30305785655975,
          266.1604786527157,
          273.50705362558364,
          278.88115082740785,
          284.06854333639143,
          283.5505970454216,
          280.855544179678,
          280.16128904044626,
          277.2515337717533,
          275.26879344046114,
          277.2898153573275,
          287.6979757255316,
          288.30347107231614,
          294.5620525616407,
          306.90487700760366,
          305.24633582830427,
          323.03268794476986,
          340.7109097737074,
          353.39935243844985,
          356.13206564188005,
          366.5932936877013,
          364.6793270897865,
          381.3420877373218,
          384.4036732673645,
          385.689259160161,
          388.6315800726414,
          390.6395885407925,
          390.5516051185131,
          385.0094310134649,
          377.5595670545101,
          376.1301965653896,
          382.2236123389006,
          378.425664537549,
          381.7151705002785,
          380.8850371313095,
          382.3587852317095,
          386.737739238143,
          388.10408093214033,
          386.3367981791496,
          390.4628126728535,
          384.92794115662576,
          382.4906178975105,
          378.4277685546875,
          380.2707427692413,
          386.71854304254055,
          395.644358984828,
          391.1972995436192,
          393.028982989192,
          393.7914861190319,
          402.9400816899538,
          415.0979318726063,
          404.8018765437603,
          420.34214992821217,
          406.6460247510672,
          399.4063962215185,
          419.50578634500505,
          415.1940804731846,
          416.3125047689677,
          423.3481203252077,
          418.1093971312046,
          430.0598061877489,
          429.5885921365023,
          422.7269354480505,
          430.6422693926096,
          437.4656487727165,
          432.112169687748,
          439.1001099836826,
          438.5017299520969,
          442.89160664975645,
          445.2327520430088,
          442.5209601867199,
          448.4493001258373,
          447.0679693138599,
          454.6231630319357,
          455.0532817846537,
          466.8102279746532,
          465.7663989496231,
          474.6616605520248,
          459.735351960063,
          483.5543709462881,
          488.59598293364047,
          484.88941005170346,
          479.0341835010052,
          475.3733724421263,
          470.9140065217018,
          490.4700757706165,
          565.8499069792032,
          485.43110911369325,
          518.5011109781266,
          513.4290419793128,
          500.8154608845711
         ],
         "yaxis": "y"
        },
        {
         "hovertemplate": "algorithm=ARS-2<br>Iteration=%{x}<br>reward=%{y}<extra></extra>",
         "legendgroup": "ARS-2",
         "line": {
          "color": "#EF553B",
          "dash": "solid"
         },
         "marker": {
          "symbol": "circle"
         },
         "mode": "lines",
         "name": "ARS-2",
         "opacity": 0.7,
         "orientation": "v",
         "showlegend": true,
         "type": "scatter",
         "x": [
          10,
          20,
          30,
          40,
          50,
          60,
          70,
          80,
          90,
          100,
          110,
          120,
          130,
          140,
          150,
          160,
          170,
          180,
          190,
          200,
          210,
          220,
          230,
          240,
          250,
          260,
          270,
          280,
          290,
          300,
          310,
          320,
          330,
          340,
          350,
          360,
          370,
          380,
          390,
          400,
          410,
          420,
          430,
          440,
          450,
          460,
          470,
          480,
          490,
          500,
          510,
          520,
          530,
          540,
          550,
          560,
          570,
          580,
          590,
          600,
          610,
          620,
          630,
          640,
          650,
          660,
          670,
          680,
          690,
          700,
          710,
          720,
          730,
          740,
          750,
          760,
          770,
          780,
          790,
          800,
          810,
          820,
          830,
          840,
          850,
          860,
          870,
          880,
          890,
          900,
          910,
          920,
          930,
          940,
          950,
          960,
          970,
          980,
          990,
          1000
         ],
         "xaxis": "x",
         "y": [
          287.09033271789554,
          429.1118879842758,
          454.4096115374565,
          457.918801073432,
          461.4610062426329,
          467.20725689470765,
          477.79247775554654,
          489.0702813583612,
          657.7046778082847,
          888.0085241633653,
          2381.832902005613,
          2144.633130432367,
          2032.5188697457315,
          1854.267407087088,
          1766.5355305874348,
          1880.677978349328,
          1942.2400545734167,
          2084.6898881268503,
          2019.1667521446943,
          1955.3594553428889,
          1938.941972859502,
          1898.6864289203288,
          1949.858135663271,
          1951.146793093216,
          1867.7313773640155,
          1864.2958441773055,
          1983.3294303134085,
          2012.725970401466,
          1999.6661551512775,
          2098.699624173343,
          2289.0074477404355,
          2301.173211352229,
          2499.620834868252,
          2672.863479733765,
          2873.5218918538094,
          3042.854952346981,
          3290.0589284539224,
          3316.9339450213315,
          3169.522351377457,
          3862.440920524597,
          4077.64603762269,
          4209.578214349151,
          4388.127463208437,
          4479.300767402351,
          4504.362848500908,
          4701.764577958285,
          4657.6730961090325,
          4768.454457324446,
          4825.488555006683,
          4621.553679360747,
          4821.182706330121,
          4739.4214376583695,
          4764.495567691923,
          4927.917995159328,
          4991.197014549077,
          5102.720751453042,
          5111.623809998631,
          5025.97620585382,
          5209.347580298186,
          5256.438214043528,
          5219.388740200148,
          5282.23057411775,
          5362.406502947584,
          5364.9044871317965,
          5415.536189515199,
          5313.270387952583,
          5440.825024665606,
          5471.240689159762,
          5482.552633536405,
          5449.252790441317,
          5444.264257260768,
          5541.173503723184,
          5525.15797664263,
          5609.225570453534,
          5633.86322293788,
          5706.512245866729,
          5688.577803666611,
          5715.267444959264,
          5720.95515338218,
          5688.632334466715,
          5649.860505023033,
          5775.197046463694,
          5645.233545803483,
          5883.787931980465,
          5876.937246896747,
          5880.860403251597,
          5868.501998901628,
          5895.675871889125,
          5847.2675452011545,
          5928.543081858468,
          5931.485209690798,
          5896.376177170347,
          5900.142560315151,
          5803.624302567714,
          5867.69095804419,
          5875.667427419048,
          5915.27327521013,
          5895.287682320322,
          5769.883588226033,
          5924.886176861078
         ],
         "yaxis": "y"
        },
        {
         "hovertemplate": "algorithm=SFR-1<br>Iteration=%{x}<br>reward=%{y}<extra></extra>",
         "legendgroup": "SFR-1",
         "line": {
          "color": "#00cc96",
          "dash": "solid"
         },
         "marker": {
          "symbol": "circle"
         },
         "mode": "lines",
         "name": "SFR-1",
         "opacity": 0.7,
         "orientation": "v",
         "showlegend": true,
         "type": "scatter",
         "x": [
          10,
          20,
          30,
          40,
          50,
          60,
          70,
          80,
          90,
          100,
          110,
          120,
          130,
          140,
          150,
          160,
          170,
          180,
          190,
          200,
          210,
          220,
          230,
          240,
          250,
          260,
          270,
          280,
          290,
          300,
          310,
          320,
          330,
          340,
          350,
          360,
          370,
          380,
          390,
          400,
          410,
          420,
          430,
          440,
          450,
          460,
          470,
          480,
          490,
          500,
          510,
          520,
          530,
          540,
          550,
          560,
          570,
          580,
          590,
          600,
          610,
          620,
          630,
          640,
          650,
          660,
          670,
          680,
          690,
          700,
          710,
          720,
          730,
          740,
          750,
          760,
          770,
          780,
          790,
          800,
          810,
          820,
          830,
          840,
          850,
          860,
          870,
          880,
          890,
          900,
          910,
          920,
          930,
          940,
          950,
          960,
          970,
          980,
          990,
          1000
         ],
         "xaxis": "x",
         "y": [
          249.0656311839819,
          250.4047051358223,
          251.04317377567293,
          251.18810670852665,
          251.86057984232903,
          253.9621009707451,
          254.3758047556877,
          255.26167085051537,
          259.0041124612093,
          265.30305785655975,
          266.1604786527157,
          273.50705362558364,
          278.88115082740785,
          284.06854333639143,
          283.5505970454216,
          280.855544179678,
          280.16128904044626,
          277.2515337717533,
          275.26879344046114,
          277.2898153573275,
          287.6979757255316,
          288.30347107231614,
          294.5620525616407,
          306.90487700760366,
          305.24633582830427,
          323.03268794476986,
          340.7109097737074,
          353.39935243844985,
          356.13206564188005,
          366.5932936877013,
          364.6793270897865,
          381.3420877373218,
          384.4036732673645,
          385.689259160161,
          388.6315800726414,
          390.6395885407925,
          390.5516051185131,
          385.0094310134649,
          377.5595670545101,
          376.1301965653896,
          382.2236123389006,
          378.425664537549,
          381.7151705002785,
          380.8850371313095,
          382.3587852317095,
          386.737739238143,
          388.10408093214033,
          386.3367981791496,
          390.4628126728535,
          384.92794115662576,
          382.4906178975105,
          378.4277685546875,
          380.2707427692413,
          386.71854304254055,
          395.644358984828,
          391.1972995436192,
          393.028982989192,
          393.7914861190319,
          402.9400816899538,
          415.0979318726063,
          404.8018765437603,
          420.34214992821217,
          406.6460247510672,
          399.4063962215185,
          419.50578634500505,
          415.1940804731846,
          416.3125047689677,
          423.3481203252077,
          418.1093971312046,
          430.0598061877489,
          429.5885921365023,
          422.7269354480505,
          430.6422693926096,
          437.4656487727165,
          432.112169687748,
          439.1001099836826,
          438.5017299520969,
          442.89160664975645,
          445.2327520430088,
          442.5209601867199,
          448.4493001258373,
          447.0679693138599,
          454.6231630319357,
          455.0532817846537,
          466.8102279746532,
          465.7663989496231,
          474.6616605520248,
          459.735351960063,
          483.5543709462881,
          488.59598293364047,
          484.88941005170346,
          479.0341835010052,
          475.3733724421263,
          470.9140065217018,
          490.4700757706165,
          565.8499069792032,
          485.43110911369325,
          518.5011109781266,
          513.4290419793128,
          500.8154608845711
         ],
         "yaxis": "y"
        },
        {
         "hovertemplate": "algorithm=SFR-2<br>Iteration=%{x}<br>reward=%{y}<extra></extra>",
         "legendgroup": "SFR-2",
         "line": {
          "color": "#ab63fa",
          "dash": "solid"
         },
         "marker": {
          "symbol": "circle"
         },
         "mode": "lines",
         "name": "SFR-2",
         "opacity": 0.7,
         "orientation": "v",
         "showlegend": true,
         "type": "scatter",
         "x": [
          10,
          20,
          30,
          40,
          50,
          60,
          70,
          80,
          90,
          100,
          110,
          120,
          130,
          140,
          150,
          160,
          170,
          180,
          190,
          200,
          210,
          220,
          230,
          240,
          250,
          260,
          270,
          280,
          290,
          300,
          310,
          320,
          330,
          340,
          350,
          360,
          370,
          380,
          390,
          400,
          410,
          420,
          430,
          440,
          450,
          460,
          470,
          480,
          490,
          500,
          510,
          520,
          530,
          540,
          550,
          560,
          570,
          580,
          590,
          600,
          610,
          620,
          630,
          640,
          650,
          660,
          670,
          680,
          690,
          700,
          710,
          720,
          730,
          740,
          750,
          760,
          770,
          780,
          790,
          800,
          810,
          820,
          830,
          840,
          850,
          860,
          870,
          880,
          890,
          900,
          910,
          920,
          930,
          940,
          950,
          960,
          970,
          980,
          990,
          1000
         ],
         "xaxis": "x",
         "y": [
          252.9751937174797,
          253.0948041069508,
          259.2783336520195,
          267.43658228635786,
          271.27862828791143,
          279.1000827533007,
          286.81200390040874,
          287.1914441382885,
          297.5432354420424,
          297.66884795844555,
          302.5596796798706,
          301.825694385767,
          307.95104629695413,
          318.8069587564468,
          360.9724192726612,
          376.15192215323447,
          379.2325476396084,
          384.271610352993,
          383.2603019368648,
          385.4260973620415,
          382.83357974290846,
          382.5875144791603,
          384.0603149819374,
          383.6219172286988,
          385.9810280859471,
          394.4824163091183,
          390.9544889461994,
          390.7227002763749,
          398.5026841366291,
          399.164381532669,
          397.5104239392281,
          394.8920173919201,
          395.93658841371536,
          398.4015136933327,
          403.2186375337839,
          407.669739574194,
          412.2758571839333,
          402.399790416956,
          407.6112255322933,
          403.8447493672371,
          401.0921939456463,
          396.160203101635,
          405.67649254620073,
          404.4062923616171,
          403.7130435699224,
          403.19829308569433,
          400.0166863566637,
          401.67857866585257,
          396.5113228088617,
          394.8495018196106,
          394.2259129840136,
          402.48691702544687,
          411.0118739032745,
          409.5393586552143,
          418.7355440056324,
          420.22829010128976,
          431.4891025531292,
          443.0455804491043,
          449.42358581662177,
          476.1410383334756,
          483.0872578705323,
          499.2024491345882,
          540.7587332223355,
          544.7769331830705,
          575.1724221855216,
          570.5593382249773,
          636.3823183231568,
          666.1213350897375,
          614.0626310311537,
          786.2402678285353,
          2008.027053296864,
          1920.793252194412,
          1915.0489672470092,
          1890.0954380568865,
          1991.2676874363424,
          2032.1400745965636,
          2035.2250436124575,
          2092.696919130683,
          2057.9041627925635,
          2077.748437461853,
          2152.397728185057,
          2151.940738450885,
          2068.292855089903,
          2059.0211542540787,
          1981.444706324339,
          2011.4217597436905,
          2057.998430930972,
          1985.360536028743,
          1991.8631079494955,
          1998.891552693248,
          2032.8522422283888,
          1998.6350204229357,
          2004.8588511145117,
          1983.6199347746367,
          1982.6745233899355,
          1999.735057478547,
          1989.337486089468,
          1994.252059481144,
          2001.1988614475729,
          2001.03423830688
         ],
         "yaxis": "y"
        }
       ],
       "layout": {
        "autosize": false,
        "height": 400,
        "legend": {
         "title": {
          "text": "algorithm"
         },
         "tracegroupgap": 0,
         "x": 0.99,
         "xanchor": "right",
         "y": 0.5,
         "yanchor": "bottom"
        },
        "margin": {
         "b": 20,
         "l": 20,
         "r": 20,
         "t": 50
        },
        "plot_bgcolor": "white",
        "template": {
         "data": {
          "bar": [
           {
            "error_x": {
             "color": "#2a3f5f"
            },
            "error_y": {
             "color": "#2a3f5f"
            },
            "marker": {
             "line": {
              "color": "#E5ECF6",
              "width": 0.5
             },
             "pattern": {
              "fillmode": "overlay",
              "size": 10,
              "solidity": 0.2
             }
            },
            "type": "bar"
           }
          ],
          "barpolar": [
           {
            "marker": {
             "line": {
              "color": "#E5ECF6",
              "width": 0.5
             },
             "pattern": {
              "fillmode": "overlay",
              "size": 10,
              "solidity": 0.2
             }
            },
            "type": "barpolar"
           }
          ],
          "carpet": [
           {
            "aaxis": {
             "endlinecolor": "#2a3f5f",
             "gridcolor": "white",
             "linecolor": "white",
             "minorgridcolor": "white",
             "startlinecolor": "#2a3f5f"
            },
            "baxis": {
             "endlinecolor": "#2a3f5f",
             "gridcolor": "white",
             "linecolor": "white",
             "minorgridcolor": "white",
             "startlinecolor": "#2a3f5f"
            },
            "type": "carpet"
           }
          ],
          "choropleth": [
           {
            "colorbar": {
             "outlinewidth": 0,
             "ticks": ""
            },
            "type": "choropleth"
           }
          ],
          "contour": [
           {
            "colorbar": {
             "outlinewidth": 0,
             "ticks": ""
            },
            "colorscale": [
             [
              0,
              "#0d0887"
             ],
             [
              0.1111111111111111,
              "#46039f"
             ],
             [
              0.2222222222222222,
              "#7201a8"
             ],
             [
              0.3333333333333333,
              "#9c179e"
             ],
             [
              0.4444444444444444,
              "#bd3786"
             ],
             [
              0.5555555555555556,
              "#d8576b"
             ],
             [
              0.6666666666666666,
              "#ed7953"
             ],
             [
              0.7777777777777778,
              "#fb9f3a"
             ],
             [
              0.8888888888888888,
              "#fdca26"
             ],
             [
              1,
              "#f0f921"
             ]
            ],
            "type": "contour"
           }
          ],
          "contourcarpet": [
           {
            "colorbar": {
             "outlinewidth": 0,
             "ticks": ""
            },
            "type": "contourcarpet"
           }
          ],
          "heatmap": [
           {
            "colorbar": {
             "outlinewidth": 0,
             "ticks": ""
            },
            "colorscale": [
             [
              0,
              "#0d0887"
             ],
             [
              0.1111111111111111,
              "#46039f"
             ],
             [
              0.2222222222222222,
              "#7201a8"
             ],
             [
              0.3333333333333333,
              "#9c179e"
             ],
             [
              0.4444444444444444,
              "#bd3786"
             ],
             [
              0.5555555555555556,
              "#d8576b"
             ],
             [
              0.6666666666666666,
              "#ed7953"
             ],
             [
              0.7777777777777778,
              "#fb9f3a"
             ],
             [
              0.8888888888888888,
              "#fdca26"
             ],
             [
              1,
              "#f0f921"
             ]
            ],
            "type": "heatmap"
           }
          ],
          "heatmapgl": [
           {
            "colorbar": {
             "outlinewidth": 0,
             "ticks": ""
            },
            "colorscale": [
             [
              0,
              "#0d0887"
             ],
             [
              0.1111111111111111,
              "#46039f"
             ],
             [
              0.2222222222222222,
              "#7201a8"
             ],
             [
              0.3333333333333333,
              "#9c179e"
             ],
             [
              0.4444444444444444,
              "#bd3786"
             ],
             [
              0.5555555555555556,
              "#d8576b"
             ],
             [
              0.6666666666666666,
              "#ed7953"
             ],
             [
              0.7777777777777778,
              "#fb9f3a"
             ],
             [
              0.8888888888888888,
              "#fdca26"
             ],
             [
              1,
              "#f0f921"
             ]
            ],
            "type": "heatmapgl"
           }
          ],
          "histogram": [
           {
            "marker": {
             "pattern": {
              "fillmode": "overlay",
              "size": 10,
              "solidity": 0.2
             }
            },
            "type": "histogram"
           }
          ],
          "histogram2d": [
           {
            "colorbar": {
             "outlinewidth": 0,
             "ticks": ""
            },
            "colorscale": [
             [
              0,
              "#0d0887"
             ],
             [
              0.1111111111111111,
              "#46039f"
             ],
             [
              0.2222222222222222,
              "#7201a8"
             ],
             [
              0.3333333333333333,
              "#9c179e"
             ],
             [
              0.4444444444444444,
              "#bd3786"
             ],
             [
              0.5555555555555556,
              "#d8576b"
             ],
             [
              0.6666666666666666,
              "#ed7953"
             ],
             [
              0.7777777777777778,
              "#fb9f3a"
             ],
             [
              0.8888888888888888,
              "#fdca26"
             ],
             [
              1,
              "#f0f921"
             ]
            ],
            "type": "histogram2d"
           }
          ],
          "histogram2dcontour": [
           {
            "colorbar": {
             "outlinewidth": 0,
             "ticks": ""
            },
            "colorscale": [
             [
              0,
              "#0d0887"
             ],
             [
              0.1111111111111111,
              "#46039f"
             ],
             [
              0.2222222222222222,
              "#7201a8"
             ],
             [
              0.3333333333333333,
              "#9c179e"
             ],
             [
              0.4444444444444444,
              "#bd3786"
             ],
             [
              0.5555555555555556,
              "#d8576b"
             ],
             [
              0.6666666666666666,
              "#ed7953"
             ],
             [
              0.7777777777777778,
              "#fb9f3a"
             ],
             [
              0.8888888888888888,
              "#fdca26"
             ],
             [
              1,
              "#f0f921"
             ]
            ],
            "type": "histogram2dcontour"
           }
          ],
          "mesh3d": [
           {
            "colorbar": {
             "outlinewidth": 0,
             "ticks": ""
            },
            "type": "mesh3d"
           }
          ],
          "parcoords": [
           {
            "line": {
             "colorbar": {
              "outlinewidth": 0,
              "ticks": ""
             }
            },
            "type": "parcoords"
           }
          ],
          "pie": [
           {
            "automargin": true,
            "type": "pie"
           }
          ],
          "scatter": [
           {
            "fillpattern": {
             "fillmode": "overlay",
             "size": 10,
             "solidity": 0.2
            },
            "type": "scatter"
           }
          ],
          "scatter3d": [
           {
            "line": {
             "colorbar": {
              "outlinewidth": 0,
              "ticks": ""
             }
            },
            "marker": {
             "colorbar": {
              "outlinewidth": 0,
              "ticks": ""
             }
            },
            "type": "scatter3d"
           }
          ],
          "scattercarpet": [
           {
            "marker": {
             "colorbar": {
              "outlinewidth": 0,
              "ticks": ""
             }
            },
            "type": "scattercarpet"
           }
          ],
          "scattergeo": [
           {
            "marker": {
             "colorbar": {
              "outlinewidth": 0,
              "ticks": ""
             }
            },
            "type": "scattergeo"
           }
          ],
          "scattergl": [
           {
            "marker": {
             "colorbar": {
              "outlinewidth": 0,
              "ticks": ""
             }
            },
            "type": "scattergl"
           }
          ],
          "scattermapbox": [
           {
            "marker": {
             "colorbar": {
              "outlinewidth": 0,
              "ticks": ""
             }
            },
            "type": "scattermapbox"
           }
          ],
          "scatterpolar": [
           {
            "marker": {
             "colorbar": {
              "outlinewidth": 0,
              "ticks": ""
             }
            },
            "type": "scatterpolar"
           }
          ],
          "scatterpolargl": [
           {
            "marker": {
             "colorbar": {
              "outlinewidth": 0,
              "ticks": ""
             }
            },
            "type": "scatterpolargl"
           }
          ],
          "scatterternary": [
           {
            "marker": {
             "colorbar": {
              "outlinewidth": 0,
              "ticks": ""
             }
            },
            "type": "scatterternary"
           }
          ],
          "surface": [
           {
            "colorbar": {
             "outlinewidth": 0,
             "ticks": ""
            },
            "colorscale": [
             [
              0,
              "#0d0887"
             ],
             [
              0.1111111111111111,
              "#46039f"
             ],
             [
              0.2222222222222222,
              "#7201a8"
             ],
             [
              0.3333333333333333,
              "#9c179e"
             ],
             [
              0.4444444444444444,
              "#bd3786"
             ],
             [
              0.5555555555555556,
              "#d8576b"
             ],
             [
              0.6666666666666666,
              "#ed7953"
             ],
             [
              0.7777777777777778,
              "#fb9f3a"
             ],
             [
              0.8888888888888888,
              "#fdca26"
             ],
             [
              1,
              "#f0f921"
             ]
            ],
            "type": "surface"
           }
          ],
          "table": [
           {
            "cells": {
             "fill": {
              "color": "#EBF0F8"
             },
             "line": {
              "color": "white"
             }
            },
            "header": {
             "fill": {
              "color": "#C8D4E3"
             },
             "line": {
              "color": "white"
             }
            },
            "type": "table"
           }
          ]
         },
         "layout": {
          "annotationdefaults": {
           "arrowcolor": "#2a3f5f",
           "arrowhead": 0,
           "arrowwidth": 1
          },
          "autotypenumbers": "strict",
          "coloraxis": {
           "colorbar": {
            "outlinewidth": 0,
            "ticks": ""
           }
          },
          "colorscale": {
           "diverging": [
            [
             0,
             "#8e0152"
            ],
            [
             0.1,
             "#c51b7d"
            ],
            [
             0.2,
             "#de77ae"
            ],
            [
             0.3,
             "#f1b6da"
            ],
            [
             0.4,
             "#fde0ef"
            ],
            [
             0.5,
             "#f7f7f7"
            ],
            [
             0.6,
             "#e6f5d0"
            ],
            [
             0.7,
             "#b8e186"
            ],
            [
             0.8,
             "#7fbc41"
            ],
            [
             0.9,
             "#4d9221"
            ],
            [
             1,
             "#276419"
            ]
           ],
           "sequential": [
            [
             0,
             "#0d0887"
            ],
            [
             0.1111111111111111,
             "#46039f"
            ],
            [
             0.2222222222222222,
             "#7201a8"
            ],
            [
             0.3333333333333333,
             "#9c179e"
            ],
            [
             0.4444444444444444,
             "#bd3786"
            ],
            [
             0.5555555555555556,
             "#d8576b"
            ],
            [
             0.6666666666666666,
             "#ed7953"
            ],
            [
             0.7777777777777778,
             "#fb9f3a"
            ],
            [
             0.8888888888888888,
             "#fdca26"
            ],
            [
             1,
             "#f0f921"
            ]
           ],
           "sequentialminus": [
            [
             0,
             "#0d0887"
            ],
            [
             0.1111111111111111,
             "#46039f"
            ],
            [
             0.2222222222222222,
             "#7201a8"
            ],
            [
             0.3333333333333333,
             "#9c179e"
            ],
            [
             0.4444444444444444,
             "#bd3786"
            ],
            [
             0.5555555555555556,
             "#d8576b"
            ],
            [
             0.6666666666666666,
             "#ed7953"
            ],
            [
             0.7777777777777778,
             "#fb9f3a"
            ],
            [
             0.8888888888888888,
             "#fdca26"
            ],
            [
             1,
             "#f0f921"
            ]
           ]
          },
          "colorway": [
           "#636efa",
           "#EF553B",
           "#00cc96",
           "#ab63fa",
           "#FFA15A",
           "#19d3f3",
           "#FF6692",
           "#B6E880",
           "#FF97FF",
           "#FECB52"
          ],
          "font": {
           "color": "#2a3f5f"
          },
          "geo": {
           "bgcolor": "white",
           "lakecolor": "white",
           "landcolor": "#E5ECF6",
           "showlakes": true,
           "showland": true,
           "subunitcolor": "white"
          },
          "hoverlabel": {
           "align": "left"
          },
          "hovermode": "closest",
          "mapbox": {
           "style": "light"
          },
          "paper_bgcolor": "white",
          "plot_bgcolor": "#E5ECF6",
          "polar": {
           "angularaxis": {
            "gridcolor": "white",
            "linecolor": "white",
            "ticks": ""
           },
           "bgcolor": "#E5ECF6",
           "radialaxis": {
            "gridcolor": "white",
            "linecolor": "white",
            "ticks": ""
           }
          },
          "scene": {
           "xaxis": {
            "backgroundcolor": "#E5ECF6",
            "gridcolor": "white",
            "gridwidth": 2,
            "linecolor": "white",
            "showbackground": true,
            "ticks": "",
            "zerolinecolor": "white"
           },
           "yaxis": {
            "backgroundcolor": "#E5ECF6",
            "gridcolor": "white",
            "gridwidth": 2,
            "linecolor": "white",
            "showbackground": true,
            "ticks": "",
            "zerolinecolor": "white"
           },
           "zaxis": {
            "backgroundcolor": "#E5ECF6",
            "gridcolor": "white",
            "gridwidth": 2,
            "linecolor": "white",
            "showbackground": true,
            "ticks": "",
            "zerolinecolor": "white"
           }
          },
          "shapedefaults": {
           "line": {
            "color": "#2a3f5f"
           }
          },
          "ternary": {
           "aaxis": {
            "gridcolor": "white",
            "linecolor": "white",
            "ticks": ""
           },
           "baxis": {
            "gridcolor": "white",
            "linecolor": "white",
            "ticks": ""
           },
           "bgcolor": "#E5ECF6",
           "caxis": {
            "gridcolor": "white",
            "linecolor": "white",
            "ticks": ""
           }
          },
          "title": {
           "x": 0.05
          },
          "xaxis": {
           "automargin": true,
           "gridcolor": "white",
           "linecolor": "white",
           "ticks": "",
           "title": {
            "standoff": 15
           },
           "zerolinecolor": "white",
           "zerolinewidth": 2
          },
          "yaxis": {
           "automargin": true,
           "gridcolor": "white",
           "linecolor": "white",
           "ticks": "",
           "title": {
            "standoff": 15
           },
           "zerolinecolor": "white",
           "zerolinewidth": 2
          }
         }
        },
        "title": {
         "font": {
          "size": 15
         },
         "text": "Walker2d-v1",
         "x": 0.53
        },
        "width": 500,
        "xaxis": {
         "anchor": "y",
         "domain": [
          0,
          1
         ],
         "gridcolor": "lightgrey",
         "linecolor": "black",
         "mirror": true,
         "showline": true,
         "ticks": "outside",
         "title": {
          "text": "Iteration"
         }
        },
        "yaxis": {
         "anchor": "x",
         "domain": [
          0,
          1
         ],
         "gridcolor": "lightgrey",
         "linecolor": "black",
         "mirror": true,
         "showline": true,
         "ticks": "outside",
         "title": {
          "text": "Reward"
         }
        }
       }
      },
      "text/html": [
       "<div>                            <div id=\"6f0df8c7-a726-4e40-9609-a05982c12d62\" class=\"plotly-graph-div\" style=\"height:400px; width:500px;\"></div>            <script type=\"text/javascript\">                require([\"plotly\"], function(Plotly) {                    window.PLOTLYENV=window.PLOTLYENV || {};                                    if (document.getElementById(\"6f0df8c7-a726-4e40-9609-a05982c12d62\")) {                    Plotly.newPlot(                        \"6f0df8c7-a726-4e40-9609-a05982c12d62\",                        [{\"hovertemplate\":\"algorithm=ARS-1\\u003cbr\\u003eIteration=%{x}\\u003cbr\\u003ereward=%{y}\\u003cextra\\u003e\\u003c\\u002fextra\\u003e\",\"legendgroup\":\"ARS-1\",\"line\":{\"color\":\"#636efa\",\"dash\":\"solid\"},\"marker\":{\"symbol\":\"circle\"},\"mode\":\"lines\",\"name\":\"ARS-1\",\"orientation\":\"v\",\"showlegend\":true,\"x\":[10,20,30,40,50,60,70,80,90,100,110,120,130,140,150,160,170,180,190,200,210,220,230,240,250,260,270,280,290,300,310,320,330,340,350,360,370,380,390,400,410,420,430,440,450,460,470,480,490,500,510,520,530,540,550,560,570,580,590,600,610,620,630,640,650,660,670,680,690,700,710,720,730,740,750,760,770,780,790,800,810,820,830,840,850,860,870,880,890,900,910,920,930,940,950,960,970,980,990,1000],\"xaxis\":\"x\",\"y\":[249.0656311839819,250.4047051358223,251.04317377567293,251.18810670852665,251.86057984232903,253.9621009707451,254.3758047556877,255.26167085051537,259.0041124612093,265.30305785655975,266.1604786527157,273.50705362558364,278.88115082740785,284.06854333639143,283.5505970454216,280.855544179678,280.16128904044626,277.2515337717533,275.26879344046114,277.2898153573275,287.6979757255316,288.30347107231614,294.5620525616407,306.90487700760366,305.24633582830427,323.03268794476986,340.7109097737074,353.39935243844985,356.13206564188005,366.5932936877013,364.6793270897865,381.3420877373218,384.4036732673645,385.689259160161,388.6315800726414,390.6395885407925,390.5516051185131,385.0094310134649,377.5595670545101,376.1301965653896,382.2236123389006,378.425664537549,381.7151705002785,380.8850371313095,382.3587852317095,386.737739238143,388.10408093214033,386.3367981791496,390.4628126728535,384.92794115662576,382.4906178975105,378.4277685546875,380.2707427692413,386.71854304254055,395.644358984828,391.1972995436192,393.028982989192,393.7914861190319,402.9400816899538,415.0979318726063,404.8018765437603,420.34214992821217,406.6460247510672,399.4063962215185,419.50578634500505,415.1940804731846,416.3125047689677,423.3481203252077,418.1093971312046,430.0598061877489,429.5885921365023,422.7269354480505,430.6422693926096,437.4656487727165,432.112169687748,439.1001099836826,438.5017299520969,442.89160664975645,445.2327520430088,442.5209601867199,448.4493001258373,447.0679693138599,454.6231630319357,455.0532817846537,466.8102279746532,465.7663989496231,474.6616605520248,459.735351960063,483.5543709462881,488.59598293364047,484.88941005170346,479.0341835010052,475.3733724421263,470.9140065217018,490.4700757706165,565.8499069792032,485.43110911369325,518.5011109781266,513.4290419793128,500.8154608845711],\"yaxis\":\"y\",\"type\":\"scatter\",\"opacity\":0.7},{\"hovertemplate\":\"algorithm=ARS-2\\u003cbr\\u003eIteration=%{x}\\u003cbr\\u003ereward=%{y}\\u003cextra\\u003e\\u003c\\u002fextra\\u003e\",\"legendgroup\":\"ARS-2\",\"line\":{\"color\":\"#EF553B\",\"dash\":\"solid\"},\"marker\":{\"symbol\":\"circle\"},\"mode\":\"lines\",\"name\":\"ARS-2\",\"orientation\":\"v\",\"showlegend\":true,\"x\":[10,20,30,40,50,60,70,80,90,100,110,120,130,140,150,160,170,180,190,200,210,220,230,240,250,260,270,280,290,300,310,320,330,340,350,360,370,380,390,400,410,420,430,440,450,460,470,480,490,500,510,520,530,540,550,560,570,580,590,600,610,620,630,640,650,660,670,680,690,700,710,720,730,740,750,760,770,780,790,800,810,820,830,840,850,860,870,880,890,900,910,920,930,940,950,960,970,980,990,1000],\"xaxis\":\"x\",\"y\":[287.09033271789554,429.1118879842758,454.4096115374565,457.918801073432,461.4610062426329,467.20725689470765,477.79247775554654,489.0702813583612,657.7046778082847,888.0085241633653,2381.832902005613,2144.633130432367,2032.5188697457315,1854.267407087088,1766.5355305874348,1880.677978349328,1942.2400545734167,2084.6898881268503,2019.1667521446943,1955.3594553428889,1938.941972859502,1898.6864289203288,1949.858135663271,1951.146793093216,1867.7313773640155,1864.2958441773055,1983.3294303134085,2012.725970401466,1999.6661551512775,2098.699624173343,2289.0074477404355,2301.173211352229,2499.620834868252,2672.863479733765,2873.5218918538094,3042.854952346981,3290.0589284539224,3316.9339450213315,3169.522351377457,3862.440920524597,4077.64603762269,4209.578214349151,4388.127463208437,4479.300767402351,4504.362848500908,4701.764577958285,4657.6730961090325,4768.454457324446,4825.488555006683,4621.553679360747,4821.182706330121,4739.4214376583695,4764.495567691923,4927.917995159328,4991.197014549077,5102.720751453042,5111.623809998631,5025.97620585382,5209.347580298186,5256.438214043528,5219.388740200148,5282.23057411775,5362.406502947584,5364.9044871317965,5415.536189515199,5313.270387952583,5440.825024665606,5471.240689159762,5482.552633536405,5449.252790441317,5444.264257260768,5541.173503723184,5525.15797664263,5609.225570453534,5633.86322293788,5706.512245866729,5688.577803666611,5715.267444959264,5720.95515338218,5688.632334466715,5649.860505023033,5775.197046463694,5645.233545803483,5883.787931980465,5876.937246896747,5880.860403251597,5868.501998901628,5895.675871889125,5847.2675452011545,5928.543081858468,5931.485209690798,5896.376177170347,5900.142560315151,5803.624302567714,5867.69095804419,5875.667427419048,5915.27327521013,5895.287682320322,5769.883588226033,5924.886176861078],\"yaxis\":\"y\",\"type\":\"scatter\",\"opacity\":0.7},{\"hovertemplate\":\"algorithm=SFR-1\\u003cbr\\u003eIteration=%{x}\\u003cbr\\u003ereward=%{y}\\u003cextra\\u003e\\u003c\\u002fextra\\u003e\",\"legendgroup\":\"SFR-1\",\"line\":{\"color\":\"#00cc96\",\"dash\":\"solid\"},\"marker\":{\"symbol\":\"circle\"},\"mode\":\"lines\",\"name\":\"SFR-1\",\"orientation\":\"v\",\"showlegend\":true,\"x\":[10,20,30,40,50,60,70,80,90,100,110,120,130,140,150,160,170,180,190,200,210,220,230,240,250,260,270,280,290,300,310,320,330,340,350,360,370,380,390,400,410,420,430,440,450,460,470,480,490,500,510,520,530,540,550,560,570,580,590,600,610,620,630,640,650,660,670,680,690,700,710,720,730,740,750,760,770,780,790,800,810,820,830,840,850,860,870,880,890,900,910,920,930,940,950,960,970,980,990,1000],\"xaxis\":\"x\",\"y\":[249.0656311839819,250.4047051358223,251.04317377567293,251.18810670852665,251.86057984232903,253.9621009707451,254.3758047556877,255.26167085051537,259.0041124612093,265.30305785655975,266.1604786527157,273.50705362558364,278.88115082740785,284.06854333639143,283.5505970454216,280.855544179678,280.16128904044626,277.2515337717533,275.26879344046114,277.2898153573275,287.6979757255316,288.30347107231614,294.5620525616407,306.90487700760366,305.24633582830427,323.03268794476986,340.7109097737074,353.39935243844985,356.13206564188005,366.5932936877013,364.6793270897865,381.3420877373218,384.4036732673645,385.689259160161,388.6315800726414,390.6395885407925,390.5516051185131,385.0094310134649,377.5595670545101,376.1301965653896,382.2236123389006,378.425664537549,381.7151705002785,380.8850371313095,382.3587852317095,386.737739238143,388.10408093214033,386.3367981791496,390.4628126728535,384.92794115662576,382.4906178975105,378.4277685546875,380.2707427692413,386.71854304254055,395.644358984828,391.1972995436192,393.028982989192,393.7914861190319,402.9400816899538,415.0979318726063,404.8018765437603,420.34214992821217,406.6460247510672,399.4063962215185,419.50578634500505,415.1940804731846,416.3125047689677,423.3481203252077,418.1093971312046,430.0598061877489,429.5885921365023,422.7269354480505,430.6422693926096,437.4656487727165,432.112169687748,439.1001099836826,438.5017299520969,442.89160664975645,445.2327520430088,442.5209601867199,448.4493001258373,447.0679693138599,454.6231630319357,455.0532817846537,466.8102279746532,465.7663989496231,474.6616605520248,459.735351960063,483.5543709462881,488.59598293364047,484.88941005170346,479.0341835010052,475.3733724421263,470.9140065217018,490.4700757706165,565.8499069792032,485.43110911369325,518.5011109781266,513.4290419793128,500.8154608845711],\"yaxis\":\"y\",\"type\":\"scatter\",\"opacity\":0.7},{\"hovertemplate\":\"algorithm=SFR-2\\u003cbr\\u003eIteration=%{x}\\u003cbr\\u003ereward=%{y}\\u003cextra\\u003e\\u003c\\u002fextra\\u003e\",\"legendgroup\":\"SFR-2\",\"line\":{\"color\":\"#ab63fa\",\"dash\":\"solid\"},\"marker\":{\"symbol\":\"circle\"},\"mode\":\"lines\",\"name\":\"SFR-2\",\"orientation\":\"v\",\"showlegend\":true,\"x\":[10,20,30,40,50,60,70,80,90,100,110,120,130,140,150,160,170,180,190,200,210,220,230,240,250,260,270,280,290,300,310,320,330,340,350,360,370,380,390,400,410,420,430,440,450,460,470,480,490,500,510,520,530,540,550,560,570,580,590,600,610,620,630,640,650,660,670,680,690,700,710,720,730,740,750,760,770,780,790,800,810,820,830,840,850,860,870,880,890,900,910,920,930,940,950,960,970,980,990,1000],\"xaxis\":\"x\",\"y\":[252.9751937174797,253.0948041069508,259.2783336520195,267.43658228635786,271.27862828791143,279.1000827533007,286.81200390040874,287.1914441382885,297.5432354420424,297.66884795844555,302.5596796798706,301.825694385767,307.95104629695413,318.8069587564468,360.9724192726612,376.15192215323447,379.2325476396084,384.271610352993,383.2603019368648,385.4260973620415,382.83357974290846,382.5875144791603,384.0603149819374,383.6219172286988,385.9810280859471,394.4824163091183,390.9544889461994,390.7227002763749,398.5026841366291,399.164381532669,397.5104239392281,394.8920173919201,395.93658841371536,398.4015136933327,403.2186375337839,407.669739574194,412.2758571839333,402.399790416956,407.6112255322933,403.8447493672371,401.0921939456463,396.160203101635,405.67649254620073,404.4062923616171,403.7130435699224,403.19829308569433,400.0166863566637,401.67857866585257,396.5113228088617,394.8495018196106,394.2259129840136,402.48691702544687,411.0118739032745,409.5393586552143,418.7355440056324,420.22829010128976,431.4891025531292,443.0455804491043,449.42358581662177,476.1410383334756,483.0872578705323,499.2024491345882,540.7587332223355,544.7769331830705,575.1724221855216,570.5593382249773,636.3823183231568,666.1213350897375,614.0626310311537,786.2402678285353,2008.027053296864,1920.793252194412,1915.0489672470092,1890.0954380568865,1991.2676874363424,2032.1400745965636,2035.2250436124575,2092.696919130683,2057.9041627925635,2077.748437461853,2152.397728185057,2151.940738450885,2068.292855089903,2059.0211542540787,1981.444706324339,2011.4217597436905,2057.998430930972,1985.360536028743,1991.8631079494955,1998.891552693248,2032.8522422283888,1998.6350204229357,2004.8588511145117,1983.6199347746367,1982.6745233899355,1999.735057478547,1989.337486089468,1994.252059481144,2001.1988614475729,2001.03423830688],\"yaxis\":\"y\",\"type\":\"scatter\",\"opacity\":0.7}],                        {\"template\":{\"data\":{\"histogram2dcontour\":[{\"type\":\"histogram2dcontour\",\"colorbar\":{\"outlinewidth\":0,\"ticks\":\"\"},\"colorscale\":[[0.0,\"#0d0887\"],[0.1111111111111111,\"#46039f\"],[0.2222222222222222,\"#7201a8\"],[0.3333333333333333,\"#9c179e\"],[0.4444444444444444,\"#bd3786\"],[0.5555555555555556,\"#d8576b\"],[0.6666666666666666,\"#ed7953\"],[0.7777777777777778,\"#fb9f3a\"],[0.8888888888888888,\"#fdca26\"],[1.0,\"#f0f921\"]]}],\"choropleth\":[{\"type\":\"choropleth\",\"colorbar\":{\"outlinewidth\":0,\"ticks\":\"\"}}],\"histogram2d\":[{\"type\":\"histogram2d\",\"colorbar\":{\"outlinewidth\":0,\"ticks\":\"\"},\"colorscale\":[[0.0,\"#0d0887\"],[0.1111111111111111,\"#46039f\"],[0.2222222222222222,\"#7201a8\"],[0.3333333333333333,\"#9c179e\"],[0.4444444444444444,\"#bd3786\"],[0.5555555555555556,\"#d8576b\"],[0.6666666666666666,\"#ed7953\"],[0.7777777777777778,\"#fb9f3a\"],[0.8888888888888888,\"#fdca26\"],[1.0,\"#f0f921\"]]}],\"heatmap\":[{\"type\":\"heatmap\",\"colorbar\":{\"outlinewidth\":0,\"ticks\":\"\"},\"colorscale\":[[0.0,\"#0d0887\"],[0.1111111111111111,\"#46039f\"],[0.2222222222222222,\"#7201a8\"],[0.3333333333333333,\"#9c179e\"],[0.4444444444444444,\"#bd3786\"],[0.5555555555555556,\"#d8576b\"],[0.6666666666666666,\"#ed7953\"],[0.7777777777777778,\"#fb9f3a\"],[0.8888888888888888,\"#fdca26\"],[1.0,\"#f0f921\"]]}],\"heatmapgl\":[{\"type\":\"heatmapgl\",\"colorbar\":{\"outlinewidth\":0,\"ticks\":\"\"},\"colorscale\":[[0.0,\"#0d0887\"],[0.1111111111111111,\"#46039f\"],[0.2222222222222222,\"#7201a8\"],[0.3333333333333333,\"#9c179e\"],[0.4444444444444444,\"#bd3786\"],[0.5555555555555556,\"#d8576b\"],[0.6666666666666666,\"#ed7953\"],[0.7777777777777778,\"#fb9f3a\"],[0.8888888888888888,\"#fdca26\"],[1.0,\"#f0f921\"]]}],\"contourcarpet\":[{\"type\":\"contourcarpet\",\"colorbar\":{\"outlinewidth\":0,\"ticks\":\"\"}}],\"contour\":[{\"type\":\"contour\",\"colorbar\":{\"outlinewidth\":0,\"ticks\":\"\"},\"colorscale\":[[0.0,\"#0d0887\"],[0.1111111111111111,\"#46039f\"],[0.2222222222222222,\"#7201a8\"],[0.3333333333333333,\"#9c179e\"],[0.4444444444444444,\"#bd3786\"],[0.5555555555555556,\"#d8576b\"],[0.6666666666666666,\"#ed7953\"],[0.7777777777777778,\"#fb9f3a\"],[0.8888888888888888,\"#fdca26\"],[1.0,\"#f0f921\"]]}],\"surface\":[{\"type\":\"surface\",\"colorbar\":{\"outlinewidth\":0,\"ticks\":\"\"},\"colorscale\":[[0.0,\"#0d0887\"],[0.1111111111111111,\"#46039f\"],[0.2222222222222222,\"#7201a8\"],[0.3333333333333333,\"#9c179e\"],[0.4444444444444444,\"#bd3786\"],[0.5555555555555556,\"#d8576b\"],[0.6666666666666666,\"#ed7953\"],[0.7777777777777778,\"#fb9f3a\"],[0.8888888888888888,\"#fdca26\"],[1.0,\"#f0f921\"]]}],\"mesh3d\":[{\"type\":\"mesh3d\",\"colorbar\":{\"outlinewidth\":0,\"ticks\":\"\"}}],\"scatter\":[{\"fillpattern\":{\"fillmode\":\"overlay\",\"size\":10,\"solidity\":0.2},\"type\":\"scatter\"}],\"parcoords\":[{\"type\":\"parcoords\",\"line\":{\"colorbar\":{\"outlinewidth\":0,\"ticks\":\"\"}}}],\"scatterpolargl\":[{\"type\":\"scatterpolargl\",\"marker\":{\"colorbar\":{\"outlinewidth\":0,\"ticks\":\"\"}}}],\"bar\":[{\"error_x\":{\"color\":\"#2a3f5f\"},\"error_y\":{\"color\":\"#2a3f5f\"},\"marker\":{\"line\":{\"color\":\"#E5ECF6\",\"width\":0.5},\"pattern\":{\"fillmode\":\"overlay\",\"size\":10,\"solidity\":0.2}},\"type\":\"bar\"}],\"scattergeo\":[{\"type\":\"scattergeo\",\"marker\":{\"colorbar\":{\"outlinewidth\":0,\"ticks\":\"\"}}}],\"scatterpolar\":[{\"type\":\"scatterpolar\",\"marker\":{\"colorbar\":{\"outlinewidth\":0,\"ticks\":\"\"}}}],\"histogram\":[{\"marker\":{\"pattern\":{\"fillmode\":\"overlay\",\"size\":10,\"solidity\":0.2}},\"type\":\"histogram\"}],\"scattergl\":[{\"type\":\"scattergl\",\"marker\":{\"colorbar\":{\"outlinewidth\":0,\"ticks\":\"\"}}}],\"scatter3d\":[{\"type\":\"scatter3d\",\"line\":{\"colorbar\":{\"outlinewidth\":0,\"ticks\":\"\"}},\"marker\":{\"colorbar\":{\"outlinewidth\":0,\"ticks\":\"\"}}}],\"scattermapbox\":[{\"type\":\"scattermapbox\",\"marker\":{\"colorbar\":{\"outlinewidth\":0,\"ticks\":\"\"}}}],\"scatterternary\":[{\"type\":\"scatterternary\",\"marker\":{\"colorbar\":{\"outlinewidth\":0,\"ticks\":\"\"}}}],\"scattercarpet\":[{\"type\":\"scattercarpet\",\"marker\":{\"colorbar\":{\"outlinewidth\":0,\"ticks\":\"\"}}}],\"carpet\":[{\"aaxis\":{\"endlinecolor\":\"#2a3f5f\",\"gridcolor\":\"white\",\"linecolor\":\"white\",\"minorgridcolor\":\"white\",\"startlinecolor\":\"#2a3f5f\"},\"baxis\":{\"endlinecolor\":\"#2a3f5f\",\"gridcolor\":\"white\",\"linecolor\":\"white\",\"minorgridcolor\":\"white\",\"startlinecolor\":\"#2a3f5f\"},\"type\":\"carpet\"}],\"table\":[{\"cells\":{\"fill\":{\"color\":\"#EBF0F8\"},\"line\":{\"color\":\"white\"}},\"header\":{\"fill\":{\"color\":\"#C8D4E3\"},\"line\":{\"color\":\"white\"}},\"type\":\"table\"}],\"barpolar\":[{\"marker\":{\"line\":{\"color\":\"#E5ECF6\",\"width\":0.5},\"pattern\":{\"fillmode\":\"overlay\",\"size\":10,\"solidity\":0.2}},\"type\":\"barpolar\"}],\"pie\":[{\"automargin\":true,\"type\":\"pie\"}]},\"layout\":{\"autotypenumbers\":\"strict\",\"colorway\":[\"#636efa\",\"#EF553B\",\"#00cc96\",\"#ab63fa\",\"#FFA15A\",\"#19d3f3\",\"#FF6692\",\"#B6E880\",\"#FF97FF\",\"#FECB52\"],\"font\":{\"color\":\"#2a3f5f\"},\"hovermode\":\"closest\",\"hoverlabel\":{\"align\":\"left\"},\"paper_bgcolor\":\"white\",\"plot_bgcolor\":\"#E5ECF6\",\"polar\":{\"bgcolor\":\"#E5ECF6\",\"angularaxis\":{\"gridcolor\":\"white\",\"linecolor\":\"white\",\"ticks\":\"\"},\"radialaxis\":{\"gridcolor\":\"white\",\"linecolor\":\"white\",\"ticks\":\"\"}},\"ternary\":{\"bgcolor\":\"#E5ECF6\",\"aaxis\":{\"gridcolor\":\"white\",\"linecolor\":\"white\",\"ticks\":\"\"},\"baxis\":{\"gridcolor\":\"white\",\"linecolor\":\"white\",\"ticks\":\"\"},\"caxis\":{\"gridcolor\":\"white\",\"linecolor\":\"white\",\"ticks\":\"\"}},\"coloraxis\":{\"colorbar\":{\"outlinewidth\":0,\"ticks\":\"\"}},\"colorscale\":{\"sequential\":[[0.0,\"#0d0887\"],[0.1111111111111111,\"#46039f\"],[0.2222222222222222,\"#7201a8\"],[0.3333333333333333,\"#9c179e\"],[0.4444444444444444,\"#bd3786\"],[0.5555555555555556,\"#d8576b\"],[0.6666666666666666,\"#ed7953\"],[0.7777777777777778,\"#fb9f3a\"],[0.8888888888888888,\"#fdca26\"],[1.0,\"#f0f921\"]],\"sequentialminus\":[[0.0,\"#0d0887\"],[0.1111111111111111,\"#46039f\"],[0.2222222222222222,\"#7201a8\"],[0.3333333333333333,\"#9c179e\"],[0.4444444444444444,\"#bd3786\"],[0.5555555555555556,\"#d8576b\"],[0.6666666666666666,\"#ed7953\"],[0.7777777777777778,\"#fb9f3a\"],[0.8888888888888888,\"#fdca26\"],[1.0,\"#f0f921\"]],\"diverging\":[[0,\"#8e0152\"],[0.1,\"#c51b7d\"],[0.2,\"#de77ae\"],[0.3,\"#f1b6da\"],[0.4,\"#fde0ef\"],[0.5,\"#f7f7f7\"],[0.6,\"#e6f5d0\"],[0.7,\"#b8e186\"],[0.8,\"#7fbc41\"],[0.9,\"#4d9221\"],[1,\"#276419\"]]},\"xaxis\":{\"gridcolor\":\"white\",\"linecolor\":\"white\",\"ticks\":\"\",\"title\":{\"standoff\":15},\"zerolinecolor\":\"white\",\"automargin\":true,\"zerolinewidth\":2},\"yaxis\":{\"gridcolor\":\"white\",\"linecolor\":\"white\",\"ticks\":\"\",\"title\":{\"standoff\":15},\"zerolinecolor\":\"white\",\"automargin\":true,\"zerolinewidth\":2},\"scene\":{\"xaxis\":{\"backgroundcolor\":\"#E5ECF6\",\"gridcolor\":\"white\",\"linecolor\":\"white\",\"showbackground\":true,\"ticks\":\"\",\"zerolinecolor\":\"white\",\"gridwidth\":2},\"yaxis\":{\"backgroundcolor\":\"#E5ECF6\",\"gridcolor\":\"white\",\"linecolor\":\"white\",\"showbackground\":true,\"ticks\":\"\",\"zerolinecolor\":\"white\",\"gridwidth\":2},\"zaxis\":{\"backgroundcolor\":\"#E5ECF6\",\"gridcolor\":\"white\",\"linecolor\":\"white\",\"showbackground\":true,\"ticks\":\"\",\"zerolinecolor\":\"white\",\"gridwidth\":2}},\"shapedefaults\":{\"line\":{\"color\":\"#2a3f5f\"}},\"annotationdefaults\":{\"arrowcolor\":\"#2a3f5f\",\"arrowhead\":0,\"arrowwidth\":1},\"geo\":{\"bgcolor\":\"white\",\"landcolor\":\"#E5ECF6\",\"subunitcolor\":\"white\",\"showland\":true,\"showlakes\":true,\"lakecolor\":\"white\"},\"title\":{\"x\":0.05},\"mapbox\":{\"style\":\"light\"}}},\"xaxis\":{\"anchor\":\"y\",\"domain\":[0.0,1.0],\"title\":{\"text\":\"Iteration\"},\"mirror\":true,\"ticks\":\"outside\",\"showline\":true,\"linecolor\":\"black\",\"gridcolor\":\"lightgrey\"},\"yaxis\":{\"anchor\":\"x\",\"domain\":[0.0,1.0],\"title\":{\"text\":\"Reward\"},\"mirror\":true,\"ticks\":\"outside\",\"showline\":true,\"linecolor\":\"black\",\"gridcolor\":\"lightgrey\"},\"legend\":{\"title\":{\"text\":\"algorithm\"},\"tracegroupgap\":0,\"yanchor\":\"bottom\",\"y\":0.5,\"xanchor\":\"right\",\"x\":0.99},\"margin\":{\"t\":50,\"l\":20,\"r\":20,\"b\":20},\"title\":{\"font\":{\"size\":15},\"text\":\"Walker2d-v1\",\"x\":0.53},\"autosize\":false,\"plot_bgcolor\":\"white\",\"width\":500,\"height\":400},                        {\"responsive\": true}                    ).then(function(){\n",
       "                            \n",
       "var gd = document.getElementById('6f0df8c7-a726-4e40-9609-a05982c12d62');\n",
       "var x = new MutationObserver(function (mutations, observer) {{\n",
       "        var display = window.getComputedStyle(gd).display;\n",
       "        if (!display || display === 'none') {{\n",
       "            console.log([gd, 'removed!']);\n",
       "            Plotly.purge(gd);\n",
       "            observer.disconnect();\n",
       "        }}\n",
       "}});\n",
       "\n",
       "// Listen for the removal of the full notebook cells\n",
       "var notebookContainer = gd.closest('#notebook-container');\n",
       "if (notebookContainer) {{\n",
       "    x.observe(notebookContainer, {childList: true});\n",
       "}}\n",
       "\n",
       "// Listen for the clearing of the current output cell\n",
       "var outputEl = gd.closest('.output');\n",
       "if (outputEl) {{\n",
       "    x.observe(outputEl, {childList: true});\n",
       "}}\n",
       "\n",
       "                        })                };                });            </script>        </div>"
      ]
     },
     "metadata": {},
     "output_type": "display_data"
    }
   ],
   "source": [
    "for env_name, df in data.groupby(\"task\"):\n",
    "    plot_env(env_name, df)\n"
   ]
  },
  {
   "cell_type": "markdown",
   "metadata": {},
   "source": [
    "### Unstability of SFR-1 wrt hyperparams."
   ]
  },
  {
   "cell_type": "code",
   "execution_count": 18,
   "metadata": {},
   "outputs": [
    {
     "data": {
      "text/html": [
       "<div>\n",
       "<style scoped>\n",
       "    .dataframe tbody tr th:only-of-type {\n",
       "        vertical-align: middle;\n",
       "    }\n",
       "\n",
       "    .dataframe tbody tr th {\n",
       "        vertical-align: top;\n",
       "    }\n",
       "\n",
       "    .dataframe thead th {\n",
       "        text-align: right;\n",
       "    }\n",
       "</style>\n",
       "<table border=\"1\" class=\"dataframe\">\n",
       "  <thead>\n",
       "    <tr style=\"text-align: right;\">\n",
       "      <th></th>\n",
       "      <th>Time</th>\n",
       "      <th>Iteration</th>\n",
       "      <th>AverageReward</th>\n",
       "      <th>StdRewards</th>\n",
       "      <th>MaxRewardRollout</th>\n",
       "      <th>MinRewardRollout</th>\n",
       "      <th>timesteps</th>\n",
       "      <th>task</th>\n",
       "      <th>dir_path</th>\n",
       "      <th>one_sided</th>\n",
       "    </tr>\n",
       "  </thead>\n",
       "  <tbody>\n",
       "    <tr>\n",
       "      <th>0</th>\n",
       "      <td>3.120859</td>\n",
       "      <td>10</td>\n",
       "      <td>85.013145</td>\n",
       "      <td>8.373057</td>\n",
       "      <td>113.143287</td>\n",
       "      <td>70.084741</td>\n",
       "      <td>9039</td>\n",
       "      <td>SafetyHopperVelocity-v1</td>\n",
       "      <td>1724913801.39389</td>\n",
       "      <td>False</td>\n",
       "    </tr>\n",
       "    <tr>\n",
       "      <th>1</th>\n",
       "      <td>3.893283</td>\n",
       "      <td>20</td>\n",
       "      <td>116.756961</td>\n",
       "      <td>3.622604</td>\n",
       "      <td>127.029750</td>\n",
       "      <td>109.790013</td>\n",
       "      <td>19099</td>\n",
       "      <td>SafetyHopperVelocity-v1</td>\n",
       "      <td>1724913801.39389</td>\n",
       "      <td>False</td>\n",
       "    </tr>\n",
       "    <tr>\n",
       "      <th>2</th>\n",
       "      <td>4.887338</td>\n",
       "      <td>30</td>\n",
       "      <td>253.983855</td>\n",
       "      <td>6.214386</td>\n",
       "      <td>264.590033</td>\n",
       "      <td>237.759234</td>\n",
       "      <td>31264</td>\n",
       "      <td>SafetyHopperVelocity-v1</td>\n",
       "      <td>1724913801.39389</td>\n",
       "      <td>False</td>\n",
       "    </tr>\n",
       "    <tr>\n",
       "      <th>3</th>\n",
       "      <td>6.534218</td>\n",
       "      <td>40</td>\n",
       "      <td>699.049306</td>\n",
       "      <td>58.457038</td>\n",
       "      <td>871.497197</td>\n",
       "      <td>641.059830</td>\n",
       "      <td>51083</td>\n",
       "      <td>SafetyHopperVelocity-v1</td>\n",
       "      <td>1724913801.39389</td>\n",
       "      <td>False</td>\n",
       "    </tr>\n",
       "    <tr>\n",
       "      <th>4</th>\n",
       "      <td>8.626153</td>\n",
       "      <td>50</td>\n",
       "      <td>827.564412</td>\n",
       "      <td>5.561508</td>\n",
       "      <td>872.085952</td>\n",
       "      <td>820.293742</td>\n",
       "      <td>78719</td>\n",
       "      <td>SafetyHopperVelocity-v1</td>\n",
       "      <td>1724913801.39389</td>\n",
       "      <td>False</td>\n",
       "    </tr>\n",
       "  </tbody>\n",
       "</table>\n",
       "</div>"
      ],
      "text/plain": [
       "       Time  Iteration  AverageReward  StdRewards  MaxRewardRollout  \\\n",
       "0  3.120859         10      85.013145    8.373057        113.143287   \n",
       "1  3.893283         20     116.756961    3.622604        127.029750   \n",
       "2  4.887338         30     253.983855    6.214386        264.590033   \n",
       "3  6.534218         40     699.049306   58.457038        871.497197   \n",
       "4  8.626153         50     827.564412    5.561508        872.085952   \n",
       "\n",
       "   MinRewardRollout  timesteps                     task          dir_path  \\\n",
       "0         70.084741       9039  SafetyHopperVelocity-v1  1724913801.39389   \n",
       "1        109.790013      19099  SafetyHopperVelocity-v1  1724913801.39389   \n",
       "2        237.759234      31264  SafetyHopperVelocity-v1  1724913801.39389   \n",
       "3        641.059830      51083  SafetyHopperVelocity-v1  1724913801.39389   \n",
       "4        820.293742      78719  SafetyHopperVelocity-v1  1724913801.39389   \n",
       "\n",
       "   one_sided  \n",
       "0      False  \n",
       "1      False  \n",
       "2      False  \n",
       "3      False  \n",
       "4      False  "
      ]
     },
     "execution_count": 18,
     "metadata": {},
     "output_type": "execute_result"
    }
   ],
   "source": [
    "sfr1 = []\n",
    "for path, one_sided in zip(all_data.dir_path, all_data.one_sided):\n",
    "    x = pd.read_csv(os.path.join(\"..\", path, \"log.txt\"), sep=\"\\t\")\n",
    "    _, x['task'], x['dir_path'] = path.split(\"/\")\n",
    "    x[\"one_sided\"] = one_sided\n",
    "    sfr1.append(x)\n",
    "sfr1 = pd.concat(sfr1)\n",
    "sfr1.head()"
   ]
  },
  {
   "cell_type": "code",
   "execution_count": 19,
   "metadata": {},
   "outputs": [
    {
     "data": {
      "text/html": [
       "<div>\n",
       "<style scoped>\n",
       "    .dataframe tbody tr th:only-of-type {\n",
       "        vertical-align: middle;\n",
       "    }\n",
       "\n",
       "    .dataframe tbody tr th {\n",
       "        vertical-align: top;\n",
       "    }\n",
       "\n",
       "    .dataframe thead th {\n",
       "        text-align: right;\n",
       "    }\n",
       "</style>\n",
       "<table border=\"1\" class=\"dataframe\">\n",
       "  <thead>\n",
       "    <tr style=\"text-align: right;\">\n",
       "      <th></th>\n",
       "      <th>task</th>\n",
       "      <th>Iteration</th>\n",
       "      <th>one_sided</th>\n",
       "      <th>AverageReward</th>\n",
       "    </tr>\n",
       "  </thead>\n",
       "  <tbody>\n",
       "    <tr>\n",
       "      <th>0</th>\n",
       "      <td>SafetyAntVelocity-v1</td>\n",
       "      <td>10</td>\n",
       "      <td>False</td>\n",
       "      <td>262.374173</td>\n",
       "    </tr>\n",
       "    <tr>\n",
       "      <th>1</th>\n",
       "      <td>SafetyAntVelocity-v1</td>\n",
       "      <td>10</td>\n",
       "      <td>True</td>\n",
       "      <td>176.683966</td>\n",
       "    </tr>\n",
       "    <tr>\n",
       "      <th>2</th>\n",
       "      <td>SafetyAntVelocity-v1</td>\n",
       "      <td>20</td>\n",
       "      <td>False</td>\n",
       "      <td>377.357544</td>\n",
       "    </tr>\n",
       "    <tr>\n",
       "      <th>3</th>\n",
       "      <td>SafetyAntVelocity-v1</td>\n",
       "      <td>20</td>\n",
       "      <td>True</td>\n",
       "      <td>307.475426</td>\n",
       "    </tr>\n",
       "    <tr>\n",
       "      <th>4</th>\n",
       "      <td>SafetyAntVelocity-v1</td>\n",
       "      <td>30</td>\n",
       "      <td>False</td>\n",
       "      <td>481.286315</td>\n",
       "    </tr>\n",
       "    <tr>\n",
       "      <th>...</th>\n",
       "      <td>...</td>\n",
       "      <td>...</td>\n",
       "      <td>...</td>\n",
       "      <td>...</td>\n",
       "    </tr>\n",
       "    <tr>\n",
       "      <th>995</th>\n",
       "      <td>SafetyWalker2dVelocity-v1</td>\n",
       "      <td>980</td>\n",
       "      <td>True</td>\n",
       "      <td>471.524010</td>\n",
       "    </tr>\n",
       "    <tr>\n",
       "      <th>996</th>\n",
       "      <td>SafetyWalker2dVelocity-v1</td>\n",
       "      <td>990</td>\n",
       "      <td>False</td>\n",
       "      <td>1498.642665</td>\n",
       "    </tr>\n",
       "    <tr>\n",
       "      <th>997</th>\n",
       "      <td>SafetyWalker2dVelocity-v1</td>\n",
       "      <td>990</td>\n",
       "      <td>True</td>\n",
       "      <td>458.538249</td>\n",
       "    </tr>\n",
       "    <tr>\n",
       "      <th>998</th>\n",
       "      <td>SafetyWalker2dVelocity-v1</td>\n",
       "      <td>1000</td>\n",
       "      <td>False</td>\n",
       "      <td>1493.380902</td>\n",
       "    </tr>\n",
       "    <tr>\n",
       "      <th>999</th>\n",
       "      <td>SafetyWalker2dVelocity-v1</td>\n",
       "      <td>1000</td>\n",
       "      <td>True</td>\n",
       "      <td>339.357280</td>\n",
       "    </tr>\n",
       "  </tbody>\n",
       "</table>\n",
       "<p>1000 rows × 4 columns</p>\n",
       "</div>"
      ],
      "text/plain": [
       "                          task  Iteration  one_sided  AverageReward\n",
       "0         SafetyAntVelocity-v1         10      False     262.374173\n",
       "1         SafetyAntVelocity-v1         10       True     176.683966\n",
       "2         SafetyAntVelocity-v1         20      False     377.357544\n",
       "3         SafetyAntVelocity-v1         20       True     307.475426\n",
       "4         SafetyAntVelocity-v1         30      False     481.286315\n",
       "..                         ...        ...        ...            ...\n",
       "995  SafetyWalker2dVelocity-v1        980       True     471.524010\n",
       "996  SafetyWalker2dVelocity-v1        990      False    1498.642665\n",
       "997  SafetyWalker2dVelocity-v1        990       True     458.538249\n",
       "998  SafetyWalker2dVelocity-v1       1000      False    1493.380902\n",
       "999  SafetyWalker2dVelocity-v1       1000       True     339.357280\n",
       "\n",
       "[1000 rows x 4 columns]"
      ]
     },
     "execution_count": 19,
     "metadata": {},
     "output_type": "execute_result"
    }
   ],
   "source": [
    "std1 = sfr1.groupby([\"task\",\"Iteration\", \"one_sided\"]).AverageReward.std().reset_index()\n",
    "std1"
   ]
  },
  {
   "cell_type": "code",
   "execution_count": 21,
   "metadata": {},
   "outputs": [
    {
     "data": {
      "application/vnd.plotly.v1+json": {
       "config": {
        "plotlyServerURL": "https://plot.ly"
       },
       "data": [
        {
         "hovertemplate": "one_sided=False<br>Iteration=%{x}<br>AverageReward=%{y}<extra></extra>",
         "legendgroup": "False",
         "line": {
          "color": "#636efa",
          "dash": "solid"
         },
         "marker": {
          "symbol": "circle"
         },
         "mode": "lines",
         "name": "False",
         "orientation": "v",
         "showlegend": true,
         "type": "scatter",
         "x": [
          10,
          20,
          30,
          40,
          50,
          60,
          70,
          80,
          90,
          100,
          110,
          120,
          130,
          140,
          150,
          160,
          170,
          180,
          190,
          200,
          210,
          220,
          230,
          240,
          250,
          260,
          270,
          280,
          290,
          300,
          310,
          320,
          330,
          340,
          350,
          360,
          370,
          380,
          390,
          400,
          410,
          420,
          430,
          440,
          450,
          460,
          470,
          480,
          490,
          500,
          510,
          520,
          530,
          540,
          550,
          560,
          570,
          580,
          590,
          600,
          610,
          620,
          630,
          640,
          650,
          660,
          670,
          680,
          690,
          700,
          710,
          720,
          730,
          740,
          750,
          760,
          770,
          780,
          790,
          800,
          810,
          820,
          830,
          840,
          850,
          860,
          870,
          880,
          890,
          900,
          910,
          920,
          930,
          940,
          950,
          960,
          970,
          980,
          990,
          1000
         ],
         "xaxis": "x",
         "y": [
          262.37417340829256,
          377.3575436064201,
          481.2863151665484,
          549.6862687669615,
          608.6808410421559,
          703.4558948018653,
          745.1314646487814,
          805.1693423000883,
          861.1153901498437,
          914.2452041787334,
          920.4600006351691,
          951.2127184960965,
          982.996778966998,
          1001.7737592125147,
          1027.231326271677,
          1016.6910271207626,
          1031.16369059333,
          1032.3759730069114,
          1043.7625447285068,
          1017.0103098270973,
          1039.9308163475785,
          1035.284479922417,
          1039.9546556195771,
          1043.9610480245535,
          1052.4071790238681,
          1056.9052868671797,
          1038.905295527463,
          1027.9028957929754,
          1022.0787915081538,
          1028.2451759662147,
          1019.4507711341441,
          1031.4413299878227,
          1024.9486310631203,
          1011.2861883976218,
          1047.3166001529382,
          1025.4090076131135,
          1045.5076956057262,
          1026.5358238948986,
          1031.032748521644,
          1051.6634788071963,
          1053.117586986111,
          1031.6304006504365,
          1054.4836491952858,
          1028.4741759540887,
          1027.593483480089,
          1030.7555251234185,
          1034.0555958912864,
          1034.7701612662113,
          985.7711230700723,
          978.2153556921476,
          972.530380857323,
          986.2071624998936,
          944.3010525539854,
          945.8188015044185,
          981.2246443003015,
          959.9821712989458,
          985.6914097470269,
          965.1930226053906,
          1063.3998864688506,
          1002.2269270285159,
          971.1559588200845,
          1014.8662399996089,
          1052.1361917228485,
          1039.5764108855467,
          1017.8542947469413,
          977.9134929090941,
          978.8288612309327,
          1008.2138972442954,
          993.9646539869262,
          974.3235737402181,
          994.1009354160269,
          1006.5762827073737,
          1027.5965177830733,
          1039.1839765506504,
          1024.2613333311417,
          1003.4744534284189,
          991.1436176506458,
          970.3214079882831,
          1005.7388758432402,
          989.0260828865173,
          1006.5723329062697,
          1002.9713875090362,
          1055.2760521835492,
          1016.7234749132848,
          1089.880823005781,
          978.5823225486936,
          991.3166563753701,
          1001.3035730349685,
          1017.6163568180289,
          974.9111254390517,
          1026.1378078601165,
          1021.3291906416499,
          981.0433833960534,
          968.6630715729618,
          998.7886442277469,
          975.5289501205182,
          1003.2107895422002,
          996.5333042036497,
          982.3101534662339,
          1037.5703885497294
         ],
         "yaxis": "y"
        },
        {
         "hovertemplate": "one_sided=True<br>Iteration=%{x}<br>AverageReward=%{y}<extra></extra>",
         "legendgroup": "True",
         "line": {
          "color": "#EF553B",
          "dash": "solid"
         },
         "marker": {
          "symbol": "circle"
         },
         "mode": "lines",
         "name": "True",
         "orientation": "v",
         "showlegend": true,
         "type": "scatter",
         "x": [
          10,
          20,
          30,
          40,
          50,
          60,
          70,
          80,
          90,
          100,
          110,
          120,
          130,
          140,
          150,
          160,
          170,
          180,
          190,
          200,
          210,
          220,
          230,
          240,
          250,
          260,
          270,
          280,
          290,
          300,
          310,
          320,
          330,
          340,
          350,
          360,
          370,
          380,
          390,
          400,
          410,
          420,
          430,
          440,
          450,
          460,
          470,
          480,
          490,
          500,
          510,
          520,
          530,
          540,
          550,
          560,
          570,
          580,
          590,
          600,
          610,
          620,
          630,
          640,
          650,
          660,
          670,
          680,
          690,
          700,
          710,
          720,
          730,
          740,
          750,
          760,
          770,
          780,
          790,
          800,
          810,
          820,
          830,
          840,
          850,
          860,
          870,
          880,
          890,
          900,
          910,
          920,
          930,
          940,
          950,
          960,
          970,
          980,
          990,
          1000
         ],
         "xaxis": "x",
         "y": [
          176.68396572988019,
          307.47542611692745,
          472.27081635540617,
          503.9368990724502,
          612.0454516466148,
          775.6242915704992,
          838.4682197101055,
          956.0840536721605,
          1121.3942360462556,
          1289.623050576334,
          1679.9272520797604,
          1582.524804629138,
          2095.4367010123706,
          2918.5471271116458,
          2417.0246264909547,
          3460.9117715671473,
          5624.737701703839,
          7425.512124775029,
          8014.859404347393,
          9590.067361545625,
          17075.575490676787,
          22700.00919153651,
          22154.933407511104,
          15434.409378150549,
          15374.43275486319,
          15629.476179232306,
          15434.041197829982,
          16297.837501175736,
          13777.56179331806,
          15418.687143134905,
          18498.594207770668,
          17389.15814823958,
          19190.245438305203,
          17913.78051268051,
          20523.817249453452,
          21153.44577822497,
          21409.531078227552,
          21798.52816553047,
          22679.388895160042,
          24854.729078253593,
          24079.032867337613,
          25144.70791635586,
          25600.91601655367,
          25501.097071749537,
          28869.254616962055,
          25590.092678111076,
          27523.154056449843,
          28260.626150584252,
          28698.72874906704,
          28645.828854040818,
          30495.231619417875,
          29785.241770254866,
          30232.513791419482,
          31924.546254586923,
          33341.15748850231,
          33358.58642263535,
          33711.75099187319,
          32913.82745658674,
          34186.00398445088,
          34379.04537466511,
          37779.33305078032,
          36822.1949318169,
          39078.480767312634,
          39711.76213953417,
          42189.46006928938,
          42333.52315410938,
          42648.56722602654,
          42144.579970578925,
          43921.689307755216,
          44766.23213073271,
          46213.92008753024,
          44876.96434209205,
          45774.20223404601,
          47725.73968498963,
          49434.687726371056,
          49339.69656332733,
          49915.6432166377,
          52880.208363421516,
          55175.962935879885,
          49552.83659267692,
          50293.99582052188,
          50688.06173015197,
          52784.820955096315,
          52322.71050560156,
          53388.14034857985,
          57545.63051992771,
          56322.44270343037,
          59961.7030543528,
          59084.1174413484,
          61403.07391679501,
          65559.75536667113,
          66249.6106539322,
          68743.57999015978,
          69735.58815356529,
          75441.4055497289,
          75798.92003320863,
          77544.39916088614,
          79017.72882949156,
          79410.57317300771,
          81906.881741099
         ],
         "yaxis": "y"
        }
       ],
       "layout": {
        "autosize": false,
        "height": 400,
        "legend": {
         "title": {
          "text": "one_sided"
         },
         "tracegroupgap": 0,
         "x": 0.99,
         "xanchor": "right",
         "y": 0.01,
         "yanchor": "bottom"
        },
        "margin": {
         "b": 20,
         "l": 20,
         "r": 20,
         "t": 50
        },
        "plot_bgcolor": "white",
        "template": {
         "data": {
          "bar": [
           {
            "error_x": {
             "color": "#2a3f5f"
            },
            "error_y": {
             "color": "#2a3f5f"
            },
            "marker": {
             "line": {
              "color": "#E5ECF6",
              "width": 0.5
             },
             "pattern": {
              "fillmode": "overlay",
              "size": 10,
              "solidity": 0.2
             }
            },
            "type": "bar"
           }
          ],
          "barpolar": [
           {
            "marker": {
             "line": {
              "color": "#E5ECF6",
              "width": 0.5
             },
             "pattern": {
              "fillmode": "overlay",
              "size": 10,
              "solidity": 0.2
             }
            },
            "type": "barpolar"
           }
          ],
          "carpet": [
           {
            "aaxis": {
             "endlinecolor": "#2a3f5f",
             "gridcolor": "white",
             "linecolor": "white",
             "minorgridcolor": "white",
             "startlinecolor": "#2a3f5f"
            },
            "baxis": {
             "endlinecolor": "#2a3f5f",
             "gridcolor": "white",
             "linecolor": "white",
             "minorgridcolor": "white",
             "startlinecolor": "#2a3f5f"
            },
            "type": "carpet"
           }
          ],
          "choropleth": [
           {
            "colorbar": {
             "outlinewidth": 0,
             "ticks": ""
            },
            "type": "choropleth"
           }
          ],
          "contour": [
           {
            "colorbar": {
             "outlinewidth": 0,
             "ticks": ""
            },
            "colorscale": [
             [
              0,
              "#0d0887"
             ],
             [
              0.1111111111111111,
              "#46039f"
             ],
             [
              0.2222222222222222,
              "#7201a8"
             ],
             [
              0.3333333333333333,
              "#9c179e"
             ],
             [
              0.4444444444444444,
              "#bd3786"
             ],
             [
              0.5555555555555556,
              "#d8576b"
             ],
             [
              0.6666666666666666,
              "#ed7953"
             ],
             [
              0.7777777777777778,
              "#fb9f3a"
             ],
             [
              0.8888888888888888,
              "#fdca26"
             ],
             [
              1,
              "#f0f921"
             ]
            ],
            "type": "contour"
           }
          ],
          "contourcarpet": [
           {
            "colorbar": {
             "outlinewidth": 0,
             "ticks": ""
            },
            "type": "contourcarpet"
           }
          ],
          "heatmap": [
           {
            "colorbar": {
             "outlinewidth": 0,
             "ticks": ""
            },
            "colorscale": [
             [
              0,
              "#0d0887"
             ],
             [
              0.1111111111111111,
              "#46039f"
             ],
             [
              0.2222222222222222,
              "#7201a8"
             ],
             [
              0.3333333333333333,
              "#9c179e"
             ],
             [
              0.4444444444444444,
              "#bd3786"
             ],
             [
              0.5555555555555556,
              "#d8576b"
             ],
             [
              0.6666666666666666,
              "#ed7953"
             ],
             [
              0.7777777777777778,
              "#fb9f3a"
             ],
             [
              0.8888888888888888,
              "#fdca26"
             ],
             [
              1,
              "#f0f921"
             ]
            ],
            "type": "heatmap"
           }
          ],
          "heatmapgl": [
           {
            "colorbar": {
             "outlinewidth": 0,
             "ticks": ""
            },
            "colorscale": [
             [
              0,
              "#0d0887"
             ],
             [
              0.1111111111111111,
              "#46039f"
             ],
             [
              0.2222222222222222,
              "#7201a8"
             ],
             [
              0.3333333333333333,
              "#9c179e"
             ],
             [
              0.4444444444444444,
              "#bd3786"
             ],
             [
              0.5555555555555556,
              "#d8576b"
             ],
             [
              0.6666666666666666,
              "#ed7953"
             ],
             [
              0.7777777777777778,
              "#fb9f3a"
             ],
             [
              0.8888888888888888,
              "#fdca26"
             ],
             [
              1,
              "#f0f921"
             ]
            ],
            "type": "heatmapgl"
           }
          ],
          "histogram": [
           {
            "marker": {
             "pattern": {
              "fillmode": "overlay",
              "size": 10,
              "solidity": 0.2
             }
            },
            "type": "histogram"
           }
          ],
          "histogram2d": [
           {
            "colorbar": {
             "outlinewidth": 0,
             "ticks": ""
            },
            "colorscale": [
             [
              0,
              "#0d0887"
             ],
             [
              0.1111111111111111,
              "#46039f"
             ],
             [
              0.2222222222222222,
              "#7201a8"
             ],
             [
              0.3333333333333333,
              "#9c179e"
             ],
             [
              0.4444444444444444,
              "#bd3786"
             ],
             [
              0.5555555555555556,
              "#d8576b"
             ],
             [
              0.6666666666666666,
              "#ed7953"
             ],
             [
              0.7777777777777778,
              "#fb9f3a"
             ],
             [
              0.8888888888888888,
              "#fdca26"
             ],
             [
              1,
              "#f0f921"
             ]
            ],
            "type": "histogram2d"
           }
          ],
          "histogram2dcontour": [
           {
            "colorbar": {
             "outlinewidth": 0,
             "ticks": ""
            },
            "colorscale": [
             [
              0,
              "#0d0887"
             ],
             [
              0.1111111111111111,
              "#46039f"
             ],
             [
              0.2222222222222222,
              "#7201a8"
             ],
             [
              0.3333333333333333,
              "#9c179e"
             ],
             [
              0.4444444444444444,
              "#bd3786"
             ],
             [
              0.5555555555555556,
              "#d8576b"
             ],
             [
              0.6666666666666666,
              "#ed7953"
             ],
             [
              0.7777777777777778,
              "#fb9f3a"
             ],
             [
              0.8888888888888888,
              "#fdca26"
             ],
             [
              1,
              "#f0f921"
             ]
            ],
            "type": "histogram2dcontour"
           }
          ],
          "mesh3d": [
           {
            "colorbar": {
             "outlinewidth": 0,
             "ticks": ""
            },
            "type": "mesh3d"
           }
          ],
          "parcoords": [
           {
            "line": {
             "colorbar": {
              "outlinewidth": 0,
              "ticks": ""
             }
            },
            "type": "parcoords"
           }
          ],
          "pie": [
           {
            "automargin": true,
            "type": "pie"
           }
          ],
          "scatter": [
           {
            "fillpattern": {
             "fillmode": "overlay",
             "size": 10,
             "solidity": 0.2
            },
            "type": "scatter"
           }
          ],
          "scatter3d": [
           {
            "line": {
             "colorbar": {
              "outlinewidth": 0,
              "ticks": ""
             }
            },
            "marker": {
             "colorbar": {
              "outlinewidth": 0,
              "ticks": ""
             }
            },
            "type": "scatter3d"
           }
          ],
          "scattercarpet": [
           {
            "marker": {
             "colorbar": {
              "outlinewidth": 0,
              "ticks": ""
             }
            },
            "type": "scattercarpet"
           }
          ],
          "scattergeo": [
           {
            "marker": {
             "colorbar": {
              "outlinewidth": 0,
              "ticks": ""
             }
            },
            "type": "scattergeo"
           }
          ],
          "scattergl": [
           {
            "marker": {
             "colorbar": {
              "outlinewidth": 0,
              "ticks": ""
             }
            },
            "type": "scattergl"
           }
          ],
          "scattermapbox": [
           {
            "marker": {
             "colorbar": {
              "outlinewidth": 0,
              "ticks": ""
             }
            },
            "type": "scattermapbox"
           }
          ],
          "scatterpolar": [
           {
            "marker": {
             "colorbar": {
              "outlinewidth": 0,
              "ticks": ""
             }
            },
            "type": "scatterpolar"
           }
          ],
          "scatterpolargl": [
           {
            "marker": {
             "colorbar": {
              "outlinewidth": 0,
              "ticks": ""
             }
            },
            "type": "scatterpolargl"
           }
          ],
          "scatterternary": [
           {
            "marker": {
             "colorbar": {
              "outlinewidth": 0,
              "ticks": ""
             }
            },
            "type": "scatterternary"
           }
          ],
          "surface": [
           {
            "colorbar": {
             "outlinewidth": 0,
             "ticks": ""
            },
            "colorscale": [
             [
              0,
              "#0d0887"
             ],
             [
              0.1111111111111111,
              "#46039f"
             ],
             [
              0.2222222222222222,
              "#7201a8"
             ],
             [
              0.3333333333333333,
              "#9c179e"
             ],
             [
              0.4444444444444444,
              "#bd3786"
             ],
             [
              0.5555555555555556,
              "#d8576b"
             ],
             [
              0.6666666666666666,
              "#ed7953"
             ],
             [
              0.7777777777777778,
              "#fb9f3a"
             ],
             [
              0.8888888888888888,
              "#fdca26"
             ],
             [
              1,
              "#f0f921"
             ]
            ],
            "type": "surface"
           }
          ],
          "table": [
           {
            "cells": {
             "fill": {
              "color": "#EBF0F8"
             },
             "line": {
              "color": "white"
             }
            },
            "header": {
             "fill": {
              "color": "#C8D4E3"
             },
             "line": {
              "color": "white"
             }
            },
            "type": "table"
           }
          ]
         },
         "layout": {
          "annotationdefaults": {
           "arrowcolor": "#2a3f5f",
           "arrowhead": 0,
           "arrowwidth": 1
          },
          "autotypenumbers": "strict",
          "coloraxis": {
           "colorbar": {
            "outlinewidth": 0,
            "ticks": ""
           }
          },
          "colorscale": {
           "diverging": [
            [
             0,
             "#8e0152"
            ],
            [
             0.1,
             "#c51b7d"
            ],
            [
             0.2,
             "#de77ae"
            ],
            [
             0.3,
             "#f1b6da"
            ],
            [
             0.4,
             "#fde0ef"
            ],
            [
             0.5,
             "#f7f7f7"
            ],
            [
             0.6,
             "#e6f5d0"
            ],
            [
             0.7,
             "#b8e186"
            ],
            [
             0.8,
             "#7fbc41"
            ],
            [
             0.9,
             "#4d9221"
            ],
            [
             1,
             "#276419"
            ]
           ],
           "sequential": [
            [
             0,
             "#0d0887"
            ],
            [
             0.1111111111111111,
             "#46039f"
            ],
            [
             0.2222222222222222,
             "#7201a8"
            ],
            [
             0.3333333333333333,
             "#9c179e"
            ],
            [
             0.4444444444444444,
             "#bd3786"
            ],
            [
             0.5555555555555556,
             "#d8576b"
            ],
            [
             0.6666666666666666,
             "#ed7953"
            ],
            [
             0.7777777777777778,
             "#fb9f3a"
            ],
            [
             0.8888888888888888,
             "#fdca26"
            ],
            [
             1,
             "#f0f921"
            ]
           ],
           "sequentialminus": [
            [
             0,
             "#0d0887"
            ],
            [
             0.1111111111111111,
             "#46039f"
            ],
            [
             0.2222222222222222,
             "#7201a8"
            ],
            [
             0.3333333333333333,
             "#9c179e"
            ],
            [
             0.4444444444444444,
             "#bd3786"
            ],
            [
             0.5555555555555556,
             "#d8576b"
            ],
            [
             0.6666666666666666,
             "#ed7953"
            ],
            [
             0.7777777777777778,
             "#fb9f3a"
            ],
            [
             0.8888888888888888,
             "#fdca26"
            ],
            [
             1,
             "#f0f921"
            ]
           ]
          },
          "colorway": [
           "#636efa",
           "#EF553B",
           "#00cc96",
           "#ab63fa",
           "#FFA15A",
           "#19d3f3",
           "#FF6692",
           "#B6E880",
           "#FF97FF",
           "#FECB52"
          ],
          "font": {
           "color": "#2a3f5f"
          },
          "geo": {
           "bgcolor": "white",
           "lakecolor": "white",
           "landcolor": "#E5ECF6",
           "showlakes": true,
           "showland": true,
           "subunitcolor": "white"
          },
          "hoverlabel": {
           "align": "left"
          },
          "hovermode": "closest",
          "mapbox": {
           "style": "light"
          },
          "paper_bgcolor": "white",
          "plot_bgcolor": "#E5ECF6",
          "polar": {
           "angularaxis": {
            "gridcolor": "white",
            "linecolor": "white",
            "ticks": ""
           },
           "bgcolor": "#E5ECF6",
           "radialaxis": {
            "gridcolor": "white",
            "linecolor": "white",
            "ticks": ""
           }
          },
          "scene": {
           "xaxis": {
            "backgroundcolor": "#E5ECF6",
            "gridcolor": "white",
            "gridwidth": 2,
            "linecolor": "white",
            "showbackground": true,
            "ticks": "",
            "zerolinecolor": "white"
           },
           "yaxis": {
            "backgroundcolor": "#E5ECF6",
            "gridcolor": "white",
            "gridwidth": 2,
            "linecolor": "white",
            "showbackground": true,
            "ticks": "",
            "zerolinecolor": "white"
           },
           "zaxis": {
            "backgroundcolor": "#E5ECF6",
            "gridcolor": "white",
            "gridwidth": 2,
            "linecolor": "white",
            "showbackground": true,
            "ticks": "",
            "zerolinecolor": "white"
           }
          },
          "shapedefaults": {
           "line": {
            "color": "#2a3f5f"
           }
          },
          "ternary": {
           "aaxis": {
            "gridcolor": "white",
            "linecolor": "white",
            "ticks": ""
           },
           "baxis": {
            "gridcolor": "white",
            "linecolor": "white",
            "ticks": ""
           },
           "bgcolor": "#E5ECF6",
           "caxis": {
            "gridcolor": "white",
            "linecolor": "white",
            "ticks": ""
           }
          },
          "title": {
           "x": 0.05
          },
          "xaxis": {
           "automargin": true,
           "gridcolor": "white",
           "linecolor": "white",
           "ticks": "",
           "title": {
            "standoff": 15
           },
           "zerolinecolor": "white",
           "zerolinewidth": 2
          },
          "yaxis": {
           "automargin": true,
           "gridcolor": "white",
           "linecolor": "white",
           "ticks": "",
           "title": {
            "standoff": 15
           },
           "zerolinecolor": "white",
           "zerolinewidth": 2
          }
         }
        },
        "title": {
         "font": {
          "size": 15
         },
         "text": "Ant-v1",
         "x": 0.53
        },
        "width": 500,
        "xaxis": {
         "anchor": "y",
         "domain": [
          0,
          1
         ],
         "gridcolor": "lightgrey",
         "linecolor": "black",
         "mirror": true,
         "showline": true,
         "ticks": "outside",
         "title": {
          "text": "Iteration"
         }
        },
        "yaxis": {
         "anchor": "x",
         "domain": [
          0,
          1
         ],
         "gridcolor": "lightgrey",
         "linecolor": "black",
         "mirror": true,
         "showline": true,
         "ticks": "outside",
         "title": {
          "text": "reward stddev"
         }
        }
       }
      },
      "text/html": [
       "<div>                            <div id=\"9f70dd69-fdfb-4c59-93a8-c243e8fc26aa\" class=\"plotly-graph-div\" style=\"height:400px; width:500px;\"></div>            <script type=\"text/javascript\">                require([\"plotly\"], function(Plotly) {                    window.PLOTLYENV=window.PLOTLYENV || {};                                    if (document.getElementById(\"9f70dd69-fdfb-4c59-93a8-c243e8fc26aa\")) {                    Plotly.newPlot(                        \"9f70dd69-fdfb-4c59-93a8-c243e8fc26aa\",                        [{\"hovertemplate\":\"one_sided=False\\u003cbr\\u003eIteration=%{x}\\u003cbr\\u003eAverageReward=%{y}\\u003cextra\\u003e\\u003c\\u002fextra\\u003e\",\"legendgroup\":\"False\",\"line\":{\"color\":\"#636efa\",\"dash\":\"solid\"},\"marker\":{\"symbol\":\"circle\"},\"mode\":\"lines\",\"name\":\"False\",\"orientation\":\"v\",\"showlegend\":true,\"x\":[10,20,30,40,50,60,70,80,90,100,110,120,130,140,150,160,170,180,190,200,210,220,230,240,250,260,270,280,290,300,310,320,330,340,350,360,370,380,390,400,410,420,430,440,450,460,470,480,490,500,510,520,530,540,550,560,570,580,590,600,610,620,630,640,650,660,670,680,690,700,710,720,730,740,750,760,770,780,790,800,810,820,830,840,850,860,870,880,890,900,910,920,930,940,950,960,970,980,990,1000],\"xaxis\":\"x\",\"y\":[262.37417340829256,377.3575436064201,481.2863151665484,549.6862687669615,608.6808410421559,703.4558948018653,745.1314646487814,805.1693423000883,861.1153901498437,914.2452041787334,920.4600006351691,951.2127184960965,982.996778966998,1001.7737592125147,1027.231326271677,1016.6910271207626,1031.16369059333,1032.3759730069114,1043.7625447285068,1017.0103098270973,1039.9308163475785,1035.284479922417,1039.9546556195771,1043.9610480245535,1052.4071790238681,1056.9052868671797,1038.905295527463,1027.9028957929754,1022.0787915081538,1028.2451759662147,1019.4507711341441,1031.4413299878227,1024.9486310631203,1011.2861883976218,1047.3166001529382,1025.4090076131135,1045.5076956057262,1026.5358238948986,1031.032748521644,1051.6634788071963,1053.117586986111,1031.6304006504365,1054.4836491952858,1028.4741759540887,1027.593483480089,1030.7555251234185,1034.0555958912864,1034.7701612662113,985.7711230700723,978.2153556921476,972.530380857323,986.2071624998936,944.3010525539854,945.8188015044185,981.2246443003015,959.9821712989458,985.6914097470269,965.1930226053906,1063.3998864688506,1002.2269270285159,971.1559588200845,1014.8662399996089,1052.1361917228485,1039.5764108855467,1017.8542947469413,977.9134929090941,978.8288612309327,1008.2138972442954,993.9646539869262,974.3235737402181,994.1009354160269,1006.5762827073737,1027.5965177830733,1039.1839765506504,1024.2613333311417,1003.4744534284189,991.1436176506458,970.3214079882831,1005.7388758432402,989.0260828865173,1006.5723329062697,1002.9713875090362,1055.2760521835492,1016.7234749132848,1089.880823005781,978.5823225486936,991.3166563753701,1001.3035730349685,1017.6163568180289,974.9111254390517,1026.1378078601165,1021.3291906416499,981.0433833960534,968.6630715729618,998.7886442277469,975.5289501205182,1003.2107895422002,996.5333042036497,982.3101534662339,1037.5703885497294],\"yaxis\":\"y\",\"type\":\"scatter\"},{\"hovertemplate\":\"one_sided=True\\u003cbr\\u003eIteration=%{x}\\u003cbr\\u003eAverageReward=%{y}\\u003cextra\\u003e\\u003c\\u002fextra\\u003e\",\"legendgroup\":\"True\",\"line\":{\"color\":\"#EF553B\",\"dash\":\"solid\"},\"marker\":{\"symbol\":\"circle\"},\"mode\":\"lines\",\"name\":\"True\",\"orientation\":\"v\",\"showlegend\":true,\"x\":[10,20,30,40,50,60,70,80,90,100,110,120,130,140,150,160,170,180,190,200,210,220,230,240,250,260,270,280,290,300,310,320,330,340,350,360,370,380,390,400,410,420,430,440,450,460,470,480,490,500,510,520,530,540,550,560,570,580,590,600,610,620,630,640,650,660,670,680,690,700,710,720,730,740,750,760,770,780,790,800,810,820,830,840,850,860,870,880,890,900,910,920,930,940,950,960,970,980,990,1000],\"xaxis\":\"x\",\"y\":[176.68396572988019,307.47542611692745,472.27081635540617,503.9368990724502,612.0454516466148,775.6242915704992,838.4682197101055,956.0840536721605,1121.3942360462556,1289.623050576334,1679.9272520797604,1582.524804629138,2095.4367010123706,2918.5471271116458,2417.0246264909547,3460.9117715671473,5624.737701703839,7425.512124775029,8014.859404347393,9590.067361545625,17075.575490676787,22700.00919153651,22154.933407511104,15434.409378150549,15374.43275486319,15629.476179232306,15434.041197829982,16297.837501175736,13777.56179331806,15418.687143134905,18498.594207770668,17389.15814823958,19190.245438305203,17913.78051268051,20523.817249453452,21153.44577822497,21409.531078227552,21798.52816553047,22679.388895160042,24854.729078253593,24079.032867337613,25144.70791635586,25600.91601655367,25501.097071749537,28869.254616962055,25590.092678111076,27523.154056449843,28260.626150584252,28698.72874906704,28645.828854040818,30495.231619417875,29785.241770254866,30232.513791419482,31924.546254586923,33341.15748850231,33358.58642263535,33711.75099187319,32913.82745658674,34186.00398445088,34379.04537466511,37779.33305078032,36822.1949318169,39078.480767312634,39711.76213953417,42189.46006928938,42333.52315410938,42648.56722602654,42144.579970578925,43921.689307755216,44766.23213073271,46213.92008753024,44876.96434209205,45774.20223404601,47725.73968498963,49434.687726371056,49339.69656332733,49915.6432166377,52880.208363421516,55175.962935879885,49552.83659267692,50293.99582052188,50688.06173015197,52784.820955096315,52322.71050560156,53388.14034857985,57545.63051992771,56322.44270343037,59961.7030543528,59084.1174413484,61403.07391679501,65559.75536667113,66249.6106539322,68743.57999015978,69735.58815356529,75441.4055497289,75798.92003320863,77544.39916088614,79017.72882949156,79410.57317300771,81906.881741099],\"yaxis\":\"y\",\"type\":\"scatter\"}],                        {\"template\":{\"data\":{\"histogram2dcontour\":[{\"type\":\"histogram2dcontour\",\"colorbar\":{\"outlinewidth\":0,\"ticks\":\"\"},\"colorscale\":[[0.0,\"#0d0887\"],[0.1111111111111111,\"#46039f\"],[0.2222222222222222,\"#7201a8\"],[0.3333333333333333,\"#9c179e\"],[0.4444444444444444,\"#bd3786\"],[0.5555555555555556,\"#d8576b\"],[0.6666666666666666,\"#ed7953\"],[0.7777777777777778,\"#fb9f3a\"],[0.8888888888888888,\"#fdca26\"],[1.0,\"#f0f921\"]]}],\"choropleth\":[{\"type\":\"choropleth\",\"colorbar\":{\"outlinewidth\":0,\"ticks\":\"\"}}],\"histogram2d\":[{\"type\":\"histogram2d\",\"colorbar\":{\"outlinewidth\":0,\"ticks\":\"\"},\"colorscale\":[[0.0,\"#0d0887\"],[0.1111111111111111,\"#46039f\"],[0.2222222222222222,\"#7201a8\"],[0.3333333333333333,\"#9c179e\"],[0.4444444444444444,\"#bd3786\"],[0.5555555555555556,\"#d8576b\"],[0.6666666666666666,\"#ed7953\"],[0.7777777777777778,\"#fb9f3a\"],[0.8888888888888888,\"#fdca26\"],[1.0,\"#f0f921\"]]}],\"heatmap\":[{\"type\":\"heatmap\",\"colorbar\":{\"outlinewidth\":0,\"ticks\":\"\"},\"colorscale\":[[0.0,\"#0d0887\"],[0.1111111111111111,\"#46039f\"],[0.2222222222222222,\"#7201a8\"],[0.3333333333333333,\"#9c179e\"],[0.4444444444444444,\"#bd3786\"],[0.5555555555555556,\"#d8576b\"],[0.6666666666666666,\"#ed7953\"],[0.7777777777777778,\"#fb9f3a\"],[0.8888888888888888,\"#fdca26\"],[1.0,\"#f0f921\"]]}],\"heatmapgl\":[{\"type\":\"heatmapgl\",\"colorbar\":{\"outlinewidth\":0,\"ticks\":\"\"},\"colorscale\":[[0.0,\"#0d0887\"],[0.1111111111111111,\"#46039f\"],[0.2222222222222222,\"#7201a8\"],[0.3333333333333333,\"#9c179e\"],[0.4444444444444444,\"#bd3786\"],[0.5555555555555556,\"#d8576b\"],[0.6666666666666666,\"#ed7953\"],[0.7777777777777778,\"#fb9f3a\"],[0.8888888888888888,\"#fdca26\"],[1.0,\"#f0f921\"]]}],\"contourcarpet\":[{\"type\":\"contourcarpet\",\"colorbar\":{\"outlinewidth\":0,\"ticks\":\"\"}}],\"contour\":[{\"type\":\"contour\",\"colorbar\":{\"outlinewidth\":0,\"ticks\":\"\"},\"colorscale\":[[0.0,\"#0d0887\"],[0.1111111111111111,\"#46039f\"],[0.2222222222222222,\"#7201a8\"],[0.3333333333333333,\"#9c179e\"],[0.4444444444444444,\"#bd3786\"],[0.5555555555555556,\"#d8576b\"],[0.6666666666666666,\"#ed7953\"],[0.7777777777777778,\"#fb9f3a\"],[0.8888888888888888,\"#fdca26\"],[1.0,\"#f0f921\"]]}],\"surface\":[{\"type\":\"surface\",\"colorbar\":{\"outlinewidth\":0,\"ticks\":\"\"},\"colorscale\":[[0.0,\"#0d0887\"],[0.1111111111111111,\"#46039f\"],[0.2222222222222222,\"#7201a8\"],[0.3333333333333333,\"#9c179e\"],[0.4444444444444444,\"#bd3786\"],[0.5555555555555556,\"#d8576b\"],[0.6666666666666666,\"#ed7953\"],[0.7777777777777778,\"#fb9f3a\"],[0.8888888888888888,\"#fdca26\"],[1.0,\"#f0f921\"]]}],\"mesh3d\":[{\"type\":\"mesh3d\",\"colorbar\":{\"outlinewidth\":0,\"ticks\":\"\"}}],\"scatter\":[{\"fillpattern\":{\"fillmode\":\"overlay\",\"size\":10,\"solidity\":0.2},\"type\":\"scatter\"}],\"parcoords\":[{\"type\":\"parcoords\",\"line\":{\"colorbar\":{\"outlinewidth\":0,\"ticks\":\"\"}}}],\"scatterpolargl\":[{\"type\":\"scatterpolargl\",\"marker\":{\"colorbar\":{\"outlinewidth\":0,\"ticks\":\"\"}}}],\"bar\":[{\"error_x\":{\"color\":\"#2a3f5f\"},\"error_y\":{\"color\":\"#2a3f5f\"},\"marker\":{\"line\":{\"color\":\"#E5ECF6\",\"width\":0.5},\"pattern\":{\"fillmode\":\"overlay\",\"size\":10,\"solidity\":0.2}},\"type\":\"bar\"}],\"scattergeo\":[{\"type\":\"scattergeo\",\"marker\":{\"colorbar\":{\"outlinewidth\":0,\"ticks\":\"\"}}}],\"scatterpolar\":[{\"type\":\"scatterpolar\",\"marker\":{\"colorbar\":{\"outlinewidth\":0,\"ticks\":\"\"}}}],\"histogram\":[{\"marker\":{\"pattern\":{\"fillmode\":\"overlay\",\"size\":10,\"solidity\":0.2}},\"type\":\"histogram\"}],\"scattergl\":[{\"type\":\"scattergl\",\"marker\":{\"colorbar\":{\"outlinewidth\":0,\"ticks\":\"\"}}}],\"scatter3d\":[{\"type\":\"scatter3d\",\"line\":{\"colorbar\":{\"outlinewidth\":0,\"ticks\":\"\"}},\"marker\":{\"colorbar\":{\"outlinewidth\":0,\"ticks\":\"\"}}}],\"scattermapbox\":[{\"type\":\"scattermapbox\",\"marker\":{\"colorbar\":{\"outlinewidth\":0,\"ticks\":\"\"}}}],\"scatterternary\":[{\"type\":\"scatterternary\",\"marker\":{\"colorbar\":{\"outlinewidth\":0,\"ticks\":\"\"}}}],\"scattercarpet\":[{\"type\":\"scattercarpet\",\"marker\":{\"colorbar\":{\"outlinewidth\":0,\"ticks\":\"\"}}}],\"carpet\":[{\"aaxis\":{\"endlinecolor\":\"#2a3f5f\",\"gridcolor\":\"white\",\"linecolor\":\"white\",\"minorgridcolor\":\"white\",\"startlinecolor\":\"#2a3f5f\"},\"baxis\":{\"endlinecolor\":\"#2a3f5f\",\"gridcolor\":\"white\",\"linecolor\":\"white\",\"minorgridcolor\":\"white\",\"startlinecolor\":\"#2a3f5f\"},\"type\":\"carpet\"}],\"table\":[{\"cells\":{\"fill\":{\"color\":\"#EBF0F8\"},\"line\":{\"color\":\"white\"}},\"header\":{\"fill\":{\"color\":\"#C8D4E3\"},\"line\":{\"color\":\"white\"}},\"type\":\"table\"}],\"barpolar\":[{\"marker\":{\"line\":{\"color\":\"#E5ECF6\",\"width\":0.5},\"pattern\":{\"fillmode\":\"overlay\",\"size\":10,\"solidity\":0.2}},\"type\":\"barpolar\"}],\"pie\":[{\"automargin\":true,\"type\":\"pie\"}]},\"layout\":{\"autotypenumbers\":\"strict\",\"colorway\":[\"#636efa\",\"#EF553B\",\"#00cc96\",\"#ab63fa\",\"#FFA15A\",\"#19d3f3\",\"#FF6692\",\"#B6E880\",\"#FF97FF\",\"#FECB52\"],\"font\":{\"color\":\"#2a3f5f\"},\"hovermode\":\"closest\",\"hoverlabel\":{\"align\":\"left\"},\"paper_bgcolor\":\"white\",\"plot_bgcolor\":\"#E5ECF6\",\"polar\":{\"bgcolor\":\"#E5ECF6\",\"angularaxis\":{\"gridcolor\":\"white\",\"linecolor\":\"white\",\"ticks\":\"\"},\"radialaxis\":{\"gridcolor\":\"white\",\"linecolor\":\"white\",\"ticks\":\"\"}},\"ternary\":{\"bgcolor\":\"#E5ECF6\",\"aaxis\":{\"gridcolor\":\"white\",\"linecolor\":\"white\",\"ticks\":\"\"},\"baxis\":{\"gridcolor\":\"white\",\"linecolor\":\"white\",\"ticks\":\"\"},\"caxis\":{\"gridcolor\":\"white\",\"linecolor\":\"white\",\"ticks\":\"\"}},\"coloraxis\":{\"colorbar\":{\"outlinewidth\":0,\"ticks\":\"\"}},\"colorscale\":{\"sequential\":[[0.0,\"#0d0887\"],[0.1111111111111111,\"#46039f\"],[0.2222222222222222,\"#7201a8\"],[0.3333333333333333,\"#9c179e\"],[0.4444444444444444,\"#bd3786\"],[0.5555555555555556,\"#d8576b\"],[0.6666666666666666,\"#ed7953\"],[0.7777777777777778,\"#fb9f3a\"],[0.8888888888888888,\"#fdca26\"],[1.0,\"#f0f921\"]],\"sequentialminus\":[[0.0,\"#0d0887\"],[0.1111111111111111,\"#46039f\"],[0.2222222222222222,\"#7201a8\"],[0.3333333333333333,\"#9c179e\"],[0.4444444444444444,\"#bd3786\"],[0.5555555555555556,\"#d8576b\"],[0.6666666666666666,\"#ed7953\"],[0.7777777777777778,\"#fb9f3a\"],[0.8888888888888888,\"#fdca26\"],[1.0,\"#f0f921\"]],\"diverging\":[[0,\"#8e0152\"],[0.1,\"#c51b7d\"],[0.2,\"#de77ae\"],[0.3,\"#f1b6da\"],[0.4,\"#fde0ef\"],[0.5,\"#f7f7f7\"],[0.6,\"#e6f5d0\"],[0.7,\"#b8e186\"],[0.8,\"#7fbc41\"],[0.9,\"#4d9221\"],[1,\"#276419\"]]},\"xaxis\":{\"gridcolor\":\"white\",\"linecolor\":\"white\",\"ticks\":\"\",\"title\":{\"standoff\":15},\"zerolinecolor\":\"white\",\"automargin\":true,\"zerolinewidth\":2},\"yaxis\":{\"gridcolor\":\"white\",\"linecolor\":\"white\",\"ticks\":\"\",\"title\":{\"standoff\":15},\"zerolinecolor\":\"white\",\"automargin\":true,\"zerolinewidth\":2},\"scene\":{\"xaxis\":{\"backgroundcolor\":\"#E5ECF6\",\"gridcolor\":\"white\",\"linecolor\":\"white\",\"showbackground\":true,\"ticks\":\"\",\"zerolinecolor\":\"white\",\"gridwidth\":2},\"yaxis\":{\"backgroundcolor\":\"#E5ECF6\",\"gridcolor\":\"white\",\"linecolor\":\"white\",\"showbackground\":true,\"ticks\":\"\",\"zerolinecolor\":\"white\",\"gridwidth\":2},\"zaxis\":{\"backgroundcolor\":\"#E5ECF6\",\"gridcolor\":\"white\",\"linecolor\":\"white\",\"showbackground\":true,\"ticks\":\"\",\"zerolinecolor\":\"white\",\"gridwidth\":2}},\"shapedefaults\":{\"line\":{\"color\":\"#2a3f5f\"}},\"annotationdefaults\":{\"arrowcolor\":\"#2a3f5f\",\"arrowhead\":0,\"arrowwidth\":1},\"geo\":{\"bgcolor\":\"white\",\"landcolor\":\"#E5ECF6\",\"subunitcolor\":\"white\",\"showland\":true,\"showlakes\":true,\"lakecolor\":\"white\"},\"title\":{\"x\":0.05},\"mapbox\":{\"style\":\"light\"}}},\"xaxis\":{\"anchor\":\"y\",\"domain\":[0.0,1.0],\"title\":{\"text\":\"Iteration\"},\"mirror\":true,\"ticks\":\"outside\",\"showline\":true,\"linecolor\":\"black\",\"gridcolor\":\"lightgrey\"},\"yaxis\":{\"anchor\":\"x\",\"domain\":[0.0,1.0],\"title\":{\"text\":\"reward stddev\"},\"mirror\":true,\"ticks\":\"outside\",\"showline\":true,\"linecolor\":\"black\",\"gridcolor\":\"lightgrey\"},\"legend\":{\"title\":{\"text\":\"one_sided\"},\"tracegroupgap\":0,\"yanchor\":\"bottom\",\"y\":0.01,\"xanchor\":\"right\",\"x\":0.99},\"margin\":{\"t\":50,\"l\":20,\"r\":20,\"b\":20},\"title\":{\"font\":{\"size\":15},\"text\":\"Ant-v1\",\"x\":0.53},\"autosize\":false,\"plot_bgcolor\":\"white\",\"width\":500,\"height\":400},                        {\"responsive\": true}                    ).then(function(){\n",
       "                            \n",
       "var gd = document.getElementById('9f70dd69-fdfb-4c59-93a8-c243e8fc26aa');\n",
       "var x = new MutationObserver(function (mutations, observer) {{\n",
       "        var display = window.getComputedStyle(gd).display;\n",
       "        if (!display || display === 'none') {{\n",
       "            console.log([gd, 'removed!']);\n",
       "            Plotly.purge(gd);\n",
       "            observer.disconnect();\n",
       "        }}\n",
       "}});\n",
       "\n",
       "// Listen for the removal of the full notebook cells\n",
       "var notebookContainer = gd.closest('#notebook-container');\n",
       "if (notebookContainer) {{\n",
       "    x.observe(notebookContainer, {childList: true});\n",
       "}}\n",
       "\n",
       "// Listen for the clearing of the current output cell\n",
       "var outputEl = gd.closest('.output');\n",
       "if (outputEl) {{\n",
       "    x.observe(outputEl, {childList: true});\n",
       "}}\n",
       "\n",
       "                        })                };                });            </script>        </div>"
      ]
     },
     "metadata": {},
     "output_type": "display_data"
    },
    {
     "data": {
      "application/vnd.plotly.v1+json": {
       "config": {
        "plotlyServerURL": "https://plot.ly"
       },
       "data": [
        {
         "hovertemplate": "one_sided=False<br>Iteration=%{x}<br>AverageReward=%{y}<extra></extra>",
         "legendgroup": "False",
         "line": {
          "color": "#636efa",
          "dash": "solid"
         },
         "marker": {
          "symbol": "circle"
         },
         "mode": "lines",
         "name": "False",
         "orientation": "v",
         "showlegend": true,
         "type": "scatter",
         "x": [
          10,
          20,
          30,
          40,
          50,
          60,
          70,
          80,
          90,
          100,
          110,
          120,
          130,
          140,
          150,
          160,
          170,
          180,
          190,
          200,
          210,
          220,
          230,
          240,
          250,
          260,
          270,
          280,
          290,
          300,
          310,
          320,
          330,
          340,
          350,
          360,
          370,
          380,
          390,
          400,
          410,
          420,
          430,
          440,
          450,
          460,
          470,
          480,
          490,
          500,
          510,
          520,
          530,
          540,
          550,
          560,
          570,
          580,
          590,
          600,
          610,
          620,
          630,
          640,
          650,
          660,
          670,
          680,
          690,
          700,
          710,
          720,
          730,
          740,
          750,
          760,
          770,
          780,
          790,
          800,
          810,
          820,
          830,
          840,
          850,
          860,
          870,
          880,
          890,
          900,
          910,
          920,
          930,
          940,
          950,
          960,
          970,
          980,
          990,
          1000
         ],
         "xaxis": "x",
         "y": [
          679.0925630858445,
          833.9284917122548,
          972.6617289923199,
          951.5685791172667,
          891.7739487563889,
          893.0625573264131,
          821.4157930000517,
          1022.5252536314716,
          1148.7966067747332,
          861.6965860889501,
          893.1984691573747,
          1102.7679383180223,
          1072.9770954899318,
          1241.3628640451095,
          1006.5970137562006,
          1046.947989576565,
          1148.7797928571813,
          1104.0279487022888,
          1128.0688150741998,
          1119.097847586355,
          1009.9414119043618,
          1072.8474350933993,
          1060.29159872415,
          1037.5353724721376,
          1156.589984959123,
          1316.8873885653556,
          963.2162902402935,
          1094.427711068226,
          1088.045536110705,
          1044.591337048554,
          1055.6691360611537,
          1103.9608411395413,
          1277.339659265623,
          1567.7605355271241,
          1461.8476090256545,
          1052.6414255245645,
          1337.4259495843578,
          1137.340056428027,
          1154.2587570078572,
          1037.0642184252074,
          1343.8585702669118,
          1128.2602530024626,
          1006.6219293407852,
          1387.35713134878,
          1129.2997599075015,
          1384.2074252702876,
          1306.947866201395,
          1329.3519960526028,
          1118.9454226348212,
          1605.995749487014,
          1341.5088844810687,
          1433.372952806218,
          1294.4411366171942,
          1239.735236273276,
          1188.5883322868376,
          1200.9172463044854,
          1427.3434994680922,
          1228.1399013783807,
          1061.6446148255197,
          1414.3369647788693,
          1469.8791560384834,
          1171.604583091681,
          1223.6583208955558,
          1176.0745529002688,
          1372.3644094926656,
          1441.4985688741626,
          1673.6170379083856,
          1242.0166061961963,
          1474.4045517436327,
          1533.6065124844724,
          1277.0490957659624,
          1362.3285812634722,
          1207.095476192393,
          1204.492428029904,
          1362.5822808213954,
          1361.410057190052,
          1305.272134150126,
          1295.5100127711448,
          1203.4027482860915,
          1447.6788603943385,
          1369.1745973298528,
          1300.3237727057224,
          1286.4609498042767,
          1517.8070169242271,
          1325.6429695161482,
          1619.3864686484555,
          1671.4541709584257,
          1421.4701702775278,
          1375.9294893900355,
          1464.1229670458006,
          1579.3470332195632,
          1489.0932068799173,
          1268.0872349029612,
          1279.172957324847,
          1674.9933924663258,
          1575.080455874601,
          1587.707867677367,
          1616.5367084754657,
          1638.6133743242272,
          1701.7740954987917
         ],
         "yaxis": "y"
        }
       ],
       "layout": {
        "autosize": false,
        "height": 400,
        "legend": {
         "title": {
          "text": "one_sided"
         },
         "tracegroupgap": 0,
         "x": 0.99,
         "xanchor": "right",
         "y": 0.01,
         "yanchor": "bottom"
        },
        "margin": {
         "b": 20,
         "l": 20,
         "r": 20,
         "t": 50
        },
        "plot_bgcolor": "white",
        "template": {
         "data": {
          "bar": [
           {
            "error_x": {
             "color": "#2a3f5f"
            },
            "error_y": {
             "color": "#2a3f5f"
            },
            "marker": {
             "line": {
              "color": "#E5ECF6",
              "width": 0.5
             },
             "pattern": {
              "fillmode": "overlay",
              "size": 10,
              "solidity": 0.2
             }
            },
            "type": "bar"
           }
          ],
          "barpolar": [
           {
            "marker": {
             "line": {
              "color": "#E5ECF6",
              "width": 0.5
             },
             "pattern": {
              "fillmode": "overlay",
              "size": 10,
              "solidity": 0.2
             }
            },
            "type": "barpolar"
           }
          ],
          "carpet": [
           {
            "aaxis": {
             "endlinecolor": "#2a3f5f",
             "gridcolor": "white",
             "linecolor": "white",
             "minorgridcolor": "white",
             "startlinecolor": "#2a3f5f"
            },
            "baxis": {
             "endlinecolor": "#2a3f5f",
             "gridcolor": "white",
             "linecolor": "white",
             "minorgridcolor": "white",
             "startlinecolor": "#2a3f5f"
            },
            "type": "carpet"
           }
          ],
          "choropleth": [
           {
            "colorbar": {
             "outlinewidth": 0,
             "ticks": ""
            },
            "type": "choropleth"
           }
          ],
          "contour": [
           {
            "colorbar": {
             "outlinewidth": 0,
             "ticks": ""
            },
            "colorscale": [
             [
              0,
              "#0d0887"
             ],
             [
              0.1111111111111111,
              "#46039f"
             ],
             [
              0.2222222222222222,
              "#7201a8"
             ],
             [
              0.3333333333333333,
              "#9c179e"
             ],
             [
              0.4444444444444444,
              "#bd3786"
             ],
             [
              0.5555555555555556,
              "#d8576b"
             ],
             [
              0.6666666666666666,
              "#ed7953"
             ],
             [
              0.7777777777777778,
              "#fb9f3a"
             ],
             [
              0.8888888888888888,
              "#fdca26"
             ],
             [
              1,
              "#f0f921"
             ]
            ],
            "type": "contour"
           }
          ],
          "contourcarpet": [
           {
            "colorbar": {
             "outlinewidth": 0,
             "ticks": ""
            },
            "type": "contourcarpet"
           }
          ],
          "heatmap": [
           {
            "colorbar": {
             "outlinewidth": 0,
             "ticks": ""
            },
            "colorscale": [
             [
              0,
              "#0d0887"
             ],
             [
              0.1111111111111111,
              "#46039f"
             ],
             [
              0.2222222222222222,
              "#7201a8"
             ],
             [
              0.3333333333333333,
              "#9c179e"
             ],
             [
              0.4444444444444444,
              "#bd3786"
             ],
             [
              0.5555555555555556,
              "#d8576b"
             ],
             [
              0.6666666666666666,
              "#ed7953"
             ],
             [
              0.7777777777777778,
              "#fb9f3a"
             ],
             [
              0.8888888888888888,
              "#fdca26"
             ],
             [
              1,
              "#f0f921"
             ]
            ],
            "type": "heatmap"
           }
          ],
          "heatmapgl": [
           {
            "colorbar": {
             "outlinewidth": 0,
             "ticks": ""
            },
            "colorscale": [
             [
              0,
              "#0d0887"
             ],
             [
              0.1111111111111111,
              "#46039f"
             ],
             [
              0.2222222222222222,
              "#7201a8"
             ],
             [
              0.3333333333333333,
              "#9c179e"
             ],
             [
              0.4444444444444444,
              "#bd3786"
             ],
             [
              0.5555555555555556,
              "#d8576b"
             ],
             [
              0.6666666666666666,
              "#ed7953"
             ],
             [
              0.7777777777777778,
              "#fb9f3a"
             ],
             [
              0.8888888888888888,
              "#fdca26"
             ],
             [
              1,
              "#f0f921"
             ]
            ],
            "type": "heatmapgl"
           }
          ],
          "histogram": [
           {
            "marker": {
             "pattern": {
              "fillmode": "overlay",
              "size": 10,
              "solidity": 0.2
             }
            },
            "type": "histogram"
           }
          ],
          "histogram2d": [
           {
            "colorbar": {
             "outlinewidth": 0,
             "ticks": ""
            },
            "colorscale": [
             [
              0,
              "#0d0887"
             ],
             [
              0.1111111111111111,
              "#46039f"
             ],
             [
              0.2222222222222222,
              "#7201a8"
             ],
             [
              0.3333333333333333,
              "#9c179e"
             ],
             [
              0.4444444444444444,
              "#bd3786"
             ],
             [
              0.5555555555555556,
              "#d8576b"
             ],
             [
              0.6666666666666666,
              "#ed7953"
             ],
             [
              0.7777777777777778,
              "#fb9f3a"
             ],
             [
              0.8888888888888888,
              "#fdca26"
             ],
             [
              1,
              "#f0f921"
             ]
            ],
            "type": "histogram2d"
           }
          ],
          "histogram2dcontour": [
           {
            "colorbar": {
             "outlinewidth": 0,
             "ticks": ""
            },
            "colorscale": [
             [
              0,
              "#0d0887"
             ],
             [
              0.1111111111111111,
              "#46039f"
             ],
             [
              0.2222222222222222,
              "#7201a8"
             ],
             [
              0.3333333333333333,
              "#9c179e"
             ],
             [
              0.4444444444444444,
              "#bd3786"
             ],
             [
              0.5555555555555556,
              "#d8576b"
             ],
             [
              0.6666666666666666,
              "#ed7953"
             ],
             [
              0.7777777777777778,
              "#fb9f3a"
             ],
             [
              0.8888888888888888,
              "#fdca26"
             ],
             [
              1,
              "#f0f921"
             ]
            ],
            "type": "histogram2dcontour"
           }
          ],
          "mesh3d": [
           {
            "colorbar": {
             "outlinewidth": 0,
             "ticks": ""
            },
            "type": "mesh3d"
           }
          ],
          "parcoords": [
           {
            "line": {
             "colorbar": {
              "outlinewidth": 0,
              "ticks": ""
             }
            },
            "type": "parcoords"
           }
          ],
          "pie": [
           {
            "automargin": true,
            "type": "pie"
           }
          ],
          "scatter": [
           {
            "fillpattern": {
             "fillmode": "overlay",
             "size": 10,
             "solidity": 0.2
            },
            "type": "scatter"
           }
          ],
          "scatter3d": [
           {
            "line": {
             "colorbar": {
              "outlinewidth": 0,
              "ticks": ""
             }
            },
            "marker": {
             "colorbar": {
              "outlinewidth": 0,
              "ticks": ""
             }
            },
            "type": "scatter3d"
           }
          ],
          "scattercarpet": [
           {
            "marker": {
             "colorbar": {
              "outlinewidth": 0,
              "ticks": ""
             }
            },
            "type": "scattercarpet"
           }
          ],
          "scattergeo": [
           {
            "marker": {
             "colorbar": {
              "outlinewidth": 0,
              "ticks": ""
             }
            },
            "type": "scattergeo"
           }
          ],
          "scattergl": [
           {
            "marker": {
             "colorbar": {
              "outlinewidth": 0,
              "ticks": ""
             }
            },
            "type": "scattergl"
           }
          ],
          "scattermapbox": [
           {
            "marker": {
             "colorbar": {
              "outlinewidth": 0,
              "ticks": ""
             }
            },
            "type": "scattermapbox"
           }
          ],
          "scatterpolar": [
           {
            "marker": {
             "colorbar": {
              "outlinewidth": 0,
              "ticks": ""
             }
            },
            "type": "scatterpolar"
           }
          ],
          "scatterpolargl": [
           {
            "marker": {
             "colorbar": {
              "outlinewidth": 0,
              "ticks": ""
             }
            },
            "type": "scatterpolargl"
           }
          ],
          "scatterternary": [
           {
            "marker": {
             "colorbar": {
              "outlinewidth": 0,
              "ticks": ""
             }
            },
            "type": "scatterternary"
           }
          ],
          "surface": [
           {
            "colorbar": {
             "outlinewidth": 0,
             "ticks": ""
            },
            "colorscale": [
             [
              0,
              "#0d0887"
             ],
             [
              0.1111111111111111,
              "#46039f"
             ],
             [
              0.2222222222222222,
              "#7201a8"
             ],
             [
              0.3333333333333333,
              "#9c179e"
             ],
             [
              0.4444444444444444,
              "#bd3786"
             ],
             [
              0.5555555555555556,
              "#d8576b"
             ],
             [
              0.6666666666666666,
              "#ed7953"
             ],
             [
              0.7777777777777778,
              "#fb9f3a"
             ],
             [
              0.8888888888888888,
              "#fdca26"
             ],
             [
              1,
              "#f0f921"
             ]
            ],
            "type": "surface"
           }
          ],
          "table": [
           {
            "cells": {
             "fill": {
              "color": "#EBF0F8"
             },
             "line": {
              "color": "white"
             }
            },
            "header": {
             "fill": {
              "color": "#C8D4E3"
             },
             "line": {
              "color": "white"
             }
            },
            "type": "table"
           }
          ]
         },
         "layout": {
          "annotationdefaults": {
           "arrowcolor": "#2a3f5f",
           "arrowhead": 0,
           "arrowwidth": 1
          },
          "autotypenumbers": "strict",
          "coloraxis": {
           "colorbar": {
            "outlinewidth": 0,
            "ticks": ""
           }
          },
          "colorscale": {
           "diverging": [
            [
             0,
             "#8e0152"
            ],
            [
             0.1,
             "#c51b7d"
            ],
            [
             0.2,
             "#de77ae"
            ],
            [
             0.3,
             "#f1b6da"
            ],
            [
             0.4,
             "#fde0ef"
            ],
            [
             0.5,
             "#f7f7f7"
            ],
            [
             0.6,
             "#e6f5d0"
            ],
            [
             0.7,
             "#b8e186"
            ],
            [
             0.8,
             "#7fbc41"
            ],
            [
             0.9,
             "#4d9221"
            ],
            [
             1,
             "#276419"
            ]
           ],
           "sequential": [
            [
             0,
             "#0d0887"
            ],
            [
             0.1111111111111111,
             "#46039f"
            ],
            [
             0.2222222222222222,
             "#7201a8"
            ],
            [
             0.3333333333333333,
             "#9c179e"
            ],
            [
             0.4444444444444444,
             "#bd3786"
            ],
            [
             0.5555555555555556,
             "#d8576b"
            ],
            [
             0.6666666666666666,
             "#ed7953"
            ],
            [
             0.7777777777777778,
             "#fb9f3a"
            ],
            [
             0.8888888888888888,
             "#fdca26"
            ],
            [
             1,
             "#f0f921"
            ]
           ],
           "sequentialminus": [
            [
             0,
             "#0d0887"
            ],
            [
             0.1111111111111111,
             "#46039f"
            ],
            [
             0.2222222222222222,
             "#7201a8"
            ],
            [
             0.3333333333333333,
             "#9c179e"
            ],
            [
             0.4444444444444444,
             "#bd3786"
            ],
            [
             0.5555555555555556,
             "#d8576b"
            ],
            [
             0.6666666666666666,
             "#ed7953"
            ],
            [
             0.7777777777777778,
             "#fb9f3a"
            ],
            [
             0.8888888888888888,
             "#fdca26"
            ],
            [
             1,
             "#f0f921"
            ]
           ]
          },
          "colorway": [
           "#636efa",
           "#EF553B",
           "#00cc96",
           "#ab63fa",
           "#FFA15A",
           "#19d3f3",
           "#FF6692",
           "#B6E880",
           "#FF97FF",
           "#FECB52"
          ],
          "font": {
           "color": "#2a3f5f"
          },
          "geo": {
           "bgcolor": "white",
           "lakecolor": "white",
           "landcolor": "#E5ECF6",
           "showlakes": true,
           "showland": true,
           "subunitcolor": "white"
          },
          "hoverlabel": {
           "align": "left"
          },
          "hovermode": "closest",
          "mapbox": {
           "style": "light"
          },
          "paper_bgcolor": "white",
          "plot_bgcolor": "#E5ECF6",
          "polar": {
           "angularaxis": {
            "gridcolor": "white",
            "linecolor": "white",
            "ticks": ""
           },
           "bgcolor": "#E5ECF6",
           "radialaxis": {
            "gridcolor": "white",
            "linecolor": "white",
            "ticks": ""
           }
          },
          "scene": {
           "xaxis": {
            "backgroundcolor": "#E5ECF6",
            "gridcolor": "white",
            "gridwidth": 2,
            "linecolor": "white",
            "showbackground": true,
            "ticks": "",
            "zerolinecolor": "white"
           },
           "yaxis": {
            "backgroundcolor": "#E5ECF6",
            "gridcolor": "white",
            "gridwidth": 2,
            "linecolor": "white",
            "showbackground": true,
            "ticks": "",
            "zerolinecolor": "white"
           },
           "zaxis": {
            "backgroundcolor": "#E5ECF6",
            "gridcolor": "white",
            "gridwidth": 2,
            "linecolor": "white",
            "showbackground": true,
            "ticks": "",
            "zerolinecolor": "white"
           }
          },
          "shapedefaults": {
           "line": {
            "color": "#2a3f5f"
           }
          },
          "ternary": {
           "aaxis": {
            "gridcolor": "white",
            "linecolor": "white",
            "ticks": ""
           },
           "baxis": {
            "gridcolor": "white",
            "linecolor": "white",
            "ticks": ""
           },
           "bgcolor": "#E5ECF6",
           "caxis": {
            "gridcolor": "white",
            "linecolor": "white",
            "ticks": ""
           }
          },
          "title": {
           "x": 0.05
          },
          "xaxis": {
           "automargin": true,
           "gridcolor": "white",
           "linecolor": "white",
           "ticks": "",
           "title": {
            "standoff": 15
           },
           "zerolinecolor": "white",
           "zerolinewidth": 2
          },
          "yaxis": {
           "automargin": true,
           "gridcolor": "white",
           "linecolor": "white",
           "ticks": "",
           "title": {
            "standoff": 15
           },
           "zerolinecolor": "white",
           "zerolinewidth": 2
          }
         }
        },
        "title": {
         "font": {
          "size": 15
         },
         "text": "HalfCheetah-v1",
         "x": 0.53
        },
        "width": 500,
        "xaxis": {
         "anchor": "y",
         "domain": [
          0,
          1
         ],
         "gridcolor": "lightgrey",
         "linecolor": "black",
         "mirror": true,
         "showline": true,
         "ticks": "outside",
         "title": {
          "text": "Iteration"
         }
        },
        "yaxis": {
         "anchor": "x",
         "domain": [
          0,
          1
         ],
         "gridcolor": "lightgrey",
         "linecolor": "black",
         "mirror": true,
         "showline": true,
         "ticks": "outside",
         "title": {
          "text": "reward stddev"
         }
        }
       }
      },
      "text/html": [
       "<div>                            <div id=\"87faec38-84dd-4399-8ac7-77755693209d\" class=\"plotly-graph-div\" style=\"height:400px; width:500px;\"></div>            <script type=\"text/javascript\">                require([\"plotly\"], function(Plotly) {                    window.PLOTLYENV=window.PLOTLYENV || {};                                    if (document.getElementById(\"87faec38-84dd-4399-8ac7-77755693209d\")) {                    Plotly.newPlot(                        \"87faec38-84dd-4399-8ac7-77755693209d\",                        [{\"hovertemplate\":\"one_sided=False\\u003cbr\\u003eIteration=%{x}\\u003cbr\\u003eAverageReward=%{y}\\u003cextra\\u003e\\u003c\\u002fextra\\u003e\",\"legendgroup\":\"False\",\"line\":{\"color\":\"#636efa\",\"dash\":\"solid\"},\"marker\":{\"symbol\":\"circle\"},\"mode\":\"lines\",\"name\":\"False\",\"orientation\":\"v\",\"showlegend\":true,\"x\":[10,20,30,40,50,60,70,80,90,100,110,120,130,140,150,160,170,180,190,200,210,220,230,240,250,260,270,280,290,300,310,320,330,340,350,360,370,380,390,400,410,420,430,440,450,460,470,480,490,500,510,520,530,540,550,560,570,580,590,600,610,620,630,640,650,660,670,680,690,700,710,720,730,740,750,760,770,780,790,800,810,820,830,840,850,860,870,880,890,900,910,920,930,940,950,960,970,980,990,1000],\"xaxis\":\"x\",\"y\":[679.0925630858445,833.9284917122548,972.6617289923199,951.5685791172667,891.7739487563889,893.0625573264131,821.4157930000517,1022.5252536314716,1148.7966067747332,861.6965860889501,893.1984691573747,1102.7679383180223,1072.9770954899318,1241.3628640451095,1006.5970137562006,1046.947989576565,1148.7797928571813,1104.0279487022888,1128.0688150741998,1119.097847586355,1009.9414119043618,1072.8474350933993,1060.29159872415,1037.5353724721376,1156.589984959123,1316.8873885653556,963.2162902402935,1094.427711068226,1088.045536110705,1044.591337048554,1055.6691360611537,1103.9608411395413,1277.339659265623,1567.7605355271241,1461.8476090256545,1052.6414255245645,1337.4259495843578,1137.340056428027,1154.2587570078572,1037.0642184252074,1343.8585702669118,1128.2602530024626,1006.6219293407852,1387.35713134878,1129.2997599075015,1384.2074252702876,1306.947866201395,1329.3519960526028,1118.9454226348212,1605.995749487014,1341.5088844810687,1433.372952806218,1294.4411366171942,1239.735236273276,1188.5883322868376,1200.9172463044854,1427.3434994680922,1228.1399013783807,1061.6446148255197,1414.3369647788693,1469.8791560384834,1171.604583091681,1223.6583208955558,1176.0745529002688,1372.3644094926656,1441.4985688741626,1673.6170379083856,1242.0166061961963,1474.4045517436327,1533.6065124844724,1277.0490957659624,1362.3285812634722,1207.095476192393,1204.492428029904,1362.5822808213954,1361.410057190052,1305.272134150126,1295.5100127711448,1203.4027482860915,1447.6788603943385,1369.1745973298528,1300.3237727057224,1286.4609498042767,1517.8070169242271,1325.6429695161482,1619.3864686484555,1671.4541709584257,1421.4701702775278,1375.9294893900355,1464.1229670458006,1579.3470332195632,1489.0932068799173,1268.0872349029612,1279.172957324847,1674.9933924663258,1575.080455874601,1587.707867677367,1616.5367084754657,1638.6133743242272,1701.7740954987917],\"yaxis\":\"y\",\"type\":\"scatter\"}],                        {\"template\":{\"data\":{\"histogram2dcontour\":[{\"type\":\"histogram2dcontour\",\"colorbar\":{\"outlinewidth\":0,\"ticks\":\"\"},\"colorscale\":[[0.0,\"#0d0887\"],[0.1111111111111111,\"#46039f\"],[0.2222222222222222,\"#7201a8\"],[0.3333333333333333,\"#9c179e\"],[0.4444444444444444,\"#bd3786\"],[0.5555555555555556,\"#d8576b\"],[0.6666666666666666,\"#ed7953\"],[0.7777777777777778,\"#fb9f3a\"],[0.8888888888888888,\"#fdca26\"],[1.0,\"#f0f921\"]]}],\"choropleth\":[{\"type\":\"choropleth\",\"colorbar\":{\"outlinewidth\":0,\"ticks\":\"\"}}],\"histogram2d\":[{\"type\":\"histogram2d\",\"colorbar\":{\"outlinewidth\":0,\"ticks\":\"\"},\"colorscale\":[[0.0,\"#0d0887\"],[0.1111111111111111,\"#46039f\"],[0.2222222222222222,\"#7201a8\"],[0.3333333333333333,\"#9c179e\"],[0.4444444444444444,\"#bd3786\"],[0.5555555555555556,\"#d8576b\"],[0.6666666666666666,\"#ed7953\"],[0.7777777777777778,\"#fb9f3a\"],[0.8888888888888888,\"#fdca26\"],[1.0,\"#f0f921\"]]}],\"heatmap\":[{\"type\":\"heatmap\",\"colorbar\":{\"outlinewidth\":0,\"ticks\":\"\"},\"colorscale\":[[0.0,\"#0d0887\"],[0.1111111111111111,\"#46039f\"],[0.2222222222222222,\"#7201a8\"],[0.3333333333333333,\"#9c179e\"],[0.4444444444444444,\"#bd3786\"],[0.5555555555555556,\"#d8576b\"],[0.6666666666666666,\"#ed7953\"],[0.7777777777777778,\"#fb9f3a\"],[0.8888888888888888,\"#fdca26\"],[1.0,\"#f0f921\"]]}],\"heatmapgl\":[{\"type\":\"heatmapgl\",\"colorbar\":{\"outlinewidth\":0,\"ticks\":\"\"},\"colorscale\":[[0.0,\"#0d0887\"],[0.1111111111111111,\"#46039f\"],[0.2222222222222222,\"#7201a8\"],[0.3333333333333333,\"#9c179e\"],[0.4444444444444444,\"#bd3786\"],[0.5555555555555556,\"#d8576b\"],[0.6666666666666666,\"#ed7953\"],[0.7777777777777778,\"#fb9f3a\"],[0.8888888888888888,\"#fdca26\"],[1.0,\"#f0f921\"]]}],\"contourcarpet\":[{\"type\":\"contourcarpet\",\"colorbar\":{\"outlinewidth\":0,\"ticks\":\"\"}}],\"contour\":[{\"type\":\"contour\",\"colorbar\":{\"outlinewidth\":0,\"ticks\":\"\"},\"colorscale\":[[0.0,\"#0d0887\"],[0.1111111111111111,\"#46039f\"],[0.2222222222222222,\"#7201a8\"],[0.3333333333333333,\"#9c179e\"],[0.4444444444444444,\"#bd3786\"],[0.5555555555555556,\"#d8576b\"],[0.6666666666666666,\"#ed7953\"],[0.7777777777777778,\"#fb9f3a\"],[0.8888888888888888,\"#fdca26\"],[1.0,\"#f0f921\"]]}],\"surface\":[{\"type\":\"surface\",\"colorbar\":{\"outlinewidth\":0,\"ticks\":\"\"},\"colorscale\":[[0.0,\"#0d0887\"],[0.1111111111111111,\"#46039f\"],[0.2222222222222222,\"#7201a8\"],[0.3333333333333333,\"#9c179e\"],[0.4444444444444444,\"#bd3786\"],[0.5555555555555556,\"#d8576b\"],[0.6666666666666666,\"#ed7953\"],[0.7777777777777778,\"#fb9f3a\"],[0.8888888888888888,\"#fdca26\"],[1.0,\"#f0f921\"]]}],\"mesh3d\":[{\"type\":\"mesh3d\",\"colorbar\":{\"outlinewidth\":0,\"ticks\":\"\"}}],\"scatter\":[{\"fillpattern\":{\"fillmode\":\"overlay\",\"size\":10,\"solidity\":0.2},\"type\":\"scatter\"}],\"parcoords\":[{\"type\":\"parcoords\",\"line\":{\"colorbar\":{\"outlinewidth\":0,\"ticks\":\"\"}}}],\"scatterpolargl\":[{\"type\":\"scatterpolargl\",\"marker\":{\"colorbar\":{\"outlinewidth\":0,\"ticks\":\"\"}}}],\"bar\":[{\"error_x\":{\"color\":\"#2a3f5f\"},\"error_y\":{\"color\":\"#2a3f5f\"},\"marker\":{\"line\":{\"color\":\"#E5ECF6\",\"width\":0.5},\"pattern\":{\"fillmode\":\"overlay\",\"size\":10,\"solidity\":0.2}},\"type\":\"bar\"}],\"scattergeo\":[{\"type\":\"scattergeo\",\"marker\":{\"colorbar\":{\"outlinewidth\":0,\"ticks\":\"\"}}}],\"scatterpolar\":[{\"type\":\"scatterpolar\",\"marker\":{\"colorbar\":{\"outlinewidth\":0,\"ticks\":\"\"}}}],\"histogram\":[{\"marker\":{\"pattern\":{\"fillmode\":\"overlay\",\"size\":10,\"solidity\":0.2}},\"type\":\"histogram\"}],\"scattergl\":[{\"type\":\"scattergl\",\"marker\":{\"colorbar\":{\"outlinewidth\":0,\"ticks\":\"\"}}}],\"scatter3d\":[{\"type\":\"scatter3d\",\"line\":{\"colorbar\":{\"outlinewidth\":0,\"ticks\":\"\"}},\"marker\":{\"colorbar\":{\"outlinewidth\":0,\"ticks\":\"\"}}}],\"scattermapbox\":[{\"type\":\"scattermapbox\",\"marker\":{\"colorbar\":{\"outlinewidth\":0,\"ticks\":\"\"}}}],\"scatterternary\":[{\"type\":\"scatterternary\",\"marker\":{\"colorbar\":{\"outlinewidth\":0,\"ticks\":\"\"}}}],\"scattercarpet\":[{\"type\":\"scattercarpet\",\"marker\":{\"colorbar\":{\"outlinewidth\":0,\"ticks\":\"\"}}}],\"carpet\":[{\"aaxis\":{\"endlinecolor\":\"#2a3f5f\",\"gridcolor\":\"white\",\"linecolor\":\"white\",\"minorgridcolor\":\"white\",\"startlinecolor\":\"#2a3f5f\"},\"baxis\":{\"endlinecolor\":\"#2a3f5f\",\"gridcolor\":\"white\",\"linecolor\":\"white\",\"minorgridcolor\":\"white\",\"startlinecolor\":\"#2a3f5f\"},\"type\":\"carpet\"}],\"table\":[{\"cells\":{\"fill\":{\"color\":\"#EBF0F8\"},\"line\":{\"color\":\"white\"}},\"header\":{\"fill\":{\"color\":\"#C8D4E3\"},\"line\":{\"color\":\"white\"}},\"type\":\"table\"}],\"barpolar\":[{\"marker\":{\"line\":{\"color\":\"#E5ECF6\",\"width\":0.5},\"pattern\":{\"fillmode\":\"overlay\",\"size\":10,\"solidity\":0.2}},\"type\":\"barpolar\"}],\"pie\":[{\"automargin\":true,\"type\":\"pie\"}]},\"layout\":{\"autotypenumbers\":\"strict\",\"colorway\":[\"#636efa\",\"#EF553B\",\"#00cc96\",\"#ab63fa\",\"#FFA15A\",\"#19d3f3\",\"#FF6692\",\"#B6E880\",\"#FF97FF\",\"#FECB52\"],\"font\":{\"color\":\"#2a3f5f\"},\"hovermode\":\"closest\",\"hoverlabel\":{\"align\":\"left\"},\"paper_bgcolor\":\"white\",\"plot_bgcolor\":\"#E5ECF6\",\"polar\":{\"bgcolor\":\"#E5ECF6\",\"angularaxis\":{\"gridcolor\":\"white\",\"linecolor\":\"white\",\"ticks\":\"\"},\"radialaxis\":{\"gridcolor\":\"white\",\"linecolor\":\"white\",\"ticks\":\"\"}},\"ternary\":{\"bgcolor\":\"#E5ECF6\",\"aaxis\":{\"gridcolor\":\"white\",\"linecolor\":\"white\",\"ticks\":\"\"},\"baxis\":{\"gridcolor\":\"white\",\"linecolor\":\"white\",\"ticks\":\"\"},\"caxis\":{\"gridcolor\":\"white\",\"linecolor\":\"white\",\"ticks\":\"\"}},\"coloraxis\":{\"colorbar\":{\"outlinewidth\":0,\"ticks\":\"\"}},\"colorscale\":{\"sequential\":[[0.0,\"#0d0887\"],[0.1111111111111111,\"#46039f\"],[0.2222222222222222,\"#7201a8\"],[0.3333333333333333,\"#9c179e\"],[0.4444444444444444,\"#bd3786\"],[0.5555555555555556,\"#d8576b\"],[0.6666666666666666,\"#ed7953\"],[0.7777777777777778,\"#fb9f3a\"],[0.8888888888888888,\"#fdca26\"],[1.0,\"#f0f921\"]],\"sequentialminus\":[[0.0,\"#0d0887\"],[0.1111111111111111,\"#46039f\"],[0.2222222222222222,\"#7201a8\"],[0.3333333333333333,\"#9c179e\"],[0.4444444444444444,\"#bd3786\"],[0.5555555555555556,\"#d8576b\"],[0.6666666666666666,\"#ed7953\"],[0.7777777777777778,\"#fb9f3a\"],[0.8888888888888888,\"#fdca26\"],[1.0,\"#f0f921\"]],\"diverging\":[[0,\"#8e0152\"],[0.1,\"#c51b7d\"],[0.2,\"#de77ae\"],[0.3,\"#f1b6da\"],[0.4,\"#fde0ef\"],[0.5,\"#f7f7f7\"],[0.6,\"#e6f5d0\"],[0.7,\"#b8e186\"],[0.8,\"#7fbc41\"],[0.9,\"#4d9221\"],[1,\"#276419\"]]},\"xaxis\":{\"gridcolor\":\"white\",\"linecolor\":\"white\",\"ticks\":\"\",\"title\":{\"standoff\":15},\"zerolinecolor\":\"white\",\"automargin\":true,\"zerolinewidth\":2},\"yaxis\":{\"gridcolor\":\"white\",\"linecolor\":\"white\",\"ticks\":\"\",\"title\":{\"standoff\":15},\"zerolinecolor\":\"white\",\"automargin\":true,\"zerolinewidth\":2},\"scene\":{\"xaxis\":{\"backgroundcolor\":\"#E5ECF6\",\"gridcolor\":\"white\",\"linecolor\":\"white\",\"showbackground\":true,\"ticks\":\"\",\"zerolinecolor\":\"white\",\"gridwidth\":2},\"yaxis\":{\"backgroundcolor\":\"#E5ECF6\",\"gridcolor\":\"white\",\"linecolor\":\"white\",\"showbackground\":true,\"ticks\":\"\",\"zerolinecolor\":\"white\",\"gridwidth\":2},\"zaxis\":{\"backgroundcolor\":\"#E5ECF6\",\"gridcolor\":\"white\",\"linecolor\":\"white\",\"showbackground\":true,\"ticks\":\"\",\"zerolinecolor\":\"white\",\"gridwidth\":2}},\"shapedefaults\":{\"line\":{\"color\":\"#2a3f5f\"}},\"annotationdefaults\":{\"arrowcolor\":\"#2a3f5f\",\"arrowhead\":0,\"arrowwidth\":1},\"geo\":{\"bgcolor\":\"white\",\"landcolor\":\"#E5ECF6\",\"subunitcolor\":\"white\",\"showland\":true,\"showlakes\":true,\"lakecolor\":\"white\"},\"title\":{\"x\":0.05},\"mapbox\":{\"style\":\"light\"}}},\"xaxis\":{\"anchor\":\"y\",\"domain\":[0.0,1.0],\"title\":{\"text\":\"Iteration\"},\"mirror\":true,\"ticks\":\"outside\",\"showline\":true,\"linecolor\":\"black\",\"gridcolor\":\"lightgrey\"},\"yaxis\":{\"anchor\":\"x\",\"domain\":[0.0,1.0],\"title\":{\"text\":\"reward stddev\"},\"mirror\":true,\"ticks\":\"outside\",\"showline\":true,\"linecolor\":\"black\",\"gridcolor\":\"lightgrey\"},\"legend\":{\"title\":{\"text\":\"one_sided\"},\"tracegroupgap\":0,\"yanchor\":\"bottom\",\"y\":0.01,\"xanchor\":\"right\",\"x\":0.99},\"margin\":{\"t\":50,\"l\":20,\"r\":20,\"b\":20},\"title\":{\"font\":{\"size\":15},\"text\":\"HalfCheetah-v1\",\"x\":0.53},\"autosize\":false,\"plot_bgcolor\":\"white\",\"width\":500,\"height\":400},                        {\"responsive\": true}                    ).then(function(){\n",
       "                            \n",
       "var gd = document.getElementById('87faec38-84dd-4399-8ac7-77755693209d');\n",
       "var x = new MutationObserver(function (mutations, observer) {{\n",
       "        var display = window.getComputedStyle(gd).display;\n",
       "        if (!display || display === 'none') {{\n",
       "            console.log([gd, 'removed!']);\n",
       "            Plotly.purge(gd);\n",
       "            observer.disconnect();\n",
       "        }}\n",
       "}});\n",
       "\n",
       "// Listen for the removal of the full notebook cells\n",
       "var notebookContainer = gd.closest('#notebook-container');\n",
       "if (notebookContainer) {{\n",
       "    x.observe(notebookContainer, {childList: true});\n",
       "}}\n",
       "\n",
       "// Listen for the clearing of the current output cell\n",
       "var outputEl = gd.closest('.output');\n",
       "if (outputEl) {{\n",
       "    x.observe(outputEl, {childList: true});\n",
       "}}\n",
       "\n",
       "                        })                };                });            </script>        </div>"
      ]
     },
     "metadata": {},
     "output_type": "display_data"
    },
    {
     "data": {
      "application/vnd.plotly.v1+json": {
       "config": {
        "plotlyServerURL": "https://plot.ly"
       },
       "data": [
        {
         "hovertemplate": "one_sided=False<br>Iteration=%{x}<br>AverageReward=%{y}<extra></extra>",
         "legendgroup": "False",
         "line": {
          "color": "#636efa",
          "dash": "solid"
         },
         "marker": {
          "symbol": "circle"
         },
         "mode": "lines",
         "name": "False",
         "orientation": "v",
         "showlegend": true,
         "type": "scatter",
         "x": [
          10,
          20,
          30,
          40,
          50,
          60,
          70,
          80,
          90,
          100,
          110,
          120,
          130,
          140,
          150,
          160,
          170,
          180,
          190,
          200,
          210,
          220,
          230,
          240,
          250,
          260,
          270,
          280,
          290,
          300,
          310,
          320,
          330,
          340,
          350,
          360,
          370,
          380,
          390,
          400,
          410,
          420,
          430,
          440,
          450,
          460,
          470,
          480,
          490,
          500,
          510,
          520,
          530,
          540,
          550,
          560,
          570,
          580,
          590,
          600,
          610,
          620,
          630,
          640,
          650,
          660,
          670,
          680,
          690,
          700,
          710,
          720,
          730,
          740,
          750,
          760,
          770,
          780,
          790,
          800,
          810,
          820,
          830,
          840,
          850,
          860,
          870,
          880,
          890,
          900,
          910,
          920,
          930,
          940,
          950,
          960,
          970,
          980,
          990,
          1000
         ],
         "xaxis": "x",
         "y": [
          387.68289381398495,
          783.8403877384367,
          938.3530023008053,
          1020.8274953425566,
          1018.9797633341645,
          1033.5346379969844,
          994.5066532302238,
          1005.8213432708154,
          985.4332278949297,
          937.5051978982185,
          968.0039174405678,
          962.1782958995489,
          981.7297472257351,
          891.8472201558887,
          906.8534106932747,
          898.4502246590432,
          861.2700532861669,
          850.4843428765985,
          925.5146495440991,
          911.2227907718058,
          806.7941977646228,
          878.8527352089676,
          817.6563206432243,
          920.8623945627313,
          915.8337960631147,
          851.2443495362708,
          820.4102878262117,
          766.9463949193967,
          773.3169317912408,
          908.5659432909878,
          881.4373165659127,
          853.0571662573627,
          835.5363145430229,
          841.6984706564389,
          820.805018167339,
          780.8293944952312,
          793.9851705622484,
          812.2237418874828,
          789.8624027251208,
          852.3247156288807,
          841.5358404456387,
          732.3502647087419,
          691.4744659164545,
          833.3678228005772,
          843.4920549506639,
          781.1696088415238,
          738.1063675864452,
          788.5660704628401,
          793.7804264298642,
          736.4322108470616,
          842.3151447772561,
          768.6457454132792,
          749.566760798548,
          814.8107220715727,
          808.5611753650976,
          872.3629816269327,
          850.0549431258786,
          730.4540736252048,
          753.6706716337399,
          814.0397555651296,
          722.3859022513774,
          763.3047963645874,
          781.0157606112998,
          855.9048116906886,
          877.9253705380663,
          689.3035084554489,
          733.5248879727357,
          760.0688870679811,
          764.2078649556966,
          801.7946059866055,
          817.5581724536862,
          843.9966730212126,
          774.7980989059882,
          771.5334181241636,
          810.0199832814317,
          747.1358599353006,
          850.9556996197365,
          786.3765605153526,
          831.724448212144,
          792.6327612928721,
          911.7220188172474,
          786.8953962735851,
          769.5098673144633,
          775.8655310092746,
          762.775964832284,
          724.4451039594026,
          723.5950617179718,
          777.3260312397696,
          858.2364609745549,
          813.3169376839868,
          726.9008552117115,
          820.5926815143586,
          876.1524029334687,
          855.8001332425963,
          698.7915474669385,
          801.2205322272067,
          782.6767102667177,
          755.8779909484853,
          794.8686414542102,
          807.7182982090634
         ],
         "yaxis": "y"
        },
        {
         "hovertemplate": "one_sided=True<br>Iteration=%{x}<br>AverageReward=%{y}<extra></extra>",
         "legendgroup": "True",
         "line": {
          "color": "#EF553B",
          "dash": "solid"
         },
         "marker": {
          "symbol": "circle"
         },
         "mode": "lines",
         "name": "True",
         "orientation": "v",
         "showlegend": true,
         "type": "scatter",
         "x": [
          10,
          20,
          30,
          40,
          50,
          60,
          70,
          80,
          90,
          100,
          110,
          120,
          130,
          140,
          150,
          160,
          170,
          180,
          190,
          200,
          210,
          220,
          230,
          240,
          250,
          260,
          270,
          280,
          290,
          300,
          310,
          320,
          330,
          340,
          350,
          360,
          370,
          380,
          390,
          400,
          410,
          420,
          430,
          440,
          450,
          460,
          470,
          480,
          490,
          500,
          510,
          520,
          530,
          540,
          550,
          560,
          570,
          580,
          590,
          600,
          610,
          620,
          630,
          640,
          650,
          660,
          670,
          680,
          690,
          700,
          710,
          720,
          730,
          740,
          750,
          760,
          770,
          780,
          790,
          800,
          810,
          820,
          830,
          840,
          850,
          860,
          870,
          880,
          890,
          900,
          910,
          920,
          930,
          940,
          950,
          960,
          970,
          980,
          990,
          1000
         ],
         "xaxis": "x",
         "y": [
          91.79359565718735,
          368.65547660927734,
          321.17462439909855,
          269.906046354605,
          311.595845220676,
          311.27556169397315,
          295.02324054863743,
          579.5786828414247,
          879.5166787834676,
          836.9846557516654,
          761.3699528659923,
          747.990209409252,
          766.0579402119537,
          914.1481593310303,
          877.6036255573562,
          825.1223988109662,
          785.7427447611472,
          805.487870443444,
          804.8964501131198,
          797.3556062473476,
          710.3631725916699,
          849.5334257551361,
          862.2321255416553,
          793.2520555774413,
          774.6929622695106,
          730.4168427631905,
          801.3998680222605,
          814.2587031882506,
          844.9833656049984,
          874.3871468905436,
          871.5721315072358,
          819.6228184476948,
          776.1032471414243,
          784.5984405230507,
          773.7459670502379,
          771.0637961960861,
          808.2168126170252,
          808.3017984979266,
          815.7638831444276,
          863.4901744874168,
          825.885299414777,
          807.2226221053602,
          825.6806466086625,
          765.2182621015422,
          868.5716006292303,
          802.7862771844964,
          757.8691853319199,
          835.3487890904329,
          798.2798989765663,
          793.6598018614814,
          682.8835813556716,
          772.5078943443425,
          772.3907334044271,
          740.5328286622672,
          776.5477397309342,
          725.9635492435984,
          764.4696965648977,
          685.2588559260818,
          797.9729081218858,
          765.1740965259218,
          704.3571278056114,
          766.7520443237427,
          743.2738038685422,
          672.5466131413847,
          732.3431587255423,
          781.8738406660392,
          752.5032296110874,
          755.3027757837732,
          782.959273238515,
          751.3841595111106,
          791.504562430795,
          717.919149120853,
          696.6870074635325,
          753.0763040135604,
          736.8321497895367,
          724.608896275732,
          775.5714826211325,
          829.4858453593026,
          826.6102994409098,
          765.7523943509352,
          748.6758813716694,
          738.3133042720056,
          785.7012124235498,
          821.5247906161751,
          762.2631511645715,
          846.7668499574207,
          781.0767160189752,
          775.9563831452786,
          757.7732318406947,
          849.6147924076809,
          841.2411939188871,
          767.1034486881285,
          815.9941505454594,
          893.8419673248626,
          879.5403973425239,
          858.439985086847,
          905.4373250550844,
          895.4566372191778,
          910.3989474608528,
          926.9187650234625
         ],
         "yaxis": "y"
        }
       ],
       "layout": {
        "autosize": false,
        "height": 400,
        "legend": {
         "title": {
          "text": "one_sided"
         },
         "tracegroupgap": 0,
         "x": 0.99,
         "xanchor": "right",
         "y": 0.01,
         "yanchor": "bottom"
        },
        "margin": {
         "b": 20,
         "l": 20,
         "r": 20,
         "t": 50
        },
        "plot_bgcolor": "white",
        "template": {
         "data": {
          "bar": [
           {
            "error_x": {
             "color": "#2a3f5f"
            },
            "error_y": {
             "color": "#2a3f5f"
            },
            "marker": {
             "line": {
              "color": "#E5ECF6",
              "width": 0.5
             },
             "pattern": {
              "fillmode": "overlay",
              "size": 10,
              "solidity": 0.2
             }
            },
            "type": "bar"
           }
          ],
          "barpolar": [
           {
            "marker": {
             "line": {
              "color": "#E5ECF6",
              "width": 0.5
             },
             "pattern": {
              "fillmode": "overlay",
              "size": 10,
              "solidity": 0.2
             }
            },
            "type": "barpolar"
           }
          ],
          "carpet": [
           {
            "aaxis": {
             "endlinecolor": "#2a3f5f",
             "gridcolor": "white",
             "linecolor": "white",
             "minorgridcolor": "white",
             "startlinecolor": "#2a3f5f"
            },
            "baxis": {
             "endlinecolor": "#2a3f5f",
             "gridcolor": "white",
             "linecolor": "white",
             "minorgridcolor": "white",
             "startlinecolor": "#2a3f5f"
            },
            "type": "carpet"
           }
          ],
          "choropleth": [
           {
            "colorbar": {
             "outlinewidth": 0,
             "ticks": ""
            },
            "type": "choropleth"
           }
          ],
          "contour": [
           {
            "colorbar": {
             "outlinewidth": 0,
             "ticks": ""
            },
            "colorscale": [
             [
              0,
              "#0d0887"
             ],
             [
              0.1111111111111111,
              "#46039f"
             ],
             [
              0.2222222222222222,
              "#7201a8"
             ],
             [
              0.3333333333333333,
              "#9c179e"
             ],
             [
              0.4444444444444444,
              "#bd3786"
             ],
             [
              0.5555555555555556,
              "#d8576b"
             ],
             [
              0.6666666666666666,
              "#ed7953"
             ],
             [
              0.7777777777777778,
              "#fb9f3a"
             ],
             [
              0.8888888888888888,
              "#fdca26"
             ],
             [
              1,
              "#f0f921"
             ]
            ],
            "type": "contour"
           }
          ],
          "contourcarpet": [
           {
            "colorbar": {
             "outlinewidth": 0,
             "ticks": ""
            },
            "type": "contourcarpet"
           }
          ],
          "heatmap": [
           {
            "colorbar": {
             "outlinewidth": 0,
             "ticks": ""
            },
            "colorscale": [
             [
              0,
              "#0d0887"
             ],
             [
              0.1111111111111111,
              "#46039f"
             ],
             [
              0.2222222222222222,
              "#7201a8"
             ],
             [
              0.3333333333333333,
              "#9c179e"
             ],
             [
              0.4444444444444444,
              "#bd3786"
             ],
             [
              0.5555555555555556,
              "#d8576b"
             ],
             [
              0.6666666666666666,
              "#ed7953"
             ],
             [
              0.7777777777777778,
              "#fb9f3a"
             ],
             [
              0.8888888888888888,
              "#fdca26"
             ],
             [
              1,
              "#f0f921"
             ]
            ],
            "type": "heatmap"
           }
          ],
          "heatmapgl": [
           {
            "colorbar": {
             "outlinewidth": 0,
             "ticks": ""
            },
            "colorscale": [
             [
              0,
              "#0d0887"
             ],
             [
              0.1111111111111111,
              "#46039f"
             ],
             [
              0.2222222222222222,
              "#7201a8"
             ],
             [
              0.3333333333333333,
              "#9c179e"
             ],
             [
              0.4444444444444444,
              "#bd3786"
             ],
             [
              0.5555555555555556,
              "#d8576b"
             ],
             [
              0.6666666666666666,
              "#ed7953"
             ],
             [
              0.7777777777777778,
              "#fb9f3a"
             ],
             [
              0.8888888888888888,
              "#fdca26"
             ],
             [
              1,
              "#f0f921"
             ]
            ],
            "type": "heatmapgl"
           }
          ],
          "histogram": [
           {
            "marker": {
             "pattern": {
              "fillmode": "overlay",
              "size": 10,
              "solidity": 0.2
             }
            },
            "type": "histogram"
           }
          ],
          "histogram2d": [
           {
            "colorbar": {
             "outlinewidth": 0,
             "ticks": ""
            },
            "colorscale": [
             [
              0,
              "#0d0887"
             ],
             [
              0.1111111111111111,
              "#46039f"
             ],
             [
              0.2222222222222222,
              "#7201a8"
             ],
             [
              0.3333333333333333,
              "#9c179e"
             ],
             [
              0.4444444444444444,
              "#bd3786"
             ],
             [
              0.5555555555555556,
              "#d8576b"
             ],
             [
              0.6666666666666666,
              "#ed7953"
             ],
             [
              0.7777777777777778,
              "#fb9f3a"
             ],
             [
              0.8888888888888888,
              "#fdca26"
             ],
             [
              1,
              "#f0f921"
             ]
            ],
            "type": "histogram2d"
           }
          ],
          "histogram2dcontour": [
           {
            "colorbar": {
             "outlinewidth": 0,
             "ticks": ""
            },
            "colorscale": [
             [
              0,
              "#0d0887"
             ],
             [
              0.1111111111111111,
              "#46039f"
             ],
             [
              0.2222222222222222,
              "#7201a8"
             ],
             [
              0.3333333333333333,
              "#9c179e"
             ],
             [
              0.4444444444444444,
              "#bd3786"
             ],
             [
              0.5555555555555556,
              "#d8576b"
             ],
             [
              0.6666666666666666,
              "#ed7953"
             ],
             [
              0.7777777777777778,
              "#fb9f3a"
             ],
             [
              0.8888888888888888,
              "#fdca26"
             ],
             [
              1,
              "#f0f921"
             ]
            ],
            "type": "histogram2dcontour"
           }
          ],
          "mesh3d": [
           {
            "colorbar": {
             "outlinewidth": 0,
             "ticks": ""
            },
            "type": "mesh3d"
           }
          ],
          "parcoords": [
           {
            "line": {
             "colorbar": {
              "outlinewidth": 0,
              "ticks": ""
             }
            },
            "type": "parcoords"
           }
          ],
          "pie": [
           {
            "automargin": true,
            "type": "pie"
           }
          ],
          "scatter": [
           {
            "fillpattern": {
             "fillmode": "overlay",
             "size": 10,
             "solidity": 0.2
            },
            "type": "scatter"
           }
          ],
          "scatter3d": [
           {
            "line": {
             "colorbar": {
              "outlinewidth": 0,
              "ticks": ""
             }
            },
            "marker": {
             "colorbar": {
              "outlinewidth": 0,
              "ticks": ""
             }
            },
            "type": "scatter3d"
           }
          ],
          "scattercarpet": [
           {
            "marker": {
             "colorbar": {
              "outlinewidth": 0,
              "ticks": ""
             }
            },
            "type": "scattercarpet"
           }
          ],
          "scattergeo": [
           {
            "marker": {
             "colorbar": {
              "outlinewidth": 0,
              "ticks": ""
             }
            },
            "type": "scattergeo"
           }
          ],
          "scattergl": [
           {
            "marker": {
             "colorbar": {
              "outlinewidth": 0,
              "ticks": ""
             }
            },
            "type": "scattergl"
           }
          ],
          "scattermapbox": [
           {
            "marker": {
             "colorbar": {
              "outlinewidth": 0,
              "ticks": ""
             }
            },
            "type": "scattermapbox"
           }
          ],
          "scatterpolar": [
           {
            "marker": {
             "colorbar": {
              "outlinewidth": 0,
              "ticks": ""
             }
            },
            "type": "scatterpolar"
           }
          ],
          "scatterpolargl": [
           {
            "marker": {
             "colorbar": {
              "outlinewidth": 0,
              "ticks": ""
             }
            },
            "type": "scatterpolargl"
           }
          ],
          "scatterternary": [
           {
            "marker": {
             "colorbar": {
              "outlinewidth": 0,
              "ticks": ""
             }
            },
            "type": "scatterternary"
           }
          ],
          "surface": [
           {
            "colorbar": {
             "outlinewidth": 0,
             "ticks": ""
            },
            "colorscale": [
             [
              0,
              "#0d0887"
             ],
             [
              0.1111111111111111,
              "#46039f"
             ],
             [
              0.2222222222222222,
              "#7201a8"
             ],
             [
              0.3333333333333333,
              "#9c179e"
             ],
             [
              0.4444444444444444,
              "#bd3786"
             ],
             [
              0.5555555555555556,
              "#d8576b"
             ],
             [
              0.6666666666666666,
              "#ed7953"
             ],
             [
              0.7777777777777778,
              "#fb9f3a"
             ],
             [
              0.8888888888888888,
              "#fdca26"
             ],
             [
              1,
              "#f0f921"
             ]
            ],
            "type": "surface"
           }
          ],
          "table": [
           {
            "cells": {
             "fill": {
              "color": "#EBF0F8"
             },
             "line": {
              "color": "white"
             }
            },
            "header": {
             "fill": {
              "color": "#C8D4E3"
             },
             "line": {
              "color": "white"
             }
            },
            "type": "table"
           }
          ]
         },
         "layout": {
          "annotationdefaults": {
           "arrowcolor": "#2a3f5f",
           "arrowhead": 0,
           "arrowwidth": 1
          },
          "autotypenumbers": "strict",
          "coloraxis": {
           "colorbar": {
            "outlinewidth": 0,
            "ticks": ""
           }
          },
          "colorscale": {
           "diverging": [
            [
             0,
             "#8e0152"
            ],
            [
             0.1,
             "#c51b7d"
            ],
            [
             0.2,
             "#de77ae"
            ],
            [
             0.3,
             "#f1b6da"
            ],
            [
             0.4,
             "#fde0ef"
            ],
            [
             0.5,
             "#f7f7f7"
            ],
            [
             0.6,
             "#e6f5d0"
            ],
            [
             0.7,
             "#b8e186"
            ],
            [
             0.8,
             "#7fbc41"
            ],
            [
             0.9,
             "#4d9221"
            ],
            [
             1,
             "#276419"
            ]
           ],
           "sequential": [
            [
             0,
             "#0d0887"
            ],
            [
             0.1111111111111111,
             "#46039f"
            ],
            [
             0.2222222222222222,
             "#7201a8"
            ],
            [
             0.3333333333333333,
             "#9c179e"
            ],
            [
             0.4444444444444444,
             "#bd3786"
            ],
            [
             0.5555555555555556,
             "#d8576b"
            ],
            [
             0.6666666666666666,
             "#ed7953"
            ],
            [
             0.7777777777777778,
             "#fb9f3a"
            ],
            [
             0.8888888888888888,
             "#fdca26"
            ],
            [
             1,
             "#f0f921"
            ]
           ],
           "sequentialminus": [
            [
             0,
             "#0d0887"
            ],
            [
             0.1111111111111111,
             "#46039f"
            ],
            [
             0.2222222222222222,
             "#7201a8"
            ],
            [
             0.3333333333333333,
             "#9c179e"
            ],
            [
             0.4444444444444444,
             "#bd3786"
            ],
            [
             0.5555555555555556,
             "#d8576b"
            ],
            [
             0.6666666666666666,
             "#ed7953"
            ],
            [
             0.7777777777777778,
             "#fb9f3a"
            ],
            [
             0.8888888888888888,
             "#fdca26"
            ],
            [
             1,
             "#f0f921"
            ]
           ]
          },
          "colorway": [
           "#636efa",
           "#EF553B",
           "#00cc96",
           "#ab63fa",
           "#FFA15A",
           "#19d3f3",
           "#FF6692",
           "#B6E880",
           "#FF97FF",
           "#FECB52"
          ],
          "font": {
           "color": "#2a3f5f"
          },
          "geo": {
           "bgcolor": "white",
           "lakecolor": "white",
           "landcolor": "#E5ECF6",
           "showlakes": true,
           "showland": true,
           "subunitcolor": "white"
          },
          "hoverlabel": {
           "align": "left"
          },
          "hovermode": "closest",
          "mapbox": {
           "style": "light"
          },
          "paper_bgcolor": "white",
          "plot_bgcolor": "#E5ECF6",
          "polar": {
           "angularaxis": {
            "gridcolor": "white",
            "linecolor": "white",
            "ticks": ""
           },
           "bgcolor": "#E5ECF6",
           "radialaxis": {
            "gridcolor": "white",
            "linecolor": "white",
            "ticks": ""
           }
          },
          "scene": {
           "xaxis": {
            "backgroundcolor": "#E5ECF6",
            "gridcolor": "white",
            "gridwidth": 2,
            "linecolor": "white",
            "showbackground": true,
            "ticks": "",
            "zerolinecolor": "white"
           },
           "yaxis": {
            "backgroundcolor": "#E5ECF6",
            "gridcolor": "white",
            "gridwidth": 2,
            "linecolor": "white",
            "showbackground": true,
            "ticks": "",
            "zerolinecolor": "white"
           },
           "zaxis": {
            "backgroundcolor": "#E5ECF6",
            "gridcolor": "white",
            "gridwidth": 2,
            "linecolor": "white",
            "showbackground": true,
            "ticks": "",
            "zerolinecolor": "white"
           }
          },
          "shapedefaults": {
           "line": {
            "color": "#2a3f5f"
           }
          },
          "ternary": {
           "aaxis": {
            "gridcolor": "white",
            "linecolor": "white",
            "ticks": ""
           },
           "baxis": {
            "gridcolor": "white",
            "linecolor": "white",
            "ticks": ""
           },
           "bgcolor": "#E5ECF6",
           "caxis": {
            "gridcolor": "white",
            "linecolor": "white",
            "ticks": ""
           }
          },
          "title": {
           "x": 0.05
          },
          "xaxis": {
           "automargin": true,
           "gridcolor": "white",
           "linecolor": "white",
           "ticks": "",
           "title": {
            "standoff": 15
           },
           "zerolinecolor": "white",
           "zerolinewidth": 2
          },
          "yaxis": {
           "automargin": true,
           "gridcolor": "white",
           "linecolor": "white",
           "ticks": "",
           "title": {
            "standoff": 15
           },
           "zerolinecolor": "white",
           "zerolinewidth": 2
          }
         }
        },
        "title": {
         "font": {
          "size": 15
         },
         "text": "Hopper-v1",
         "x": 0.53
        },
        "width": 500,
        "xaxis": {
         "anchor": "y",
         "domain": [
          0,
          1
         ],
         "gridcolor": "lightgrey",
         "linecolor": "black",
         "mirror": true,
         "showline": true,
         "ticks": "outside",
         "title": {
          "text": "Iteration"
         }
        },
        "yaxis": {
         "anchor": "x",
         "domain": [
          0,
          1
         ],
         "gridcolor": "lightgrey",
         "linecolor": "black",
         "mirror": true,
         "showline": true,
         "ticks": "outside",
         "title": {
          "text": "reward stddev"
         }
        }
       }
      },
      "text/html": [
       "<div>                            <div id=\"376d4458-a7ca-402a-9d5b-39349afe3b4c\" class=\"plotly-graph-div\" style=\"height:400px; width:500px;\"></div>            <script type=\"text/javascript\">                require([\"plotly\"], function(Plotly) {                    window.PLOTLYENV=window.PLOTLYENV || {};                                    if (document.getElementById(\"376d4458-a7ca-402a-9d5b-39349afe3b4c\")) {                    Plotly.newPlot(                        \"376d4458-a7ca-402a-9d5b-39349afe3b4c\",                        [{\"hovertemplate\":\"one_sided=False\\u003cbr\\u003eIteration=%{x}\\u003cbr\\u003eAverageReward=%{y}\\u003cextra\\u003e\\u003c\\u002fextra\\u003e\",\"legendgroup\":\"False\",\"line\":{\"color\":\"#636efa\",\"dash\":\"solid\"},\"marker\":{\"symbol\":\"circle\"},\"mode\":\"lines\",\"name\":\"False\",\"orientation\":\"v\",\"showlegend\":true,\"x\":[10,20,30,40,50,60,70,80,90,100,110,120,130,140,150,160,170,180,190,200,210,220,230,240,250,260,270,280,290,300,310,320,330,340,350,360,370,380,390,400,410,420,430,440,450,460,470,480,490,500,510,520,530,540,550,560,570,580,590,600,610,620,630,640,650,660,670,680,690,700,710,720,730,740,750,760,770,780,790,800,810,820,830,840,850,860,870,880,890,900,910,920,930,940,950,960,970,980,990,1000],\"xaxis\":\"x\",\"y\":[387.68289381398495,783.8403877384367,938.3530023008053,1020.8274953425566,1018.9797633341645,1033.5346379969844,994.5066532302238,1005.8213432708154,985.4332278949297,937.5051978982185,968.0039174405678,962.1782958995489,981.7297472257351,891.8472201558887,906.8534106932747,898.4502246590432,861.2700532861669,850.4843428765985,925.5146495440991,911.2227907718058,806.7941977646228,878.8527352089676,817.6563206432243,920.8623945627313,915.8337960631147,851.2443495362708,820.4102878262117,766.9463949193967,773.3169317912408,908.5659432909878,881.4373165659127,853.0571662573627,835.5363145430229,841.6984706564389,820.805018167339,780.8293944952312,793.9851705622484,812.2237418874828,789.8624027251208,852.3247156288807,841.5358404456387,732.3502647087419,691.4744659164545,833.3678228005772,843.4920549506639,781.1696088415238,738.1063675864452,788.5660704628401,793.7804264298642,736.4322108470616,842.3151447772561,768.6457454132792,749.566760798548,814.8107220715727,808.5611753650976,872.3629816269327,850.0549431258786,730.4540736252048,753.6706716337399,814.0397555651296,722.3859022513774,763.3047963645874,781.0157606112998,855.9048116906886,877.9253705380663,689.3035084554489,733.5248879727357,760.0688870679811,764.2078649556966,801.7946059866055,817.5581724536862,843.9966730212126,774.7980989059882,771.5334181241636,810.0199832814317,747.1358599353006,850.9556996197365,786.3765605153526,831.724448212144,792.6327612928721,911.7220188172474,786.8953962735851,769.5098673144633,775.8655310092746,762.775964832284,724.4451039594026,723.5950617179718,777.3260312397696,858.2364609745549,813.3169376839868,726.9008552117115,820.5926815143586,876.1524029334687,855.8001332425963,698.7915474669385,801.2205322272067,782.6767102667177,755.8779909484853,794.8686414542102,807.7182982090634],\"yaxis\":\"y\",\"type\":\"scatter\"},{\"hovertemplate\":\"one_sided=True\\u003cbr\\u003eIteration=%{x}\\u003cbr\\u003eAverageReward=%{y}\\u003cextra\\u003e\\u003c\\u002fextra\\u003e\",\"legendgroup\":\"True\",\"line\":{\"color\":\"#EF553B\",\"dash\":\"solid\"},\"marker\":{\"symbol\":\"circle\"},\"mode\":\"lines\",\"name\":\"True\",\"orientation\":\"v\",\"showlegend\":true,\"x\":[10,20,30,40,50,60,70,80,90,100,110,120,130,140,150,160,170,180,190,200,210,220,230,240,250,260,270,280,290,300,310,320,330,340,350,360,370,380,390,400,410,420,430,440,450,460,470,480,490,500,510,520,530,540,550,560,570,580,590,600,610,620,630,640,650,660,670,680,690,700,710,720,730,740,750,760,770,780,790,800,810,820,830,840,850,860,870,880,890,900,910,920,930,940,950,960,970,980,990,1000],\"xaxis\":\"x\",\"y\":[91.79359565718735,368.65547660927734,321.17462439909855,269.906046354605,311.595845220676,311.27556169397315,295.02324054863743,579.5786828414247,879.5166787834676,836.9846557516654,761.3699528659923,747.990209409252,766.0579402119537,914.1481593310303,877.6036255573562,825.1223988109662,785.7427447611472,805.487870443444,804.8964501131198,797.3556062473476,710.3631725916699,849.5334257551361,862.2321255416553,793.2520555774413,774.6929622695106,730.4168427631905,801.3998680222605,814.2587031882506,844.9833656049984,874.3871468905436,871.5721315072358,819.6228184476948,776.1032471414243,784.5984405230507,773.7459670502379,771.0637961960861,808.2168126170252,808.3017984979266,815.7638831444276,863.4901744874168,825.885299414777,807.2226221053602,825.6806466086625,765.2182621015422,868.5716006292303,802.7862771844964,757.8691853319199,835.3487890904329,798.2798989765663,793.6598018614814,682.8835813556716,772.5078943443425,772.3907334044271,740.5328286622672,776.5477397309342,725.9635492435984,764.4696965648977,685.2588559260818,797.9729081218858,765.1740965259218,704.3571278056114,766.7520443237427,743.2738038685422,672.5466131413847,732.3431587255423,781.8738406660392,752.5032296110874,755.3027757837732,782.959273238515,751.3841595111106,791.504562430795,717.919149120853,696.6870074635325,753.0763040135604,736.8321497895367,724.608896275732,775.5714826211325,829.4858453593026,826.6102994409098,765.7523943509352,748.6758813716694,738.3133042720056,785.7012124235498,821.5247906161751,762.2631511645715,846.7668499574207,781.0767160189752,775.9563831452786,757.7732318406947,849.6147924076809,841.2411939188871,767.1034486881285,815.9941505454594,893.8419673248626,879.5403973425239,858.439985086847,905.4373250550844,895.4566372191778,910.3989474608528,926.9187650234625],\"yaxis\":\"y\",\"type\":\"scatter\"}],                        {\"template\":{\"data\":{\"histogram2dcontour\":[{\"type\":\"histogram2dcontour\",\"colorbar\":{\"outlinewidth\":0,\"ticks\":\"\"},\"colorscale\":[[0.0,\"#0d0887\"],[0.1111111111111111,\"#46039f\"],[0.2222222222222222,\"#7201a8\"],[0.3333333333333333,\"#9c179e\"],[0.4444444444444444,\"#bd3786\"],[0.5555555555555556,\"#d8576b\"],[0.6666666666666666,\"#ed7953\"],[0.7777777777777778,\"#fb9f3a\"],[0.8888888888888888,\"#fdca26\"],[1.0,\"#f0f921\"]]}],\"choropleth\":[{\"type\":\"choropleth\",\"colorbar\":{\"outlinewidth\":0,\"ticks\":\"\"}}],\"histogram2d\":[{\"type\":\"histogram2d\",\"colorbar\":{\"outlinewidth\":0,\"ticks\":\"\"},\"colorscale\":[[0.0,\"#0d0887\"],[0.1111111111111111,\"#46039f\"],[0.2222222222222222,\"#7201a8\"],[0.3333333333333333,\"#9c179e\"],[0.4444444444444444,\"#bd3786\"],[0.5555555555555556,\"#d8576b\"],[0.6666666666666666,\"#ed7953\"],[0.7777777777777778,\"#fb9f3a\"],[0.8888888888888888,\"#fdca26\"],[1.0,\"#f0f921\"]]}],\"heatmap\":[{\"type\":\"heatmap\",\"colorbar\":{\"outlinewidth\":0,\"ticks\":\"\"},\"colorscale\":[[0.0,\"#0d0887\"],[0.1111111111111111,\"#46039f\"],[0.2222222222222222,\"#7201a8\"],[0.3333333333333333,\"#9c179e\"],[0.4444444444444444,\"#bd3786\"],[0.5555555555555556,\"#d8576b\"],[0.6666666666666666,\"#ed7953\"],[0.7777777777777778,\"#fb9f3a\"],[0.8888888888888888,\"#fdca26\"],[1.0,\"#f0f921\"]]}],\"heatmapgl\":[{\"type\":\"heatmapgl\",\"colorbar\":{\"outlinewidth\":0,\"ticks\":\"\"},\"colorscale\":[[0.0,\"#0d0887\"],[0.1111111111111111,\"#46039f\"],[0.2222222222222222,\"#7201a8\"],[0.3333333333333333,\"#9c179e\"],[0.4444444444444444,\"#bd3786\"],[0.5555555555555556,\"#d8576b\"],[0.6666666666666666,\"#ed7953\"],[0.7777777777777778,\"#fb9f3a\"],[0.8888888888888888,\"#fdca26\"],[1.0,\"#f0f921\"]]}],\"contourcarpet\":[{\"type\":\"contourcarpet\",\"colorbar\":{\"outlinewidth\":0,\"ticks\":\"\"}}],\"contour\":[{\"type\":\"contour\",\"colorbar\":{\"outlinewidth\":0,\"ticks\":\"\"},\"colorscale\":[[0.0,\"#0d0887\"],[0.1111111111111111,\"#46039f\"],[0.2222222222222222,\"#7201a8\"],[0.3333333333333333,\"#9c179e\"],[0.4444444444444444,\"#bd3786\"],[0.5555555555555556,\"#d8576b\"],[0.6666666666666666,\"#ed7953\"],[0.7777777777777778,\"#fb9f3a\"],[0.8888888888888888,\"#fdca26\"],[1.0,\"#f0f921\"]]}],\"surface\":[{\"type\":\"surface\",\"colorbar\":{\"outlinewidth\":0,\"ticks\":\"\"},\"colorscale\":[[0.0,\"#0d0887\"],[0.1111111111111111,\"#46039f\"],[0.2222222222222222,\"#7201a8\"],[0.3333333333333333,\"#9c179e\"],[0.4444444444444444,\"#bd3786\"],[0.5555555555555556,\"#d8576b\"],[0.6666666666666666,\"#ed7953\"],[0.7777777777777778,\"#fb9f3a\"],[0.8888888888888888,\"#fdca26\"],[1.0,\"#f0f921\"]]}],\"mesh3d\":[{\"type\":\"mesh3d\",\"colorbar\":{\"outlinewidth\":0,\"ticks\":\"\"}}],\"scatter\":[{\"fillpattern\":{\"fillmode\":\"overlay\",\"size\":10,\"solidity\":0.2},\"type\":\"scatter\"}],\"parcoords\":[{\"type\":\"parcoords\",\"line\":{\"colorbar\":{\"outlinewidth\":0,\"ticks\":\"\"}}}],\"scatterpolargl\":[{\"type\":\"scatterpolargl\",\"marker\":{\"colorbar\":{\"outlinewidth\":0,\"ticks\":\"\"}}}],\"bar\":[{\"error_x\":{\"color\":\"#2a3f5f\"},\"error_y\":{\"color\":\"#2a3f5f\"},\"marker\":{\"line\":{\"color\":\"#E5ECF6\",\"width\":0.5},\"pattern\":{\"fillmode\":\"overlay\",\"size\":10,\"solidity\":0.2}},\"type\":\"bar\"}],\"scattergeo\":[{\"type\":\"scattergeo\",\"marker\":{\"colorbar\":{\"outlinewidth\":0,\"ticks\":\"\"}}}],\"scatterpolar\":[{\"type\":\"scatterpolar\",\"marker\":{\"colorbar\":{\"outlinewidth\":0,\"ticks\":\"\"}}}],\"histogram\":[{\"marker\":{\"pattern\":{\"fillmode\":\"overlay\",\"size\":10,\"solidity\":0.2}},\"type\":\"histogram\"}],\"scattergl\":[{\"type\":\"scattergl\",\"marker\":{\"colorbar\":{\"outlinewidth\":0,\"ticks\":\"\"}}}],\"scatter3d\":[{\"type\":\"scatter3d\",\"line\":{\"colorbar\":{\"outlinewidth\":0,\"ticks\":\"\"}},\"marker\":{\"colorbar\":{\"outlinewidth\":0,\"ticks\":\"\"}}}],\"scattermapbox\":[{\"type\":\"scattermapbox\",\"marker\":{\"colorbar\":{\"outlinewidth\":0,\"ticks\":\"\"}}}],\"scatterternary\":[{\"type\":\"scatterternary\",\"marker\":{\"colorbar\":{\"outlinewidth\":0,\"ticks\":\"\"}}}],\"scattercarpet\":[{\"type\":\"scattercarpet\",\"marker\":{\"colorbar\":{\"outlinewidth\":0,\"ticks\":\"\"}}}],\"carpet\":[{\"aaxis\":{\"endlinecolor\":\"#2a3f5f\",\"gridcolor\":\"white\",\"linecolor\":\"white\",\"minorgridcolor\":\"white\",\"startlinecolor\":\"#2a3f5f\"},\"baxis\":{\"endlinecolor\":\"#2a3f5f\",\"gridcolor\":\"white\",\"linecolor\":\"white\",\"minorgridcolor\":\"white\",\"startlinecolor\":\"#2a3f5f\"},\"type\":\"carpet\"}],\"table\":[{\"cells\":{\"fill\":{\"color\":\"#EBF0F8\"},\"line\":{\"color\":\"white\"}},\"header\":{\"fill\":{\"color\":\"#C8D4E3\"},\"line\":{\"color\":\"white\"}},\"type\":\"table\"}],\"barpolar\":[{\"marker\":{\"line\":{\"color\":\"#E5ECF6\",\"width\":0.5},\"pattern\":{\"fillmode\":\"overlay\",\"size\":10,\"solidity\":0.2}},\"type\":\"barpolar\"}],\"pie\":[{\"automargin\":true,\"type\":\"pie\"}]},\"layout\":{\"autotypenumbers\":\"strict\",\"colorway\":[\"#636efa\",\"#EF553B\",\"#00cc96\",\"#ab63fa\",\"#FFA15A\",\"#19d3f3\",\"#FF6692\",\"#B6E880\",\"#FF97FF\",\"#FECB52\"],\"font\":{\"color\":\"#2a3f5f\"},\"hovermode\":\"closest\",\"hoverlabel\":{\"align\":\"left\"},\"paper_bgcolor\":\"white\",\"plot_bgcolor\":\"#E5ECF6\",\"polar\":{\"bgcolor\":\"#E5ECF6\",\"angularaxis\":{\"gridcolor\":\"white\",\"linecolor\":\"white\",\"ticks\":\"\"},\"radialaxis\":{\"gridcolor\":\"white\",\"linecolor\":\"white\",\"ticks\":\"\"}},\"ternary\":{\"bgcolor\":\"#E5ECF6\",\"aaxis\":{\"gridcolor\":\"white\",\"linecolor\":\"white\",\"ticks\":\"\"},\"baxis\":{\"gridcolor\":\"white\",\"linecolor\":\"white\",\"ticks\":\"\"},\"caxis\":{\"gridcolor\":\"white\",\"linecolor\":\"white\",\"ticks\":\"\"}},\"coloraxis\":{\"colorbar\":{\"outlinewidth\":0,\"ticks\":\"\"}},\"colorscale\":{\"sequential\":[[0.0,\"#0d0887\"],[0.1111111111111111,\"#46039f\"],[0.2222222222222222,\"#7201a8\"],[0.3333333333333333,\"#9c179e\"],[0.4444444444444444,\"#bd3786\"],[0.5555555555555556,\"#d8576b\"],[0.6666666666666666,\"#ed7953\"],[0.7777777777777778,\"#fb9f3a\"],[0.8888888888888888,\"#fdca26\"],[1.0,\"#f0f921\"]],\"sequentialminus\":[[0.0,\"#0d0887\"],[0.1111111111111111,\"#46039f\"],[0.2222222222222222,\"#7201a8\"],[0.3333333333333333,\"#9c179e\"],[0.4444444444444444,\"#bd3786\"],[0.5555555555555556,\"#d8576b\"],[0.6666666666666666,\"#ed7953\"],[0.7777777777777778,\"#fb9f3a\"],[0.8888888888888888,\"#fdca26\"],[1.0,\"#f0f921\"]],\"diverging\":[[0,\"#8e0152\"],[0.1,\"#c51b7d\"],[0.2,\"#de77ae\"],[0.3,\"#f1b6da\"],[0.4,\"#fde0ef\"],[0.5,\"#f7f7f7\"],[0.6,\"#e6f5d0\"],[0.7,\"#b8e186\"],[0.8,\"#7fbc41\"],[0.9,\"#4d9221\"],[1,\"#276419\"]]},\"xaxis\":{\"gridcolor\":\"white\",\"linecolor\":\"white\",\"ticks\":\"\",\"title\":{\"standoff\":15},\"zerolinecolor\":\"white\",\"automargin\":true,\"zerolinewidth\":2},\"yaxis\":{\"gridcolor\":\"white\",\"linecolor\":\"white\",\"ticks\":\"\",\"title\":{\"standoff\":15},\"zerolinecolor\":\"white\",\"automargin\":true,\"zerolinewidth\":2},\"scene\":{\"xaxis\":{\"backgroundcolor\":\"#E5ECF6\",\"gridcolor\":\"white\",\"linecolor\":\"white\",\"showbackground\":true,\"ticks\":\"\",\"zerolinecolor\":\"white\",\"gridwidth\":2},\"yaxis\":{\"backgroundcolor\":\"#E5ECF6\",\"gridcolor\":\"white\",\"linecolor\":\"white\",\"showbackground\":true,\"ticks\":\"\",\"zerolinecolor\":\"white\",\"gridwidth\":2},\"zaxis\":{\"backgroundcolor\":\"#E5ECF6\",\"gridcolor\":\"white\",\"linecolor\":\"white\",\"showbackground\":true,\"ticks\":\"\",\"zerolinecolor\":\"white\",\"gridwidth\":2}},\"shapedefaults\":{\"line\":{\"color\":\"#2a3f5f\"}},\"annotationdefaults\":{\"arrowcolor\":\"#2a3f5f\",\"arrowhead\":0,\"arrowwidth\":1},\"geo\":{\"bgcolor\":\"white\",\"landcolor\":\"#E5ECF6\",\"subunitcolor\":\"white\",\"showland\":true,\"showlakes\":true,\"lakecolor\":\"white\"},\"title\":{\"x\":0.05},\"mapbox\":{\"style\":\"light\"}}},\"xaxis\":{\"anchor\":\"y\",\"domain\":[0.0,1.0],\"title\":{\"text\":\"Iteration\"},\"mirror\":true,\"ticks\":\"outside\",\"showline\":true,\"linecolor\":\"black\",\"gridcolor\":\"lightgrey\"},\"yaxis\":{\"anchor\":\"x\",\"domain\":[0.0,1.0],\"title\":{\"text\":\"reward stddev\"},\"mirror\":true,\"ticks\":\"outside\",\"showline\":true,\"linecolor\":\"black\",\"gridcolor\":\"lightgrey\"},\"legend\":{\"title\":{\"text\":\"one_sided\"},\"tracegroupgap\":0,\"yanchor\":\"bottom\",\"y\":0.01,\"xanchor\":\"right\",\"x\":0.99},\"margin\":{\"t\":50,\"l\":20,\"r\":20,\"b\":20},\"title\":{\"font\":{\"size\":15},\"text\":\"Hopper-v1\",\"x\":0.53},\"autosize\":false,\"plot_bgcolor\":\"white\",\"width\":500,\"height\":400},                        {\"responsive\": true}                    ).then(function(){\n",
       "                            \n",
       "var gd = document.getElementById('376d4458-a7ca-402a-9d5b-39349afe3b4c');\n",
       "var x = new MutationObserver(function (mutations, observer) {{\n",
       "        var display = window.getComputedStyle(gd).display;\n",
       "        if (!display || display === 'none') {{\n",
       "            console.log([gd, 'removed!']);\n",
       "            Plotly.purge(gd);\n",
       "            observer.disconnect();\n",
       "        }}\n",
       "}});\n",
       "\n",
       "// Listen for the removal of the full notebook cells\n",
       "var notebookContainer = gd.closest('#notebook-container');\n",
       "if (notebookContainer) {{\n",
       "    x.observe(notebookContainer, {childList: true});\n",
       "}}\n",
       "\n",
       "// Listen for the clearing of the current output cell\n",
       "var outputEl = gd.closest('.output');\n",
       "if (outputEl) {{\n",
       "    x.observe(outputEl, {childList: true});\n",
       "}}\n",
       "\n",
       "                        })                };                });            </script>        </div>"
      ]
     },
     "metadata": {},
     "output_type": "display_data"
    },
    {
     "data": {
      "application/vnd.plotly.v1+json": {
       "config": {
        "plotlyServerURL": "https://plot.ly"
       },
       "data": [
        {
         "hovertemplate": "one_sided=False<br>Iteration=%{x}<br>AverageReward=%{y}<extra></extra>",
         "legendgroup": "False",
         "line": {
          "color": "#636efa",
          "dash": "solid"
         },
         "marker": {
          "symbol": "circle"
         },
         "mode": "lines",
         "name": "False",
         "orientation": "v",
         "showlegend": true,
         "type": "scatter",
         "x": [
          10,
          20,
          30,
          40,
          50,
          60,
          70,
          80,
          90,
          100,
          110,
          120,
          130,
          140,
          150,
          160,
          170,
          180,
          190,
          200,
          210,
          220,
          230,
          240,
          250,
          260,
          270,
          280,
          290,
          300,
          310,
          320,
          330,
          340,
          350,
          360,
          370,
          380,
          390,
          400,
          410,
          420,
          430,
          440,
          450,
          460,
          470,
          480,
          490,
          500,
          510,
          520,
          530,
          540,
          550,
          560,
          570,
          580,
          590,
          600,
          610,
          620,
          630,
          640,
          650,
          660,
          670,
          680,
          690,
          700,
          710,
          720,
          730,
          740,
          750,
          760,
          770,
          780,
          790,
          800,
          810,
          820,
          830,
          840,
          850,
          860,
          870,
          880,
          890,
          900,
          910,
          920,
          930,
          940,
          950,
          960,
          970,
          980,
          990,
          1000
         ],
         "xaxis": "x",
         "y": [
          71.86845744045635,
          89.3490376802806,
          74.80519970932681,
          64.44401323835757,
          47.38186084742836,
          47.049221187574624,
          49.83716968475818,
          50.37454411721563,
          62.08434557506251,
          71.85555464761015,
          89.48506064613903,
          148.68816857466962,
          124.84070937573522,
          165.07987597470117,
          279.1151619522187,
          309.9150125310318,
          701.7585191243619,
          797.2544664012332,
          810.2740684764382,
          1214.9273700640533,
          1602.2981505419018,
          1706.9762527828289,
          1728.048849476983,
          1754.6780158312913,
          1836.059220579787,
          1892.5516591899811,
          2009.3567776421532,
          2110.037884559683,
          2158.798857679479,
          2227.691868701959,
          2417.201644280359,
          2409.017651533513,
          2434.960833850117,
          2448.01233412115,
          2449.000894431823,
          2488.2966393166057,
          2580.722743488803,
          2612.525112092419,
          2623.2315007853686,
          2620.7517022463962,
          2599.9651708490824,
          2636.245120452748,
          2592.8457886045308,
          2624.1612673426107,
          2636.2704352844708,
          2607.696742934041,
          2598.0988775103187,
          2566.038531080101,
          2598.4721839942777,
          2626.177737567456,
          2593.570869673138,
          2585.009246375343,
          2604.0528089879217,
          2624.5180912656137,
          2628.0970851326315,
          2629.1572186849394,
          2648.9628983526877,
          2658.7140826845794,
          2620.8748102744685,
          2612.1979461620476,
          2624.252552691127,
          2636.690387979673,
          2610.7586727640473,
          2568.7345934007562,
          2594.6420079286186,
          2593.8156732197867,
          2588.662901767902,
          2592.876806272599,
          2580.436623071456,
          2586.178112761101,
          2538.929991588466,
          2556.401878284183,
          2560.5320401753174,
          2564.4819107844733,
          2583.4008702792244,
          2575.591049576802,
          2565.395791947077,
          2581.2695324733754,
          2593.268842405966,
          2595.0465830395387,
          2600.90848706361,
          2569.402526840547,
          2585.5332780480953,
          2585.007811254059,
          2589.013176445919,
          2564.612787299839,
          2577.173110159951,
          2677.612961623395,
          2586.7035561508546,
          2629.9870285644406,
          2606.921850462381,
          2615.473396503612,
          2697.16434411864,
          2642.105367543441,
          2645.981837496269,
          2655.602739486254,
          2649.844239007512,
          2670.805926042743,
          2663.963679764142,
          2669.546896697083
         ],
         "yaxis": "y"
        },
        {
         "hovertemplate": "one_sided=True<br>Iteration=%{x}<br>AverageReward=%{y}<extra></extra>",
         "legendgroup": "True",
         "line": {
          "color": "#EF553B",
          "dash": "solid"
         },
         "marker": {
          "symbol": "circle"
         },
         "mode": "lines",
         "name": "True",
         "orientation": "v",
         "showlegend": true,
         "type": "scatter",
         "x": [
          10,
          20,
          30,
          40,
          50,
          60,
          70,
          80,
          90,
          100,
          110,
          120,
          130,
          140,
          150,
          160,
          170,
          180,
          190,
          200,
          210,
          220,
          230,
          240,
          250,
          260,
          270,
          280,
          290,
          300,
          310,
          320,
          330,
          340,
          350,
          360,
          370,
          380,
          390,
          400,
          410,
          420,
          430,
          440,
          450,
          460,
          470,
          480,
          490,
          500,
          510,
          520,
          530,
          540,
          550,
          560,
          570,
          580,
          590,
          600,
          610,
          620,
          630,
          640,
          650,
          660,
          670,
          680,
          690,
          700,
          710,
          720,
          730,
          740,
          750,
          760,
          770,
          780,
          790,
          800,
          810,
          820,
          830,
          840,
          850,
          860,
          870,
          880,
          890,
          900,
          910,
          920,
          930,
          940,
          950,
          960,
          970,
          980,
          990,
          1000
         ],
         "xaxis": "x",
         "y": [
          120.36318906768975,
          132.5381650242308,
          155.63875156068812,
          156.4618070030902,
          193.8514853851733,
          189.26428903154823,
          204.20588565973065,
          200.40543275417454,
          252.43946908864854,
          316.51491493614657,
          330.0728068543048,
          414.3485302246991,
          378.9594076680777,
          368.38926105474263,
          691.0095626091171,
          466.6342176916274,
          536.4664472611015,
          655.1707356686759,
          786.1482645358916,
          933.6681523611926,
          876.7917722084235,
          979.2762975486235,
          987.0264597649192,
          971.0320773001947,
          1004.938798354137,
          1067.3596205576196,
          1162.3133376799872,
          1092.9660975684135,
          1114.1917745276232,
          1041.8762830323328,
          1076.3238657145048,
          1056.298682076138,
          1095.4992245711203,
          1061.173961388818,
          1100.4284875965834,
          1149.93725933889,
          1149.863067085122,
          951.2350473309334,
          1237.9436464108267,
          1328.6122400123302,
          1172.681340560124,
          1304.2548238181807,
          1121.1368927653489,
          1116.1589395241242,
          1208.0757003536216,
          1311.5867965740379,
          1381.7803394471825,
          1560.2476088152193,
          1544.6179879194904,
          1472.681437702099,
          1585.5944644311699,
          1652.1169662703835,
          1664.6018970904663,
          1678.2493478668514,
          1727.9063178448457,
          1822.8251981655544,
          1842.9881729586737,
          1958.3469422830246,
          1912.8150976275012,
          1921.5148971331992,
          2009.4361799706967,
          2134.1312386852096,
          2274.176327342558,
          2198.3444913256144,
          3093.6836200738944,
          2923.944101081036,
          2803.5656815470757,
          3434.5949104988454,
          3661.3981587642675,
          3449.6096174467825,
          3446.1961881520324,
          3630.260232632656,
          3471.979566070303,
          2465.641064604736,
          2678.8243983736115,
          2929.030214458873,
          2842.643612639853,
          2952.8944233360708,
          3465.6040301019066,
          3778.0283610619954,
          3554.310034428678,
          3639.7568517364225,
          3940.0047435374568,
          4259.864557568347,
          3956.698484852647,
          4117.961235153108,
          4347.864817382876,
          4327.281740480634,
          4276.887539826851,
          4290.4366736221245,
          4368.917795856118,
          4854.685690903538,
          4906.787440274184,
          4834.374386600985,
          4926.411520073995,
          5184.765886235138,
          5193.765068501029,
          5283.6183875607285,
          5246.089132749353,
          4978.489511001725
         ],
         "yaxis": "y"
        }
       ],
       "layout": {
        "autosize": false,
        "height": 400,
        "legend": {
         "title": {
          "text": "one_sided"
         },
         "tracegroupgap": 0,
         "x": 0.99,
         "xanchor": "right",
         "y": 0.01,
         "yanchor": "bottom"
        },
        "margin": {
         "b": 20,
         "l": 20,
         "r": 20,
         "t": 50
        },
        "plot_bgcolor": "white",
        "template": {
         "data": {
          "bar": [
           {
            "error_x": {
             "color": "#2a3f5f"
            },
            "error_y": {
             "color": "#2a3f5f"
            },
            "marker": {
             "line": {
              "color": "#E5ECF6",
              "width": 0.5
             },
             "pattern": {
              "fillmode": "overlay",
              "size": 10,
              "solidity": 0.2
             }
            },
            "type": "bar"
           }
          ],
          "barpolar": [
           {
            "marker": {
             "line": {
              "color": "#E5ECF6",
              "width": 0.5
             },
             "pattern": {
              "fillmode": "overlay",
              "size": 10,
              "solidity": 0.2
             }
            },
            "type": "barpolar"
           }
          ],
          "carpet": [
           {
            "aaxis": {
             "endlinecolor": "#2a3f5f",
             "gridcolor": "white",
             "linecolor": "white",
             "minorgridcolor": "white",
             "startlinecolor": "#2a3f5f"
            },
            "baxis": {
             "endlinecolor": "#2a3f5f",
             "gridcolor": "white",
             "linecolor": "white",
             "minorgridcolor": "white",
             "startlinecolor": "#2a3f5f"
            },
            "type": "carpet"
           }
          ],
          "choropleth": [
           {
            "colorbar": {
             "outlinewidth": 0,
             "ticks": ""
            },
            "type": "choropleth"
           }
          ],
          "contour": [
           {
            "colorbar": {
             "outlinewidth": 0,
             "ticks": ""
            },
            "colorscale": [
             [
              0,
              "#0d0887"
             ],
             [
              0.1111111111111111,
              "#46039f"
             ],
             [
              0.2222222222222222,
              "#7201a8"
             ],
             [
              0.3333333333333333,
              "#9c179e"
             ],
             [
              0.4444444444444444,
              "#bd3786"
             ],
             [
              0.5555555555555556,
              "#d8576b"
             ],
             [
              0.6666666666666666,
              "#ed7953"
             ],
             [
              0.7777777777777778,
              "#fb9f3a"
             ],
             [
              0.8888888888888888,
              "#fdca26"
             ],
             [
              1,
              "#f0f921"
             ]
            ],
            "type": "contour"
           }
          ],
          "contourcarpet": [
           {
            "colorbar": {
             "outlinewidth": 0,
             "ticks": ""
            },
            "type": "contourcarpet"
           }
          ],
          "heatmap": [
           {
            "colorbar": {
             "outlinewidth": 0,
             "ticks": ""
            },
            "colorscale": [
             [
              0,
              "#0d0887"
             ],
             [
              0.1111111111111111,
              "#46039f"
             ],
             [
              0.2222222222222222,
              "#7201a8"
             ],
             [
              0.3333333333333333,
              "#9c179e"
             ],
             [
              0.4444444444444444,
              "#bd3786"
             ],
             [
              0.5555555555555556,
              "#d8576b"
             ],
             [
              0.6666666666666666,
              "#ed7953"
             ],
             [
              0.7777777777777778,
              "#fb9f3a"
             ],
             [
              0.8888888888888888,
              "#fdca26"
             ],
             [
              1,
              "#f0f921"
             ]
            ],
            "type": "heatmap"
           }
          ],
          "heatmapgl": [
           {
            "colorbar": {
             "outlinewidth": 0,
             "ticks": ""
            },
            "colorscale": [
             [
              0,
              "#0d0887"
             ],
             [
              0.1111111111111111,
              "#46039f"
             ],
             [
              0.2222222222222222,
              "#7201a8"
             ],
             [
              0.3333333333333333,
              "#9c179e"
             ],
             [
              0.4444444444444444,
              "#bd3786"
             ],
             [
              0.5555555555555556,
              "#d8576b"
             ],
             [
              0.6666666666666666,
              "#ed7953"
             ],
             [
              0.7777777777777778,
              "#fb9f3a"
             ],
             [
              0.8888888888888888,
              "#fdca26"
             ],
             [
              1,
              "#f0f921"
             ]
            ],
            "type": "heatmapgl"
           }
          ],
          "histogram": [
           {
            "marker": {
             "pattern": {
              "fillmode": "overlay",
              "size": 10,
              "solidity": 0.2
             }
            },
            "type": "histogram"
           }
          ],
          "histogram2d": [
           {
            "colorbar": {
             "outlinewidth": 0,
             "ticks": ""
            },
            "colorscale": [
             [
              0,
              "#0d0887"
             ],
             [
              0.1111111111111111,
              "#46039f"
             ],
             [
              0.2222222222222222,
              "#7201a8"
             ],
             [
              0.3333333333333333,
              "#9c179e"
             ],
             [
              0.4444444444444444,
              "#bd3786"
             ],
             [
              0.5555555555555556,
              "#d8576b"
             ],
             [
              0.6666666666666666,
              "#ed7953"
             ],
             [
              0.7777777777777778,
              "#fb9f3a"
             ],
             [
              0.8888888888888888,
              "#fdca26"
             ],
             [
              1,
              "#f0f921"
             ]
            ],
            "type": "histogram2d"
           }
          ],
          "histogram2dcontour": [
           {
            "colorbar": {
             "outlinewidth": 0,
             "ticks": ""
            },
            "colorscale": [
             [
              0,
              "#0d0887"
             ],
             [
              0.1111111111111111,
              "#46039f"
             ],
             [
              0.2222222222222222,
              "#7201a8"
             ],
             [
              0.3333333333333333,
              "#9c179e"
             ],
             [
              0.4444444444444444,
              "#bd3786"
             ],
             [
              0.5555555555555556,
              "#d8576b"
             ],
             [
              0.6666666666666666,
              "#ed7953"
             ],
             [
              0.7777777777777778,
              "#fb9f3a"
             ],
             [
              0.8888888888888888,
              "#fdca26"
             ],
             [
              1,
              "#f0f921"
             ]
            ],
            "type": "histogram2dcontour"
           }
          ],
          "mesh3d": [
           {
            "colorbar": {
             "outlinewidth": 0,
             "ticks": ""
            },
            "type": "mesh3d"
           }
          ],
          "parcoords": [
           {
            "line": {
             "colorbar": {
              "outlinewidth": 0,
              "ticks": ""
             }
            },
            "type": "parcoords"
           }
          ],
          "pie": [
           {
            "automargin": true,
            "type": "pie"
           }
          ],
          "scatter": [
           {
            "fillpattern": {
             "fillmode": "overlay",
             "size": 10,
             "solidity": 0.2
            },
            "type": "scatter"
           }
          ],
          "scatter3d": [
           {
            "line": {
             "colorbar": {
              "outlinewidth": 0,
              "ticks": ""
             }
            },
            "marker": {
             "colorbar": {
              "outlinewidth": 0,
              "ticks": ""
             }
            },
            "type": "scatter3d"
           }
          ],
          "scattercarpet": [
           {
            "marker": {
             "colorbar": {
              "outlinewidth": 0,
              "ticks": ""
             }
            },
            "type": "scattercarpet"
           }
          ],
          "scattergeo": [
           {
            "marker": {
             "colorbar": {
              "outlinewidth": 0,
              "ticks": ""
             }
            },
            "type": "scattergeo"
           }
          ],
          "scattergl": [
           {
            "marker": {
             "colorbar": {
              "outlinewidth": 0,
              "ticks": ""
             }
            },
            "type": "scattergl"
           }
          ],
          "scattermapbox": [
           {
            "marker": {
             "colorbar": {
              "outlinewidth": 0,
              "ticks": ""
             }
            },
            "type": "scattermapbox"
           }
          ],
          "scatterpolar": [
           {
            "marker": {
             "colorbar": {
              "outlinewidth": 0,
              "ticks": ""
             }
            },
            "type": "scatterpolar"
           }
          ],
          "scatterpolargl": [
           {
            "marker": {
             "colorbar": {
              "outlinewidth": 0,
              "ticks": ""
             }
            },
            "type": "scatterpolargl"
           }
          ],
          "scatterternary": [
           {
            "marker": {
             "colorbar": {
              "outlinewidth": 0,
              "ticks": ""
             }
            },
            "type": "scatterternary"
           }
          ],
          "surface": [
           {
            "colorbar": {
             "outlinewidth": 0,
             "ticks": ""
            },
            "colorscale": [
             [
              0,
              "#0d0887"
             ],
             [
              0.1111111111111111,
              "#46039f"
             ],
             [
              0.2222222222222222,
              "#7201a8"
             ],
             [
              0.3333333333333333,
              "#9c179e"
             ],
             [
              0.4444444444444444,
              "#bd3786"
             ],
             [
              0.5555555555555556,
              "#d8576b"
             ],
             [
              0.6666666666666666,
              "#ed7953"
             ],
             [
              0.7777777777777778,
              "#fb9f3a"
             ],
             [
              0.8888888888888888,
              "#fdca26"
             ],
             [
              1,
              "#f0f921"
             ]
            ],
            "type": "surface"
           }
          ],
          "table": [
           {
            "cells": {
             "fill": {
              "color": "#EBF0F8"
             },
             "line": {
              "color": "white"
             }
            },
            "header": {
             "fill": {
              "color": "#C8D4E3"
             },
             "line": {
              "color": "white"
             }
            },
            "type": "table"
           }
          ]
         },
         "layout": {
          "annotationdefaults": {
           "arrowcolor": "#2a3f5f",
           "arrowhead": 0,
           "arrowwidth": 1
          },
          "autotypenumbers": "strict",
          "coloraxis": {
           "colorbar": {
            "outlinewidth": 0,
            "ticks": ""
           }
          },
          "colorscale": {
           "diverging": [
            [
             0,
             "#8e0152"
            ],
            [
             0.1,
             "#c51b7d"
            ],
            [
             0.2,
             "#de77ae"
            ],
            [
             0.3,
             "#f1b6da"
            ],
            [
             0.4,
             "#fde0ef"
            ],
            [
             0.5,
             "#f7f7f7"
            ],
            [
             0.6,
             "#e6f5d0"
            ],
            [
             0.7,
             "#b8e186"
            ],
            [
             0.8,
             "#7fbc41"
            ],
            [
             0.9,
             "#4d9221"
            ],
            [
             1,
             "#276419"
            ]
           ],
           "sequential": [
            [
             0,
             "#0d0887"
            ],
            [
             0.1111111111111111,
             "#46039f"
            ],
            [
             0.2222222222222222,
             "#7201a8"
            ],
            [
             0.3333333333333333,
             "#9c179e"
            ],
            [
             0.4444444444444444,
             "#bd3786"
            ],
            [
             0.5555555555555556,
             "#d8576b"
            ],
            [
             0.6666666666666666,
             "#ed7953"
            ],
            [
             0.7777777777777778,
             "#fb9f3a"
            ],
            [
             0.8888888888888888,
             "#fdca26"
            ],
            [
             1,
             "#f0f921"
            ]
           ],
           "sequentialminus": [
            [
             0,
             "#0d0887"
            ],
            [
             0.1111111111111111,
             "#46039f"
            ],
            [
             0.2222222222222222,
             "#7201a8"
            ],
            [
             0.3333333333333333,
             "#9c179e"
            ],
            [
             0.4444444444444444,
             "#bd3786"
            ],
            [
             0.5555555555555556,
             "#d8576b"
            ],
            [
             0.6666666666666666,
             "#ed7953"
            ],
            [
             0.7777777777777778,
             "#fb9f3a"
            ],
            [
             0.8888888888888888,
             "#fdca26"
            ],
            [
             1,
             "#f0f921"
            ]
           ]
          },
          "colorway": [
           "#636efa",
           "#EF553B",
           "#00cc96",
           "#ab63fa",
           "#FFA15A",
           "#19d3f3",
           "#FF6692",
           "#B6E880",
           "#FF97FF",
           "#FECB52"
          ],
          "font": {
           "color": "#2a3f5f"
          },
          "geo": {
           "bgcolor": "white",
           "lakecolor": "white",
           "landcolor": "#E5ECF6",
           "showlakes": true,
           "showland": true,
           "subunitcolor": "white"
          },
          "hoverlabel": {
           "align": "left"
          },
          "hovermode": "closest",
          "mapbox": {
           "style": "light"
          },
          "paper_bgcolor": "white",
          "plot_bgcolor": "#E5ECF6",
          "polar": {
           "angularaxis": {
            "gridcolor": "white",
            "linecolor": "white",
            "ticks": ""
           },
           "bgcolor": "#E5ECF6",
           "radialaxis": {
            "gridcolor": "white",
            "linecolor": "white",
            "ticks": ""
           }
          },
          "scene": {
           "xaxis": {
            "backgroundcolor": "#E5ECF6",
            "gridcolor": "white",
            "gridwidth": 2,
            "linecolor": "white",
            "showbackground": true,
            "ticks": "",
            "zerolinecolor": "white"
           },
           "yaxis": {
            "backgroundcolor": "#E5ECF6",
            "gridcolor": "white",
            "gridwidth": 2,
            "linecolor": "white",
            "showbackground": true,
            "ticks": "",
            "zerolinecolor": "white"
           },
           "zaxis": {
            "backgroundcolor": "#E5ECF6",
            "gridcolor": "white",
            "gridwidth": 2,
            "linecolor": "white",
            "showbackground": true,
            "ticks": "",
            "zerolinecolor": "white"
           }
          },
          "shapedefaults": {
           "line": {
            "color": "#2a3f5f"
           }
          },
          "ternary": {
           "aaxis": {
            "gridcolor": "white",
            "linecolor": "white",
            "ticks": ""
           },
           "baxis": {
            "gridcolor": "white",
            "linecolor": "white",
            "ticks": ""
           },
           "bgcolor": "#E5ECF6",
           "caxis": {
            "gridcolor": "white",
            "linecolor": "white",
            "ticks": ""
           }
          },
          "title": {
           "x": 0.05
          },
          "xaxis": {
           "automargin": true,
           "gridcolor": "white",
           "linecolor": "white",
           "ticks": "",
           "title": {
            "standoff": 15
           },
           "zerolinecolor": "white",
           "zerolinewidth": 2
          },
          "yaxis": {
           "automargin": true,
           "gridcolor": "white",
           "linecolor": "white",
           "ticks": "",
           "title": {
            "standoff": 15
           },
           "zerolinecolor": "white",
           "zerolinewidth": 2
          }
         }
        },
        "title": {
         "font": {
          "size": 15
         },
         "text": "Humanoid-v1",
         "x": 0.53
        },
        "width": 500,
        "xaxis": {
         "anchor": "y",
         "domain": [
          0,
          1
         ],
         "gridcolor": "lightgrey",
         "linecolor": "black",
         "mirror": true,
         "showline": true,
         "ticks": "outside",
         "title": {
          "text": "Iteration"
         }
        },
        "yaxis": {
         "anchor": "x",
         "domain": [
          0,
          1
         ],
         "gridcolor": "lightgrey",
         "linecolor": "black",
         "mirror": true,
         "showline": true,
         "ticks": "outside",
         "title": {
          "text": "reward stddev"
         }
        }
       }
      },
      "text/html": [
       "<div>                            <div id=\"80f817f2-b3ff-45d0-b15d-95702ac9eab3\" class=\"plotly-graph-div\" style=\"height:400px; width:500px;\"></div>            <script type=\"text/javascript\">                require([\"plotly\"], function(Plotly) {                    window.PLOTLYENV=window.PLOTLYENV || {};                                    if (document.getElementById(\"80f817f2-b3ff-45d0-b15d-95702ac9eab3\")) {                    Plotly.newPlot(                        \"80f817f2-b3ff-45d0-b15d-95702ac9eab3\",                        [{\"hovertemplate\":\"one_sided=False\\u003cbr\\u003eIteration=%{x}\\u003cbr\\u003eAverageReward=%{y}\\u003cextra\\u003e\\u003c\\u002fextra\\u003e\",\"legendgroup\":\"False\",\"line\":{\"color\":\"#636efa\",\"dash\":\"solid\"},\"marker\":{\"symbol\":\"circle\"},\"mode\":\"lines\",\"name\":\"False\",\"orientation\":\"v\",\"showlegend\":true,\"x\":[10,20,30,40,50,60,70,80,90,100,110,120,130,140,150,160,170,180,190,200,210,220,230,240,250,260,270,280,290,300,310,320,330,340,350,360,370,380,390,400,410,420,430,440,450,460,470,480,490,500,510,520,530,540,550,560,570,580,590,600,610,620,630,640,650,660,670,680,690,700,710,720,730,740,750,760,770,780,790,800,810,820,830,840,850,860,870,880,890,900,910,920,930,940,950,960,970,980,990,1000],\"xaxis\":\"x\",\"y\":[71.86845744045635,89.3490376802806,74.80519970932681,64.44401323835757,47.38186084742836,47.049221187574624,49.83716968475818,50.37454411721563,62.08434557506251,71.85555464761015,89.48506064613903,148.68816857466962,124.84070937573522,165.07987597470117,279.1151619522187,309.9150125310318,701.7585191243619,797.2544664012332,810.2740684764382,1214.9273700640533,1602.2981505419018,1706.9762527828289,1728.048849476983,1754.6780158312913,1836.059220579787,1892.5516591899811,2009.3567776421532,2110.037884559683,2158.798857679479,2227.691868701959,2417.201644280359,2409.017651533513,2434.960833850117,2448.01233412115,2449.000894431823,2488.2966393166057,2580.722743488803,2612.525112092419,2623.2315007853686,2620.7517022463962,2599.9651708490824,2636.245120452748,2592.8457886045308,2624.1612673426107,2636.2704352844708,2607.696742934041,2598.0988775103187,2566.038531080101,2598.4721839942777,2626.177737567456,2593.570869673138,2585.009246375343,2604.0528089879217,2624.5180912656137,2628.0970851326315,2629.1572186849394,2648.9628983526877,2658.7140826845794,2620.8748102744685,2612.1979461620476,2624.252552691127,2636.690387979673,2610.7586727640473,2568.7345934007562,2594.6420079286186,2593.8156732197867,2588.662901767902,2592.876806272599,2580.436623071456,2586.178112761101,2538.929991588466,2556.401878284183,2560.5320401753174,2564.4819107844733,2583.4008702792244,2575.591049576802,2565.395791947077,2581.2695324733754,2593.268842405966,2595.0465830395387,2600.90848706361,2569.402526840547,2585.5332780480953,2585.007811254059,2589.013176445919,2564.612787299839,2577.173110159951,2677.612961623395,2586.7035561508546,2629.9870285644406,2606.921850462381,2615.473396503612,2697.16434411864,2642.105367543441,2645.981837496269,2655.602739486254,2649.844239007512,2670.805926042743,2663.963679764142,2669.546896697083],\"yaxis\":\"y\",\"type\":\"scatter\"},{\"hovertemplate\":\"one_sided=True\\u003cbr\\u003eIteration=%{x}\\u003cbr\\u003eAverageReward=%{y}\\u003cextra\\u003e\\u003c\\u002fextra\\u003e\",\"legendgroup\":\"True\",\"line\":{\"color\":\"#EF553B\",\"dash\":\"solid\"},\"marker\":{\"symbol\":\"circle\"},\"mode\":\"lines\",\"name\":\"True\",\"orientation\":\"v\",\"showlegend\":true,\"x\":[10,20,30,40,50,60,70,80,90,100,110,120,130,140,150,160,170,180,190,200,210,220,230,240,250,260,270,280,290,300,310,320,330,340,350,360,370,380,390,400,410,420,430,440,450,460,470,480,490,500,510,520,530,540,550,560,570,580,590,600,610,620,630,640,650,660,670,680,690,700,710,720,730,740,750,760,770,780,790,800,810,820,830,840,850,860,870,880,890,900,910,920,930,940,950,960,970,980,990,1000],\"xaxis\":\"x\",\"y\":[120.36318906768975,132.5381650242308,155.63875156068812,156.4618070030902,193.8514853851733,189.26428903154823,204.20588565973065,200.40543275417454,252.43946908864854,316.51491493614657,330.0728068543048,414.3485302246991,378.9594076680777,368.38926105474263,691.0095626091171,466.6342176916274,536.4664472611015,655.1707356686759,786.1482645358916,933.6681523611926,876.7917722084235,979.2762975486235,987.0264597649192,971.0320773001947,1004.938798354137,1067.3596205576196,1162.3133376799872,1092.9660975684135,1114.1917745276232,1041.8762830323328,1076.3238657145048,1056.298682076138,1095.4992245711203,1061.173961388818,1100.4284875965834,1149.93725933889,1149.863067085122,951.2350473309334,1237.9436464108267,1328.6122400123302,1172.681340560124,1304.2548238181807,1121.1368927653489,1116.1589395241242,1208.0757003536216,1311.5867965740379,1381.7803394471825,1560.2476088152193,1544.6179879194904,1472.681437702099,1585.5944644311699,1652.1169662703835,1664.6018970904663,1678.2493478668514,1727.9063178448457,1822.8251981655544,1842.9881729586737,1958.3469422830246,1912.8150976275012,1921.5148971331992,2009.4361799706967,2134.1312386852096,2274.176327342558,2198.3444913256144,3093.6836200738944,2923.944101081036,2803.5656815470757,3434.5949104988454,3661.3981587642675,3449.6096174467825,3446.1961881520324,3630.260232632656,3471.979566070303,2465.641064604736,2678.8243983736115,2929.030214458873,2842.643612639853,2952.8944233360708,3465.6040301019066,3778.0283610619954,3554.310034428678,3639.7568517364225,3940.0047435374568,4259.864557568347,3956.698484852647,4117.961235153108,4347.864817382876,4327.281740480634,4276.887539826851,4290.4366736221245,4368.917795856118,4854.685690903538,4906.787440274184,4834.374386600985,4926.411520073995,5184.765886235138,5193.765068501029,5283.6183875607285,5246.089132749353,4978.489511001725],\"yaxis\":\"y\",\"type\":\"scatter\"}],                        {\"template\":{\"data\":{\"histogram2dcontour\":[{\"type\":\"histogram2dcontour\",\"colorbar\":{\"outlinewidth\":0,\"ticks\":\"\"},\"colorscale\":[[0.0,\"#0d0887\"],[0.1111111111111111,\"#46039f\"],[0.2222222222222222,\"#7201a8\"],[0.3333333333333333,\"#9c179e\"],[0.4444444444444444,\"#bd3786\"],[0.5555555555555556,\"#d8576b\"],[0.6666666666666666,\"#ed7953\"],[0.7777777777777778,\"#fb9f3a\"],[0.8888888888888888,\"#fdca26\"],[1.0,\"#f0f921\"]]}],\"choropleth\":[{\"type\":\"choropleth\",\"colorbar\":{\"outlinewidth\":0,\"ticks\":\"\"}}],\"histogram2d\":[{\"type\":\"histogram2d\",\"colorbar\":{\"outlinewidth\":0,\"ticks\":\"\"},\"colorscale\":[[0.0,\"#0d0887\"],[0.1111111111111111,\"#46039f\"],[0.2222222222222222,\"#7201a8\"],[0.3333333333333333,\"#9c179e\"],[0.4444444444444444,\"#bd3786\"],[0.5555555555555556,\"#d8576b\"],[0.6666666666666666,\"#ed7953\"],[0.7777777777777778,\"#fb9f3a\"],[0.8888888888888888,\"#fdca26\"],[1.0,\"#f0f921\"]]}],\"heatmap\":[{\"type\":\"heatmap\",\"colorbar\":{\"outlinewidth\":0,\"ticks\":\"\"},\"colorscale\":[[0.0,\"#0d0887\"],[0.1111111111111111,\"#46039f\"],[0.2222222222222222,\"#7201a8\"],[0.3333333333333333,\"#9c179e\"],[0.4444444444444444,\"#bd3786\"],[0.5555555555555556,\"#d8576b\"],[0.6666666666666666,\"#ed7953\"],[0.7777777777777778,\"#fb9f3a\"],[0.8888888888888888,\"#fdca26\"],[1.0,\"#f0f921\"]]}],\"heatmapgl\":[{\"type\":\"heatmapgl\",\"colorbar\":{\"outlinewidth\":0,\"ticks\":\"\"},\"colorscale\":[[0.0,\"#0d0887\"],[0.1111111111111111,\"#46039f\"],[0.2222222222222222,\"#7201a8\"],[0.3333333333333333,\"#9c179e\"],[0.4444444444444444,\"#bd3786\"],[0.5555555555555556,\"#d8576b\"],[0.6666666666666666,\"#ed7953\"],[0.7777777777777778,\"#fb9f3a\"],[0.8888888888888888,\"#fdca26\"],[1.0,\"#f0f921\"]]}],\"contourcarpet\":[{\"type\":\"contourcarpet\",\"colorbar\":{\"outlinewidth\":0,\"ticks\":\"\"}}],\"contour\":[{\"type\":\"contour\",\"colorbar\":{\"outlinewidth\":0,\"ticks\":\"\"},\"colorscale\":[[0.0,\"#0d0887\"],[0.1111111111111111,\"#46039f\"],[0.2222222222222222,\"#7201a8\"],[0.3333333333333333,\"#9c179e\"],[0.4444444444444444,\"#bd3786\"],[0.5555555555555556,\"#d8576b\"],[0.6666666666666666,\"#ed7953\"],[0.7777777777777778,\"#fb9f3a\"],[0.8888888888888888,\"#fdca26\"],[1.0,\"#f0f921\"]]}],\"surface\":[{\"type\":\"surface\",\"colorbar\":{\"outlinewidth\":0,\"ticks\":\"\"},\"colorscale\":[[0.0,\"#0d0887\"],[0.1111111111111111,\"#46039f\"],[0.2222222222222222,\"#7201a8\"],[0.3333333333333333,\"#9c179e\"],[0.4444444444444444,\"#bd3786\"],[0.5555555555555556,\"#d8576b\"],[0.6666666666666666,\"#ed7953\"],[0.7777777777777778,\"#fb9f3a\"],[0.8888888888888888,\"#fdca26\"],[1.0,\"#f0f921\"]]}],\"mesh3d\":[{\"type\":\"mesh3d\",\"colorbar\":{\"outlinewidth\":0,\"ticks\":\"\"}}],\"scatter\":[{\"fillpattern\":{\"fillmode\":\"overlay\",\"size\":10,\"solidity\":0.2},\"type\":\"scatter\"}],\"parcoords\":[{\"type\":\"parcoords\",\"line\":{\"colorbar\":{\"outlinewidth\":0,\"ticks\":\"\"}}}],\"scatterpolargl\":[{\"type\":\"scatterpolargl\",\"marker\":{\"colorbar\":{\"outlinewidth\":0,\"ticks\":\"\"}}}],\"bar\":[{\"error_x\":{\"color\":\"#2a3f5f\"},\"error_y\":{\"color\":\"#2a3f5f\"},\"marker\":{\"line\":{\"color\":\"#E5ECF6\",\"width\":0.5},\"pattern\":{\"fillmode\":\"overlay\",\"size\":10,\"solidity\":0.2}},\"type\":\"bar\"}],\"scattergeo\":[{\"type\":\"scattergeo\",\"marker\":{\"colorbar\":{\"outlinewidth\":0,\"ticks\":\"\"}}}],\"scatterpolar\":[{\"type\":\"scatterpolar\",\"marker\":{\"colorbar\":{\"outlinewidth\":0,\"ticks\":\"\"}}}],\"histogram\":[{\"marker\":{\"pattern\":{\"fillmode\":\"overlay\",\"size\":10,\"solidity\":0.2}},\"type\":\"histogram\"}],\"scattergl\":[{\"type\":\"scattergl\",\"marker\":{\"colorbar\":{\"outlinewidth\":0,\"ticks\":\"\"}}}],\"scatter3d\":[{\"type\":\"scatter3d\",\"line\":{\"colorbar\":{\"outlinewidth\":0,\"ticks\":\"\"}},\"marker\":{\"colorbar\":{\"outlinewidth\":0,\"ticks\":\"\"}}}],\"scattermapbox\":[{\"type\":\"scattermapbox\",\"marker\":{\"colorbar\":{\"outlinewidth\":0,\"ticks\":\"\"}}}],\"scatterternary\":[{\"type\":\"scatterternary\",\"marker\":{\"colorbar\":{\"outlinewidth\":0,\"ticks\":\"\"}}}],\"scattercarpet\":[{\"type\":\"scattercarpet\",\"marker\":{\"colorbar\":{\"outlinewidth\":0,\"ticks\":\"\"}}}],\"carpet\":[{\"aaxis\":{\"endlinecolor\":\"#2a3f5f\",\"gridcolor\":\"white\",\"linecolor\":\"white\",\"minorgridcolor\":\"white\",\"startlinecolor\":\"#2a3f5f\"},\"baxis\":{\"endlinecolor\":\"#2a3f5f\",\"gridcolor\":\"white\",\"linecolor\":\"white\",\"minorgridcolor\":\"white\",\"startlinecolor\":\"#2a3f5f\"},\"type\":\"carpet\"}],\"table\":[{\"cells\":{\"fill\":{\"color\":\"#EBF0F8\"},\"line\":{\"color\":\"white\"}},\"header\":{\"fill\":{\"color\":\"#C8D4E3\"},\"line\":{\"color\":\"white\"}},\"type\":\"table\"}],\"barpolar\":[{\"marker\":{\"line\":{\"color\":\"#E5ECF6\",\"width\":0.5},\"pattern\":{\"fillmode\":\"overlay\",\"size\":10,\"solidity\":0.2}},\"type\":\"barpolar\"}],\"pie\":[{\"automargin\":true,\"type\":\"pie\"}]},\"layout\":{\"autotypenumbers\":\"strict\",\"colorway\":[\"#636efa\",\"#EF553B\",\"#00cc96\",\"#ab63fa\",\"#FFA15A\",\"#19d3f3\",\"#FF6692\",\"#B6E880\",\"#FF97FF\",\"#FECB52\"],\"font\":{\"color\":\"#2a3f5f\"},\"hovermode\":\"closest\",\"hoverlabel\":{\"align\":\"left\"},\"paper_bgcolor\":\"white\",\"plot_bgcolor\":\"#E5ECF6\",\"polar\":{\"bgcolor\":\"#E5ECF6\",\"angularaxis\":{\"gridcolor\":\"white\",\"linecolor\":\"white\",\"ticks\":\"\"},\"radialaxis\":{\"gridcolor\":\"white\",\"linecolor\":\"white\",\"ticks\":\"\"}},\"ternary\":{\"bgcolor\":\"#E5ECF6\",\"aaxis\":{\"gridcolor\":\"white\",\"linecolor\":\"white\",\"ticks\":\"\"},\"baxis\":{\"gridcolor\":\"white\",\"linecolor\":\"white\",\"ticks\":\"\"},\"caxis\":{\"gridcolor\":\"white\",\"linecolor\":\"white\",\"ticks\":\"\"}},\"coloraxis\":{\"colorbar\":{\"outlinewidth\":0,\"ticks\":\"\"}},\"colorscale\":{\"sequential\":[[0.0,\"#0d0887\"],[0.1111111111111111,\"#46039f\"],[0.2222222222222222,\"#7201a8\"],[0.3333333333333333,\"#9c179e\"],[0.4444444444444444,\"#bd3786\"],[0.5555555555555556,\"#d8576b\"],[0.6666666666666666,\"#ed7953\"],[0.7777777777777778,\"#fb9f3a\"],[0.8888888888888888,\"#fdca26\"],[1.0,\"#f0f921\"]],\"sequentialminus\":[[0.0,\"#0d0887\"],[0.1111111111111111,\"#46039f\"],[0.2222222222222222,\"#7201a8\"],[0.3333333333333333,\"#9c179e\"],[0.4444444444444444,\"#bd3786\"],[0.5555555555555556,\"#d8576b\"],[0.6666666666666666,\"#ed7953\"],[0.7777777777777778,\"#fb9f3a\"],[0.8888888888888888,\"#fdca26\"],[1.0,\"#f0f921\"]],\"diverging\":[[0,\"#8e0152\"],[0.1,\"#c51b7d\"],[0.2,\"#de77ae\"],[0.3,\"#f1b6da\"],[0.4,\"#fde0ef\"],[0.5,\"#f7f7f7\"],[0.6,\"#e6f5d0\"],[0.7,\"#b8e186\"],[0.8,\"#7fbc41\"],[0.9,\"#4d9221\"],[1,\"#276419\"]]},\"xaxis\":{\"gridcolor\":\"white\",\"linecolor\":\"white\",\"ticks\":\"\",\"title\":{\"standoff\":15},\"zerolinecolor\":\"white\",\"automargin\":true,\"zerolinewidth\":2},\"yaxis\":{\"gridcolor\":\"white\",\"linecolor\":\"white\",\"ticks\":\"\",\"title\":{\"standoff\":15},\"zerolinecolor\":\"white\",\"automargin\":true,\"zerolinewidth\":2},\"scene\":{\"xaxis\":{\"backgroundcolor\":\"#E5ECF6\",\"gridcolor\":\"white\",\"linecolor\":\"white\",\"showbackground\":true,\"ticks\":\"\",\"zerolinecolor\":\"white\",\"gridwidth\":2},\"yaxis\":{\"backgroundcolor\":\"#E5ECF6\",\"gridcolor\":\"white\",\"linecolor\":\"white\",\"showbackground\":true,\"ticks\":\"\",\"zerolinecolor\":\"white\",\"gridwidth\":2},\"zaxis\":{\"backgroundcolor\":\"#E5ECF6\",\"gridcolor\":\"white\",\"linecolor\":\"white\",\"showbackground\":true,\"ticks\":\"\",\"zerolinecolor\":\"white\",\"gridwidth\":2}},\"shapedefaults\":{\"line\":{\"color\":\"#2a3f5f\"}},\"annotationdefaults\":{\"arrowcolor\":\"#2a3f5f\",\"arrowhead\":0,\"arrowwidth\":1},\"geo\":{\"bgcolor\":\"white\",\"landcolor\":\"#E5ECF6\",\"subunitcolor\":\"white\",\"showland\":true,\"showlakes\":true,\"lakecolor\":\"white\"},\"title\":{\"x\":0.05},\"mapbox\":{\"style\":\"light\"}}},\"xaxis\":{\"anchor\":\"y\",\"domain\":[0.0,1.0],\"title\":{\"text\":\"Iteration\"},\"mirror\":true,\"ticks\":\"outside\",\"showline\":true,\"linecolor\":\"black\",\"gridcolor\":\"lightgrey\"},\"yaxis\":{\"anchor\":\"x\",\"domain\":[0.0,1.0],\"title\":{\"text\":\"reward stddev\"},\"mirror\":true,\"ticks\":\"outside\",\"showline\":true,\"linecolor\":\"black\",\"gridcolor\":\"lightgrey\"},\"legend\":{\"title\":{\"text\":\"one_sided\"},\"tracegroupgap\":0,\"yanchor\":\"bottom\",\"y\":0.01,\"xanchor\":\"right\",\"x\":0.99},\"margin\":{\"t\":50,\"l\":20,\"r\":20,\"b\":20},\"title\":{\"font\":{\"size\":15},\"text\":\"Humanoid-v1\",\"x\":0.53},\"autosize\":false,\"plot_bgcolor\":\"white\",\"width\":500,\"height\":400},                        {\"responsive\": true}                    ).then(function(){\n",
       "                            \n",
       "var gd = document.getElementById('80f817f2-b3ff-45d0-b15d-95702ac9eab3');\n",
       "var x = new MutationObserver(function (mutations, observer) {{\n",
       "        var display = window.getComputedStyle(gd).display;\n",
       "        if (!display || display === 'none') {{\n",
       "            console.log([gd, 'removed!']);\n",
       "            Plotly.purge(gd);\n",
       "            observer.disconnect();\n",
       "        }}\n",
       "}});\n",
       "\n",
       "// Listen for the removal of the full notebook cells\n",
       "var notebookContainer = gd.closest('#notebook-container');\n",
       "if (notebookContainer) {{\n",
       "    x.observe(notebookContainer, {childList: true});\n",
       "}}\n",
       "\n",
       "// Listen for the clearing of the current output cell\n",
       "var outputEl = gd.closest('.output');\n",
       "if (outputEl) {{\n",
       "    x.observe(outputEl, {childList: true});\n",
       "}}\n",
       "\n",
       "                        })                };                });            </script>        </div>"
      ]
     },
     "metadata": {},
     "output_type": "display_data"
    },
    {
     "data": {
      "application/vnd.plotly.v1+json": {
       "config": {
        "plotlyServerURL": "https://plot.ly"
       },
       "data": [
        {
         "hovertemplate": "one_sided=False<br>Iteration=%{x}<br>AverageReward=%{y}<extra></extra>",
         "legendgroup": "False",
         "line": {
          "color": "#636efa",
          "dash": "solid"
         },
         "marker": {
          "symbol": "circle"
         },
         "mode": "lines",
         "name": "False",
         "orientation": "v",
         "showlegend": true,
         "type": "scatter",
         "x": [
          10,
          20,
          30,
          40,
          50,
          60,
          70,
          80,
          90,
          100,
          110,
          120,
          130,
          140,
          150,
          160,
          170,
          180,
          190,
          200,
          210,
          220,
          230,
          240,
          250,
          260,
          270,
          280,
          290,
          300,
          310,
          320,
          330,
          340,
          350,
          360,
          370,
          380,
          390,
          400,
          410,
          420,
          430,
          440,
          450,
          460,
          470,
          480,
          490,
          500,
          510,
          520,
          530,
          540,
          550,
          560,
          570,
          580,
          590,
          600,
          610,
          620,
          630,
          640,
          650,
          660,
          670,
          680,
          690,
          700,
          710,
          720,
          730,
          740,
          750,
          760,
          770,
          780,
          790,
          800,
          810,
          820,
          830,
          840,
          850,
          860,
          870,
          880,
          890,
          900,
          910,
          920,
          930,
          940,
          950,
          960,
          970,
          980,
          990,
          1000
         ],
         "xaxis": "x",
         "y": [
          87.60602907671837,
          104.38746610196556,
          126.35353590707986,
          115.94510671512545,
          112.34026343704143,
          113.22041755799168,
          114.65259083456009,
          115.9102465229275,
          113.32051103864144,
          111.25443051765103,
          104.18724504496045,
          105.73078079782684,
          106.83626000216734,
          111.11855092888548,
          107.65375139367012,
          105.1269551786007,
          100.67148946816131,
          114.97511249623909,
          110.09267706909783,
          113.59258304707328,
          105.04924165339234,
          105.72145525987533,
          109.66233589967457,
          102.97598363734355,
          95.40492638091163,
          107.75750032278646,
          97.61455417700272,
          95.47517907583227,
          95.08535325596189,
          98.22856920518784,
          100.48553126857813,
          106.90177659011431,
          101.28423367670523,
          97.56641989953191,
          98.04686014827452,
          96.51170624719781,
          95.92745511998464,
          98.27497907796102,
          98.12259491735956,
          96.37549610372473,
          95.895404262804,
          96.07982851355777,
          94.67610177210487,
          94.36186659095671,
          94.85565984110582,
          94.75339007281248,
          97.43751656599676,
          97.3273803978732,
          95.6611292513808,
          97.58292223293239,
          96.23099090738843,
          106.26930400376779,
          111.05114577544322,
          109.55636659983415,
          101.05460141383757,
          101.79993514924652,
          108.6160069246187,
          107.07815163878239,
          99.10679467221749,
          99.51322024242621,
          111.71718118266949,
          109.65808062736605,
          111.01672700325054,
          107.44221352087312,
          104.42236124073334,
          101.12086156251179,
          105.1923186142874,
          112.29466906970815,
          117.65187890737054,
          111.64608318814571,
          110.98781403495738,
          107.21739425087587,
          111.84585775021087,
          99.71028170588549,
          101.2781116629755,
          107.32355356800545,
          99.38240052195648,
          94.95218649913835,
          94.75474973432257,
          97.81130844213911,
          94.96720645339445,
          101.4022490286125,
          96.67474271372234,
          100.68683920445669,
          105.90294683562901,
          100.68732108334174,
          98.84836837607705,
          104.04897000636765,
          97.9088248563341,
          99.91652104880764,
          99.02989948033506,
          102.95532204137928,
          98.39763502627018,
          97.49678413364488,
          97.70811819555826,
          101.43738659543718,
          100.8244792847948,
          98.88153305985203,
          98.5026534460705,
          99.9294790429528
         ],
         "yaxis": "y"
        }
       ],
       "layout": {
        "autosize": false,
        "height": 400,
        "legend": {
         "title": {
          "text": "one_sided"
         },
         "tracegroupgap": 0,
         "x": 0.99,
         "xanchor": "right",
         "y": 0.01,
         "yanchor": "bottom"
        },
        "margin": {
         "b": 20,
         "l": 20,
         "r": 20,
         "t": 50
        },
        "plot_bgcolor": "white",
        "template": {
         "data": {
          "bar": [
           {
            "error_x": {
             "color": "#2a3f5f"
            },
            "error_y": {
             "color": "#2a3f5f"
            },
            "marker": {
             "line": {
              "color": "#E5ECF6",
              "width": 0.5
             },
             "pattern": {
              "fillmode": "overlay",
              "size": 10,
              "solidity": 0.2
             }
            },
            "type": "bar"
           }
          ],
          "barpolar": [
           {
            "marker": {
             "line": {
              "color": "#E5ECF6",
              "width": 0.5
             },
             "pattern": {
              "fillmode": "overlay",
              "size": 10,
              "solidity": 0.2
             }
            },
            "type": "barpolar"
           }
          ],
          "carpet": [
           {
            "aaxis": {
             "endlinecolor": "#2a3f5f",
             "gridcolor": "white",
             "linecolor": "white",
             "minorgridcolor": "white",
             "startlinecolor": "#2a3f5f"
            },
            "baxis": {
             "endlinecolor": "#2a3f5f",
             "gridcolor": "white",
             "linecolor": "white",
             "minorgridcolor": "white",
             "startlinecolor": "#2a3f5f"
            },
            "type": "carpet"
           }
          ],
          "choropleth": [
           {
            "colorbar": {
             "outlinewidth": 0,
             "ticks": ""
            },
            "type": "choropleth"
           }
          ],
          "contour": [
           {
            "colorbar": {
             "outlinewidth": 0,
             "ticks": ""
            },
            "colorscale": [
             [
              0,
              "#0d0887"
             ],
             [
              0.1111111111111111,
              "#46039f"
             ],
             [
              0.2222222222222222,
              "#7201a8"
             ],
             [
              0.3333333333333333,
              "#9c179e"
             ],
             [
              0.4444444444444444,
              "#bd3786"
             ],
             [
              0.5555555555555556,
              "#d8576b"
             ],
             [
              0.6666666666666666,
              "#ed7953"
             ],
             [
              0.7777777777777778,
              "#fb9f3a"
             ],
             [
              0.8888888888888888,
              "#fdca26"
             ],
             [
              1,
              "#f0f921"
             ]
            ],
            "type": "contour"
           }
          ],
          "contourcarpet": [
           {
            "colorbar": {
             "outlinewidth": 0,
             "ticks": ""
            },
            "type": "contourcarpet"
           }
          ],
          "heatmap": [
           {
            "colorbar": {
             "outlinewidth": 0,
             "ticks": ""
            },
            "colorscale": [
             [
              0,
              "#0d0887"
             ],
             [
              0.1111111111111111,
              "#46039f"
             ],
             [
              0.2222222222222222,
              "#7201a8"
             ],
             [
              0.3333333333333333,
              "#9c179e"
             ],
             [
              0.4444444444444444,
              "#bd3786"
             ],
             [
              0.5555555555555556,
              "#d8576b"
             ],
             [
              0.6666666666666666,
              "#ed7953"
             ],
             [
              0.7777777777777778,
              "#fb9f3a"
             ],
             [
              0.8888888888888888,
              "#fdca26"
             ],
             [
              1,
              "#f0f921"
             ]
            ],
            "type": "heatmap"
           }
          ],
          "heatmapgl": [
           {
            "colorbar": {
             "outlinewidth": 0,
             "ticks": ""
            },
            "colorscale": [
             [
              0,
              "#0d0887"
             ],
             [
              0.1111111111111111,
              "#46039f"
             ],
             [
              0.2222222222222222,
              "#7201a8"
             ],
             [
              0.3333333333333333,
              "#9c179e"
             ],
             [
              0.4444444444444444,
              "#bd3786"
             ],
             [
              0.5555555555555556,
              "#d8576b"
             ],
             [
              0.6666666666666666,
              "#ed7953"
             ],
             [
              0.7777777777777778,
              "#fb9f3a"
             ],
             [
              0.8888888888888888,
              "#fdca26"
             ],
             [
              1,
              "#f0f921"
             ]
            ],
            "type": "heatmapgl"
           }
          ],
          "histogram": [
           {
            "marker": {
             "pattern": {
              "fillmode": "overlay",
              "size": 10,
              "solidity": 0.2
             }
            },
            "type": "histogram"
           }
          ],
          "histogram2d": [
           {
            "colorbar": {
             "outlinewidth": 0,
             "ticks": ""
            },
            "colorscale": [
             [
              0,
              "#0d0887"
             ],
             [
              0.1111111111111111,
              "#46039f"
             ],
             [
              0.2222222222222222,
              "#7201a8"
             ],
             [
              0.3333333333333333,
              "#9c179e"
             ],
             [
              0.4444444444444444,
              "#bd3786"
             ],
             [
              0.5555555555555556,
              "#d8576b"
             ],
             [
              0.6666666666666666,
              "#ed7953"
             ],
             [
              0.7777777777777778,
              "#fb9f3a"
             ],
             [
              0.8888888888888888,
              "#fdca26"
             ],
             [
              1,
              "#f0f921"
             ]
            ],
            "type": "histogram2d"
           }
          ],
          "histogram2dcontour": [
           {
            "colorbar": {
             "outlinewidth": 0,
             "ticks": ""
            },
            "colorscale": [
             [
              0,
              "#0d0887"
             ],
             [
              0.1111111111111111,
              "#46039f"
             ],
             [
              0.2222222222222222,
              "#7201a8"
             ],
             [
              0.3333333333333333,
              "#9c179e"
             ],
             [
              0.4444444444444444,
              "#bd3786"
             ],
             [
              0.5555555555555556,
              "#d8576b"
             ],
             [
              0.6666666666666666,
              "#ed7953"
             ],
             [
              0.7777777777777778,
              "#fb9f3a"
             ],
             [
              0.8888888888888888,
              "#fdca26"
             ],
             [
              1,
              "#f0f921"
             ]
            ],
            "type": "histogram2dcontour"
           }
          ],
          "mesh3d": [
           {
            "colorbar": {
             "outlinewidth": 0,
             "ticks": ""
            },
            "type": "mesh3d"
           }
          ],
          "parcoords": [
           {
            "line": {
             "colorbar": {
              "outlinewidth": 0,
              "ticks": ""
             }
            },
            "type": "parcoords"
           }
          ],
          "pie": [
           {
            "automargin": true,
            "type": "pie"
           }
          ],
          "scatter": [
           {
            "fillpattern": {
             "fillmode": "overlay",
             "size": 10,
             "solidity": 0.2
            },
            "type": "scatter"
           }
          ],
          "scatter3d": [
           {
            "line": {
             "colorbar": {
              "outlinewidth": 0,
              "ticks": ""
             }
            },
            "marker": {
             "colorbar": {
              "outlinewidth": 0,
              "ticks": ""
             }
            },
            "type": "scatter3d"
           }
          ],
          "scattercarpet": [
           {
            "marker": {
             "colorbar": {
              "outlinewidth": 0,
              "ticks": ""
             }
            },
            "type": "scattercarpet"
           }
          ],
          "scattergeo": [
           {
            "marker": {
             "colorbar": {
              "outlinewidth": 0,
              "ticks": ""
             }
            },
            "type": "scattergeo"
           }
          ],
          "scattergl": [
           {
            "marker": {
             "colorbar": {
              "outlinewidth": 0,
              "ticks": ""
             }
            },
            "type": "scattergl"
           }
          ],
          "scattermapbox": [
           {
            "marker": {
             "colorbar": {
              "outlinewidth": 0,
              "ticks": ""
             }
            },
            "type": "scattermapbox"
           }
          ],
          "scatterpolar": [
           {
            "marker": {
             "colorbar": {
              "outlinewidth": 0,
              "ticks": ""
             }
            },
            "type": "scatterpolar"
           }
          ],
          "scatterpolargl": [
           {
            "marker": {
             "colorbar": {
              "outlinewidth": 0,
              "ticks": ""
             }
            },
            "type": "scatterpolargl"
           }
          ],
          "scatterternary": [
           {
            "marker": {
             "colorbar": {
              "outlinewidth": 0,
              "ticks": ""
             }
            },
            "type": "scatterternary"
           }
          ],
          "surface": [
           {
            "colorbar": {
             "outlinewidth": 0,
             "ticks": ""
            },
            "colorscale": [
             [
              0,
              "#0d0887"
             ],
             [
              0.1111111111111111,
              "#46039f"
             ],
             [
              0.2222222222222222,
              "#7201a8"
             ],
             [
              0.3333333333333333,
              "#9c179e"
             ],
             [
              0.4444444444444444,
              "#bd3786"
             ],
             [
              0.5555555555555556,
              "#d8576b"
             ],
             [
              0.6666666666666666,
              "#ed7953"
             ],
             [
              0.7777777777777778,
              "#fb9f3a"
             ],
             [
              0.8888888888888888,
              "#fdca26"
             ],
             [
              1,
              "#f0f921"
             ]
            ],
            "type": "surface"
           }
          ],
          "table": [
           {
            "cells": {
             "fill": {
              "color": "#EBF0F8"
             },
             "line": {
              "color": "white"
             }
            },
            "header": {
             "fill": {
              "color": "#C8D4E3"
             },
             "line": {
              "color": "white"
             }
            },
            "type": "table"
           }
          ]
         },
         "layout": {
          "annotationdefaults": {
           "arrowcolor": "#2a3f5f",
           "arrowhead": 0,
           "arrowwidth": 1
          },
          "autotypenumbers": "strict",
          "coloraxis": {
           "colorbar": {
            "outlinewidth": 0,
            "ticks": ""
           }
          },
          "colorscale": {
           "diverging": [
            [
             0,
             "#8e0152"
            ],
            [
             0.1,
             "#c51b7d"
            ],
            [
             0.2,
             "#de77ae"
            ],
            [
             0.3,
             "#f1b6da"
            ],
            [
             0.4,
             "#fde0ef"
            ],
            [
             0.5,
             "#f7f7f7"
            ],
            [
             0.6,
             "#e6f5d0"
            ],
            [
             0.7,
             "#b8e186"
            ],
            [
             0.8,
             "#7fbc41"
            ],
            [
             0.9,
             "#4d9221"
            ],
            [
             1,
             "#276419"
            ]
           ],
           "sequential": [
            [
             0,
             "#0d0887"
            ],
            [
             0.1111111111111111,
             "#46039f"
            ],
            [
             0.2222222222222222,
             "#7201a8"
            ],
            [
             0.3333333333333333,
             "#9c179e"
            ],
            [
             0.4444444444444444,
             "#bd3786"
            ],
            [
             0.5555555555555556,
             "#d8576b"
            ],
            [
             0.6666666666666666,
             "#ed7953"
            ],
            [
             0.7777777777777778,
             "#fb9f3a"
            ],
            [
             0.8888888888888888,
             "#fdca26"
            ],
            [
             1,
             "#f0f921"
            ]
           ],
           "sequentialminus": [
            [
             0,
             "#0d0887"
            ],
            [
             0.1111111111111111,
             "#46039f"
            ],
            [
             0.2222222222222222,
             "#7201a8"
            ],
            [
             0.3333333333333333,
             "#9c179e"
            ],
            [
             0.4444444444444444,
             "#bd3786"
            ],
            [
             0.5555555555555556,
             "#d8576b"
            ],
            [
             0.6666666666666666,
             "#ed7953"
            ],
            [
             0.7777777777777778,
             "#fb9f3a"
            ],
            [
             0.8888888888888888,
             "#fdca26"
            ],
            [
             1,
             "#f0f921"
            ]
           ]
          },
          "colorway": [
           "#636efa",
           "#EF553B",
           "#00cc96",
           "#ab63fa",
           "#FFA15A",
           "#19d3f3",
           "#FF6692",
           "#B6E880",
           "#FF97FF",
           "#FECB52"
          ],
          "font": {
           "color": "#2a3f5f"
          },
          "geo": {
           "bgcolor": "white",
           "lakecolor": "white",
           "landcolor": "#E5ECF6",
           "showlakes": true,
           "showland": true,
           "subunitcolor": "white"
          },
          "hoverlabel": {
           "align": "left"
          },
          "hovermode": "closest",
          "mapbox": {
           "style": "light"
          },
          "paper_bgcolor": "white",
          "plot_bgcolor": "#E5ECF6",
          "polar": {
           "angularaxis": {
            "gridcolor": "white",
            "linecolor": "white",
            "ticks": ""
           },
           "bgcolor": "#E5ECF6",
           "radialaxis": {
            "gridcolor": "white",
            "linecolor": "white",
            "ticks": ""
           }
          },
          "scene": {
           "xaxis": {
            "backgroundcolor": "#E5ECF6",
            "gridcolor": "white",
            "gridwidth": 2,
            "linecolor": "white",
            "showbackground": true,
            "ticks": "",
            "zerolinecolor": "white"
           },
           "yaxis": {
            "backgroundcolor": "#E5ECF6",
            "gridcolor": "white",
            "gridwidth": 2,
            "linecolor": "white",
            "showbackground": true,
            "ticks": "",
            "zerolinecolor": "white"
           },
           "zaxis": {
            "backgroundcolor": "#E5ECF6",
            "gridcolor": "white",
            "gridwidth": 2,
            "linecolor": "white",
            "showbackground": true,
            "ticks": "",
            "zerolinecolor": "white"
           }
          },
          "shapedefaults": {
           "line": {
            "color": "#2a3f5f"
           }
          },
          "ternary": {
           "aaxis": {
            "gridcolor": "white",
            "linecolor": "white",
            "ticks": ""
           },
           "baxis": {
            "gridcolor": "white",
            "linecolor": "white",
            "ticks": ""
           },
           "bgcolor": "#E5ECF6",
           "caxis": {
            "gridcolor": "white",
            "linecolor": "white",
            "ticks": ""
           }
          },
          "title": {
           "x": 0.05
          },
          "xaxis": {
           "automargin": true,
           "gridcolor": "white",
           "linecolor": "white",
           "ticks": "",
           "title": {
            "standoff": 15
           },
           "zerolinecolor": "white",
           "zerolinewidth": 2
          },
          "yaxis": {
           "automargin": true,
           "gridcolor": "white",
           "linecolor": "white",
           "ticks": "",
           "title": {
            "standoff": 15
           },
           "zerolinecolor": "white",
           "zerolinewidth": 2
          }
         }
        },
        "title": {
         "font": {
          "size": 15
         },
         "text": "Swimmer-v1",
         "x": 0.53
        },
        "width": 500,
        "xaxis": {
         "anchor": "y",
         "domain": [
          0,
          1
         ],
         "gridcolor": "lightgrey",
         "linecolor": "black",
         "mirror": true,
         "showline": true,
         "ticks": "outside",
         "title": {
          "text": "Iteration"
         }
        },
        "yaxis": {
         "anchor": "x",
         "domain": [
          0,
          1
         ],
         "gridcolor": "lightgrey",
         "linecolor": "black",
         "mirror": true,
         "showline": true,
         "ticks": "outside",
         "title": {
          "text": "reward stddev"
         }
        }
       }
      },
      "text/html": [
       "<div>                            <div id=\"03ddb199-ea33-40dc-b94a-9bbb75481ae6\" class=\"plotly-graph-div\" style=\"height:400px; width:500px;\"></div>            <script type=\"text/javascript\">                require([\"plotly\"], function(Plotly) {                    window.PLOTLYENV=window.PLOTLYENV || {};                                    if (document.getElementById(\"03ddb199-ea33-40dc-b94a-9bbb75481ae6\")) {                    Plotly.newPlot(                        \"03ddb199-ea33-40dc-b94a-9bbb75481ae6\",                        [{\"hovertemplate\":\"one_sided=False\\u003cbr\\u003eIteration=%{x}\\u003cbr\\u003eAverageReward=%{y}\\u003cextra\\u003e\\u003c\\u002fextra\\u003e\",\"legendgroup\":\"False\",\"line\":{\"color\":\"#636efa\",\"dash\":\"solid\"},\"marker\":{\"symbol\":\"circle\"},\"mode\":\"lines\",\"name\":\"False\",\"orientation\":\"v\",\"showlegend\":true,\"x\":[10,20,30,40,50,60,70,80,90,100,110,120,130,140,150,160,170,180,190,200,210,220,230,240,250,260,270,280,290,300,310,320,330,340,350,360,370,380,390,400,410,420,430,440,450,460,470,480,490,500,510,520,530,540,550,560,570,580,590,600,610,620,630,640,650,660,670,680,690,700,710,720,730,740,750,760,770,780,790,800,810,820,830,840,850,860,870,880,890,900,910,920,930,940,950,960,970,980,990,1000],\"xaxis\":\"x\",\"y\":[87.60602907671837,104.38746610196556,126.35353590707986,115.94510671512545,112.34026343704143,113.22041755799168,114.65259083456009,115.9102465229275,113.32051103864144,111.25443051765103,104.18724504496045,105.73078079782684,106.83626000216734,111.11855092888548,107.65375139367012,105.1269551786007,100.67148946816131,114.97511249623909,110.09267706909783,113.59258304707328,105.04924165339234,105.72145525987533,109.66233589967457,102.97598363734355,95.40492638091163,107.75750032278646,97.61455417700272,95.47517907583227,95.08535325596189,98.22856920518784,100.48553126857813,106.90177659011431,101.28423367670523,97.56641989953191,98.04686014827452,96.51170624719781,95.92745511998464,98.27497907796102,98.12259491735956,96.37549610372473,95.895404262804,96.07982851355777,94.67610177210487,94.36186659095671,94.85565984110582,94.75339007281248,97.43751656599676,97.3273803978732,95.6611292513808,97.58292223293239,96.23099090738843,106.26930400376779,111.05114577544322,109.55636659983415,101.05460141383757,101.79993514924652,108.6160069246187,107.07815163878239,99.10679467221749,99.51322024242621,111.71718118266949,109.65808062736605,111.01672700325054,107.44221352087312,104.42236124073334,101.12086156251179,105.1923186142874,112.29466906970815,117.65187890737054,111.64608318814571,110.98781403495738,107.21739425087587,111.84585775021087,99.71028170588549,101.2781116629755,107.32355356800545,99.38240052195648,94.95218649913835,94.75474973432257,97.81130844213911,94.96720645339445,101.4022490286125,96.67474271372234,100.68683920445669,105.90294683562901,100.68732108334174,98.84836837607705,104.04897000636765,97.9088248563341,99.91652104880764,99.02989948033506,102.95532204137928,98.39763502627018,97.49678413364488,97.70811819555826,101.43738659543718,100.8244792847948,98.88153305985203,98.5026534460705,99.9294790429528],\"yaxis\":\"y\",\"type\":\"scatter\"}],                        {\"template\":{\"data\":{\"histogram2dcontour\":[{\"type\":\"histogram2dcontour\",\"colorbar\":{\"outlinewidth\":0,\"ticks\":\"\"},\"colorscale\":[[0.0,\"#0d0887\"],[0.1111111111111111,\"#46039f\"],[0.2222222222222222,\"#7201a8\"],[0.3333333333333333,\"#9c179e\"],[0.4444444444444444,\"#bd3786\"],[0.5555555555555556,\"#d8576b\"],[0.6666666666666666,\"#ed7953\"],[0.7777777777777778,\"#fb9f3a\"],[0.8888888888888888,\"#fdca26\"],[1.0,\"#f0f921\"]]}],\"choropleth\":[{\"type\":\"choropleth\",\"colorbar\":{\"outlinewidth\":0,\"ticks\":\"\"}}],\"histogram2d\":[{\"type\":\"histogram2d\",\"colorbar\":{\"outlinewidth\":0,\"ticks\":\"\"},\"colorscale\":[[0.0,\"#0d0887\"],[0.1111111111111111,\"#46039f\"],[0.2222222222222222,\"#7201a8\"],[0.3333333333333333,\"#9c179e\"],[0.4444444444444444,\"#bd3786\"],[0.5555555555555556,\"#d8576b\"],[0.6666666666666666,\"#ed7953\"],[0.7777777777777778,\"#fb9f3a\"],[0.8888888888888888,\"#fdca26\"],[1.0,\"#f0f921\"]]}],\"heatmap\":[{\"type\":\"heatmap\",\"colorbar\":{\"outlinewidth\":0,\"ticks\":\"\"},\"colorscale\":[[0.0,\"#0d0887\"],[0.1111111111111111,\"#46039f\"],[0.2222222222222222,\"#7201a8\"],[0.3333333333333333,\"#9c179e\"],[0.4444444444444444,\"#bd3786\"],[0.5555555555555556,\"#d8576b\"],[0.6666666666666666,\"#ed7953\"],[0.7777777777777778,\"#fb9f3a\"],[0.8888888888888888,\"#fdca26\"],[1.0,\"#f0f921\"]]}],\"heatmapgl\":[{\"type\":\"heatmapgl\",\"colorbar\":{\"outlinewidth\":0,\"ticks\":\"\"},\"colorscale\":[[0.0,\"#0d0887\"],[0.1111111111111111,\"#46039f\"],[0.2222222222222222,\"#7201a8\"],[0.3333333333333333,\"#9c179e\"],[0.4444444444444444,\"#bd3786\"],[0.5555555555555556,\"#d8576b\"],[0.6666666666666666,\"#ed7953\"],[0.7777777777777778,\"#fb9f3a\"],[0.8888888888888888,\"#fdca26\"],[1.0,\"#f0f921\"]]}],\"contourcarpet\":[{\"type\":\"contourcarpet\",\"colorbar\":{\"outlinewidth\":0,\"ticks\":\"\"}}],\"contour\":[{\"type\":\"contour\",\"colorbar\":{\"outlinewidth\":0,\"ticks\":\"\"},\"colorscale\":[[0.0,\"#0d0887\"],[0.1111111111111111,\"#46039f\"],[0.2222222222222222,\"#7201a8\"],[0.3333333333333333,\"#9c179e\"],[0.4444444444444444,\"#bd3786\"],[0.5555555555555556,\"#d8576b\"],[0.6666666666666666,\"#ed7953\"],[0.7777777777777778,\"#fb9f3a\"],[0.8888888888888888,\"#fdca26\"],[1.0,\"#f0f921\"]]}],\"surface\":[{\"type\":\"surface\",\"colorbar\":{\"outlinewidth\":0,\"ticks\":\"\"},\"colorscale\":[[0.0,\"#0d0887\"],[0.1111111111111111,\"#46039f\"],[0.2222222222222222,\"#7201a8\"],[0.3333333333333333,\"#9c179e\"],[0.4444444444444444,\"#bd3786\"],[0.5555555555555556,\"#d8576b\"],[0.6666666666666666,\"#ed7953\"],[0.7777777777777778,\"#fb9f3a\"],[0.8888888888888888,\"#fdca26\"],[1.0,\"#f0f921\"]]}],\"mesh3d\":[{\"type\":\"mesh3d\",\"colorbar\":{\"outlinewidth\":0,\"ticks\":\"\"}}],\"scatter\":[{\"fillpattern\":{\"fillmode\":\"overlay\",\"size\":10,\"solidity\":0.2},\"type\":\"scatter\"}],\"parcoords\":[{\"type\":\"parcoords\",\"line\":{\"colorbar\":{\"outlinewidth\":0,\"ticks\":\"\"}}}],\"scatterpolargl\":[{\"type\":\"scatterpolargl\",\"marker\":{\"colorbar\":{\"outlinewidth\":0,\"ticks\":\"\"}}}],\"bar\":[{\"error_x\":{\"color\":\"#2a3f5f\"},\"error_y\":{\"color\":\"#2a3f5f\"},\"marker\":{\"line\":{\"color\":\"#E5ECF6\",\"width\":0.5},\"pattern\":{\"fillmode\":\"overlay\",\"size\":10,\"solidity\":0.2}},\"type\":\"bar\"}],\"scattergeo\":[{\"type\":\"scattergeo\",\"marker\":{\"colorbar\":{\"outlinewidth\":0,\"ticks\":\"\"}}}],\"scatterpolar\":[{\"type\":\"scatterpolar\",\"marker\":{\"colorbar\":{\"outlinewidth\":0,\"ticks\":\"\"}}}],\"histogram\":[{\"marker\":{\"pattern\":{\"fillmode\":\"overlay\",\"size\":10,\"solidity\":0.2}},\"type\":\"histogram\"}],\"scattergl\":[{\"type\":\"scattergl\",\"marker\":{\"colorbar\":{\"outlinewidth\":0,\"ticks\":\"\"}}}],\"scatter3d\":[{\"type\":\"scatter3d\",\"line\":{\"colorbar\":{\"outlinewidth\":0,\"ticks\":\"\"}},\"marker\":{\"colorbar\":{\"outlinewidth\":0,\"ticks\":\"\"}}}],\"scattermapbox\":[{\"type\":\"scattermapbox\",\"marker\":{\"colorbar\":{\"outlinewidth\":0,\"ticks\":\"\"}}}],\"scatterternary\":[{\"type\":\"scatterternary\",\"marker\":{\"colorbar\":{\"outlinewidth\":0,\"ticks\":\"\"}}}],\"scattercarpet\":[{\"type\":\"scattercarpet\",\"marker\":{\"colorbar\":{\"outlinewidth\":0,\"ticks\":\"\"}}}],\"carpet\":[{\"aaxis\":{\"endlinecolor\":\"#2a3f5f\",\"gridcolor\":\"white\",\"linecolor\":\"white\",\"minorgridcolor\":\"white\",\"startlinecolor\":\"#2a3f5f\"},\"baxis\":{\"endlinecolor\":\"#2a3f5f\",\"gridcolor\":\"white\",\"linecolor\":\"white\",\"minorgridcolor\":\"white\",\"startlinecolor\":\"#2a3f5f\"},\"type\":\"carpet\"}],\"table\":[{\"cells\":{\"fill\":{\"color\":\"#EBF0F8\"},\"line\":{\"color\":\"white\"}},\"header\":{\"fill\":{\"color\":\"#C8D4E3\"},\"line\":{\"color\":\"white\"}},\"type\":\"table\"}],\"barpolar\":[{\"marker\":{\"line\":{\"color\":\"#E5ECF6\",\"width\":0.5},\"pattern\":{\"fillmode\":\"overlay\",\"size\":10,\"solidity\":0.2}},\"type\":\"barpolar\"}],\"pie\":[{\"automargin\":true,\"type\":\"pie\"}]},\"layout\":{\"autotypenumbers\":\"strict\",\"colorway\":[\"#636efa\",\"#EF553B\",\"#00cc96\",\"#ab63fa\",\"#FFA15A\",\"#19d3f3\",\"#FF6692\",\"#B6E880\",\"#FF97FF\",\"#FECB52\"],\"font\":{\"color\":\"#2a3f5f\"},\"hovermode\":\"closest\",\"hoverlabel\":{\"align\":\"left\"},\"paper_bgcolor\":\"white\",\"plot_bgcolor\":\"#E5ECF6\",\"polar\":{\"bgcolor\":\"#E5ECF6\",\"angularaxis\":{\"gridcolor\":\"white\",\"linecolor\":\"white\",\"ticks\":\"\"},\"radialaxis\":{\"gridcolor\":\"white\",\"linecolor\":\"white\",\"ticks\":\"\"}},\"ternary\":{\"bgcolor\":\"#E5ECF6\",\"aaxis\":{\"gridcolor\":\"white\",\"linecolor\":\"white\",\"ticks\":\"\"},\"baxis\":{\"gridcolor\":\"white\",\"linecolor\":\"white\",\"ticks\":\"\"},\"caxis\":{\"gridcolor\":\"white\",\"linecolor\":\"white\",\"ticks\":\"\"}},\"coloraxis\":{\"colorbar\":{\"outlinewidth\":0,\"ticks\":\"\"}},\"colorscale\":{\"sequential\":[[0.0,\"#0d0887\"],[0.1111111111111111,\"#46039f\"],[0.2222222222222222,\"#7201a8\"],[0.3333333333333333,\"#9c179e\"],[0.4444444444444444,\"#bd3786\"],[0.5555555555555556,\"#d8576b\"],[0.6666666666666666,\"#ed7953\"],[0.7777777777777778,\"#fb9f3a\"],[0.8888888888888888,\"#fdca26\"],[1.0,\"#f0f921\"]],\"sequentialminus\":[[0.0,\"#0d0887\"],[0.1111111111111111,\"#46039f\"],[0.2222222222222222,\"#7201a8\"],[0.3333333333333333,\"#9c179e\"],[0.4444444444444444,\"#bd3786\"],[0.5555555555555556,\"#d8576b\"],[0.6666666666666666,\"#ed7953\"],[0.7777777777777778,\"#fb9f3a\"],[0.8888888888888888,\"#fdca26\"],[1.0,\"#f0f921\"]],\"diverging\":[[0,\"#8e0152\"],[0.1,\"#c51b7d\"],[0.2,\"#de77ae\"],[0.3,\"#f1b6da\"],[0.4,\"#fde0ef\"],[0.5,\"#f7f7f7\"],[0.6,\"#e6f5d0\"],[0.7,\"#b8e186\"],[0.8,\"#7fbc41\"],[0.9,\"#4d9221\"],[1,\"#276419\"]]},\"xaxis\":{\"gridcolor\":\"white\",\"linecolor\":\"white\",\"ticks\":\"\",\"title\":{\"standoff\":15},\"zerolinecolor\":\"white\",\"automargin\":true,\"zerolinewidth\":2},\"yaxis\":{\"gridcolor\":\"white\",\"linecolor\":\"white\",\"ticks\":\"\",\"title\":{\"standoff\":15},\"zerolinecolor\":\"white\",\"automargin\":true,\"zerolinewidth\":2},\"scene\":{\"xaxis\":{\"backgroundcolor\":\"#E5ECF6\",\"gridcolor\":\"white\",\"linecolor\":\"white\",\"showbackground\":true,\"ticks\":\"\",\"zerolinecolor\":\"white\",\"gridwidth\":2},\"yaxis\":{\"backgroundcolor\":\"#E5ECF6\",\"gridcolor\":\"white\",\"linecolor\":\"white\",\"showbackground\":true,\"ticks\":\"\",\"zerolinecolor\":\"white\",\"gridwidth\":2},\"zaxis\":{\"backgroundcolor\":\"#E5ECF6\",\"gridcolor\":\"white\",\"linecolor\":\"white\",\"showbackground\":true,\"ticks\":\"\",\"zerolinecolor\":\"white\",\"gridwidth\":2}},\"shapedefaults\":{\"line\":{\"color\":\"#2a3f5f\"}},\"annotationdefaults\":{\"arrowcolor\":\"#2a3f5f\",\"arrowhead\":0,\"arrowwidth\":1},\"geo\":{\"bgcolor\":\"white\",\"landcolor\":\"#E5ECF6\",\"subunitcolor\":\"white\",\"showland\":true,\"showlakes\":true,\"lakecolor\":\"white\"},\"title\":{\"x\":0.05},\"mapbox\":{\"style\":\"light\"}}},\"xaxis\":{\"anchor\":\"y\",\"domain\":[0.0,1.0],\"title\":{\"text\":\"Iteration\"},\"mirror\":true,\"ticks\":\"outside\",\"showline\":true,\"linecolor\":\"black\",\"gridcolor\":\"lightgrey\"},\"yaxis\":{\"anchor\":\"x\",\"domain\":[0.0,1.0],\"title\":{\"text\":\"reward stddev\"},\"mirror\":true,\"ticks\":\"outside\",\"showline\":true,\"linecolor\":\"black\",\"gridcolor\":\"lightgrey\"},\"legend\":{\"title\":{\"text\":\"one_sided\"},\"tracegroupgap\":0,\"yanchor\":\"bottom\",\"y\":0.01,\"xanchor\":\"right\",\"x\":0.99},\"margin\":{\"t\":50,\"l\":20,\"r\":20,\"b\":20},\"title\":{\"font\":{\"size\":15},\"text\":\"Swimmer-v1\",\"x\":0.53},\"autosize\":false,\"plot_bgcolor\":\"white\",\"width\":500,\"height\":400},                        {\"responsive\": true}                    ).then(function(){\n",
       "                            \n",
       "var gd = document.getElementById('03ddb199-ea33-40dc-b94a-9bbb75481ae6');\n",
       "var x = new MutationObserver(function (mutations, observer) {{\n",
       "        var display = window.getComputedStyle(gd).display;\n",
       "        if (!display || display === 'none') {{\n",
       "            console.log([gd, 'removed!']);\n",
       "            Plotly.purge(gd);\n",
       "            observer.disconnect();\n",
       "        }}\n",
       "}});\n",
       "\n",
       "// Listen for the removal of the full notebook cells\n",
       "var notebookContainer = gd.closest('#notebook-container');\n",
       "if (notebookContainer) {{\n",
       "    x.observe(notebookContainer, {childList: true});\n",
       "}}\n",
       "\n",
       "// Listen for the clearing of the current output cell\n",
       "var outputEl = gd.closest('.output');\n",
       "if (outputEl) {{\n",
       "    x.observe(outputEl, {childList: true});\n",
       "}}\n",
       "\n",
       "                        })                };                });            </script>        </div>"
      ]
     },
     "metadata": {},
     "output_type": "display_data"
    },
    {
     "data": {
      "application/vnd.plotly.v1+json": {
       "config": {
        "plotlyServerURL": "https://plot.ly"
       },
       "data": [
        {
         "hovertemplate": "one_sided=False<br>Iteration=%{x}<br>AverageReward=%{y}<extra></extra>",
         "legendgroup": "False",
         "line": {
          "color": "#636efa",
          "dash": "solid"
         },
         "marker": {
          "symbol": "circle"
         },
         "mode": "lines",
         "name": "False",
         "orientation": "v",
         "showlegend": true,
         "type": "scatter",
         "x": [
          10,
          20,
          30,
          40,
          50,
          60,
          70,
          80,
          90,
          100,
          110,
          120,
          130,
          140,
          150,
          160,
          170,
          180,
          190,
          200,
          210,
          220,
          230,
          240,
          250,
          260,
          270,
          280,
          290,
          300,
          310,
          320,
          330,
          340,
          350,
          360,
          370,
          380,
          390,
          400,
          410,
          420,
          430,
          440,
          450,
          460,
          470,
          480,
          490,
          500,
          510,
          520,
          530,
          540,
          550,
          560,
          570,
          580,
          590,
          600,
          610,
          620,
          630,
          640,
          650,
          660,
          670,
          680,
          690,
          700,
          710,
          720,
          730,
          740,
          750,
          760,
          770,
          780,
          790,
          800,
          810,
          820,
          830,
          840,
          850,
          860,
          870,
          880,
          890,
          900,
          910,
          920,
          930,
          940,
          950,
          960,
          970,
          980,
          990,
          1000
         ],
         "xaxis": "x",
         "y": [
          64.55472848033824,
          106.01555449236082,
          413.6820324025759,
          416.76679269668625,
          451.1925662341841,
          613.2450619331044,
          573.2645158970425,
          752.507791318386,
          763.0490165989111,
          741.1065681033807,
          815.343710820634,
          907.568091941019,
          862.5602258492398,
          931.1978952014823,
          971.2035478416466,
          1011.9696831650798,
          1018.7183166004538,
          1049.4919156655317,
          1081.204413191654,
          1087.3256384243502,
          1111.0214438117532,
          1127.3023331105826,
          1148.644581026091,
          1147.1521134329125,
          1171.205759346118,
          1191.2511437146197,
          1176.8358619554265,
          1168.0778981819071,
          1177.276947331962,
          1204.4950795505124,
          1199.3685710783568,
          1197.7761747547802,
          1164.7142971936253,
          1167.225740576843,
          1198.4309557629483,
          1213.2635297438856,
          1224.5945782989952,
          1250.6724985669023,
          1232.1713394829533,
          1302.953074502769,
          1345.9611676864408,
          1320.134773219684,
          1325.220900138824,
          1362.1530369845088,
          1319.040991843009,
          1334.7691068513216,
          1332.685876472883,
          1414.498002377615,
          1383.1345572752637,
          1346.7111597978758,
          1358.79770340507,
          1392.2105830220814,
          1361.3345924783582,
          1374.092149054836,
          1384.7460897746728,
          1462.6316768727804,
          1432.299441474695,
          1415.6571515941037,
          1398.4801350743721,
          1408.1694962990464,
          1408.2593357877386,
          1451.0975611258912,
          1467.824619305525,
          1417.1134773413737,
          1448.4244751347487,
          1441.3326093836229,
          1455.6638791984092,
          1469.7645154358904,
          1436.483618610011,
          1425.5999770271503,
          1428.7910997165593,
          1478.417447038772,
          1486.861833491555,
          1488.5934710150761,
          1499.115605117985,
          1484.003155946047,
          1500.4313155803493,
          1508.788831369877,
          1524.9957673572064,
          1506.44646712832,
          1483.2137262253057,
          1510.3201044055825,
          1489.9876026870375,
          1512.0050110615075,
          1518.4791116319577,
          1533.1238934945175,
          1496.00237742465,
          1557.479271881829,
          1544.4838217931892,
          1533.2514567931844,
          1539.7929549805076,
          1532.1986161994685,
          1573.9758010072658,
          1560.219853964628,
          1530.0290850214742,
          1514.9203069208952,
          1523.4757011137624,
          1501.8043938468425,
          1498.6426645323552,
          1493.3809020850226
         ],
         "yaxis": "y"
        },
        {
         "hovertemplate": "one_sided=True<br>Iteration=%{x}<br>AverageReward=%{y}<extra></extra>",
         "legendgroup": "True",
         "line": {
          "color": "#EF553B",
          "dash": "solid"
         },
         "marker": {
          "symbol": "circle"
         },
         "mode": "lines",
         "name": "True",
         "orientation": "v",
         "showlegend": true,
         "type": "scatter",
         "x": [
          10,
          20,
          30,
          40,
          50,
          60,
          70,
          80,
          90,
          100,
          110,
          120,
          130,
          140,
          150,
          160,
          170,
          180,
          190,
          200,
          210,
          220,
          230,
          240,
          250,
          260,
          270,
          280,
          290,
          300,
          310,
          320,
          330,
          340,
          350,
          360,
          370,
          380,
          390,
          400,
          410,
          420,
          430,
          440,
          450,
          460,
          470,
          480,
          490,
          500,
          510,
          520,
          530,
          540,
          550,
          560,
          570,
          580,
          590,
          600,
          610,
          620,
          630,
          640,
          650,
          660,
          670,
          680,
          690,
          700,
          710,
          720,
          730,
          740,
          750,
          760,
          770,
          780,
          790,
          800,
          810,
          820,
          830,
          840,
          850,
          860,
          870,
          880,
          890,
          900,
          910,
          920,
          930,
          940,
          950,
          960,
          970,
          980,
          990,
          1000
         ],
         "xaxis": "x",
         "y": [
          152.92086971096816,
          139.39066620426541,
          130.4869261595397,
          127.6380954320234,
          172.3325588958163,
          154.999830402488,
          151.17325189409698,
          169.00621430312577,
          131.15568542849832,
          215.25284151093982,
          215.2100148431613,
          204.7583403163638,
          199.5914520398707,
          134.02972653156004,
          136.72958730275806,
          136.90877451957354,
          142.0966970214087,
          153.5594001968964,
          212.8192197035954,
          257.3152090603713,
          234.11497558910148,
          269.0247872159455,
          253.6218842874705,
          238.64463297743032,
          261.70137645194797,
          259.9481291653476,
          241.459950986657,
          263.25878430232785,
          273.72069479132335,
          267.0086289035422,
          238.1676095348398,
          263.3783608374137,
          267.8737299940038,
          271.0418825016117,
          274.18230750088236,
          269.3359541127211,
          266.53866031017975,
          273.89438274051616,
          271.08932939208523,
          255.6630865959723,
          265.0546404648057,
          259.95501553312323,
          296.5381756013454,
          286.1427117062825,
          276.04483095037864,
          281.19048604934534,
          272.61763607523153,
          278.06578370154006,
          289.4023785226644,
          275.1073169833431,
          272.02168476636115,
          298.8134972850807,
          314.03258328820255,
          276.68357274791896,
          275.12503329130516,
          299.5453877457621,
          295.43491534046893,
          301.94776084563006,
          317.8878448991228,
          312.37796229109085,
          299.0555707456074,
          297.4157584246492,
          312.8458888394064,
          315.4631897575231,
          328.62059904595645,
          325.7273263698317,
          322.54559500447226,
          311.8644859958756,
          350.6487729975019,
          338.8798543937452,
          360.70154009397726,
          372.1806959175717,
          394.1692552579757,
          391.5040832454177,
          367.4849927612166,
          347.35028374916726,
          355.4373211355634,
          346.2588894324699,
          341.7494363125176,
          346.3266322642215,
          361.55952901929913,
          355.8041066005306,
          403.9711192200835,
          402.1353600442002,
          360.4297776457367,
          358.2451481904943,
          338.52971466743736,
          373.94546723402794,
          388.09948063644504,
          385.19887234611696,
          397.2410979441893,
          372.29996651544207,
          433.60770554717055,
          394.2264649787773,
          394.1132090737592,
          445.789574841516,
          525.410941610973,
          471.5240097721964,
          458.5382485904013,
          339.35727967819946
         ],
         "yaxis": "y"
        }
       ],
       "layout": {
        "autosize": false,
        "height": 400,
        "legend": {
         "title": {
          "text": "one_sided"
         },
         "tracegroupgap": 0,
         "x": 0.99,
         "xanchor": "right",
         "y": 0.01,
         "yanchor": "bottom"
        },
        "margin": {
         "b": 20,
         "l": 20,
         "r": 20,
         "t": 50
        },
        "plot_bgcolor": "white",
        "template": {
         "data": {
          "bar": [
           {
            "error_x": {
             "color": "#2a3f5f"
            },
            "error_y": {
             "color": "#2a3f5f"
            },
            "marker": {
             "line": {
              "color": "#E5ECF6",
              "width": 0.5
             },
             "pattern": {
              "fillmode": "overlay",
              "size": 10,
              "solidity": 0.2
             }
            },
            "type": "bar"
           }
          ],
          "barpolar": [
           {
            "marker": {
             "line": {
              "color": "#E5ECF6",
              "width": 0.5
             },
             "pattern": {
              "fillmode": "overlay",
              "size": 10,
              "solidity": 0.2
             }
            },
            "type": "barpolar"
           }
          ],
          "carpet": [
           {
            "aaxis": {
             "endlinecolor": "#2a3f5f",
             "gridcolor": "white",
             "linecolor": "white",
             "minorgridcolor": "white",
             "startlinecolor": "#2a3f5f"
            },
            "baxis": {
             "endlinecolor": "#2a3f5f",
             "gridcolor": "white",
             "linecolor": "white",
             "minorgridcolor": "white",
             "startlinecolor": "#2a3f5f"
            },
            "type": "carpet"
           }
          ],
          "choropleth": [
           {
            "colorbar": {
             "outlinewidth": 0,
             "ticks": ""
            },
            "type": "choropleth"
           }
          ],
          "contour": [
           {
            "colorbar": {
             "outlinewidth": 0,
             "ticks": ""
            },
            "colorscale": [
             [
              0,
              "#0d0887"
             ],
             [
              0.1111111111111111,
              "#46039f"
             ],
             [
              0.2222222222222222,
              "#7201a8"
             ],
             [
              0.3333333333333333,
              "#9c179e"
             ],
             [
              0.4444444444444444,
              "#bd3786"
             ],
             [
              0.5555555555555556,
              "#d8576b"
             ],
             [
              0.6666666666666666,
              "#ed7953"
             ],
             [
              0.7777777777777778,
              "#fb9f3a"
             ],
             [
              0.8888888888888888,
              "#fdca26"
             ],
             [
              1,
              "#f0f921"
             ]
            ],
            "type": "contour"
           }
          ],
          "contourcarpet": [
           {
            "colorbar": {
             "outlinewidth": 0,
             "ticks": ""
            },
            "type": "contourcarpet"
           }
          ],
          "heatmap": [
           {
            "colorbar": {
             "outlinewidth": 0,
             "ticks": ""
            },
            "colorscale": [
             [
              0,
              "#0d0887"
             ],
             [
              0.1111111111111111,
              "#46039f"
             ],
             [
              0.2222222222222222,
              "#7201a8"
             ],
             [
              0.3333333333333333,
              "#9c179e"
             ],
             [
              0.4444444444444444,
              "#bd3786"
             ],
             [
              0.5555555555555556,
              "#d8576b"
             ],
             [
              0.6666666666666666,
              "#ed7953"
             ],
             [
              0.7777777777777778,
              "#fb9f3a"
             ],
             [
              0.8888888888888888,
              "#fdca26"
             ],
             [
              1,
              "#f0f921"
             ]
            ],
            "type": "heatmap"
           }
          ],
          "heatmapgl": [
           {
            "colorbar": {
             "outlinewidth": 0,
             "ticks": ""
            },
            "colorscale": [
             [
              0,
              "#0d0887"
             ],
             [
              0.1111111111111111,
              "#46039f"
             ],
             [
              0.2222222222222222,
              "#7201a8"
             ],
             [
              0.3333333333333333,
              "#9c179e"
             ],
             [
              0.4444444444444444,
              "#bd3786"
             ],
             [
              0.5555555555555556,
              "#d8576b"
             ],
             [
              0.6666666666666666,
              "#ed7953"
             ],
             [
              0.7777777777777778,
              "#fb9f3a"
             ],
             [
              0.8888888888888888,
              "#fdca26"
             ],
             [
              1,
              "#f0f921"
             ]
            ],
            "type": "heatmapgl"
           }
          ],
          "histogram": [
           {
            "marker": {
             "pattern": {
              "fillmode": "overlay",
              "size": 10,
              "solidity": 0.2
             }
            },
            "type": "histogram"
           }
          ],
          "histogram2d": [
           {
            "colorbar": {
             "outlinewidth": 0,
             "ticks": ""
            },
            "colorscale": [
             [
              0,
              "#0d0887"
             ],
             [
              0.1111111111111111,
              "#46039f"
             ],
             [
              0.2222222222222222,
              "#7201a8"
             ],
             [
              0.3333333333333333,
              "#9c179e"
             ],
             [
              0.4444444444444444,
              "#bd3786"
             ],
             [
              0.5555555555555556,
              "#d8576b"
             ],
             [
              0.6666666666666666,
              "#ed7953"
             ],
             [
              0.7777777777777778,
              "#fb9f3a"
             ],
             [
              0.8888888888888888,
              "#fdca26"
             ],
             [
              1,
              "#f0f921"
             ]
            ],
            "type": "histogram2d"
           }
          ],
          "histogram2dcontour": [
           {
            "colorbar": {
             "outlinewidth": 0,
             "ticks": ""
            },
            "colorscale": [
             [
              0,
              "#0d0887"
             ],
             [
              0.1111111111111111,
              "#46039f"
             ],
             [
              0.2222222222222222,
              "#7201a8"
             ],
             [
              0.3333333333333333,
              "#9c179e"
             ],
             [
              0.4444444444444444,
              "#bd3786"
             ],
             [
              0.5555555555555556,
              "#d8576b"
             ],
             [
              0.6666666666666666,
              "#ed7953"
             ],
             [
              0.7777777777777778,
              "#fb9f3a"
             ],
             [
              0.8888888888888888,
              "#fdca26"
             ],
             [
              1,
              "#f0f921"
             ]
            ],
            "type": "histogram2dcontour"
           }
          ],
          "mesh3d": [
           {
            "colorbar": {
             "outlinewidth": 0,
             "ticks": ""
            },
            "type": "mesh3d"
           }
          ],
          "parcoords": [
           {
            "line": {
             "colorbar": {
              "outlinewidth": 0,
              "ticks": ""
             }
            },
            "type": "parcoords"
           }
          ],
          "pie": [
           {
            "automargin": true,
            "type": "pie"
           }
          ],
          "scatter": [
           {
            "fillpattern": {
             "fillmode": "overlay",
             "size": 10,
             "solidity": 0.2
            },
            "type": "scatter"
           }
          ],
          "scatter3d": [
           {
            "line": {
             "colorbar": {
              "outlinewidth": 0,
              "ticks": ""
             }
            },
            "marker": {
             "colorbar": {
              "outlinewidth": 0,
              "ticks": ""
             }
            },
            "type": "scatter3d"
           }
          ],
          "scattercarpet": [
           {
            "marker": {
             "colorbar": {
              "outlinewidth": 0,
              "ticks": ""
             }
            },
            "type": "scattercarpet"
           }
          ],
          "scattergeo": [
           {
            "marker": {
             "colorbar": {
              "outlinewidth": 0,
              "ticks": ""
             }
            },
            "type": "scattergeo"
           }
          ],
          "scattergl": [
           {
            "marker": {
             "colorbar": {
              "outlinewidth": 0,
              "ticks": ""
             }
            },
            "type": "scattergl"
           }
          ],
          "scattermapbox": [
           {
            "marker": {
             "colorbar": {
              "outlinewidth": 0,
              "ticks": ""
             }
            },
            "type": "scattermapbox"
           }
          ],
          "scatterpolar": [
           {
            "marker": {
             "colorbar": {
              "outlinewidth": 0,
              "ticks": ""
             }
            },
            "type": "scatterpolar"
           }
          ],
          "scatterpolargl": [
           {
            "marker": {
             "colorbar": {
              "outlinewidth": 0,
              "ticks": ""
             }
            },
            "type": "scatterpolargl"
           }
          ],
          "scatterternary": [
           {
            "marker": {
             "colorbar": {
              "outlinewidth": 0,
              "ticks": ""
             }
            },
            "type": "scatterternary"
           }
          ],
          "surface": [
           {
            "colorbar": {
             "outlinewidth": 0,
             "ticks": ""
            },
            "colorscale": [
             [
              0,
              "#0d0887"
             ],
             [
              0.1111111111111111,
              "#46039f"
             ],
             [
              0.2222222222222222,
              "#7201a8"
             ],
             [
              0.3333333333333333,
              "#9c179e"
             ],
             [
              0.4444444444444444,
              "#bd3786"
             ],
             [
              0.5555555555555556,
              "#d8576b"
             ],
             [
              0.6666666666666666,
              "#ed7953"
             ],
             [
              0.7777777777777778,
              "#fb9f3a"
             ],
             [
              0.8888888888888888,
              "#fdca26"
             ],
             [
              1,
              "#f0f921"
             ]
            ],
            "type": "surface"
           }
          ],
          "table": [
           {
            "cells": {
             "fill": {
              "color": "#EBF0F8"
             },
             "line": {
              "color": "white"
             }
            },
            "header": {
             "fill": {
              "color": "#C8D4E3"
             },
             "line": {
              "color": "white"
             }
            },
            "type": "table"
           }
          ]
         },
         "layout": {
          "annotationdefaults": {
           "arrowcolor": "#2a3f5f",
           "arrowhead": 0,
           "arrowwidth": 1
          },
          "autotypenumbers": "strict",
          "coloraxis": {
           "colorbar": {
            "outlinewidth": 0,
            "ticks": ""
           }
          },
          "colorscale": {
           "diverging": [
            [
             0,
             "#8e0152"
            ],
            [
             0.1,
             "#c51b7d"
            ],
            [
             0.2,
             "#de77ae"
            ],
            [
             0.3,
             "#f1b6da"
            ],
            [
             0.4,
             "#fde0ef"
            ],
            [
             0.5,
             "#f7f7f7"
            ],
            [
             0.6,
             "#e6f5d0"
            ],
            [
             0.7,
             "#b8e186"
            ],
            [
             0.8,
             "#7fbc41"
            ],
            [
             0.9,
             "#4d9221"
            ],
            [
             1,
             "#276419"
            ]
           ],
           "sequential": [
            [
             0,
             "#0d0887"
            ],
            [
             0.1111111111111111,
             "#46039f"
            ],
            [
             0.2222222222222222,
             "#7201a8"
            ],
            [
             0.3333333333333333,
             "#9c179e"
            ],
            [
             0.4444444444444444,
             "#bd3786"
            ],
            [
             0.5555555555555556,
             "#d8576b"
            ],
            [
             0.6666666666666666,
             "#ed7953"
            ],
            [
             0.7777777777777778,
             "#fb9f3a"
            ],
            [
             0.8888888888888888,
             "#fdca26"
            ],
            [
             1,
             "#f0f921"
            ]
           ],
           "sequentialminus": [
            [
             0,
             "#0d0887"
            ],
            [
             0.1111111111111111,
             "#46039f"
            ],
            [
             0.2222222222222222,
             "#7201a8"
            ],
            [
             0.3333333333333333,
             "#9c179e"
            ],
            [
             0.4444444444444444,
             "#bd3786"
            ],
            [
             0.5555555555555556,
             "#d8576b"
            ],
            [
             0.6666666666666666,
             "#ed7953"
            ],
            [
             0.7777777777777778,
             "#fb9f3a"
            ],
            [
             0.8888888888888888,
             "#fdca26"
            ],
            [
             1,
             "#f0f921"
            ]
           ]
          },
          "colorway": [
           "#636efa",
           "#EF553B",
           "#00cc96",
           "#ab63fa",
           "#FFA15A",
           "#19d3f3",
           "#FF6692",
           "#B6E880",
           "#FF97FF",
           "#FECB52"
          ],
          "font": {
           "color": "#2a3f5f"
          },
          "geo": {
           "bgcolor": "white",
           "lakecolor": "white",
           "landcolor": "#E5ECF6",
           "showlakes": true,
           "showland": true,
           "subunitcolor": "white"
          },
          "hoverlabel": {
           "align": "left"
          },
          "hovermode": "closest",
          "mapbox": {
           "style": "light"
          },
          "paper_bgcolor": "white",
          "plot_bgcolor": "#E5ECF6",
          "polar": {
           "angularaxis": {
            "gridcolor": "white",
            "linecolor": "white",
            "ticks": ""
           },
           "bgcolor": "#E5ECF6",
           "radialaxis": {
            "gridcolor": "white",
            "linecolor": "white",
            "ticks": ""
           }
          },
          "scene": {
           "xaxis": {
            "backgroundcolor": "#E5ECF6",
            "gridcolor": "white",
            "gridwidth": 2,
            "linecolor": "white",
            "showbackground": true,
            "ticks": "",
            "zerolinecolor": "white"
           },
           "yaxis": {
            "backgroundcolor": "#E5ECF6",
            "gridcolor": "white",
            "gridwidth": 2,
            "linecolor": "white",
            "showbackground": true,
            "ticks": "",
            "zerolinecolor": "white"
           },
           "zaxis": {
            "backgroundcolor": "#E5ECF6",
            "gridcolor": "white",
            "gridwidth": 2,
            "linecolor": "white",
            "showbackground": true,
            "ticks": "",
            "zerolinecolor": "white"
           }
          },
          "shapedefaults": {
           "line": {
            "color": "#2a3f5f"
           }
          },
          "ternary": {
           "aaxis": {
            "gridcolor": "white",
            "linecolor": "white",
            "ticks": ""
           },
           "baxis": {
            "gridcolor": "white",
            "linecolor": "white",
            "ticks": ""
           },
           "bgcolor": "#E5ECF6",
           "caxis": {
            "gridcolor": "white",
            "linecolor": "white",
            "ticks": ""
           }
          },
          "title": {
           "x": 0.05
          },
          "xaxis": {
           "automargin": true,
           "gridcolor": "white",
           "linecolor": "white",
           "ticks": "",
           "title": {
            "standoff": 15
           },
           "zerolinecolor": "white",
           "zerolinewidth": 2
          },
          "yaxis": {
           "automargin": true,
           "gridcolor": "white",
           "linecolor": "white",
           "ticks": "",
           "title": {
            "standoff": 15
           },
           "zerolinecolor": "white",
           "zerolinewidth": 2
          }
         }
        },
        "title": {
         "font": {
          "size": 15
         },
         "text": "Walker2d-v1",
         "x": 0.53
        },
        "width": 500,
        "xaxis": {
         "anchor": "y",
         "domain": [
          0,
          1
         ],
         "gridcolor": "lightgrey",
         "linecolor": "black",
         "mirror": true,
         "showline": true,
         "ticks": "outside",
         "title": {
          "text": "Iteration"
         }
        },
        "yaxis": {
         "anchor": "x",
         "domain": [
          0,
          1
         ],
         "gridcolor": "lightgrey",
         "linecolor": "black",
         "mirror": true,
         "showline": true,
         "ticks": "outside",
         "title": {
          "text": "reward stddev"
         }
        }
       }
      },
      "text/html": [
       "<div>                            <div id=\"f02fd873-112d-4744-bd56-fb9a24fe3c59\" class=\"plotly-graph-div\" style=\"height:400px; width:500px;\"></div>            <script type=\"text/javascript\">                require([\"plotly\"], function(Plotly) {                    window.PLOTLYENV=window.PLOTLYENV || {};                                    if (document.getElementById(\"f02fd873-112d-4744-bd56-fb9a24fe3c59\")) {                    Plotly.newPlot(                        \"f02fd873-112d-4744-bd56-fb9a24fe3c59\",                        [{\"hovertemplate\":\"one_sided=False\\u003cbr\\u003eIteration=%{x}\\u003cbr\\u003eAverageReward=%{y}\\u003cextra\\u003e\\u003c\\u002fextra\\u003e\",\"legendgroup\":\"False\",\"line\":{\"color\":\"#636efa\",\"dash\":\"solid\"},\"marker\":{\"symbol\":\"circle\"},\"mode\":\"lines\",\"name\":\"False\",\"orientation\":\"v\",\"showlegend\":true,\"x\":[10,20,30,40,50,60,70,80,90,100,110,120,130,140,150,160,170,180,190,200,210,220,230,240,250,260,270,280,290,300,310,320,330,340,350,360,370,380,390,400,410,420,430,440,450,460,470,480,490,500,510,520,530,540,550,560,570,580,590,600,610,620,630,640,650,660,670,680,690,700,710,720,730,740,750,760,770,780,790,800,810,820,830,840,850,860,870,880,890,900,910,920,930,940,950,960,970,980,990,1000],\"xaxis\":\"x\",\"y\":[64.55472848033824,106.01555449236082,413.6820324025759,416.76679269668625,451.1925662341841,613.2450619331044,573.2645158970425,752.507791318386,763.0490165989111,741.1065681033807,815.343710820634,907.568091941019,862.5602258492398,931.1978952014823,971.2035478416466,1011.9696831650798,1018.7183166004538,1049.4919156655317,1081.204413191654,1087.3256384243502,1111.0214438117532,1127.3023331105826,1148.644581026091,1147.1521134329125,1171.205759346118,1191.2511437146197,1176.8358619554265,1168.0778981819071,1177.276947331962,1204.4950795505124,1199.3685710783568,1197.7761747547802,1164.7142971936253,1167.225740576843,1198.4309557629483,1213.2635297438856,1224.5945782989952,1250.6724985669023,1232.1713394829533,1302.953074502769,1345.9611676864408,1320.134773219684,1325.220900138824,1362.1530369845088,1319.040991843009,1334.7691068513216,1332.685876472883,1414.498002377615,1383.1345572752637,1346.7111597978758,1358.79770340507,1392.2105830220814,1361.3345924783582,1374.092149054836,1384.7460897746728,1462.6316768727804,1432.299441474695,1415.6571515941037,1398.4801350743721,1408.1694962990464,1408.2593357877386,1451.0975611258912,1467.824619305525,1417.1134773413737,1448.4244751347487,1441.3326093836229,1455.6638791984092,1469.7645154358904,1436.483618610011,1425.5999770271503,1428.7910997165593,1478.417447038772,1486.861833491555,1488.5934710150761,1499.115605117985,1484.003155946047,1500.4313155803493,1508.788831369877,1524.9957673572064,1506.44646712832,1483.2137262253057,1510.3201044055825,1489.9876026870375,1512.0050110615075,1518.4791116319577,1533.1238934945175,1496.00237742465,1557.479271881829,1544.4838217931892,1533.2514567931844,1539.7929549805076,1532.1986161994685,1573.9758010072658,1560.219853964628,1530.0290850214742,1514.9203069208952,1523.4757011137624,1501.8043938468425,1498.6426645323552,1493.3809020850226],\"yaxis\":\"y\",\"type\":\"scatter\"},{\"hovertemplate\":\"one_sided=True\\u003cbr\\u003eIteration=%{x}\\u003cbr\\u003eAverageReward=%{y}\\u003cextra\\u003e\\u003c\\u002fextra\\u003e\",\"legendgroup\":\"True\",\"line\":{\"color\":\"#EF553B\",\"dash\":\"solid\"},\"marker\":{\"symbol\":\"circle\"},\"mode\":\"lines\",\"name\":\"True\",\"orientation\":\"v\",\"showlegend\":true,\"x\":[10,20,30,40,50,60,70,80,90,100,110,120,130,140,150,160,170,180,190,200,210,220,230,240,250,260,270,280,290,300,310,320,330,340,350,360,370,380,390,400,410,420,430,440,450,460,470,480,490,500,510,520,530,540,550,560,570,580,590,600,610,620,630,640,650,660,670,680,690,700,710,720,730,740,750,760,770,780,790,800,810,820,830,840,850,860,870,880,890,900,910,920,930,940,950,960,970,980,990,1000],\"xaxis\":\"x\",\"y\":[152.92086971096816,139.39066620426541,130.4869261595397,127.6380954320234,172.3325588958163,154.999830402488,151.17325189409698,169.00621430312577,131.15568542849832,215.25284151093982,215.2100148431613,204.7583403163638,199.5914520398707,134.02972653156004,136.72958730275806,136.90877451957354,142.0966970214087,153.5594001968964,212.8192197035954,257.3152090603713,234.11497558910148,269.0247872159455,253.6218842874705,238.64463297743032,261.70137645194797,259.9481291653476,241.459950986657,263.25878430232785,273.72069479132335,267.0086289035422,238.1676095348398,263.3783608374137,267.8737299940038,271.0418825016117,274.18230750088236,269.3359541127211,266.53866031017975,273.89438274051616,271.08932939208523,255.6630865959723,265.0546404648057,259.95501553312323,296.5381756013454,286.1427117062825,276.04483095037864,281.19048604934534,272.61763607523153,278.06578370154006,289.4023785226644,275.1073169833431,272.02168476636115,298.8134972850807,314.03258328820255,276.68357274791896,275.12503329130516,299.5453877457621,295.43491534046893,301.94776084563006,317.8878448991228,312.37796229109085,299.0555707456074,297.4157584246492,312.8458888394064,315.4631897575231,328.62059904595645,325.7273263698317,322.54559500447226,311.8644859958756,350.6487729975019,338.8798543937452,360.70154009397726,372.1806959175717,394.1692552579757,391.5040832454177,367.4849927612166,347.35028374916726,355.4373211355634,346.2588894324699,341.7494363125176,346.3266322642215,361.55952901929913,355.8041066005306,403.9711192200835,402.1353600442002,360.4297776457367,358.2451481904943,338.52971466743736,373.94546723402794,388.09948063644504,385.19887234611696,397.2410979441893,372.29996651544207,433.60770554717055,394.2264649787773,394.1132090737592,445.789574841516,525.410941610973,471.5240097721964,458.5382485904013,339.35727967819946],\"yaxis\":\"y\",\"type\":\"scatter\"}],                        {\"template\":{\"data\":{\"histogram2dcontour\":[{\"type\":\"histogram2dcontour\",\"colorbar\":{\"outlinewidth\":0,\"ticks\":\"\"},\"colorscale\":[[0.0,\"#0d0887\"],[0.1111111111111111,\"#46039f\"],[0.2222222222222222,\"#7201a8\"],[0.3333333333333333,\"#9c179e\"],[0.4444444444444444,\"#bd3786\"],[0.5555555555555556,\"#d8576b\"],[0.6666666666666666,\"#ed7953\"],[0.7777777777777778,\"#fb9f3a\"],[0.8888888888888888,\"#fdca26\"],[1.0,\"#f0f921\"]]}],\"choropleth\":[{\"type\":\"choropleth\",\"colorbar\":{\"outlinewidth\":0,\"ticks\":\"\"}}],\"histogram2d\":[{\"type\":\"histogram2d\",\"colorbar\":{\"outlinewidth\":0,\"ticks\":\"\"},\"colorscale\":[[0.0,\"#0d0887\"],[0.1111111111111111,\"#46039f\"],[0.2222222222222222,\"#7201a8\"],[0.3333333333333333,\"#9c179e\"],[0.4444444444444444,\"#bd3786\"],[0.5555555555555556,\"#d8576b\"],[0.6666666666666666,\"#ed7953\"],[0.7777777777777778,\"#fb9f3a\"],[0.8888888888888888,\"#fdca26\"],[1.0,\"#f0f921\"]]}],\"heatmap\":[{\"type\":\"heatmap\",\"colorbar\":{\"outlinewidth\":0,\"ticks\":\"\"},\"colorscale\":[[0.0,\"#0d0887\"],[0.1111111111111111,\"#46039f\"],[0.2222222222222222,\"#7201a8\"],[0.3333333333333333,\"#9c179e\"],[0.4444444444444444,\"#bd3786\"],[0.5555555555555556,\"#d8576b\"],[0.6666666666666666,\"#ed7953\"],[0.7777777777777778,\"#fb9f3a\"],[0.8888888888888888,\"#fdca26\"],[1.0,\"#f0f921\"]]}],\"heatmapgl\":[{\"type\":\"heatmapgl\",\"colorbar\":{\"outlinewidth\":0,\"ticks\":\"\"},\"colorscale\":[[0.0,\"#0d0887\"],[0.1111111111111111,\"#46039f\"],[0.2222222222222222,\"#7201a8\"],[0.3333333333333333,\"#9c179e\"],[0.4444444444444444,\"#bd3786\"],[0.5555555555555556,\"#d8576b\"],[0.6666666666666666,\"#ed7953\"],[0.7777777777777778,\"#fb9f3a\"],[0.8888888888888888,\"#fdca26\"],[1.0,\"#f0f921\"]]}],\"contourcarpet\":[{\"type\":\"contourcarpet\",\"colorbar\":{\"outlinewidth\":0,\"ticks\":\"\"}}],\"contour\":[{\"type\":\"contour\",\"colorbar\":{\"outlinewidth\":0,\"ticks\":\"\"},\"colorscale\":[[0.0,\"#0d0887\"],[0.1111111111111111,\"#46039f\"],[0.2222222222222222,\"#7201a8\"],[0.3333333333333333,\"#9c179e\"],[0.4444444444444444,\"#bd3786\"],[0.5555555555555556,\"#d8576b\"],[0.6666666666666666,\"#ed7953\"],[0.7777777777777778,\"#fb9f3a\"],[0.8888888888888888,\"#fdca26\"],[1.0,\"#f0f921\"]]}],\"surface\":[{\"type\":\"surface\",\"colorbar\":{\"outlinewidth\":0,\"ticks\":\"\"},\"colorscale\":[[0.0,\"#0d0887\"],[0.1111111111111111,\"#46039f\"],[0.2222222222222222,\"#7201a8\"],[0.3333333333333333,\"#9c179e\"],[0.4444444444444444,\"#bd3786\"],[0.5555555555555556,\"#d8576b\"],[0.6666666666666666,\"#ed7953\"],[0.7777777777777778,\"#fb9f3a\"],[0.8888888888888888,\"#fdca26\"],[1.0,\"#f0f921\"]]}],\"mesh3d\":[{\"type\":\"mesh3d\",\"colorbar\":{\"outlinewidth\":0,\"ticks\":\"\"}}],\"scatter\":[{\"fillpattern\":{\"fillmode\":\"overlay\",\"size\":10,\"solidity\":0.2},\"type\":\"scatter\"}],\"parcoords\":[{\"type\":\"parcoords\",\"line\":{\"colorbar\":{\"outlinewidth\":0,\"ticks\":\"\"}}}],\"scatterpolargl\":[{\"type\":\"scatterpolargl\",\"marker\":{\"colorbar\":{\"outlinewidth\":0,\"ticks\":\"\"}}}],\"bar\":[{\"error_x\":{\"color\":\"#2a3f5f\"},\"error_y\":{\"color\":\"#2a3f5f\"},\"marker\":{\"line\":{\"color\":\"#E5ECF6\",\"width\":0.5},\"pattern\":{\"fillmode\":\"overlay\",\"size\":10,\"solidity\":0.2}},\"type\":\"bar\"}],\"scattergeo\":[{\"type\":\"scattergeo\",\"marker\":{\"colorbar\":{\"outlinewidth\":0,\"ticks\":\"\"}}}],\"scatterpolar\":[{\"type\":\"scatterpolar\",\"marker\":{\"colorbar\":{\"outlinewidth\":0,\"ticks\":\"\"}}}],\"histogram\":[{\"marker\":{\"pattern\":{\"fillmode\":\"overlay\",\"size\":10,\"solidity\":0.2}},\"type\":\"histogram\"}],\"scattergl\":[{\"type\":\"scattergl\",\"marker\":{\"colorbar\":{\"outlinewidth\":0,\"ticks\":\"\"}}}],\"scatter3d\":[{\"type\":\"scatter3d\",\"line\":{\"colorbar\":{\"outlinewidth\":0,\"ticks\":\"\"}},\"marker\":{\"colorbar\":{\"outlinewidth\":0,\"ticks\":\"\"}}}],\"scattermapbox\":[{\"type\":\"scattermapbox\",\"marker\":{\"colorbar\":{\"outlinewidth\":0,\"ticks\":\"\"}}}],\"scatterternary\":[{\"type\":\"scatterternary\",\"marker\":{\"colorbar\":{\"outlinewidth\":0,\"ticks\":\"\"}}}],\"scattercarpet\":[{\"type\":\"scattercarpet\",\"marker\":{\"colorbar\":{\"outlinewidth\":0,\"ticks\":\"\"}}}],\"carpet\":[{\"aaxis\":{\"endlinecolor\":\"#2a3f5f\",\"gridcolor\":\"white\",\"linecolor\":\"white\",\"minorgridcolor\":\"white\",\"startlinecolor\":\"#2a3f5f\"},\"baxis\":{\"endlinecolor\":\"#2a3f5f\",\"gridcolor\":\"white\",\"linecolor\":\"white\",\"minorgridcolor\":\"white\",\"startlinecolor\":\"#2a3f5f\"},\"type\":\"carpet\"}],\"table\":[{\"cells\":{\"fill\":{\"color\":\"#EBF0F8\"},\"line\":{\"color\":\"white\"}},\"header\":{\"fill\":{\"color\":\"#C8D4E3\"},\"line\":{\"color\":\"white\"}},\"type\":\"table\"}],\"barpolar\":[{\"marker\":{\"line\":{\"color\":\"#E5ECF6\",\"width\":0.5},\"pattern\":{\"fillmode\":\"overlay\",\"size\":10,\"solidity\":0.2}},\"type\":\"barpolar\"}],\"pie\":[{\"automargin\":true,\"type\":\"pie\"}]},\"layout\":{\"autotypenumbers\":\"strict\",\"colorway\":[\"#636efa\",\"#EF553B\",\"#00cc96\",\"#ab63fa\",\"#FFA15A\",\"#19d3f3\",\"#FF6692\",\"#B6E880\",\"#FF97FF\",\"#FECB52\"],\"font\":{\"color\":\"#2a3f5f\"},\"hovermode\":\"closest\",\"hoverlabel\":{\"align\":\"left\"},\"paper_bgcolor\":\"white\",\"plot_bgcolor\":\"#E5ECF6\",\"polar\":{\"bgcolor\":\"#E5ECF6\",\"angularaxis\":{\"gridcolor\":\"white\",\"linecolor\":\"white\",\"ticks\":\"\"},\"radialaxis\":{\"gridcolor\":\"white\",\"linecolor\":\"white\",\"ticks\":\"\"}},\"ternary\":{\"bgcolor\":\"#E5ECF6\",\"aaxis\":{\"gridcolor\":\"white\",\"linecolor\":\"white\",\"ticks\":\"\"},\"baxis\":{\"gridcolor\":\"white\",\"linecolor\":\"white\",\"ticks\":\"\"},\"caxis\":{\"gridcolor\":\"white\",\"linecolor\":\"white\",\"ticks\":\"\"}},\"coloraxis\":{\"colorbar\":{\"outlinewidth\":0,\"ticks\":\"\"}},\"colorscale\":{\"sequential\":[[0.0,\"#0d0887\"],[0.1111111111111111,\"#46039f\"],[0.2222222222222222,\"#7201a8\"],[0.3333333333333333,\"#9c179e\"],[0.4444444444444444,\"#bd3786\"],[0.5555555555555556,\"#d8576b\"],[0.6666666666666666,\"#ed7953\"],[0.7777777777777778,\"#fb9f3a\"],[0.8888888888888888,\"#fdca26\"],[1.0,\"#f0f921\"]],\"sequentialminus\":[[0.0,\"#0d0887\"],[0.1111111111111111,\"#46039f\"],[0.2222222222222222,\"#7201a8\"],[0.3333333333333333,\"#9c179e\"],[0.4444444444444444,\"#bd3786\"],[0.5555555555555556,\"#d8576b\"],[0.6666666666666666,\"#ed7953\"],[0.7777777777777778,\"#fb9f3a\"],[0.8888888888888888,\"#fdca26\"],[1.0,\"#f0f921\"]],\"diverging\":[[0,\"#8e0152\"],[0.1,\"#c51b7d\"],[0.2,\"#de77ae\"],[0.3,\"#f1b6da\"],[0.4,\"#fde0ef\"],[0.5,\"#f7f7f7\"],[0.6,\"#e6f5d0\"],[0.7,\"#b8e186\"],[0.8,\"#7fbc41\"],[0.9,\"#4d9221\"],[1,\"#276419\"]]},\"xaxis\":{\"gridcolor\":\"white\",\"linecolor\":\"white\",\"ticks\":\"\",\"title\":{\"standoff\":15},\"zerolinecolor\":\"white\",\"automargin\":true,\"zerolinewidth\":2},\"yaxis\":{\"gridcolor\":\"white\",\"linecolor\":\"white\",\"ticks\":\"\",\"title\":{\"standoff\":15},\"zerolinecolor\":\"white\",\"automargin\":true,\"zerolinewidth\":2},\"scene\":{\"xaxis\":{\"backgroundcolor\":\"#E5ECF6\",\"gridcolor\":\"white\",\"linecolor\":\"white\",\"showbackground\":true,\"ticks\":\"\",\"zerolinecolor\":\"white\",\"gridwidth\":2},\"yaxis\":{\"backgroundcolor\":\"#E5ECF6\",\"gridcolor\":\"white\",\"linecolor\":\"white\",\"showbackground\":true,\"ticks\":\"\",\"zerolinecolor\":\"white\",\"gridwidth\":2},\"zaxis\":{\"backgroundcolor\":\"#E5ECF6\",\"gridcolor\":\"white\",\"linecolor\":\"white\",\"showbackground\":true,\"ticks\":\"\",\"zerolinecolor\":\"white\",\"gridwidth\":2}},\"shapedefaults\":{\"line\":{\"color\":\"#2a3f5f\"}},\"annotationdefaults\":{\"arrowcolor\":\"#2a3f5f\",\"arrowhead\":0,\"arrowwidth\":1},\"geo\":{\"bgcolor\":\"white\",\"landcolor\":\"#E5ECF6\",\"subunitcolor\":\"white\",\"showland\":true,\"showlakes\":true,\"lakecolor\":\"white\"},\"title\":{\"x\":0.05},\"mapbox\":{\"style\":\"light\"}}},\"xaxis\":{\"anchor\":\"y\",\"domain\":[0.0,1.0],\"title\":{\"text\":\"Iteration\"},\"mirror\":true,\"ticks\":\"outside\",\"showline\":true,\"linecolor\":\"black\",\"gridcolor\":\"lightgrey\"},\"yaxis\":{\"anchor\":\"x\",\"domain\":[0.0,1.0],\"title\":{\"text\":\"reward stddev\"},\"mirror\":true,\"ticks\":\"outside\",\"showline\":true,\"linecolor\":\"black\",\"gridcolor\":\"lightgrey\"},\"legend\":{\"title\":{\"text\":\"one_sided\"},\"tracegroupgap\":0,\"yanchor\":\"bottom\",\"y\":0.01,\"xanchor\":\"right\",\"x\":0.99},\"margin\":{\"t\":50,\"l\":20,\"r\":20,\"b\":20},\"title\":{\"font\":{\"size\":15},\"text\":\"Walker2d-v1\",\"x\":0.53},\"autosize\":false,\"plot_bgcolor\":\"white\",\"width\":500,\"height\":400},                        {\"responsive\": true}                    ).then(function(){\n",
       "                            \n",
       "var gd = document.getElementById('f02fd873-112d-4744-bd56-fb9a24fe3c59');\n",
       "var x = new MutationObserver(function (mutations, observer) {{\n",
       "        var display = window.getComputedStyle(gd).display;\n",
       "        if (!display || display === 'none') {{\n",
       "            console.log([gd, 'removed!']);\n",
       "            Plotly.purge(gd);\n",
       "            observer.disconnect();\n",
       "        }}\n",
       "}});\n",
       "\n",
       "// Listen for the removal of the full notebook cells\n",
       "var notebookContainer = gd.closest('#notebook-container');\n",
       "if (notebookContainer) {{\n",
       "    x.observe(notebookContainer, {childList: true});\n",
       "}}\n",
       "\n",
       "// Listen for the clearing of the current output cell\n",
       "var outputEl = gd.closest('.output');\n",
       "if (outputEl) {{\n",
       "    x.observe(outputEl, {childList: true});\n",
       "}}\n",
       "\n",
       "                        })                };                });            </script>        </div>"
      ]
     },
     "metadata": {},
     "output_type": "display_data"
    }
   ],
   "source": [
    "for env_name, df in std1.groupby(\"task\"):\n",
    "    fig = px.line(data_frame=df, x=\"Iteration\", y=\"AverageReward\", color=\"one_sided\")\n",
    "    update_layout(fig, env_name.replace(\"Safety\",\"\").replace(\"Velocity\", \"\"), \"Iteration\", \"reward stddev\", row=1, col=1, upkwargs=dict(width=500, height=400))\n",
    "    fig.show()"
   ]
  },
  {
   "cell_type": "code",
   "execution_count": null,
   "metadata": {},
   "outputs": [],
   "source": []
  }
 ],
 "metadata": {
  "kernelspec": {
   "display_name": "sb",
   "language": "python",
   "name": "python3"
  },
  "language_info": {
   "codemirror_mode": {
    "name": "ipython",
    "version": 3
   },
   "file_extension": ".py",
   "mimetype": "text/x-python",
   "name": "python",
   "nbconvert_exporter": "python",
   "pygments_lexer": "ipython3",
   "version": "3.8.20"
  }
 },
 "nbformat": 4,
 "nbformat_minor": 2
}
