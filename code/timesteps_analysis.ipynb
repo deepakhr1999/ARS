{
 "cells": [
  {
   "cell_type": "code",
   "execution_count": 1,
   "metadata": {},
   "outputs": [],
   "source": [
    "from plotly.subplots import make_subplots\n",
    "from plotting import plot_values, update_layout\n",
    "import glob\n",
    "import plotly.graph_objects as go\n",
    "import pandas as pd\n",
    "import plotly.express as px\n",
    "import json\n",
    "import os\n",
    "from collections import defaultdict\n",
    "import matplotlib.pyplot as plt"
   ]
  },
  {
   "cell_type": "markdown",
   "metadata": {},
   "source": [
    "### Get the names of all files we want to read "
   ]
  },
  {
   "cell_type": "code",
   "execution_count": 14,
   "metadata": {},
   "outputs": [],
   "source": [
    "def get_env_name(x):\n",
    "    x = x.replace(\"../data_back/\", \"\")\n",
    "    return x.split(\"/\")[0]"
   ]
  },
  {
   "cell_type": "code",
   "execution_count": 15,
   "metadata": {},
   "outputs": [
    {
     "name": "stdout",
     "output_type": "stream",
     "text": [
      "SafetyHalfCheetahVelocity-v1 80000000 240000000 170000000.0\n",
      "SafetyWalker2dVelocity-v1 2973715 152526534 44358574.625\n",
      "SafetyHumanoidVelocity-v1 18411743 454764405 140444493.775\n",
      "SafetyAntVelocity-v1 49415485 159665636 124507630.83333333\n",
      "SafetyHopperVelocity-v1 561095 58802767 31845059.1875\n",
      "SafetySwimmerVelocity-v1 20000000 100000000 68888888.8888889\n"
     ]
    },
    {
     "data": {
      "text/plain": [
       "{'SafetyHalfCheetahVelocity-v1': 240000000,\n",
       " 'SafetyWalker2dVelocity-v1': 152526534,\n",
       " 'SafetyHumanoidVelocity-v1': 454764405,\n",
       " 'SafetyAntVelocity-v1': 159665636,\n",
       " 'SafetyHopperVelocity-v1': 58802767,\n",
       " 'SafetySwimmerVelocity-v1': 100000000}"
      ]
     },
     "execution_count": 15,
     "metadata": {},
     "output_type": "execute_result"
    }
   ],
   "source": [
    "steps = defaultdict(list)\n",
    "for experiment_file in glob.glob(\"../data_back/*/*/log.txt\", recursive=True):\n",
    "    task = get_env_name(experiment_file)\n",
    "    out = pd.read_csv(experiment_file, sep=\"\\t\")[\"timesteps\"].max()\n",
    "    steps[task].append(out)\n",
    "\n",
    "for task, out in steps.items():\n",
    "    print(task, min(out), max(out), sum(out)/len(out))\n",
    "\n",
    "{\n",
    "    task: max(out)\n",
    "    for task, out in steps.items()\n",
    "}"
   ]
  },
  {
   "cell_type": "code",
   "execution_count": 5,
   "metadata": {},
   "outputs": [
    {
     "name": "stdout",
     "output_type": "stream",
     "text": [
      "HalfCheetah 32\n",
      "Walker2d 24\n",
      "Humanoid 40\n",
      "Ant 12\n",
      "Hopper 16\n",
      "Swimmer 36\n"
     ]
    }
   ],
   "source": [
    "for task, outs in steps.items():\n",
    "    print(task, len(outs))"
   ]
  },
  {
   "cell_type": "code",
   "execution_count": null,
   "metadata": {},
   "outputs": [],
   "source": [
    "for algo, data1 in data.groupby(\"algo\"):\n",
    "    x = data1.drop([\"dir_path\", 'seed', 'n_iter', 'n_workers', 'reward', \"one_sided\"], axis=1)\n",
    "    x = x[['task'] + [col for col in x if col not in (\"env_name\", \"task\", \"algo\")]].sort_values('task', ignore_index=True)\n",
    "    print(\n",
    "        x.to_latex(\n",
    "            index=False,\n",
    "            caption=f\"Optimal hyperparameters from search for {algo}\",\n",
    "            escape=True,\n",
    "            float_format=\"{:.2f}\".format\n",
    "        )\n",
    "        .replace(\"\\\\toprule\", \"\\\\hline\")\n",
    "        .replace(\"\\\\midrule\", \"\\\\hline\")\n",
    "        .replace(\"\\\\bottomrule\", \"\\\\hline\")\n",
    "    )\n"
   ]
  },
  {
   "cell_type": "code",
   "execution_count": 22,
   "metadata": {},
   "outputs": [],
   "source": [
    "def plot_env(env_name, data):\n",
    "    df = []\n",
    "    for filename, algo in zip(data.dir_path, data.algo):\n",
    "        x = pd.read_csv(\"../\"+filename+\"/log.txt\", sep=\"\\t\")\n",
    "        # x[\"algorithm\"] = \"ARS-1\" if one_sided else \"ARS-2\"\n",
    "        x[\"algorithm\"] = algo\n",
    "        df.append(x)\n",
    "    df = pd.concat(df, axis=0).groupby([\"Iteration\", \"algorithm\"])[[\"timesteps\", \"AverageReward\"]].mean().reset_index()\n",
    "    # df.drop(\"Iteration\", axis=1, inplace=True)\n",
    "    df.rename({\n",
    "        'timesteps': \"steps\",\n",
    "        'AverageReward': \"reward\"\n",
    "    }, axis=1, inplace=True)\n",
    "    df.steps = df.steps.astype(int)\n",
    "    df[\"env_name\"] = env_name\n",
    "    fig = px.line(data_frame=df, x=\"Iteration\", y=\"reward\", color=\"algorithm\")\n",
    "    update_layout(fig, env_name.replace(\"Safety\",\"\").replace(\"Velocity\", \"\"), \"Iteration\", \"Reward\", row=1, col=1, upkwargs=dict(width=500, height=400))\n",
    "    if \"swimmer\" in env_name.lower() or \"walker\" in env_name.lower() or \"cheetah\" in env_name.lower():\n",
    "        fig.update_layout(legend=dict(xanchor=\"right\", x=0.99, y=0.5))\n",
    "    if \"human\" in env_name.lower():\n",
    "        fig.update_layout(legend=dict(xanchor=\"left\", x=0.0, y=0.5))\n",
    "    fig.update_traces(opacity=.7)\n",
    "    fig.write_image(f\"../images/{env_name}.png\", scale=3)\n",
    "    fig.show()\n",
    "    return df"
   ]
  },
  {
   "cell_type": "code",
   "execution_count": null,
   "metadata": {},
   "outputs": [],
   "source": [
    "for env_name, df in data.groupby(\"task\"):\n",
    "    plot_env(env_name, df)\n"
   ]
  },
  {
   "cell_type": "markdown",
   "metadata": {},
   "source": [
    "### Unstability of SFR-1 wrt hyperparams."
   ]
  },
  {
   "cell_type": "code",
   "execution_count": null,
   "metadata": {},
   "outputs": [],
   "source": [
    "sfr1 = []\n",
    "for path, one_sided in zip(all_data.dir_path, all_data.one_sided):\n",
    "    x = pd.read_csv(os.path.join(\"..\", path, \"log.txt\"), sep=\"\\t\")\n",
    "    _, x['task'], x['dir_path'] = path.split(\"/\")\n",
    "    x[\"one_sided\"] = one_sided\n",
    "    sfr1.append(x)\n",
    "sfr1 = pd.concat(sfr1)\n",
    "sfr1.head()"
   ]
  },
  {
   "cell_type": "code",
   "execution_count": null,
   "metadata": {},
   "outputs": [],
   "source": [
    "std1 = sfr1.groupby([\"task\",\"Iteration\", \"one_sided\"]).AverageReward.std().reset_index()\n",
    "std1"
   ]
  },
  {
   "cell_type": "code",
   "execution_count": null,
   "metadata": {},
   "outputs": [],
   "source": [
    "for env_name, df in std1.groupby(\"task\"):\n",
    "    fig = px.line(data_frame=df, x=\"Iteration\", y=\"AverageReward\", color=\"one_sided\")\n",
    "    update_layout(fig, env_name.replace(\"Safety\",\"\").replace(\"Velocity\", \"\"), \"Iteration\", \"reward stddev\", row=1, col=1, upkwargs=dict(width=500, height=400))\n",
    "    fig.show()"
   ]
  },
  {
   "cell_type": "code",
   "execution_count": null,
   "metadata": {},
   "outputs": [],
   "source": []
  }
 ],
 "metadata": {
  "kernelspec": {
   "display_name": "sb",
   "language": "python",
   "name": "python3"
  },
  "language_info": {
   "codemirror_mode": {
    "name": "ipython",
    "version": 3
   },
   "file_extension": ".py",
   "mimetype": "text/x-python",
   "name": "python",
   "nbconvert_exporter": "python",
   "pygments_lexer": "ipython3",
   "version": "3.8.19"
  }
 },
 "nbformat": 4,
 "nbformat_minor": 2
}
